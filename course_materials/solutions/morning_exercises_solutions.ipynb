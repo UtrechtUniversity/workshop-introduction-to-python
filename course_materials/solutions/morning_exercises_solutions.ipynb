{
 "cells": [
  {
   "cell_type": "raw",
   "id": "9131db72-c829-4fa8-9782-b276427a6b8e",
   "metadata": {},
   "source": [
    "---\n",
    "title: \"Exercises\"\n",
    "execute: \n",
    "  enabled: true\n",
    "---"
   ]
  },
  {
   "cell_type": "markdown",
   "id": "74ecb0e3-061f-4318-b0c1-eb7eea7b76a8",
   "metadata": {},
   "source": [
    "### Exercise 0\n",
    "\n",
    "1. Try to run the code below. Why is there no output?"
   ]
  },
  {
   "cell_type": "code",
   "execution_count": null,
   "id": "5b2453e4-d68b-49ad-85b1-1d28e94e54a7",
   "metadata": {},
   "outputs": [],
   "source": [
    "x = 6\n",
    "apple = \"apple\""
   ]
  },
  {
   "cell_type": "markdown",
   "id": "c3adb84c-cdc0-4d09-8ce9-8b7ced4e77a4",
   "metadata": {},
   "source": [
    "Answer: Only the output of the last command is printed and the last command is a variable assignment which does not produce any printed output."
   ]
  },
  {
   "cell_type": "markdown",
   "id": "bfefe105-7030-49a8-8222-43b0fbe11440",
   "metadata": {},
   "source": [
    "2. Change the code cell in such a way that the variable names and values are printed as output. You can type the variable names in the print statements, but do not type the value."
   ]
  },
  {
   "cell_type": "code",
   "execution_count": null,
   "id": "7463ed46-b7c5-4b51-b34a-7c5f3c478283",
   "metadata": {},
   "outputs": [],
   "source": [
    "x = 6\n",
    "apple = \"apple\"\n",
    "print(\"the value of x is\", x)\n",
    "print(\"the value of apple is\", apple)"
   ]
  },
  {
   "cell_type": "markdown",
   "id": "85ae09a4-fc20-4dd4-b92d-d0691840a1e7",
   "metadata": {},
   "source": [
    "### Exercise 1\n",
    "1. Calculate: One plus five divided by nine amd assign the result of the calculation to a variable.\n",
    "2. Test  if the result is larger than one. (tip: output of the cell should be True or False)\n",
    "3. Round off the result to one decimal. Use the function `round`. (tip: use `? round` or you internet search engine for information about how to use the function)"
   ]
  },
  {
   "cell_type": "code",
   "execution_count": null,
   "id": "f6be831f-656e-4eba-96ec-6f8703840617",
   "metadata": {},
   "outputs": [],
   "source": [
    "s = 1+5/9"
   ]
  },
  {
   "cell_type": "code",
   "execution_count": null,
   "id": "27da351a-5246-458f-8391-3ef325ee2f20",
   "metadata": {},
   "outputs": [],
   "source": [
    "s>1"
   ]
  },
  {
   "cell_type": "code",
   "execution_count": null,
   "id": "76ff08d7-e30e-4b2e-b80f-f3e90598b840",
   "metadata": {},
   "outputs": [],
   "source": [
    "round(s,1)"
   ]
  },
  {
   "cell_type": "markdown",
   "id": "8f57f0f8-400f-4922-b2ab-602b463d4a64",
   "metadata": {},
   "source": [
    "### Exercise 2\n",
    "Predict the results of each of the following comparisons first, then run the cell below:\n",
    "(double click this cell to edit)\n",
    "\n",
    "`5 == 5` answer: True, 5 is equal to 5  \n",
    "`not 3 > 2` answer: False, not inverts True to False  \n",
    "`True == 'True'` answer: False, The first True is of type `bool` and does not equal the second 'True' of type string)  \n",
    "`False < True` answer: True, The Boolean value `False` is also treated as 0, where `True` is 1"
   ]
  },
  {
   "cell_type": "code",
   "execution_count": null,
   "id": "c3e04e72-a4e7-4599-a8d4-759e4031d7a1",
   "metadata": {},
   "outputs": [],
   "source": [
    "print(5 == 5)\n",
    "print(not 3 > 2)\n",
    "print(True == 'True')\n",
    "print(False < True)"
   ]
  },
  {
   "cell_type": "markdown",
   "id": "7c7cfb9e-63c1-42e0-a2fc-97d5b399d103",
   "metadata": {},
   "source": [
    "### Exercise 3: variables and operators\n",
    "Evaluate the statements below. What do you think will be the output of python? Do you agree with python?\n",
    "\n",
    "- `1 + 1` answer: 2, 1 and 1 are added and the result is printed as output.\n",
    "- `1 + True` answer: 2, in Python `True`` is equal to `1`\n",
    "- `1 + \"one\"` answer: error, an integer cannot be added to a string\n"
   ]
  },
  {
   "cell_type": "code",
   "execution_count": null,
   "id": "20427367-d74a-4e22-9a64-975d46a966cc",
   "metadata": {},
   "outputs": [],
   "source": [
    "print(1 + 1)"
   ]
  },
  {
   "cell_type": "code",
   "execution_count": null,
   "id": "35bfe887",
   "metadata": {},
   "outputs": [],
   "source": [
    "print(1 + True)"
   ]
  },
  {
   "cell_type": "code",
   "execution_count": null,
   "id": "cd1f883f",
   "metadata": {},
   "outputs": [],
   "source": [
    "print(1 + \"one\")"
   ]
  },
  {
   "cell_type": "markdown",
   "id": "9a563334-42f1-4f7c-b4bc-abe5d2bdb17d",
   "metadata": {},
   "source": [
    "### Exercise 4\n",
    "Meet Ann, Bob, Chloe, and Dan. \n",
    "1. Create a list with their names. Save the list as \"name\".\n",
    "\n",
    "2.  How old are Ann, Bob, Chloe, and Dan? You decide! Design a numeric list with their respective ages. Save it as \"age\".\n",
    "\n",
    "3.  What is their average age? (Use the function `sum` to sum up their cumulative ages, you can use `len(age)` to get the number of elements in a list)"
   ]
  },
  {
   "cell_type": "code",
   "execution_count": null,
   "id": "6d12ffce-0492-4b91-88b6-d657bbeffe2f",
   "metadata": {},
   "outputs": [],
   "source": [
    "name = ['Ann', 'Bob', 'Chloe', 'Dan']\n",
    "age = [25, 28, 36, 30]\n",
    "print('average age is', sum(age)/len(age))"
   ]
  },
  {
   "cell_type": "markdown",
   "id": "a50a2811-dbd5-492b-9ece-c6b843cd63c9",
   "metadata": {},
   "source": [
    "### Exercise 5\n",
    "\n",
    "1.  Return only the first number in the list age.\n",
    "2.  Return the 2nd and 4th name in your list name.\n",
    "3.  Return only ages under 30 from your list age.\n",
    "4.  Return the age of \"Chloe\" from the list age."
   ]
  },
  {
   "cell_type": "code",
   "execution_count": null,
   "id": "2b5a51a0-3c0d-477c-996c-4baf28712025",
   "metadata": {},
   "outputs": [],
   "source": [
    "age[0]"
   ]
  },
  {
   "cell_type": "code",
   "execution_count": null,
   "id": "f70eb682-14dd-422e-8073-7f18b81c5c3f",
   "metadata": {},
   "outputs": [],
   "source": [
    "[name[1], name[3]]"
   ]
  },
  {
   "cell_type": "code",
   "execution_count": null,
   "id": "a09e1dce-23be-4de5-9e70-6b7d616efed4",
   "metadata": {},
   "outputs": [],
   "source": [
    "new_age=[]\n",
    "for a in age:\n",
    "    if a < 30:\n",
    "        new_age.append(a)\n",
    "\n",
    "new_age\n",
    "\n",
    "# without the bonus:\n",
    "# for a in age: \n",
    "#     if a < 30: \n",
    "#         print(a)"
   ]
  },
  {
   "cell_type": "code",
   "execution_count": null,
   "id": "0851e7fc-ce66-449a-a9a6-25f4df4363f6",
   "metadata": {},
   "outputs": [],
   "source": [
    "age[name.index(\"Chloe\")]"
   ]
  },
  {
   "cell_type": "markdown",
   "id": "eeb9678b",
   "metadata": {},
   "source": [
    "### Exercise 6\n",
    "- Create a new dictionary that contains the keys: 'name', 'age' and 'country' and their respective values (you can make up the values yourself)..\n",
    "- Print the values of the dictionary to the screen\n",
    "- Reassign the value of key 'age' to 24\n",
    "- Print the values of the dictionary to the screen again to see if the value has changed."
   ]
  },
  {
   "cell_type": "code",
   "execution_count": null,
   "id": "c52f771b-6638-4eee-b55e-e1a643ca9508",
   "metadata": {},
   "outputs": [],
   "source": [
    "my_dict = {'name': 'Jill', 'age': 39, 'country': 'Netherlands'}"
   ]
  },
  {
   "cell_type": "code",
   "execution_count": null,
   "id": "c95ea81a-8281-4951-b13e-562a1b713ae5",
   "metadata": {},
   "outputs": [],
   "source": [
    "my_dict.values()"
   ]
  },
  {
   "cell_type": "code",
   "execution_count": null,
   "id": "a87bf15a-08c2-4469-ad4d-593bee5593cb",
   "metadata": {},
   "outputs": [],
   "source": [
    "my_dict['age'] = 24"
   ]
  },
  {
   "cell_type": "code",
   "execution_count": null,
   "id": "a8ba22bd-9874-421d-903d-2ea1a56ab37c",
   "metadata": {},
   "outputs": [],
   "source": [
    "my_dict.values()"
   ]
  },
  {
   "cell_type": "markdown",
   "id": "c33325c9-3469-44c9-a8d3-290c63554f73",
   "metadata": {},
   "source": [
    "### Exercise 7\n",
    "Create an if statement that tests whether a number is even or odd, and saves the classification in a variable called `number_class`.  \n",
    "Hint, you can use the % operator (aka modulo operator). If necessary, you can try the operator to see what it does in the cell below or search the web."
   ]
  },
  {
   "cell_type": "code",
   "execution_count": null,
   "id": "dc3bc782-bc32-4314-b1d9-87836eefc2ae",
   "metadata": {},
   "outputs": [],
   "source": [
    "number = 5\n",
    "\n",
    "if number % 2 == 0:\n",
    "    number_class = \"even\"\n",
    "else:\n",
    "    number_class = \"odd\"\n",
    "    \n",
    "print(number_class)"
   ]
  },
  {
   "cell_type": "markdown",
   "id": "1a8d4170-436d-439c-a7a9-d7e4129451a4",
   "metadata": {},
   "source": [
    "### Exercise 8\n",
    "Turn the if statement from the last exercise into a function. Let the user provide the value for `number`, and return the `number_class`."
   ]
  },
  {
   "cell_type": "code",
   "execution_count": null,
   "id": "204e89ac-af75-4c99-8caf-cf591b7d037f",
   "metadata": {},
   "outputs": [],
   "source": [
    "def even_or_odd(number):\n",
    "    if number % 2 == 0:\n",
    "        number_class = \"even\"\n",
    "    else:\n",
    "        number_class = \"odd\"\n",
    "    return number_class"
   ]
  },
  {
   "cell_type": "code",
   "execution_count": null,
   "id": "577e90fd-5fe7-4104-a879-1c138e7bd041",
   "metadata": {},
   "outputs": [],
   "source": [
    "# Run this code to test your function above\n",
    "number = 5\n",
    "print(number, \"is\", even_or_odd(number))"
   ]
  },
  {
   "cell_type": "markdown",
   "id": "1c8b2079-30ff-46de-bcc4-90068e025573",
   "metadata": {},
   "source": [
    "### Exercise 9 \n",
    "Use the function above to determine whether the numbers between 1 and 10 are even or odd.  \n",
    "Hint: the [`range` function](https://docs.python.org/3.8/library/stdtypes.html#range) might be helpful."
   ]
  },
  {
   "cell_type": "code",
   "execution_count": null,
   "id": "47cd7a85-97c6-4389-8cc3-995e5dc7c33a",
   "metadata": {},
   "outputs": [],
   "source": [
    "for number in range(1,10,1):\n",
    "    print(number, \"is\", even_or_odd(number))"
   ]
  }
 ],
 "metadata": {
  "kernelspec": {
   "display_name": "Python 3 (ipykernel)",
   "language": "python",
   "name": "python3"
  },
  "language_info": {
   "codemirror_mode": {
    "name": "ipython",
    "version": 3
   },
   "file_extension": ".py",
   "mimetype": "text/x-python",
   "name": "python",
   "nbconvert_exporter": "python",
   "pygments_lexer": "ipython3",
   "version": "3.10.11"
  }
 },
 "nbformat": 4,
 "nbformat_minor": 5
}
