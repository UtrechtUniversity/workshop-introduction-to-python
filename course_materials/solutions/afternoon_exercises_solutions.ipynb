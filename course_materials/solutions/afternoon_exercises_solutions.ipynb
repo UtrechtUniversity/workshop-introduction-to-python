{
 "cells": [
  {
   "cell_type": "raw",
   "id": "14f401b8-2d1d-4a01-a3c8-ed2c59e66d29",
   "metadata": {},
   "source": [
    "---\n",
    "title: \"Working with data\"\n",
    "format: html\n",
    "execute:   \n",
    "  enabled: true\n",
    "---"
   ]
  },
  {
   "cell_type": "code",
   "execution_count": null,
   "id": "2c6372a4",
   "metadata": {},
   "outputs": [],
   "source": [
    "import pandas as pd\n",
    "surveys_df = pd.read_csv('../data/surveys.csv')\n",
    "species_df = pd.read_csv('../data/species.csv')"
   ]
  },
  {
   "cell_type": "markdown",
   "id": "507d1c2c-98b8-4a67-b2e5-b3a3031a5b5f",
   "metadata": {},
   "source": [
    "### Exercise 1\n",
    "\n",
    "Type the following commands and check the outputs. Can you tell what each command does? What is the difference between commands with and without parenthesis?\n",
    "\n",
    "```python\n",
    "surveys_df.shape\n",
    "surveys_df.columns\n",
    "surveys_df.index\n",
    "surveys_df.dtypes\n",
    "surveys_df.head(<try_various_integers_here>)\n",
    "surveys_df.tail(<try_various_integers_here>)\n",
    "```"
   ]
  },
  {
   "cell_type": "markdown",
   "id": "0514bad4-1266-4553-9752-29dcf3166d21",
   "metadata": {},
   "source": [
    "### Exercise 2\n",
    "Perform some basic statistics on the weight column. For practical reasons, it can be useful to first create a variable `weight` that contains the just the weight column. It will make the code look a bit cleaner. Can you tell what each method listed below does? Look at our explorative plot, do the statistics make sense?\n",
    "\n",
    "```python\n",
    "weight=surveys_df['weight']\n",
    "weight.min()\n",
    "weight.max()\n",
    "weight.mean()\n",
    "weight.std()\n",
    "weight.count()\n",
    "```"
   ]
  },
  {
   "cell_type": "markdown",
   "id": "2bcb581f",
   "metadata": {},
   "source": [
    "### Exercise 3\n",
    "- Swap the order of column names in `surveys_df[['plot_id', 'species_id']]`\n",
    "- Repeat one of the column names like `surveys_df[['plot_id', 'plot_id', 'species_id']]`.\n",
    "What do the results look like and why?\n",
    "- Which error occurs in `surveys_df['plot_id', 'species_id']` and why?\n",
    "- Which error occurs in `surveys_df['speciess']`?"
   ]
  },
  {
   "cell_type": "code",
   "execution_count": null,
   "id": "3731f5fd",
   "metadata": {},
   "outputs": [],
   "source": [
    "print(surveys_df[['species_id', 'plot_id']])"
   ]
  },
  {
   "cell_type": "code",
   "execution_count": null,
   "id": "b71788b1",
   "metadata": {},
   "outputs": [],
   "source": [
    "surveys_df[['plot_id', 'plot_id', 'species_id']] # repeating column plot_id"
   ]
  },
  {
   "cell_type": "code",
   "execution_count": null,
   "id": "bb68a995",
   "metadata": {},
   "outputs": [],
   "source": [
    "surveys_df['plot_id', 'species_id'] \n",
    "# The tuple, or combination ('plot_id', 'species_id') is not a \n",
    "# column name (key) in the dataframe --> KeyError: ('plot_id', 'species_id')"
   ]
  },
  {
   "cell_type": "code",
   "execution_count": null,
   "id": "b74edc72",
   "metadata": {},
   "outputs": [],
   "source": [
    "surveys_df['speciess']\n",
    "# 'speciess' is not a column name (key) in the dataframe"
   ]
  },
  {
   "cell_type": "markdown",
   "id": "119b576b",
   "metadata": {},
   "source": [
    "### Exercise 4\n",
    "What happens when you call:\n",
    "- `surveys_df[0:1]`\n",
    "- `surveys_df[:4]`\n",
    "- `surveys_df[:-1]`"
   ]
  },
  {
   "cell_type": "code",
   "execution_count": null,
   "id": "bd3b4c74",
   "metadata": {},
   "outputs": [],
   "source": [
    "surveys_df[0:1] # shows the first row of the dataframe\n",
    "surveys_df[:4] # shows the first four rows from index 0 to index 3\n",
    "surveys_df[:-1] # shows all rows of the dataframe"
   ]
  },
  {
   "cell_type": "markdown",
   "id": "4fc54c12",
   "metadata": {},
   "source": [
    "### Exercise 5\n",
    "What happens in the following two examples?\n",
    "\n",
    "- ```surveys_df.iloc[0:4, 1:4]```;\n",
    "- ```surveys_df.loc[0:4, 1:4]```.\n"
   ]
  },
  {
   "cell_type": "code",
   "execution_count": null,
   "id": "6680a6fe",
   "metadata": {},
   "outputs": [],
   "source": [
    "print(surveys_df.iloc[0:4, 1:4])\n",
    "surveys_df.loc[0:4, 1:4] # the function loc works with indices for rows (0:4), \n",
    "# but not with indices for columns (1:4). COlumns do have names in our dataframe"
   ]
  },
  {
   "cell_type": "markdown",
   "id": "7b12cdaf",
   "metadata": {},
   "source": [
    "### Exercise 6\n",
    "- Create a new DataFrame that only contains observations with sex values that are not female or male. Print the number of rows in this new DataFrame. Verify the result by comparing the number of rows in the new DataFrame with the number of rows in the surveys DataFrame where sex is NaN (hint: there is a function `isnull`).\n",
    "- Create a new DataFrame that contains only observations that are of sex male or female and where weight values are greater than 0."
   ]
  },
  {
   "cell_type": "code",
   "execution_count": null,
   "id": "53f7777a",
   "metadata": {},
   "outputs": [],
   "source": [
    "df = surveys_df[(surveys_df['sex'].isnull())]\n",
    "print(\"Number of rows:\", len(df))\n",
    "print(\"Unique values in column 'sex':\", df['sex'].unique())"
   ]
  },
  {
   "cell_type": "markdown",
   "id": "b34b321b",
   "metadata": {},
   "source": [
    "### Exercise 7: Putting it all together \n",
    "1. Clean the column *sex* (leave out samples of which we do not know whether they are male or female) and save the result as a new dataframe `clean_df`.\n",
    "2. Fill undefined *weight* values with the mean of all valid weights in `surveys_df`.\n",
    "3. Calculate the average weight of that new DataFrame `clean_df`"
   ]
  },
  {
   "cell_type": "code",
   "execution_count": null,
   "id": "570cbd6c",
   "metadata": {},
   "outputs": [],
   "source": [
    "# Step 1\n",
    "# sex is 'F' or 'M'. The `|` means or.\n",
    "clean_df = surveys_df[(surveys_df['sex']=='F') | (surveys_df['sex']=='M')]\n",
    "# or not sex is null. The `~` means not.\n",
    "clean_df = surveys_df[~(surveys_df['sex'].isnull())]\n",
    "\n",
    "# Step 2\n",
    "clean_df.weight.fillna(surveys_df.weight.mean())\n",
    "\n",
    "# Step 3\n",
    "print(\"Average weight of surveys_df:\", surveys_df.weight.mean())\n",
    "print(\"Average weight of clean_df:\", clean_df.weight.mean())"
   ]
  },
  {
   "cell_type": "markdown",
   "id": "ccb33c2e",
   "metadata": {},
   "source": [
    "### Exercise 8\n",
    "Let's see in which plots animals get more food. Calculate the average weight per plot! Complete the code below."
   ]
  },
  {
   "cell_type": "code",
   "execution_count": null,
   "id": "733aba46",
   "metadata": {},
   "outputs": [],
   "source": [
    "grouped_data = surveys_df.groupby(\"plot_id\")\n",
    "grouped_data['weight'].mean()"
   ]
  },
  {
   "cell_type": "markdown",
   "id": "2bccb9da",
   "metadata": {},
   "source": [
    "### Exercise 9\n",
    "Investigate the group keys and row indexes for this more complex grouping example. \n",
    "Why are there more than 48 groups?\n",
    "What happened to the third group and why does it not turn up in our statistics?"
   ]
  },
  {
   "cell_type": "code",
   "execution_count": null,
   "id": "ee674ae9",
   "metadata": {},
   "outputs": [],
   "source": [
    "grouped_data = surveys_df.groupby(['sex', 'plot_id'])\n",
    "print(len(grouped_data.groups))\n",
    "grouped_data.groups.keys() # we also have a categorial value 'nan'."
   ]
  },
  {
   "cell_type": "markdown",
   "id": "b0f1ab75",
   "metadata": {},
   "source": [
    "### Exercise 10\n",
    "Would it make sense to group our data frame by the column *weight*? Why or why not?"
   ]
  },
  {
   "cell_type": "code",
   "execution_count": null,
   "id": "bbff11b3",
   "metadata": {},
   "outputs": [],
   "source": [
    "# In real life nearly every sample has a unique value. So nearly every sample would \n",
    "# be placed in an own group.\n",
    "# In our training data you can see that there are quite some values for weight. So\n",
    "# usually it is not a good idea to categorise (group) data on such values.\n",
    "print(\"Number of rows:\", len(surveys_df))\n",
    "print(len(surveys_df['weight'].unique())) #includes nan\n",
    "print(len(surveys_df.groupby(['weight']).groups)) #does not include nan"
   ]
  },
  {
   "cell_type": "markdown",
   "id": "79ae54cf",
   "metadata": {},
   "source": [
    "### Exercise 11\n",
    "In the given example of vertical concatenation, you concatenated two DataFrames with the same columns. What would happen if the two DataFrames to concatenate have different column number and names?\n",
    "\n",
    "  1. Create a new DataFrame using the last 10 rows of the species DataFrame (`species_df`);\n",
    "  2. Concatenate vertically `surveys_df_sub_first10` and your just created DataFrame;\n",
    "  3. Print the concatenated DataFrame info on the screen. How may rows does it have? What happened to the columns? Explain why you get this result."
   ]
  },
  {
   "cell_type": "code",
   "execution_count": null,
   "id": "18b13126",
   "metadata": {},
   "outputs": [],
   "source": [
    "species_df = pd.read_csv(\"../data/species.csv\")\n",
    "species_df_sub_last10 = species_df.tail(10)\n",
    "\n",
    "surveys_df_sub_first10 = surveys_df.head(10)\n",
    "vert_concat = pd.concat([surveys_df_sub_first10, species_df_sub_last10], axis=0)\n",
    "\n",
    "vert_concat"
   ]
  },
  {
   "cell_type": "markdown",
   "id": "aa6d4ee8",
   "metadata": {},
   "source": [
    "We get a total of 20 rows and 12 columns. The original dataframes together had a total of 13 columns. As they both have a column `species_id`, this one is collapsed. All other columns are padded with `NaN` values.\n",
    "We expect 20 rows, as we are putting two DataFrames of 10 rows one after the other. The padding of the columns happens because these two DataFrames do not have the same column names. To keep all the information that was in the original DataFrames, the padding of columns that occur in only one of the two is necessary."
   ]
  },
  {
   "cell_type": "markdown",
   "id": "9478026d",
   "metadata": {},
   "source": [
    "### Exercise 12\n",
    "  1. Looking at the `inner_join` example, can you explain how much of each of the two DataFrames is missing from the result?\n",
    "\n",
    "Now consider the other types of joins, for each one, can you predict the number of rows and the contents of the resulting DataFrame, based on the diagrams in the picture?\n",
    "\n",
    "  2. For the outer join;\n",
    "  3. For the left join;\n",
    "  4. For the right join."
   ]
  },
  {
   "cell_type": "markdown",
   "id": "b5b01c88",
   "metadata": {},
   "source": [
    "1. From the left DataFrame, three rows are not included in the `inner_join` DataFrame. This is because they have a value in their `species_id` column that is not present in the right DataFrame. From the right DataFrame, the information of 18 rows is missing from the result. This is because their `species_id` column has a value that does not occur in the left DataFrame. Note that the information from the two rows that are represented in the result is duplicated a number of times, as their `species_id` value occurs multiple times in the left DataFrame.\n",
    "2. The result has a total of 28 rows. You may notice that the first seven of those rows are the same as the result of the inner join, followed by the three rows from the left DataFrame that are not represented in the inner join, and finally, the 18 rows from the right DataFrame that are not represented in the inner join. This makes for a total of 7 + 3 + 18 = 28 rows. The outer join preserves *all* the information from both the left and right DataFrames."
   ]
  },
  {
   "cell_type": "code",
   "execution_count": null,
   "id": "0faee1fd",
   "metadata": {},
   "outputs": [],
   "source": [
    "# 2.\n",
    "left_df = surveys_df.head(10)\n",
    "right_df = species_df.head(20)\n",
    "outer_join = pd.merge(left_df, right_df, left_on='species_id', right_on='species_id', how='outer')\n",
    "outer_join"
   ]
  },
  {
   "cell_type": "markdown",
   "id": "62f3ac4b",
   "metadata": {},
   "source": [
    "3. Ten rows. The resulting DataFrame closely resembles the original left DataFrame, but with information from the right DataFrame added to it, where applicable."
   ]
  },
  {
   "cell_type": "code",
   "execution_count": null,
   "id": "610796a8",
   "metadata": {},
   "outputs": [],
   "source": [
    "# 3.\n",
    "left_join = pd.merge(left_df, right_df, left_on='species_id', right_on='species_id', how='left')\n",
    "left_join"
   ]
  },
  {
   "cell_type": "markdown",
   "id": "7aefb667",
   "metadata": {},
   "source": [
    "4. 25 rows. The resulting DataFrame closely resembles the original right DataFrame, but with information from the left DataFrame added to it, where applicable. Note that rows from the right DataFrame that have multiple matching rows in the left DataFrame are duplicated."
   ]
  },
  {
   "cell_type": "code",
   "execution_count": null,
   "id": "4f860304",
   "metadata": {},
   "outputs": [],
   "source": [
    "# 4.\n",
    "right_join = pd.merge(left_df, right_df, left_on='species_id', right_on='species_id', how='right')\n",
    "right_join"
   ]
  },
  {
   "cell_type": "markdown",
   "id": "d6382b5f-9c13-4ceb-88f6-f7ba13f797f7",
   "metadata": {
    "tags": []
   },
   "source": [
    "### Exercise 13\n",
    "Time to play with plots! Look at the pandas.DataFrame.plot() documentation [here](https://pandas.pydata.org/docs/reference/api/pandas.DataFrame.plot.html) and change your data visualization selecting different DataFrame columns, x and y axes, and kind of plot (try at least three different plots).\n"
   ]
  },
  {
   "cell_type": "code",
   "execution_count": null,
   "id": "1896c89b-f2c2-41ae-9a18-9b9fb8a87648",
   "metadata": {},
   "outputs": [],
   "source": [
    "fig, ax1 = plt.subplots() # prepare a matplotlib figure\n",
    "\n",
    "surveys.plot(\"hindfoot_length\", \"weight\", kind=\"scatter\", ax=ax1)\n",
    "\n",
    "# Provide further adaptations with matplotlib:\n",
    "ax1.set_xlabel(\"Hindfoot length\")\n",
    "ax1.tick_params(labelsize=16, pad=8)\n",
    "fig.suptitle('Scatter plot of weight versus hindfoot length', fontsize=15)"
   ]
  }
 ],
 "metadata": {
  "language_info": {
   "name": "python"
  }
 },
 "nbformat": 4,
 "nbformat_minor": 5
}
