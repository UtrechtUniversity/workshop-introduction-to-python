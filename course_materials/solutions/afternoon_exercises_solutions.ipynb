{
 "cells": [
  {
   "cell_type": "raw",
   "id": "14f401b8-2d1d-4a01-a3c8-ed2c59e66d29",
   "metadata": {},
   "source": [
    "---\n",
    "title: \"Working with data\"\n",
    "format: html\n",
    "execute:   \n",
    "  enabled: true\n",
    "---"
   ]
  },
  {
   "cell_type": "code",
   "execution_count": null,
   "id": "2c6372a4",
   "metadata": {},
   "outputs": [],
   "source": [
    "import pandas as pd\n",
    "surveys_df = pd.read_csv('../data/surveys.csv')"
   ]
  },
  {
   "cell_type": "markdown",
   "id": "2bcb581f",
   "metadata": {},
   "source": [
    "### Exercise 3\n",
    "- Swap the order of column names in `surveys_df[['plot_id', 'species_id']]`\n",
    "- Repeat one of the column names like `surveys_df[['plot_id', 'plot_id', 'species_id']]`.\n",
    "How does the results look like and why?\n",
    "- Which error occurrs in `surveys_df['plot_id', 'species_id']` and why?\n",
    "- Which error occurrs in `surveys_df['speciess']`?"
   ]
  },
  {
   "cell_type": "code",
   "execution_count": null,
   "id": "3731f5fd",
   "metadata": {},
   "outputs": [],
   "source": [
    "print(surveys_df[['species_id', 'plot_id']])"
   ]
  },
  {
   "cell_type": "code",
   "execution_count": null,
   "id": "b71788b1",
   "metadata": {},
   "outputs": [],
   "source": [
    "surveys_df[['plot_id', 'plot_id', 'species_id']] # repeating column plot_id"
   ]
  },
  {
   "cell_type": "code",
   "execution_count": null,
   "id": "bb68a995",
   "metadata": {},
   "outputs": [],
   "source": [
    "surveys_df['plot_id', 'species_id'] \n",
    "# The tuple, or combination ('plot_id', 'species_id') is not a \n",
    "# column name (key) in the dataframe --> KeyError: ('plot_id', 'species_id')"
   ]
  },
  {
   "cell_type": "code",
   "execution_count": null,
   "id": "b74edc72",
   "metadata": {},
   "outputs": [],
   "source": [
    "surveys_df['speciess']\n",
    "# 'speciess' is not a column name (key) in the dataframe"
   ]
  },
  {
   "cell_type": "markdown",
   "id": "119b576b",
   "metadata": {},
   "source": [
    "### Exercise 4\n",
    "What happens when you execute:\n",
    "- `surveys_df[0:1]`\n",
    "- `surveys_df[:4]`\n",
    "- `surveys_df[:-1]`"
   ]
  },
  {
   "cell_type": "code",
   "execution_count": null,
   "id": "bd3b4c74",
   "metadata": {},
   "outputs": [],
   "source": [
    "surveys_df[0:1] # shows the first row of the dataframe\n",
    "surveys_df[:4] # shows the first four rows from index 0 to index 3\n",
    "surveys_df[:-1] # shows all rows of the dataframe"
   ]
  },
  {
   "cell_type": "markdown",
   "id": "4fc54c12",
   "metadata": {},
   "source": [
    "### Exercise 5\n",
    "What happens in the following two examples?\n",
    "\n",
    "- ```surveys_df.iloc[0:4, 1:4]```;\n",
    "- ```surveys_df.loc[0:4, 1:4]```.\n"
   ]
  },
  {
   "cell_type": "code",
   "execution_count": null,
   "id": "6680a6fe",
   "metadata": {},
   "outputs": [],
   "source": [
    "print(surveys_df.iloc[0:4, 1:4])\n",
    "surveys_df.loc[0:4, 1:4] # the function loc works with indices for rows (0:4), \n",
    "# but not with indices for columns (1:4). COlumns do have names in our dataframe"
   ]
  },
  {
   "cell_type": "markdown",
   "id": "7b12cdaf",
   "metadata": {},
   "source": [
    "### Exercise 6\n",
    "- Create a new DataFrame that only contains observations with sex values that are not female or male. Print the number of rows in this new DataFrame. Verify the result by comparing the number of rows in the new DataFrame with the number of rows in the surveys DataFrame where sex is NaN (hint: there is a function `isnull`).\n",
    "- Create a new DataFrame that contains only observations that are of sex male or female and where weight values are greater than 0."
   ]
  },
  {
   "cell_type": "code",
   "execution_count": null,
   "id": "53f7777a",
   "metadata": {},
   "outputs": [],
   "source": [
    "df = surveys_df[(surveys_df['sex'].isnull())]\n",
    "print(\"Number of rows:\", len(df))\n",
    "print(\"Unique values in column 'sex':\", df['sex'].unique())"
   ]
  },
  {
   "cell_type": "markdown",
   "id": "b34b321b",
   "metadata": {},
   "source": [
    "### Exercise 7: Putting it all together \n",
    "1. Clean the column *sex* (leave out samples we do not know whether they are male or female) and save the result as a new dataframe `clean_df`.\n",
    "2. Fill undefined *weight* values with the mean of all valid weights in `surveys_df`.\n",
    "3. Calculate the average weight of that new DataFrame `clean_df`"
   ]
  },
  {
   "cell_type": "code",
   "execution_count": null,
   "id": "570cbd6c",
   "metadata": {},
   "outputs": [],
   "source": [
    "# Step 1\n",
    "# sex is 'F' or 'M'. The `|` means or.\n",
    "clean_df = surveys_df[(surveys_df['sex']=='F') | (surveys_df['sex']=='M')]\n",
    "# or not sex is null. The `~` means not.\n",
    "clean_df = surveys_df[~(surveys_df['sex'].isnull())]\n",
    "\n",
    "# Step 2\n",
    "clean_df.weight.fillna(surveys_df.weight.mean())\n",
    "\n",
    "# Step 3\n",
    "print(\"Average weight of surveys_df:\", surveys_df.weight.mean())\n",
    "print(\"Average weight of clean_df:\", clean_df.weight.mean())"
   ]
  },
  {
   "cell_type": "markdown",
   "id": "ccb33c2e",
   "metadata": {},
   "source": [
    "## Exercise 8\n",
    "Let's see in which plots animals get more food. Calculate the average weight per plot! Complete the code below."
   ]
  },
  {
   "cell_type": "code",
   "execution_count": null,
   "id": "733aba46",
   "metadata": {},
   "outputs": [],
   "source": [
    "grouped_data = surveys_df.groupby(\"plot_id\")\n",
    "grouped_data['weight'].mean()"
   ]
  },
  {
   "cell_type": "markdown",
   "id": "2bccb9da",
   "metadata": {},
   "source": [
    "## Exercise 9\n",
    "Investigate the group keys and row indexes for this more complex grouping example. \n",
    "Why are there more than 48 groups?\n",
    "What happened to the third group and why dos it not turn up in our statistics?"
   ]
  },
  {
   "cell_type": "code",
   "execution_count": null,
   "id": "ee674ae9",
   "metadata": {},
   "outputs": [],
   "source": [
    "grouped_data = surveys_df.groupby(['sex', 'plot_id'])\n",
    "print(len(grouped_data.groups))\n",
    "grouped_data.groups.keys() # we also have a categorial value 'nan'."
   ]
  },
  {
   "cell_type": "markdown",
   "id": "b0f1ab75",
   "metadata": {},
   "source": [
    "### Exercise 10\n",
    "Would it make sense to group our data frame by the column *weight*? Why or why not?"
   ]
  },
  {
   "cell_type": "code",
   "execution_count": null,
   "id": "bbff11b3",
   "metadata": {},
   "outputs": [],
   "source": [
    "# In real life nearly every sample has a unique value. So nearly every sample would \n",
    "# be placed in an own group.\n",
    "# In our training data you can see that there are quite some values for weight. So\n",
    "# usually it is not a good idea to categorise (group) data on such values.\n",
    "print(\"Number of rows:\", len(surveys_df))\n",
    "print(len(surveys_df['weight'].unique())) #includes nan\n",
    "print(len(surveys_df.groupby(['weight']).groups)) #does not include nan"
   ]
  }
 ],
 "metadata": {
  "kernelspec": {
   "display_name": "Python 3 (ipykernel)",
   "language": "python",
   "name": "python3"
  },
  "language_info": {
   "codemirror_mode": {
    "name": "ipython",
    "version": 3
   },
   "file_extension": ".py",
   "mimetype": "text/x-python",
   "name": "python",
   "nbconvert_exporter": "python",
   "pygments_lexer": "ipython3",
   "version": "3.8.12"
  }
 },
 "nbformat": 4,
 "nbformat_minor": 5
}
