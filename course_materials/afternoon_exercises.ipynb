{
 "cells": [
  {
   "cell_type": "raw",
   "id": "14f401b8-2d1d-4a01-a3c8-ed2c59e66d29",
   "metadata": {},
   "source": [
    "---\n",
    "title: \"Working with data\"\n",
    "format: html\n",
    "execute:   \n",
    "  enabled: true\n",
    "---"
   ]
  },
  {
   "cell_type": "code",
   "execution_count": null,
   "id": "77038fb1-920d-4832-8b59-2d0cefa13bc5",
   "metadata": {},
   "outputs": [],
   "source": [
    "import pandas as pd\n",
    "surveys_df = pd.read_csv('data/surveys.csv')"
   ]
  },
  {
   "cell_type": "markdown",
   "id": "fc1fdccb-ac7f-4667-97e9-5c63499693c8",
   "metadata": {},
   "source": [
    "### Exercise 1\n",
    "\n",
    "Type the following commands and check the outputs. Can you tell what each command does? What is the difference between commands with and without parenthesis?\n",
    "\n",
    "```python\n",
    "surveys_df.shape\n",
    "surveys_df.columns\n",
    "surveys_df.index\n",
    "surveys_df.dtypes\n",
    "surveys_df.head(<try_various_integers_here>)\n",
    "surveys_df.tail(<try_various_integers_here>)\n",
    "```"
   ]
  },
  {
   "cell_type": "code",
   "execution_count": null,
   "id": "4d21d793-c31c-488b-9a3f-8a7aafad0f38",
   "metadata": {},
   "outputs": [],
   "source": []
  },
  {
   "cell_type": "code",
   "execution_count": null,
   "id": "95c72b85-8d26-43d8-86f8-09030c0b0c5c",
   "metadata": {},
   "outputs": [],
   "source": []
  },
  {
   "cell_type": "code",
   "execution_count": null,
   "id": "18f70271-17df-48c4-9ff5-9458584da7ef",
   "metadata": {},
   "outputs": [],
   "source": []
  },
  {
   "cell_type": "code",
   "execution_count": null,
   "id": "3c44cf1e-e952-436b-8d32-3371526c507e",
   "metadata": {},
   "outputs": [],
   "source": []
  },
  {
   "cell_type": "code",
   "execution_count": null,
   "id": "909dbb5c-7fed-475e-aad9-8267f6d5703b",
   "metadata": {},
   "outputs": [],
   "source": []
  },
  {
   "cell_type": "code",
   "execution_count": null,
   "id": "ca0a8b46-5a0d-4c69-88e6-e2e357453c0e",
   "metadata": {},
   "outputs": [],
   "source": []
  },
  {
   "cell_type": "markdown",
   "id": "763cd8cc-6fc0-4f55-b1f5-aaf2d35b03ba",
   "metadata": {},
   "source": [
    "### Exercise 2\n",
    "Perform some basic statistics on the weight column. For practical reasons, it can be useful to first create a variable `weight` that contains the just the weight column. It will make the code look a bit cleaner. Can you tell what each method listed below does? Look at our explorative plot, do the statistics make sense?\n",
    "\n",
    "```python\n",
    "weight=surveys_df['weight']\n",
    "weight.min()\n",
    "weight.max()\n",
    "weight.mean()\n",
    "weight.std()\n",
    "weight.counts()\n",
    "```"
   ]
  },
  {
   "cell_type": "code",
   "execution_count": null,
   "id": "cc13b0b7-3b06-4211-acf7-d78f6195b807",
   "metadata": {},
   "outputs": [],
   "source": []
  },
  {
   "cell_type": "code",
   "execution_count": null,
   "id": "1790e753-a682-4a19-afec-c6ac4569f810",
   "metadata": {},
   "outputs": [],
   "source": []
  },
  {
   "cell_type": "code",
   "execution_count": null,
   "id": "517bf946-a018-4b58-bb74-5acadf26b20f",
   "metadata": {},
   "outputs": [],
   "source": []
  },
  {
   "cell_type": "code",
   "execution_count": null,
   "id": "e1ef916e-a05f-4596-8383-afdf348891d0",
   "metadata": {},
   "outputs": [],
   "source": []
  },
  {
   "cell_type": "code",
   "execution_count": null,
   "id": "157b5e6f-e875-41c3-896c-b8f388d991e7",
   "metadata": {},
   "outputs": [],
   "source": []
  },
  {
   "cell_type": "code",
   "execution_count": null,
   "id": "40ad6cd7-7d9f-4c5b-b269-718e98f35bf6",
   "metadata": {},
   "outputs": [],
   "source": []
  },
  {
   "cell_type": "markdown",
   "id": "2bcb581f",
   "metadata": {},
   "source": [
    "### Exercise 3\n",
    "- Swap the order of column names in `surveys_df[['plot_id', 'species_id']]`\n",
    "- Repeat one of the column names like `surveys_df[['plot_id', 'plot_id', 'species_id']]`\n",
    "What do the results look like and why?\n",
    "- Which error occurrs in `surveys_df['plot_id', 'species_id']` and why?\n",
    "- Which error occurrs in `surveys_df['speciess']`?"
   ]
  },
  {
   "cell_type": "code",
   "execution_count": null,
   "id": "3731f5fd",
   "metadata": {},
   "outputs": [],
   "source": []
  },
  {
   "cell_type": "markdown",
   "id": "119b576b",
   "metadata": {},
   "source": [
    "### Exercise 4\n",
    "What happens when you call:\n",
    "- `surveys_df[0:1]`\n",
    "- `surveys_df[:4]`\n",
    "- `surveys_df[:-1]`\n",
    "\n",
    "What happens when you call:\n",
    "- `surveys_df.iloc[0:4, 1:4]`\n",
    "- `surveys_df.loc[0:4, 1:4]`\n",
    "How are the two commands different?"
   ]
  },
  {
   "cell_type": "code",
   "execution_count": null,
   "id": "bd3b4c74",
   "metadata": {},
   "outputs": [],
   "source": []
  },
  {
   "cell_type": "markdown",
   "id": "4fc54c12",
   "metadata": {},
   "source": [
    "### Exercise 5\n",
    "What happens in the following two examples?\n",
    "\n",
    "- ```surveys_df.iloc[0:4, 1:4]```;\n",
    "- ```surveys_df.loc[0:4, 1:4]```.\n"
   ]
  },
  {
   "cell_type": "code",
   "execution_count": null,
   "id": "6680a6fe",
   "metadata": {},
   "outputs": [],
   "source": []
  },
  {
   "cell_type": "markdown",
   "id": "7b12cdaf",
   "metadata": {},
   "source": [
    "### Exercise 6\n",
    "- Create a new DataFrame that only contains observations with sex values that are not female or male. Print the number of rows in this new DataFrame. Verify the result by comparing the number of rows in the new DataFrame with the number of rows in the surveys DataFrame where sex is NaN (hint: there is a function `isnull`).\n",
    "- Create a new DataFrame that contains only observations that are of sex male or female and where weight values are greater than 0."
   ]
  },
  {
   "cell_type": "code",
   "execution_count": null,
   "id": "53f7777a",
   "metadata": {},
   "outputs": [],
   "source": []
  },
  {
   "cell_type": "markdown",
   "id": "b34b321b",
   "metadata": {},
   "source": [
    "### Exercise 7: Putting it all together \n",
    "1. Clean the column *sex* (leave out samples of which we do not know whether they are male or female)\n",
    "2. Create a new dataframe *clean_df* which only contains rows of which we have a valid value for *sex* and *weight*\n",
    "3. Calculate the average weight of that new DataFrame"
   ]
  },
  {
   "cell_type": "code",
   "execution_count": null,
   "id": "570cbd6c",
   "metadata": {},
   "outputs": [],
   "source": []
  },
  {
   "cell_type": "markdown",
   "id": "ccb33c2e",
   "metadata": {},
   "source": [
    "### Exercise 8\n",
    "Let's see in which plots animals get more food. Calculate the average weight per plot! Complete the code below."
   ]
  },
  {
   "cell_type": "code",
   "execution_count": null,
   "id": "733aba46",
   "metadata": {},
   "outputs": [],
   "source": [
    "grouped_data = surveys_df.groupby(...)\n",
    "grouped_data[...].mean()"
   ]
  },
  {
   "cell_type": "markdown",
   "id": "2bccb9da",
   "metadata": {},
   "source": [
    "### Exercise 9\n",
    "Investigate the group keys and row indexes for this more complex grouping example. \n",
    "Why are there more than 48 groups?\n",
    "What happened to the third group and why does it not turn up in our statistics?"
   ]
  },
  {
   "cell_type": "code",
   "execution_count": null,
   "id": "ee674ae9",
   "metadata": {},
   "outputs": [],
   "source": [
    "grouped_data = surveys_df.groupby(['sex', 'plot_id'])\n",
    "len(grouped_data.groups)"
   ]
  },
  {
   "cell_type": "markdown",
   "id": "b0f1ab75",
   "metadata": {},
   "source": [
    "### Exercise 10\n",
    "Would it make sense to group our data frame by the column *weight*? Why or why not?"
   ]
  },
  {
   "cell_type": "markdown",
   "id": "0c7ae97d",
   "metadata": {},
   "source": [
    "### Exercise 11\n",
    "In the given example of vertical concatenation, you concatenated two DataFrames with the same columns. What would happen if the two DataFrames to concatenate have different column number and names?\n",
    "\n",
    "  1. Create a new DataFrame using the last 10 rows of the species DataFrame (`species_df`);\n",
    "  2. Concatenate vertically `surveys_df_sub_first10` and your just created DataFrame;\n",
    "  3. Print the concatenated DataFrame info on the screen. How may rows does it have? What happened to the columns? Explain why you get this result."
   ]
  },
  {
   "cell_type": "code",
   "execution_count": null,
   "id": "1a685e40",
   "metadata": {},
   "outputs": [],
   "source": [
    "species_df = pd.read_csv(\"../data/species.csv\")\n",
    "\n",
    "surveys_df_sub_first10 = surveys_df.head(10)"
   ]
  },
  {
   "cell_type": "markdown",
   "id": "afa7dd9c",
   "metadata": {},
   "source": [
    "### Exercise 12\n",
    "In the given example of horizontal concatenation, you first concatenated two DataFrame with different indices, then reset the indices of the second one. Based on the outcome of these two cases, try to answer the following questions:\n",
    "  1. What happens when you concatenate horizontally two DataFrames with different indexing?\n",
    "  2. What happens when you concatenate horizontally two DataFrames with the same columns?\n",
    "  3. What happens when you try to select a column of the `horizontal_stack` DataFrame we just created?\n",
    "  4. How can you select a specific column, when multiple columns share a name?"
   ]
  },
  {
   "cell_type": "code",
   "execution_count": null,
   "id": "427314ec",
   "metadata": {},
   "outputs": [],
   "source": [
    "surveys_df_sub_last10 = surveys_df.tail(10)\n",
    "surveys_df_sub_last10 = surveys_df_sub_last10.reset_index(drop=True)\n",
    "horizontal_stack = pd.concat([surveys_df_sub_first10, surveys_df_sub_last10], axis=1)"
   ]
  },
  {
   "cell_type": "markdown",
   "id": "568df533-aa9d-4554-b293-fce25ff7323d",
   "metadata": {
    "tags": []
   },
   "source": [
    "### Exercise 13\n",
    "Time to play with plots! Look at the pandas.DataFrame.plot() documentation [here](https://pandas.pydata.org/docs/reference/api/pandas.DataFrame.plot.html) and change your data visualization selecting different DataFrame columns, x and y axes, and kind of plot (try at least three different plots).\n"
   ]
  },
  {
   "cell_type": "code",
   "execution_count": null,
   "id": "242c6015-57d2-4305-a138-4df8fc1e8fb5",
   "metadata": {},
   "outputs": [],
   "source": [
    "fig, ax1 = plt.subplots() # prepare a matplotlib figure\n",
    "\n",
    "surveys.plot(\"hindfoot_length\", \"weight\", kind=\"scatter\", ax=ax1)\n",
    "\n",
    "# Provide further adaptations with matplotlib:\n",
    "ax1.set_xlabel(\"Hindfoot length\")\n",
    "ax1.tick_params(labelsize=16, pad=8)\n",
    "fig.suptitle('Scatter plot of weight versus hindfoot length', fontsize=15)"
   ]
  },
  {
   "cell_type": "code",
   "execution_count": null,
   "id": "d9191732-388d-4b5b-8445-f9cce0375390",
   "metadata": {},
   "outputs": [],
   "source": []
  },
  {
   "cell_type": "markdown",
   "id": "aec3890f-9219-456a-9375-692ed307ff43",
   "metadata": {},
   "source": [
    "### Exercise 14 \n",
    "\n",
    "Plot the data from different groups in two subplots in a single figure:\n",
    "- Initialize a Figure with 2 Axes distributed in one rows and two columns;\n",
    "- In the first Axis plot the data for all Females, and in the second Axis, plot all Males.\n",
    "- Make your Axes (plots) \"pretty\": label all your axes, use clear character font, choose a nice title for your plot. You may want to consult the [`Axes.plot()` documentation](https://matplotlib.org/stable/api/_as_gen/matplotlib.axes.Axes.plot.html).\n"
   ]
  },
  {
   "cell_type": "code",
   "execution_count": null,
   "id": "5391c4a5-abbc-4c1e-8ef2-eeae0858b682",
   "metadata": {},
   "outputs": [],
   "source": []
  }
 ],
 "metadata": {
  "kernelspec": {
   "display_name": "Python 3 (ipykernel)",
   "language": "python",
   "name": "python3"
  },
  "language_info": {
   "codemirror_mode": {
    "name": "ipython",
    "version": 3
   },
   "file_extension": ".py",
   "mimetype": "text/x-python",
   "name": "python",
   "nbconvert_exporter": "python",
   "pygments_lexer": "ipython3",
   "version": "3.10.8"
  }
 },
 "nbformat": 4,
 "nbformat_minor": 5
}
