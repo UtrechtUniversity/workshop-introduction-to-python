{
 "cells": [
  {
   "cell_type": "raw",
   "id": "14f401b8-2d1d-4a01-a3c8-ed2c59e66d29",
   "metadata": {},
   "source": [
    "---\n",
    "title: \"Working with data\"\n",
    "format: html\n",
    "---"
   ]
  },
  {
   "cell_type": "code",
   "execution_count": 1,
   "id": "77038fb1-920d-4832-8b59-2d0cefa13bc5",
   "metadata": {
    "tags": []
   },
   "outputs": [],
   "source": [
    "import pandas as pd\n",
    "surveys_df = pd.read_csv('data/surveys.csv')\n",
    "species_df = pd.read_csv('data/species.csv')"
   ]
  },
  {
   "cell_type": "markdown",
   "id": "fc1fdccb-ac7f-4667-97e9-5c63499693c8",
   "metadata": {},
   "source": [
    "### Exercise 0\n",
    "\n",
    "Type the following commands and check the outputs. Can you tell what each command does? What is the difference between commands with and without parenthesis?\n",
    "\n",
    "`surveys_df.shape` Answer:\n",
    "`surveys_df.columns` Answer:\n",
    "`surveys_df.index` Answer:\n",
    "`surveys_df.dtypes` Answer:\n",
    "`surveys_df.head(<try_various_integers_here>)` Answer:\n",
    "`surveys_df.tail(<try_various_integers_here>)` Answer:\n",
    "\n",
    "[Course book chapter 5 for reference](https://utrechtuniversity.github.io/workshop-introduction-to-python/data-science-with-pandas-1.html)"
   ]
  },
  {
   "cell_type": "code",
   "execution_count": null,
   "id": "4d21d793-c31c-488b-9a3f-8a7aafad0f38",
   "metadata": {},
   "outputs": [],
   "source": []
  },
  {
   "cell_type": "code",
   "execution_count": null,
   "id": "18f70271-17df-48c4-9ff5-9458584da7ef",
   "metadata": {},
   "outputs": [],
   "source": []
  },
  {
   "cell_type": "code",
   "execution_count": null,
   "id": "230f8bde",
   "metadata": {},
   "outputs": [],
   "source": []
  },
  {
   "cell_type": "code",
   "execution_count": null,
   "id": "3c44cf1e-e952-436b-8d32-3371526c507e",
   "metadata": {},
   "outputs": [],
   "source": []
  },
  {
   "cell_type": "code",
   "execution_count": null,
   "id": "909dbb5c-7fed-475e-aad9-8267f6d5703b",
   "metadata": {},
   "outputs": [],
   "source": []
  },
  {
   "cell_type": "code",
   "execution_count": null,
   "id": "ca0a8b46-5a0d-4c69-88e6-e2e357453c0e",
   "metadata": {},
   "outputs": [],
   "source": []
  },
  {
   "cell_type": "markdown",
   "id": "763cd8cc-6fc0-4f55-b1f5-aaf2d35b03ba",
   "metadata": {},
   "source": [
    "### Exercise 1\n",
    "Perform some basic statistics on the weight column. For practical reasons, it can be useful to first create a variable `weight` that contains the just the weight column. It will make the code look a bit cleaner. Can you tell what each method listed below does? Look at our explorative plot, do the statistics make sense?\n",
    "\n",
    "```python\n",
    "weight=surveys_df['weight']\n",
    "weight.min()\n",
    "weight.max()\n",
    "weight.mean()\n",
    "weight.std()\n",
    "weight.counts()\n",
    "```\n",
    "\n",
    "[Course book chapter 5 for reference](https://utrechtuniversity.github.io/workshop-introduction-to-python/data-science-with-pandas-1.html)"
   ]
  },
  {
   "cell_type": "code",
   "execution_count": null,
   "id": "cc13b0b7-3b06-4211-acf7-d78f6195b807",
   "metadata": {},
   "outputs": [],
   "source": []
  },
  {
   "cell_type": "code",
   "execution_count": null,
   "id": "1790e753-a682-4a19-afec-c6ac4569f810",
   "metadata": {},
   "outputs": [],
   "source": []
  },
  {
   "cell_type": "code",
   "execution_count": null,
   "id": "517bf946-a018-4b58-bb74-5acadf26b20f",
   "metadata": {},
   "outputs": [],
   "source": []
  },
  {
   "cell_type": "code",
   "execution_count": null,
   "id": "e1ef916e-a05f-4596-8383-afdf348891d0",
   "metadata": {},
   "outputs": [],
   "source": []
  },
  {
   "cell_type": "code",
   "execution_count": null,
   "id": "157b5e6f-e875-41c3-896c-b8f388d991e7",
   "metadata": {},
   "outputs": [],
   "source": []
  },
  {
   "cell_type": "code",
   "execution_count": null,
   "id": "40ad6cd7-7d9f-4c5b-b269-718e98f35bf6",
   "metadata": {},
   "outputs": [],
   "source": []
  },
  {
   "cell_type": "markdown",
   "id": "2bcb581f",
   "metadata": {},
   "source": [
    "### Exercise 2\n",
    "- Print the columns 'species_id' and 'plot_id' side by side\n",
    "- Do the same, but use one of these columns twice.\n",
    "What do the results look like and why?  Answer: \n",
    "- Which error occurrs in `surveys_df['plot_id', 'species_id']` and why? Answer:\n",
    "- Which error occurrs in `surveys_df['speciess']`? Answer:"
   ]
  },
  {
   "cell_type": "code",
   "execution_count": null,
   "id": "3731f5fd",
   "metadata": {},
   "outputs": [],
   "source": []
  },
  {
   "cell_type": "code",
   "execution_count": null,
   "id": "a76c904a",
   "metadata": {},
   "outputs": [],
   "source": []
  },
  {
   "cell_type": "code",
   "execution_count": null,
   "id": "f431b19e",
   "metadata": {},
   "outputs": [],
   "source": []
  },
  {
   "cell_type": "code",
   "execution_count": null,
   "id": "108f548a",
   "metadata": {},
   "outputs": [],
   "source": []
  },
  {
   "cell_type": "markdown",
   "id": "119b576b",
   "metadata": {},
   "source": [
    "### Exercise 3\n",
    "What happens when you call:\n",
    "- `surveys_df[0:1]` Answer:\n",
    "- `surveys_df[:4]` Answer: \n",
    "- `surveys_df[:-1]` Answer: "
   ]
  },
  {
   "cell_type": "code",
   "execution_count": null,
   "id": "1017c8fe",
   "metadata": {},
   "outputs": [],
   "source": []
  },
  {
   "cell_type": "code",
   "execution_count": null,
   "id": "c5ba4a57",
   "metadata": {},
   "outputs": [],
   "source": []
  },
  {
   "cell_type": "code",
   "execution_count": null,
   "id": "9a3cd7e6",
   "metadata": {},
   "outputs": [],
   "source": []
  },
  {
   "cell_type": "markdown",
   "id": "7b12cdaf",
   "metadata": {},
   "source": [
    "### Exercise 4\n",
    "- Create a new DataFrame that only contains observations from the original DataFrame with sex values that are not female or male. Print the number of rows in this new DataFrame. Verify the result by comparing the number of rows in the new DataFrame with the number of rows in the surveys DataFrame where sex is NaN (hint: there is a function `isnull`).\n",
    "- Create a new DataFrame that contains only observations that are of sex male or female and where weight values are greater than 0."
   ]
  },
  {
   "cell_type": "code",
   "execution_count": null,
   "id": "53f7777a",
   "metadata": {},
   "outputs": [],
   "source": []
  },
  {
   "cell_type": "code",
   "execution_count": null,
   "id": "cdcd971b",
   "metadata": {},
   "outputs": [],
   "source": []
  },
  {
   "cell_type": "markdown",
   "id": "b34b321b",
   "metadata": {},
   "source": [
    "### Exercise 5: Putting it all together \n",
    "1. Clean the column *sex* (leave out samples of which we do not know whether they are male or female) and save the result as a new dataframe `clean_df`.\n",
    "2. Replace undefined *weight* values with the mean of all (defined) weights in `surveys_df`.\n",
    "3. Calculate the average weight of that new DataFrame `clean_df`"
   ]
  },
  {
   "cell_type": "code",
   "execution_count": null,
   "id": "570cbd6c",
   "metadata": {},
   "outputs": [],
   "source": []
  },
  {
   "cell_type": "markdown",
   "id": "ccb33c2e",
   "metadata": {},
   "source": [
    "### Exercise 6\n",
    "Let's see in which plots animals get more food. Calculate the average weight per plot! Complete the code below."
   ]
  },
  {
   "cell_type": "code",
   "execution_count": null,
   "id": "733aba46",
   "metadata": {},
   "outputs": [],
   "source": [
    "grouped_data = surveys_df.groupby(...)\n",
    "grouped_data[...].mean()"
   ]
  },
  {
   "cell_type": "markdown",
   "id": "2bccb9da",
   "metadata": {},
   "source": [
    "### Exercise 7\n",
    "See below a more complex grouping example. Investigate the group keys and row indexes for this more complex grouping example. \n",
    "Why are there more than 48 groups? Answer: \n",
    "Calculate the average weight per group.\n",
    "What happened to the third group and why does it not turn up in our statistics? Answer:"
   ]
  },
  {
   "cell_type": "code",
   "execution_count": null,
   "id": "ee674ae9",
   "metadata": {},
   "outputs": [],
   "source": [
    "grouped_data = surveys_df.groupby(['sex', 'plot_id'])\n",
    "print(len(grouped_data.groups))"
   ]
  },
  {
   "cell_type": "code",
   "execution_count": null,
   "id": "7843cd60",
   "metadata": {},
   "outputs": [],
   "source": []
  },
  {
   "cell_type": "markdown",
   "id": "b0f1ab75",
   "metadata": {},
   "source": [
    "### Exercise 8\n",
    "Would it make sense to group our data frame by the column *weight*? Why or why not?"
   ]
  },
  {
   "cell_type": "markdown",
   "id": "0c7ae97d",
   "metadata": {},
   "source": [
    "### Exercise 9\n",
    "In the given example of vertical concatenation, you concatenated two DataFrames with the same columns. What would happen if the two DataFrames to concatenate have different column number and names?\n",
    "\n",
    "  1. Create a new DataFrame using the last 10 rows of the species DataFrame (`species_df`);\n",
    "  2. Concatenate vertically `surveys_df_sub_first10` and your just created DataFrame;\n",
    "  3. Print the concatenated DataFrame info on the screen. How may rows does it have? What happened to the columns? Explain why you get this result."
   ]
  },
  {
   "cell_type": "code",
   "execution_count": null,
   "id": "1a685e40",
   "metadata": {},
   "outputs": [],
   "source": [
    "species_df = pd.read_csv(\"../data/species.csv\")\n",
    "\n",
    "surveys_df_sub_first10 = surveys_df.head(10)"
   ]
  },
  {
   "cell_type": "markdown",
   "id": "afa7dd9c",
   "metadata": {},
   "source": [
    "### Exercise 10\n",
    "  1. Looking at the `inner_join` example, can you explain how much of each of the two DataFrames is missing from the result?\n",
    "\n",
    "Now consider the other types of joins, for each one, can you predict the number of rows and the contents of the resulting DataFrame, based on the diagrams in the picture?\n",
    "\n",
    "  2. For the outer join;\n",
    "  3. For the left join;\n",
    "  4. For the right join."
   ]
  },
  {
   "cell_type": "code",
   "execution_count": null,
   "id": "427314ec",
   "metadata": {},
   "outputs": [],
   "source": [
    "left_df = surveys_df.head(10)\n",
    "right_df = species_df.head(20)"
   ]
  },
  {
   "cell_type": "markdown",
   "id": "391d7858-4939-4d30-9f1c-6848598a05db",
   "metadata": {},
   "source": [
    "### Exercise 11\n",
    "\n",
    "Time to play with plots! Create a multiplot following these instructions:\n",
    "- Using the matplotlib.pyplot function `subplots()`, create a single figure (10x10 inches) with four subplots organized in two rows and two columns; \n",
    "- In the top row plot hindfoot_length VS weight for female and male in two different plots with two differen colors;\n",
    "- In the bottom row, plot the same data of the top row, but using data collected before (left plot) and after (right plot) 1990;\n",
    "- Give to each plot an appropriate descriptive title and optimize plot labels.\n",
    "<br>\n",
    "\n",
    "Feel free to use the DataFrame `plot` method or `plt.scatter` function to plot data points, but be awave that, in any case, the first thing to do is creating _Figure_ and _Axes_.<br>\n",
    "EXTRA: The four plots have same x and y axes spanning the same range. Can you remove the space between the four plots? Try it!"
   ]
  },
  {
   "cell_type": "code",
   "execution_count": null,
   "id": "242c6015-57d2-4305-a138-4df8fc1e8fb5",
   "metadata": {
    "tags": []
   },
   "outputs": [],
   "source": []
  }
 ],
 "metadata": {
  "kernelspec": {
   "display_name": "Python 3 (ipykernel)",
   "language": "python",
   "name": "python3"
  },
  "language_info": {
   "codemirror_mode": {
    "name": "ipython",
    "version": 3
   },
   "file_extension": ".py",
   "mimetype": "text/x-python",
   "name": "python",
   "nbconvert_exporter": "python",
   "pygments_lexer": "ipython3",
   "version": "3.10.13"
  }
 },
 "nbformat": 4,
 "nbformat_minor": 5
}
