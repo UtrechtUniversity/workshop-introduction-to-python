{
 "cells": [
  {
   "cell_type": "raw",
   "id": "9131db72-c829-4fa8-9782-b276427a6b8e",
   "metadata": {},
   "source": [
    "---\n",
    "title: \"Exercises\"\n",
    "execute: \n",
    "  enabled: false\n",
    "---"
   ]
  },
  {
   "cell_type": "markdown",
   "id": "d21e1c09-4be3-440e-90d0-ceb8f4dacdae",
   "metadata": {},
   "source": [
    "### Exercise 0\n",
    "\n",
    "1. Try to run the code below. Why is there no output? (double click this cell to be able to edit the answer)  "
   ]
  },
  {
   "cell_type": "code",
   "execution_count": null,
   "id": "5b2453e4-d68b-49ad-85b1-1d28e94e54a7",
   "metadata": {},
   "outputs": [],
   "source": [
    "x = 6\n",
    "apple = \"apple\""
   ]
  },
  {
   "cell_type": "markdown",
   "id": "ffb712c2-e744-4110-9879-acab825e8caf",
   "metadata": {},
   "source": [
    "Answer: "
   ]
  },
  {
   "cell_type": "markdown",
   "id": "120ae130-48f8-400f-8db8-90e539933078",
   "metadata": {},
   "source": [
    "2. Below, write code to print both the variable names and values of the code cell above as output. For this exercise you are allowed to type text in the print statement but you are only allowed to type the variable names in the print statements, not the values (so you can type `\"x\"`, but you cannot type `\"6\"`)."
   ]
  },
  {
   "cell_type": "code",
   "execution_count": null,
   "id": "3e606980",
   "metadata": {},
   "outputs": [],
   "source": []
  },
  {
   "cell_type": "markdown",
   "id": "85ae09a4-fc20-4dd4-b92d-d0691840a1e7",
   "metadata": {},
   "source": [
    "### Exercise 1\n",
    "1. Calculate: One plus five divided by nine and assign the result of the calculation to a variable.\n",
    "2. Test  if the result is larger than one. (tip: output of the cell should be True or False)\n",
    "3. Round off the result to one decimal. Use the function `round`. (tip: use `? round` or you internet search engine for information about how to use the function)"
   ]
  },
  {
   "cell_type": "code",
   "execution_count": null,
   "id": "c8b056fa-80a3-442e-9f9f-016d332fe1d7",
   "metadata": {},
   "outputs": [],
   "source": [
    "s = "
   ]
  },
  {
   "cell_type": "code",
   "execution_count": null,
   "id": "31f6c811-023d-441e-9de4-569db61d5175",
   "metadata": {},
   "outputs": [],
   "source": [
    "s"
   ]
  },
  {
   "cell_type": "code",
   "execution_count": null,
   "id": "00ecde84-f25d-4b2d-8a04-8284819cfd62",
   "metadata": {},
   "outputs": [],
   "source": [
    "round(FILL_IN)"
   ]
  },
  {
   "cell_type": "markdown",
   "id": "8f57f0f8-400f-4922-b2ab-602b463d4a64",
   "metadata": {},
   "source": [
    "### Exercise 2\n",
    "Predict the results of each of the following comparisons first, then run the cell below:\n",
    "(double click this cell to edit)\n",
    "\n",
    "`5 == 5` answer:  \n",
    "`not 3 > 2` answer:  \n",
    "`True == 'True'` answer:  \n",
    "`False < True` answer:  \n"
   ]
  },
  {
   "cell_type": "code",
   "execution_count": null,
   "id": "c3e04e72-a4e7-4599-a8d4-759e4031d7a1",
   "metadata": {},
   "outputs": [],
   "source": [
    "print(5 == 5)\n",
    "print(not 3 > 2)\n",
    "print(True == 'True')\n",
    "print(False < True)"
   ]
  },
  {
   "cell_type": "markdown",
   "id": "7c7cfb9e-63c1-42e0-a2fc-97d5b399d103",
   "metadata": {},
   "source": [
    "### Exercise 3: variables and operators\n",
    "Evaluate the statements below. What do you think will be the output of python? Do you agree with python?  \n",
    "`1 + 1` answer:  \n",
    "`1 + True` answer:  \n",
    "`1 + \"one\"` answer:  \n"
   ]
  },
  {
   "cell_type": "code",
   "execution_count": null,
   "id": "20427367-d74a-4e22-9a64-975d46a966cc",
   "metadata": {},
   "outputs": [],
   "source": [
    "print(1 + 1)\n",
    "print(1 + True)\n",
    "print(1 + \"one\")"
   ]
  },
  {
   "cell_type": "markdown",
   "id": "9a563334-42f1-4f7c-b4bc-abe5d2bdb17d",
   "metadata": {},
   "source": [
    "### Exercise 4\n",
    "Meet Ann, Bob, Chloe, and Dan. \n",
    "1. Create a list with their names. Save the list as \"name\".\n",
    "\n",
    "2.  How old are Ann, Bob, Chloe, and Dan? You decide! Design a numeric list with their respective ages. Save it as \"age\".\n",
    "\n",
    "3.  What is their average age? (Use the function `sum` to sum up their cumulative ages, you can use `len(age)` to get the number of elements in a list)"
   ]
  },
  {
   "cell_type": "code",
   "execution_count": null,
   "id": "6d12ffce-0492-4b91-88b6-d657bbeffe2f",
   "metadata": {},
   "outputs": [],
   "source": []
  },
  {
   "cell_type": "markdown",
   "id": "a50a2811-dbd5-492b-9ece-c6b843cd63c9",
   "metadata": {},
   "source": [
    "### Exercise 5\n",
    "\n",
    "1.  Return only the first number in the list age.\n",
    "2.  Return the 2nd and 4th name in your list name.\n",
    "3.  Return only ages under 30 from your list age. Bonus: put them in a new list called `new_age`.\n",
    "4.  Return the age of \"Chloe\" from the list age."
   ]
  },
  {
   "cell_type": "code",
   "execution_count": null,
   "id": "16493f46-bf2e-4325-b47d-8aa2d72c8280",
   "metadata": {},
   "outputs": [],
   "source": []
  },
  {
   "cell_type": "code",
   "execution_count": null,
   "id": "1502f65e-2f9d-4fdb-a155-5f5e33110295",
   "metadata": {},
   "outputs": [],
   "source": []
  },
  {
   "cell_type": "code",
   "execution_count": null,
   "id": "7e58ea4d-d814-41e3-8412-9e3dcb95d5b4",
   "metadata": {},
   "outputs": [],
   "source": []
  },
  {
   "cell_type": "code",
   "execution_count": null,
   "id": "6b4a5b47-4ed9-43f3-bb0d-00975ba3f605",
   "metadata": {},
   "outputs": [],
   "source": []
  },
  {
   "cell_type": "markdown",
   "id": "eeb9678b",
   "metadata": {},
   "source": [
    "### Exercise 6\n",
    "- Create a new dictionary that contains the keys: 'name', 'age' and 'country' and their respective values (you can make up the values yourself).\n",
    "- Print the values of the dictionary to the screen\n",
    "- Reassign the value of key 'age' to 24\n",
    "- Print the values of the dictionary to the screen again to see if the value has changed."
   ]
  },
  {
   "cell_type": "code",
   "execution_count": null,
   "id": "83ddb088-cff4-4662-8a0e-2f8a65b97d29",
   "metadata": {},
   "outputs": [],
   "source": []
  },
  {
   "cell_type": "code",
   "execution_count": null,
   "id": "89a99e1d-8920-4b25-a83c-0d78a9963c40",
   "metadata": {},
   "outputs": [],
   "source": []
  },
  {
   "cell_type": "code",
   "execution_count": null,
   "id": "6b460dad-88be-437b-b076-297822d6a67d",
   "metadata": {},
   "outputs": [],
   "source": []
  },
  {
   "cell_type": "code",
   "execution_count": null,
   "id": "25b29975-688f-4bc4-8344-d276637635fe",
   "metadata": {},
   "outputs": [],
   "source": []
  },
  {
   "cell_type": "markdown",
   "id": "c33325c9-3469-44c9-a8d3-290c63554f73",
   "metadata": {},
   "source": [
    "### Exercise 7\n",
    "Create an if statement that tests whether a number is even or odd, and saves the classification in a variable called `number_class`.  \n",
    "Hint, you can use the % operator (aka modulo operator). If necessary, you can try the operator to see what it does in the cell below or search the web."
   ]
  },
  {
   "cell_type": "code",
   "execution_count": null,
   "id": "dc3bc782-bc32-4314-b1d9-87836eefc2ae",
   "metadata": {},
   "outputs": [],
   "source": [
    "number = 5\n",
    "\n",
    "# if ..."
   ]
  },
  {
   "cell_type": "markdown",
   "id": "1a8d4170-436d-439c-a7a9-d7e4129451a4",
   "metadata": {},
   "source": [
    "### Exercise 8\n",
    "Turn the if statement from the last exercise into a function e.g. with the name `even_or_odd` (or choose a different name yourself). Let the user provide the value for `number`, and return the `number_class`."
   ]
  },
  {
   "cell_type": "code",
   "execution_count": null,
   "id": "204e89ac-af75-4c99-8caf-cf591b7d037f",
   "metadata": {},
   "outputs": [],
   "source": []
  },
  {
   "cell_type": "code",
   "execution_count": null,
   "id": "577e90fd-5fe7-4104-a879-1c138e7bd041",
   "metadata": {},
   "outputs": [],
   "source": [
    "# Run this code to test your function aboce\n",
    "number = 5\n",
    "print(number, \"is\", even_or_odd(number))"
   ]
  },
  {
   "cell_type": "markdown",
   "id": "1c8b2079-30ff-46de-bcc4-90068e025573",
   "metadata": {},
   "source": [
    "### Exercise 9 \n",
    "Use the function above to determine whether the numbers between 1 and 10 are even or odd.  \n",
    "Hint: the [`range` function](https://docs.python.org/3.8/library/stdtypes.html#range) might be helpful."
   ]
  },
  {
   "cell_type": "code",
   "execution_count": null,
   "id": "47cd7a85-97c6-4389-8cc3-995e5dc7c33a",
   "metadata": {},
   "outputs": [],
   "source": []
  }
 ],
 "metadata": {
  "kernelspec": {
   "display_name": "Python 3 (ipykernel)",
   "language": "python",
   "name": "python3"
  },
  "language_info": {
   "codemirror_mode": {
    "name": "ipython",
    "version": 3
   },
   "file_extension": ".py",
   "mimetype": "text/x-python",
   "name": "python",
   "nbconvert_exporter": "python",
   "pygments_lexer": "ipython3",
   "version": "3.10.11"
  }
 },
 "nbformat": 4,
 "nbformat_minor": 5
}
