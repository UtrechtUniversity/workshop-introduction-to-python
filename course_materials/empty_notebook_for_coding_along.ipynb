{
 "cells": [
  {
   "cell_type": "markdown",
   "id": "6be8c60c-486a-49ec-860d-e8dc361928ad",
   "metadata": {},
   "source": [
    "# Code along\n",
    "\n",
    "Use this notebook to code along during the live coding lectures.\n",
    "Use the dedicated exercises notebooks `morning_exercises.ipynb` and `afternoon_exercises.ipynb` for the exercises parts."
   ]
  },
  {
   "cell_type": "markdown",
   "id": "c239edb5",
   "metadata": {},
   "source": [
    "## Test Installation"
   ]
  },
  {
   "cell_type": "code",
   "execution_count": 4,
   "id": "d8e35e29-a355-45e7-a693-624f0ee80b2b",
   "metadata": {},
   "outputs": [
    {
     "name": "stdout",
     "output_type": "stream",
     "text": [
      "3.8.10\n",
      "1.5.3\n",
      "3.6.3\n",
      "1.24.1\n",
      "No errors! Ready to code!\n"
     ]
    }
   ],
   "source": [
    "from platform import python_version\n",
    "\n",
    "import pandas as pd\n",
    "import matplotlib\n",
    "import numpy as np\n",
    "\n",
    "print(python_version())\n",
    "print(pd.__version__)\n",
    "print(matplotlib.__version__)\n",
    "print(np.__version__)\n",
    "print(\"No errors! Ready to code!\")"
   ]
  },
  {
   "cell_type": "markdown",
   "id": "2d5cbbaf",
   "metadata": {},
   "source": [
    "## Code along"
   ]
  },
  {
   "cell_type": "code",
   "execution_count": null,
   "id": "14183541",
   "metadata": {},
   "outputs": [],
   "source": []
  }
 ],
 "metadata": {
  "kernelspec": {
   "display_name": "Python 3 (ipykernel)",
   "language": "python",
   "name": "python3"
  },
  "language_info": {
   "codemirror_mode": {
    "name": "ipython",
    "version": 3
   },
   "file_extension": ".py",
   "mimetype": "text/x-python",
   "name": "python",
   "nbconvert_exporter": "python",
   "pygments_lexer": "ipython3",
   "version": "3.8.10"
  }
 },
 "nbformat": 4,
 "nbformat_minor": 5
}
