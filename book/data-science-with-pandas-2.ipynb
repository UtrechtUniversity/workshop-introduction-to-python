{
 "cells": [
  {
   "cell_type": "raw",
   "id": "14f401b8-2d1d-4a01-a3c8-ed2c59e66d29",
   "metadata": {},
   "source": [
    "---\n",
    "title: \"Grouping, Indexing, Slicing, and Subsetting DataFrames\"\n",
    "format: html\n",
    "execute:   \n",
    "  enabled: true\n",
    "  error: true\n",
    "  freeze: auto\n",
    "---"
   ]
  },
  {
   "cell_type": "markdown",
   "id": "7fd23ed0",
   "metadata": {},
   "source": [
    "## Recap: Load the data"
   ]
  },
  {
   "cell_type": "code",
   "execution_count": 1,
   "id": "4a1f868a",
   "metadata": {},
   "outputs": [
    {
     "data": {
      "text/html": [
       "<div>\n",
       "<style scoped>\n",
       "    .dataframe tbody tr th:only-of-type {\n",
       "        vertical-align: middle;\n",
       "    }\n",
       "\n",
       "    .dataframe tbody tr th {\n",
       "        vertical-align: top;\n",
       "    }\n",
       "\n",
       "    .dataframe thead th {\n",
       "        text-align: right;\n",
       "    }\n",
       "</style>\n",
       "<table border=\"1\" class=\"dataframe\">\n",
       "  <thead>\n",
       "    <tr style=\"text-align: right;\">\n",
       "      <th></th>\n",
       "      <th>record_id</th>\n",
       "      <th>month</th>\n",
       "      <th>day</th>\n",
       "      <th>year</th>\n",
       "      <th>plot_id</th>\n",
       "      <th>hindfoot_length</th>\n",
       "      <th>weight</th>\n",
       "    </tr>\n",
       "  </thead>\n",
       "  <tbody>\n",
       "    <tr>\n",
       "      <th>count</th>\n",
       "      <td>35549.000000</td>\n",
       "      <td>35549.000000</td>\n",
       "      <td>35549.000000</td>\n",
       "      <td>35549.000000</td>\n",
       "      <td>35549.000000</td>\n",
       "      <td>31438.000000</td>\n",
       "      <td>32283.000000</td>\n",
       "    </tr>\n",
       "    <tr>\n",
       "      <th>mean</th>\n",
       "      <td>17775.000000</td>\n",
       "      <td>6.477847</td>\n",
       "      <td>15.991195</td>\n",
       "      <td>1990.475231</td>\n",
       "      <td>11.397001</td>\n",
       "      <td>29.287932</td>\n",
       "      <td>42.672428</td>\n",
       "    </tr>\n",
       "    <tr>\n",
       "      <th>std</th>\n",
       "      <td>10262.256696</td>\n",
       "      <td>3.396925</td>\n",
       "      <td>8.257366</td>\n",
       "      <td>7.493355</td>\n",
       "      <td>6.799406</td>\n",
       "      <td>9.564759</td>\n",
       "      <td>36.631259</td>\n",
       "    </tr>\n",
       "    <tr>\n",
       "      <th>min</th>\n",
       "      <td>1.000000</td>\n",
       "      <td>1.000000</td>\n",
       "      <td>1.000000</td>\n",
       "      <td>1977.000000</td>\n",
       "      <td>1.000000</td>\n",
       "      <td>2.000000</td>\n",
       "      <td>4.000000</td>\n",
       "    </tr>\n",
       "    <tr>\n",
       "      <th>25%</th>\n",
       "      <td>8888.000000</td>\n",
       "      <td>4.000000</td>\n",
       "      <td>9.000000</td>\n",
       "      <td>1984.000000</td>\n",
       "      <td>5.000000</td>\n",
       "      <td>21.000000</td>\n",
       "      <td>20.000000</td>\n",
       "    </tr>\n",
       "    <tr>\n",
       "      <th>50%</th>\n",
       "      <td>17775.000000</td>\n",
       "      <td>6.000000</td>\n",
       "      <td>16.000000</td>\n",
       "      <td>1990.000000</td>\n",
       "      <td>11.000000</td>\n",
       "      <td>32.000000</td>\n",
       "      <td>37.000000</td>\n",
       "    </tr>\n",
       "    <tr>\n",
       "      <th>75%</th>\n",
       "      <td>26662.000000</td>\n",
       "      <td>10.000000</td>\n",
       "      <td>23.000000</td>\n",
       "      <td>1997.000000</td>\n",
       "      <td>17.000000</td>\n",
       "      <td>36.000000</td>\n",
       "      <td>48.000000</td>\n",
       "    </tr>\n",
       "    <tr>\n",
       "      <th>max</th>\n",
       "      <td>35549.000000</td>\n",
       "      <td>12.000000</td>\n",
       "      <td>31.000000</td>\n",
       "      <td>2002.000000</td>\n",
       "      <td>24.000000</td>\n",
       "      <td>70.000000</td>\n",
       "      <td>280.000000</td>\n",
       "    </tr>\n",
       "  </tbody>\n",
       "</table>\n",
       "</div>"
      ],
      "text/plain": [
       "          record_id         month           day          year       plot_id  \\\n",
       "count  35549.000000  35549.000000  35549.000000  35549.000000  35549.000000   \n",
       "mean   17775.000000      6.477847     15.991195   1990.475231     11.397001   \n",
       "std    10262.256696      3.396925      8.257366      7.493355      6.799406   \n",
       "min        1.000000      1.000000      1.000000   1977.000000      1.000000   \n",
       "25%     8888.000000      4.000000      9.000000   1984.000000      5.000000   \n",
       "50%    17775.000000      6.000000     16.000000   1990.000000     11.000000   \n",
       "75%    26662.000000     10.000000     23.000000   1997.000000     17.000000   \n",
       "max    35549.000000     12.000000     31.000000   2002.000000     24.000000   \n",
       "\n",
       "       hindfoot_length        weight  \n",
       "count     31438.000000  32283.000000  \n",
       "mean         29.287932     42.672428  \n",
       "std           9.564759     36.631259  \n",
       "min           2.000000      4.000000  \n",
       "25%          21.000000     20.000000  \n",
       "50%          32.000000     37.000000  \n",
       "75%          36.000000     48.000000  \n",
       "max          70.000000    280.000000  "
      ]
     },
     "execution_count": 1,
     "metadata": {},
     "output_type": "execute_result"
    }
   ],
   "source": [
    "import pandas as pd\n",
    "surveys_df = pd.read_csv('../course_materials/data/surveys.csv')\n",
    "surveys_df.describe()"
   ]
  },
  {
   "cell_type": "markdown",
   "id": "39194cc3",
   "metadata": {},
   "source": [
    "In addition to learning about characteristics of our dataset as a whole, we may be interested in analyzing parts (subsets) of our data.\n",
    "For exampe we want to know how heavy our samples are:"
   ]
  },
  {
   "cell_type": "code",
   "execution_count": 2,
   "id": "e8e3f384",
   "metadata": {},
   "outputs": [
    {
     "data": {
      "text/plain": [
       "count    32283.000000\n",
       "mean        42.672428\n",
       "std         36.631259\n",
       "min          4.000000\n",
       "25%         20.000000\n",
       "50%         37.000000\n",
       "75%         48.000000\n",
       "max        280.000000\n",
       "Name: weight, dtype: float64"
      ]
     },
     "execution_count": 2,
     "metadata": {},
     "output_type": "execute_result"
    }
   ],
   "source": [
    "surveys_df['weight'].describe()"
   ]
  },
  {
   "cell_type": "markdown",
   "id": "643637d8",
   "metadata": {},
   "source": [
    "We can also extract one specific metric if we wish:"
   ]
  },
  {
   "cell_type": "code",
   "execution_count": 3,
   "id": "3f98df60",
   "metadata": {},
   "outputs": [
    {
     "data": {
      "text/plain": [
       "32283"
      ]
     },
     "execution_count": 3,
     "metadata": {},
     "output_type": "execute_result"
    }
   ],
   "source": [
    "surveys_df['weight'].min()\n",
    "surveys_df['weight'].max()\n",
    "surveys_df['weight'].mean()\n",
    "surveys_df['weight'].std()\n",
    "surveys_df['weight'].count()"
   ]
  },
  {
   "cell_type": "markdown",
   "id": "bbdb8311",
   "metadata": {},
   "source": [
    "## Selecting data using column names"
   ]
  },
  {
   "cell_type": "markdown",
   "id": "48d8f0b6",
   "metadata": {},
   "source": [
    "In the [morning session](Introduction_to_python_3.ipynb) we saw how to get specific values from dictionaries using keys. We can do the same with DataFrames, in fact we have already accessed the values in a column by the column name. In this section we will discover how to select values, slices of data and subsets of a DataFrame."
   ]
  },
  {
   "cell_type": "code",
   "execution_count": 5,
   "id": "f8f57013",
   "metadata": {},
   "outputs": [
    {
     "data": {
      "text/html": [
       "<div>\n",
       "<style scoped>\n",
       "    .dataframe tbody tr th:only-of-type {\n",
       "        vertical-align: middle;\n",
       "    }\n",
       "\n",
       "    .dataframe tbody tr th {\n",
       "        vertical-align: top;\n",
       "    }\n",
       "\n",
       "    .dataframe thead th {\n",
       "        text-align: right;\n",
       "    }\n",
       "</style>\n",
       "<table border=\"1\" class=\"dataframe\">\n",
       "  <thead>\n",
       "    <tr style=\"text-align: right;\">\n",
       "      <th></th>\n",
       "      <th>species_id</th>\n",
       "    </tr>\n",
       "  </thead>\n",
       "  <tbody>\n",
       "    <tr>\n",
       "      <th>0</th>\n",
       "      <td>NL</td>\n",
       "    </tr>\n",
       "    <tr>\n",
       "      <th>1</th>\n",
       "      <td>NL</td>\n",
       "    </tr>\n",
       "    <tr>\n",
       "      <th>2</th>\n",
       "      <td>DM</td>\n",
       "    </tr>\n",
       "    <tr>\n",
       "      <th>3</th>\n",
       "      <td>DM</td>\n",
       "    </tr>\n",
       "    <tr>\n",
       "      <th>4</th>\n",
       "      <td>DM</td>\n",
       "    </tr>\n",
       "    <tr>\n",
       "      <th>...</th>\n",
       "      <td>...</td>\n",
       "    </tr>\n",
       "    <tr>\n",
       "      <th>35544</th>\n",
       "      <td>AH</td>\n",
       "    </tr>\n",
       "    <tr>\n",
       "      <th>35545</th>\n",
       "      <td>AH</td>\n",
       "    </tr>\n",
       "    <tr>\n",
       "      <th>35546</th>\n",
       "      <td>RM</td>\n",
       "    </tr>\n",
       "    <tr>\n",
       "      <th>35547</th>\n",
       "      <td>DO</td>\n",
       "    </tr>\n",
       "    <tr>\n",
       "      <th>35548</th>\n",
       "      <td>NaN</td>\n",
       "    </tr>\n",
       "  </tbody>\n",
       "</table>\n",
       "<p>35549 rows × 1 columns</p>\n",
       "</div>"
      ],
      "text/plain": [
       "      species_id\n",
       "0             NL\n",
       "1             NL\n",
       "2             DM\n",
       "3             DM\n",
       "4             DM\n",
       "...          ...\n",
       "35544         AH\n",
       "35545         AH\n",
       "35546         RM\n",
       "35547         DO\n",
       "35548        NaN\n",
       "\n",
       "[35549 rows x 1 columns]"
      ]
     },
     "execution_count": 5,
     "metadata": {},
     "output_type": "execute_result"
    }
   ],
   "source": [
    "surveys_df[['species_id']]"
   ]
  },
  {
   "cell_type": "markdown",
   "id": "2c8bbe52",
   "metadata": {},
   "source": [
    "In contrast to the first example where we just retrieved the series of numbers of the column, the double brackets `[[...]]` tell Pandas to format the values of the two columns as a Pandas DataFrame.\n",
    "In the same way we can create a DataFrame that consists of the two columns *plot_id* and *species_id*!"
   ]
  },
  {
   "cell_type": "code",
   "execution_count": 6,
   "id": "7c9b2a3e",
   "metadata": {},
   "outputs": [
    {
     "data": {
      "text/html": [
       "<div>\n",
       "<style scoped>\n",
       "    .dataframe tbody tr th:only-of-type {\n",
       "        vertical-align: middle;\n",
       "    }\n",
       "\n",
       "    .dataframe tbody tr th {\n",
       "        vertical-align: top;\n",
       "    }\n",
       "\n",
       "    .dataframe thead th {\n",
       "        text-align: right;\n",
       "    }\n",
       "</style>\n",
       "<table border=\"1\" class=\"dataframe\">\n",
       "  <thead>\n",
       "    <tr style=\"text-align: right;\">\n",
       "      <th></th>\n",
       "      <th>plot_id</th>\n",
       "      <th>species_id</th>\n",
       "    </tr>\n",
       "  </thead>\n",
       "  <tbody>\n",
       "    <tr>\n",
       "      <th>0</th>\n",
       "      <td>2</td>\n",
       "      <td>NL</td>\n",
       "    </tr>\n",
       "    <tr>\n",
       "      <th>1</th>\n",
       "      <td>3</td>\n",
       "      <td>NL</td>\n",
       "    </tr>\n",
       "    <tr>\n",
       "      <th>2</th>\n",
       "      <td>2</td>\n",
       "      <td>DM</td>\n",
       "    </tr>\n",
       "    <tr>\n",
       "      <th>3</th>\n",
       "      <td>7</td>\n",
       "      <td>DM</td>\n",
       "    </tr>\n",
       "    <tr>\n",
       "      <th>4</th>\n",
       "      <td>3</td>\n",
       "      <td>DM</td>\n",
       "    </tr>\n",
       "    <tr>\n",
       "      <th>...</th>\n",
       "      <td>...</td>\n",
       "      <td>...</td>\n",
       "    </tr>\n",
       "    <tr>\n",
       "      <th>35544</th>\n",
       "      <td>15</td>\n",
       "      <td>AH</td>\n",
       "    </tr>\n",
       "    <tr>\n",
       "      <th>35545</th>\n",
       "      <td>15</td>\n",
       "      <td>AH</td>\n",
       "    </tr>\n",
       "    <tr>\n",
       "      <th>35546</th>\n",
       "      <td>10</td>\n",
       "      <td>RM</td>\n",
       "    </tr>\n",
       "    <tr>\n",
       "      <th>35547</th>\n",
       "      <td>7</td>\n",
       "      <td>DO</td>\n",
       "    </tr>\n",
       "    <tr>\n",
       "      <th>35548</th>\n",
       "      <td>5</td>\n",
       "      <td>NaN</td>\n",
       "    </tr>\n",
       "  </tbody>\n",
       "</table>\n",
       "<p>35549 rows × 2 columns</p>\n",
       "</div>"
      ],
      "text/plain": [
       "       plot_id species_id\n",
       "0            2         NL\n",
       "1            3         NL\n",
       "2            2         DM\n",
       "3            7         DM\n",
       "4            3         DM\n",
       "...        ...        ...\n",
       "35544       15         AH\n",
       "35545       15         AH\n",
       "35546       10         RM\n",
       "35547        7         DO\n",
       "35548        5        NaN\n",
       "\n",
       "[35549 rows x 2 columns]"
      ]
     },
     "execution_count": 6,
     "metadata": {},
     "output_type": "execute_result"
    }
   ],
   "source": [
    "surveys_df[['plot_id', 'species_id']]"
   ]
  },
  {
   "cell_type": "markdown",
   "id": "4950cf64",
   "metadata": {},
   "source": [
    "## Slicing subsets of rows\n",
    "Slicing using the `[]` operator selects a set of rows and/or columns from a DataFrame. To slice out a set of rows, you use the following syntax: `data[start:stop]`. When slicing in pandas the start bound is included in the output. The stop bound is not included. The slicing stops _before_ the stop bound.\n",
    "So if you want to select rows 0, 1 and 2 your code would look like this:"
   ]
  },
  {
   "cell_type": "code",
   "execution_count": null,
   "id": "bc4725da",
   "metadata": {},
   "outputs": [],
   "source": [
    "surveys_df[0:3]"
   ]
  },
  {
   "cell_type": "markdown",
   "id": "d7f07738",
   "metadata": {},
   "source": [
    "We can select specific ranges of our data in both the row and column directions using either label or integer-based indexing. The respective functions for that are called `loc` (label-based indexing) and `iloc` (integer-based indexing).\n",
    "\n",
    "Let's have a look at `iloc` first. where we use the index of a row and/or column to select it. In the example below we select the first three entries and the columns month, day and year (the second, third and fourth column, remember indexing starts at 0 on Python). The first range of numbers selects the rows, the second the columns:"
   ]
  },
  {
   "cell_type": "code",
   "execution_count": null,
   "id": "709a25e9",
   "metadata": {},
   "outputs": [],
   "source": [
    "# iloc[row slicing, column slicing]\n",
    "surveys_df.iloc[0:3, 1:4]"
   ]
  },
  {
   "cell_type": "markdown",
   "id": "7d3121a6",
   "metadata": {},
   "source": [
    "We can achieve the same with the function `loc`, only instead of column indices, we use the column labels this time. So, we need to know the names of the columns:"
   ]
  },
  {
   "cell_type": "code",
   "execution_count": null,
   "id": "c3612540",
   "metadata": {},
   "outputs": [],
   "source": [
    "surveys_df.loc[0:3, ['month', 'day', 'year']]"
   ]
  },
  {
   "cell_type": "markdown",
   "id": "a9f1144b",
   "metadata": {},
   "source": [
    "And there is a third way: In a first step we select the columns by their names `surveys_df[['month', 'day', 'year']]`. From the resulting DataFrame we then, in a second step, select the first three rows `[0:3]`. Putting the two steps together, the code looks like this:"
   ]
  },
  {
   "cell_type": "code",
   "execution_count": null,
   "id": "73e4a207",
   "metadata": {},
   "outputs": [],
   "source": [
    "surveys_df[['month', 'day', 'year']][0:3]"
   ]
  },
  {
   "cell_type": "markdown",
   "id": "140c31b9",
   "metadata": {},
   "source": [
    "### Interactive Part\n",
    "Let us further explore the `loc` and  `iloc` functions as they are more powerful. Have a look at the examples below and predict their outcome before hitting enter."
   ]
  },
  {
   "cell_type": "code",
   "execution_count": null,
   "id": "d6b77914",
   "metadata": {},
   "outputs": [],
   "source": [
    "# Select all columns for rows of index values 0 and 10\n",
    "surveys_df.loc[[0, 10], :]"
   ]
  },
  {
   "cell_type": "code",
   "execution_count": null,
   "id": "afcff748",
   "metadata": {},
   "outputs": [],
   "source": [
    "# What does this do?\n",
    "surveys_df.loc[0, ['species_id', 'plot_id', 'weight']]"
   ]
  },
  {
   "cell_type": "code",
   "execution_count": null,
   "id": "eb3c2f7f",
   "metadata": {},
   "outputs": [],
   "source": [
    "# What happens when you type the code below?\n",
    "surveys_df.loc[[0, 10, 35549], :]"
   ]
  },
  {
   "cell_type": "markdown",
   "id": "5fffcd6f",
   "metadata": {},
   "source": [
    "We can also extract single values from our DataFrame:"
   ]
  },
  {
   "cell_type": "code",
   "execution_count": null,
   "id": "8e92978b",
   "metadata": {},
   "outputs": [],
   "source": [
    "# data.iloc[row, column]\n",
    "surveys_df.iloc[2, 6]"
   ]
  },
  {
   "cell_type": "markdown",
   "id": "ebeacab0",
   "metadata": {},
   "source": [
    "### Summary: Selecting slices, rows and columns\n",
    "In the first two methods we extract the column specifying its name. The third method is essentially identical to the first one as the 6th (index 5) element of the Series ```surveys_df.columns``` is *species_id*. The fourth method uses the method ```iloc``` to select *all* the rows of the 6th column. "
   ]
  },
  {
   "cell_type": "code",
   "execution_count": null,
   "id": "a6958e9f",
   "metadata": {
    "tags": []
   },
   "outputs": [],
   "source": [
    "# By name\n",
    "# --------------------------------------\n",
    "# Method1\n",
    "plot_id_1 = surveys_df['species_id']\n",
    "\n",
    "# Method2\n",
    "plot_id_2 = surveys_df.species_id\n",
    "# --------------------------------------\n",
    "\n",
    "# By location\n",
    "# --------------------------------------\n",
    "# Method3\n",
    "plot_id_3 = surveys_df[surveys_df.columns[5]]\n",
    "\n",
    "# Method4\n",
    "plot_id_4 = surveys_df.iloc[:,5]\n",
    "# --------------------------------------"
   ]
  },
  {
   "cell_type": "markdown",
   "id": "79dbc17a",
   "metadata": {},
   "source": [
    "<div class=\"alert alert-block alert-success\">\n",
    "<b>Exercise 3 to 5</b>\n",
    "    \n",
    "Now go to the Jupyter Dashboard in your internet browser and continue with the afternoon exercises 3 to 5."
   ]
  },
  {
   "cell_type": "markdown",
   "id": "2a2e35fa",
   "metadata": {},
   "source": [
    "### Subsetting Data according to user-defined criteria"
   ]
  },
  {
   "cell_type": "markdown",
   "id": "4fee3780",
   "metadata": {},
   "source": [
    "We can extract subsets of our DataFrame following the general syntax ```data_frame[<condition_on_data>]``` <condition_on_data> is a conditional statement on the DataFrame content itself. You may think at the conditional statement as a question or query you ask to your DataFrame. Here there are some examples:"
   ]
  },
  {
   "cell_type": "code",
   "execution_count": null,
   "id": "7af48aa4",
   "metadata": {},
   "outputs": [],
   "source": [
    "# What are the data collected in the year 2002?\n",
    "surveys_df[surveys_df.year == 2002]"
   ]
  },
  {
   "cell_type": "code",
   "execution_count": null,
   "id": "1b21c366",
   "metadata": {
    "tags": []
   },
   "outputs": [],
   "source": [
    "# What are the data NOT collected in the year 2002?\n",
    "surveys_df[surveys_df.year != 2002]"
   ]
  },
  {
   "cell_type": "code",
   "execution_count": null,
   "id": "cafcf0c2",
   "metadata": {
    "tags": []
   },
   "outputs": [],
   "source": [
    "# What are the data NOT collected in the year 2002? (different syntax)\n",
    "surveys_df[~(surveys_df.year == 2002)]"
   ]
  },
  {
   "cell_type": "markdown",
   "id": "8597ccce",
   "metadata": {},
   "source": [
    "Our filtering conditions may be very specific, they can target different columns in the DataFrame, and they can be combined using the logical operator \"&\" which means **and**:"
   ]
  },
  {
   "cell_type": "code",
   "execution_count": null,
   "id": "f32f3290",
   "metadata": {
    "tags": []
   },
   "outputs": [],
   "source": [
    "# What are the data collected between 2000 and 2002 on female species?\n",
    "surveys_df[(surveys_df.year >= 2000) & (surveys_df.year <= 2002) & (surveys_df.sex == 'F')]"
   ]
  },
  {
   "cell_type": "markdown",
   "id": "caf34282",
   "metadata": {},
   "source": [
    "Below we filter for rows with collected data on female species in the year 2000 or 2002.\n",
    "\"Give me all data where sex is Female and data is collected in 2000 or 2002\"."
   ]
  },
  {
   "cell_type": "markdown",
   "id": "41ec961e",
   "metadata": {},
   "source": [
    "The method ```isin()``` allows to specify a range of \"permitted\" values for a certain column. Here it follows another example:"
   ]
  },
  {
   "cell_type": "code",
   "execution_count": null,
   "id": "013eb804",
   "metadata": {
    "tags": []
   },
   "outputs": [],
   "source": [
    "surveys_df[(surveys_df.year == 2000) & (surveys_df.sex == 'F') & (surveys_df.month.isin([1,3,4]))]"
   ]
  },
  {
   "cell_type": "markdown",
   "id": "6f5e82a9",
   "metadata": {},
   "source": [
    "We have also an operator for **or**. For the sake of showing the syntax, below we fetch all entries from the year 2000 or from the gender female:"
   ]
  },
  {
   "cell_type": "code",
   "execution_count": null,
   "id": "d7381646",
   "metadata": {},
   "outputs": [],
   "source": [
    "print(surveys_df[(surveys_df.year == 2000) | (surveys_df.sex == 'F')])"
   ]
  },
  {
   "cell_type": "markdown",
   "id": "0fd42879",
   "metadata": {},
   "source": [
    "## DataFrame Cleaning"
   ]
  },
  {
   "cell_type": "markdown",
   "id": "d7cf67fe",
   "metadata": {},
   "source": [
    "A simple exploration of our DataFrame showed us that there are columns full of invalid values (NaN). One of the most important preliminary operations of data analysis is cleaning your data set, i.e. \"getting rid\" of non-numerical or non-character values. we want to make sure that our data only contains meaningful values. \n",
    "\n",
    "Now that we mastered selecting, slicing, and subsetting, we can easily clean our DataFrame with few lines of code. Let us have a look at the function *isnull*. It is a Pandas function which we imported at the beginning with `import pandas as pd`. Now we can call the functin like this:"
   ]
  },
  {
   "cell_type": "code",
   "execution_count": null,
   "id": "cd708256",
   "metadata": {},
   "outputs": [],
   "source": [
    "pd.isnull(4)"
   ]
  },
  {
   "cell_type": "code",
   "execution_count": null,
   "id": "c6d40c84",
   "metadata": {},
   "outputs": [],
   "source": [
    "pd.isnull([1, 2, 3, '', dict(), None])"
   ]
  },
  {
   "cell_type": "markdown",
   "id": "9340df6a",
   "metadata": {},
   "source": [
    "We can pass single values or array-like values to the function. The function will then check for us whether each value is `NaN` (Not a Number) or `None` and return a boolean array.\n",
    "Note, that values like the empty string (a strin without any characters in it) or an empty dictionary etc will not count as `null` value, they do have a type, they only do not contain any values but they are something. \n",
    "`null` values in python are only `NaN` and `None`. When you read in tabular data into a DataFrame empty cells will be shown as `NaN`. `None` stands for the type *NoneType*, which we will not dive into further in this workshop."
   ]
  },
  {
   "cell_type": "markdown",
   "id": "7948108a",
   "metadata": {},
   "source": [
    "With all that kowledge we can now detect `null` values in the column *weight* and do something about it. Let us have a look how many `null` values we can find:"
   ]
  },
  {
   "cell_type": "code",
   "execution_count": null,
   "id": "4f09fba4",
   "metadata": {},
   "outputs": [],
   "source": [
    "pd.isnull(surveys_df.weight) # boolean array indicating where null values are found"
   ]
  },
  {
   "cell_type": "markdown",
   "id": "bdb3c681",
   "metadata": {},
   "source": [
    "We can use the Series with the boolean values as a mask on the DataFrame. Here we only extract the rows of `surveys_df` where the weight is not defined:"
   ]
  },
  {
   "cell_type": "code",
   "execution_count": null,
   "id": "64e0900d",
   "metadata": {},
   "outputs": [],
   "source": [
    "surveys_df[pd.isnull(surveys_df.weight)] # all lines that have a null value in the column weight\n",
    "len(surveys_df[pd.isnull(surveys_df.weight)]) # length"
   ]
  },
  {
   "cell_type": "markdown",
   "id": "49c83573",
   "metadata": {},
   "source": [
    "As you can see, in our whole dataset 3266 weight values are not usable. We need to do something with those values.\n",
    "\n",
    "Another thing that would not make sense are negative weights. Let's check whether the remaining 32283 values in the *weight* column are positive:"
   ]
  },
  {
   "cell_type": "code",
   "execution_count": null,
   "id": "870c7309",
   "metadata": {},
   "outputs": [],
   "source": [
    "len(surveys_df[surveys_df.weight > 0])"
   ]
  },
  {
   "cell_type": "markdown",
   "id": "0cf62355",
   "metadata": {},
   "source": [
    "As we see, we have 32283 non-negative *weight* values. The remaining 3266 values in the *weight* column are not set, so they are `null`. How can we impute the values? Let us have a look at the average weight:"
   ]
  },
  {
   "cell_type": "code",
   "execution_count": null,
   "id": "06bb5d25",
   "metadata": {
    "tags": []
   },
   "outputs": [],
   "source": [
    "surveys_df.weight.mean()"
   ]
  },
  {
   "cell_type": "markdown",
   "id": "8a09567e",
   "metadata": {},
   "source": [
    "A smooth run, without errors or warnings. As we said several times, Pandas is a library designed for data analysis and when performing data analysis it is very common to deal with not numeric values. In particular, the ```.mean()``` method has an argument called *skipna* that when set `True` (default value, so we do not need to specify it) excludes NaN values. This means that, in this case, Pandas simply ignores whatever it is not numeric and it performs computations only on numeric values."
   ]
  },
  {
   "cell_type": "markdown",
   "id": "41e6b511",
   "metadata": {},
   "source": [
    "If we are not happy with Pandas default behaviour, we can manually decide which value to assign to cells that contain `null` values. One possible choice is setting them to zero. To do that, we just need to apply the method ```.fillna(<value>)```, where `<value>` is the number we want to substitute to the `null` value with (in our case, 0)."
   ]
  },
  {
   "cell_type": "code",
   "execution_count": null,
   "id": "177a96cd",
   "metadata": {},
   "outputs": [],
   "source": [
    "cleaned_weight1 = surveys_df.weight.fillna(0)\n",
    "cleaned_weight_ave1 = cleaned_weight1.mean()\n",
    "print(cleaned_weight_ave1)"
   ]
  },
  {
   "cell_type": "markdown",
   "id": "b5b8bad6",
   "metadata": {},
   "source": [
    "You see that when filling the `null` values with 0, the average weight decreases. This is because the mean is now computed on data with many more zeros compared to the previous one.\n",
    "Conscious of this problem, we may now choose a more appropriate value to \"fill\" our `null` values. How about we use the \"clean\" mean of our first computation?"
   ]
  },
  {
   "cell_type": "code",
   "execution_count": null,
   "id": "ca3f46b5",
   "metadata": {
    "tags": []
   },
   "outputs": [],
   "source": [
    "cleaned_weight2 = surveys_df.weight.fillna(surveys_df.weight.mean())\n",
    "cleaned_weight_ave2 = cleaned_weight2.mean()\n",
    "print(cleaned_weight_ave2)"
   ]
  },
  {
   "cell_type": "markdown",
   "id": "275c0be8",
   "metadata": {},
   "source": [
    "This time we obtain exactly the same result of our first computation, this is because we substituted the `null` values with a mean computed excluding the `null` values."
   ]
  },
  {
   "cell_type": "markdown",
   "id": "b34b321b",
   "metadata": {},
   "source": [
    "<div class=\"alert alert-block alert-success\">\n",
    "<b>Exercise 6 and 7</b>\n",
    "\n",
    "Now go to the Jupyter Dashboard in your internet browser and continue with the afternoon exercises 6 and 7."
   ]
  },
  {
   "cell_type": "markdown",
   "id": "2cf8ba70-5aba-4c52-96e4-f4cda4c47268",
   "metadata": {},
   "source": [
    "## Grouping"
   ]
  },
  {
   "cell_type": "markdown",
   "id": "b9f430af",
   "metadata": {},
   "source": [
    "We often want to calculate summary statistics grouped by subsets or attributes within fields of our data. For example, we might want to calculate the average weight of all individuals per site.\n",
    "\n",
    "As we have seen above we can calculate basic statistics for all records in a single column using the syntax below:"
   ]
  },
  {
   "cell_type": "code",
   "execution_count": 7,
   "id": "d3bb2ee1",
   "metadata": {},
   "outputs": [
    {
     "data": {
      "text/plain": [
       "count    32283.000000\n",
       "mean        42.672428\n",
       "std         36.631259\n",
       "min          4.000000\n",
       "25%         20.000000\n",
       "50%         37.000000\n",
       "75%         48.000000\n",
       "max        280.000000\n",
       "Name: weight, dtype: float64"
      ]
     },
     "execution_count": 7,
     "metadata": {},
     "output_type": "execute_result"
    }
   ],
   "source": [
    "surveys_df['weight'].describe()"
   ]
  },
  {
   "cell_type": "markdown",
   "id": "64a12270",
   "metadata": {},
   "source": [
    "If we want to summarize by one or more variables, for example sex, we can use Pandas’ `.groupby()` method. Once we’ve created a groupby DataFrame, we can quickly calculate summary statistics by a group of our choice."
   ]
  },
  {
   "cell_type": "code",
   "execution_count": 8,
   "id": "169df8ea",
   "metadata": {},
   "outputs": [
    {
     "data": {
      "text/html": [
       "<div>\n",
       "<style scoped>\n",
       "    .dataframe tbody tr th:only-of-type {\n",
       "        vertical-align: middle;\n",
       "    }\n",
       "\n",
       "    .dataframe tbody tr th {\n",
       "        vertical-align: top;\n",
       "    }\n",
       "\n",
       "    .dataframe thead tr th {\n",
       "        text-align: left;\n",
       "    }\n",
       "\n",
       "    .dataframe thead tr:last-of-type th {\n",
       "        text-align: right;\n",
       "    }\n",
       "</style>\n",
       "<table border=\"1\" class=\"dataframe\">\n",
       "  <thead>\n",
       "    <tr>\n",
       "      <th></th>\n",
       "      <th colspan=\"8\" halign=\"left\">record_id</th>\n",
       "      <th colspan=\"2\" halign=\"left\">month</th>\n",
       "      <th>...</th>\n",
       "      <th colspan=\"2\" halign=\"left\">hindfoot_length</th>\n",
       "      <th colspan=\"8\" halign=\"left\">weight</th>\n",
       "    </tr>\n",
       "    <tr>\n",
       "      <th></th>\n",
       "      <th>count</th>\n",
       "      <th>mean</th>\n",
       "      <th>std</th>\n",
       "      <th>min</th>\n",
       "      <th>25%</th>\n",
       "      <th>50%</th>\n",
       "      <th>75%</th>\n",
       "      <th>max</th>\n",
       "      <th>count</th>\n",
       "      <th>mean</th>\n",
       "      <th>...</th>\n",
       "      <th>75%</th>\n",
       "      <th>max</th>\n",
       "      <th>count</th>\n",
       "      <th>mean</th>\n",
       "      <th>std</th>\n",
       "      <th>min</th>\n",
       "      <th>25%</th>\n",
       "      <th>50%</th>\n",
       "      <th>75%</th>\n",
       "      <th>max</th>\n",
       "    </tr>\n",
       "    <tr>\n",
       "      <th>sex</th>\n",
       "      <th></th>\n",
       "      <th></th>\n",
       "      <th></th>\n",
       "      <th></th>\n",
       "      <th></th>\n",
       "      <th></th>\n",
       "      <th></th>\n",
       "      <th></th>\n",
       "      <th></th>\n",
       "      <th></th>\n",
       "      <th></th>\n",
       "      <th></th>\n",
       "      <th></th>\n",
       "      <th></th>\n",
       "      <th></th>\n",
       "      <th></th>\n",
       "      <th></th>\n",
       "      <th></th>\n",
       "      <th></th>\n",
       "      <th></th>\n",
       "      <th></th>\n",
       "    </tr>\n",
       "  </thead>\n",
       "  <tbody>\n",
       "    <tr>\n",
       "      <th>F</th>\n",
       "      <td>15690.0</td>\n",
       "      <td>18036.412046</td>\n",
       "      <td>10423.089000</td>\n",
       "      <td>3.0</td>\n",
       "      <td>8917.50</td>\n",
       "      <td>18075.5</td>\n",
       "      <td>27250.00</td>\n",
       "      <td>35547.0</td>\n",
       "      <td>15690.0</td>\n",
       "      <td>6.587253</td>\n",
       "      <td>...</td>\n",
       "      <td>36.0</td>\n",
       "      <td>64.0</td>\n",
       "      <td>15303.0</td>\n",
       "      <td>42.170555</td>\n",
       "      <td>36.847958</td>\n",
       "      <td>4.0</td>\n",
       "      <td>20.0</td>\n",
       "      <td>34.0</td>\n",
       "      <td>46.0</td>\n",
       "      <td>274.0</td>\n",
       "    </tr>\n",
       "    <tr>\n",
       "      <th>M</th>\n",
       "      <td>17348.0</td>\n",
       "      <td>17754.835601</td>\n",
       "      <td>10132.203323</td>\n",
       "      <td>1.0</td>\n",
       "      <td>8969.75</td>\n",
       "      <td>17727.5</td>\n",
       "      <td>26454.25</td>\n",
       "      <td>35548.0</td>\n",
       "      <td>17348.0</td>\n",
       "      <td>6.396184</td>\n",
       "      <td>...</td>\n",
       "      <td>36.0</td>\n",
       "      <td>58.0</td>\n",
       "      <td>16879.0</td>\n",
       "      <td>42.995379</td>\n",
       "      <td>36.184981</td>\n",
       "      <td>4.0</td>\n",
       "      <td>20.0</td>\n",
       "      <td>39.0</td>\n",
       "      <td>49.0</td>\n",
       "      <td>280.0</td>\n",
       "    </tr>\n",
       "  </tbody>\n",
       "</table>\n",
       "<p>2 rows × 56 columns</p>\n",
       "</div>"
      ],
      "text/plain": [
       "    record_id                                                               \\\n",
       "        count          mean           std  min      25%      50%       75%   \n",
       "sex                                                                          \n",
       "F     15690.0  18036.412046  10423.089000  3.0  8917.50  18075.5  27250.00   \n",
       "M     17348.0  17754.835601  10132.203323  1.0  8969.75  17727.5  26454.25   \n",
       "\n",
       "                month            ... hindfoot_length         weight  \\\n",
       "         max    count      mean  ...             75%   max    count   \n",
       "sex                              ...                                  \n",
       "F    35547.0  15690.0  6.587253  ...            36.0  64.0  15303.0   \n",
       "M    35548.0  17348.0  6.396184  ...            36.0  58.0  16879.0   \n",
       "\n",
       "                                                         \n",
       "          mean        std  min   25%   50%   75%    max  \n",
       "sex                                                      \n",
       "F    42.170555  36.847958  4.0  20.0  34.0  46.0  274.0  \n",
       "M    42.995379  36.184981  4.0  20.0  39.0  49.0  280.0  \n",
       "\n",
       "[2 rows x 56 columns]"
      ]
     },
     "execution_count": 8,
     "metadata": {},
     "output_type": "execute_result"
    }
   ],
   "source": [
    "grouped_data = surveys_df.groupby('sex')\n",
    "grouped_data.describe()"
   ]
  },
  {
   "cell_type": "markdown",
   "id": "0eb649e4",
   "metadata": {},
   "source": [
    "The output is a bit overwhelming. Let's just have a look at one statistical value, the mean, to understand what is happening here:"
   ]
  },
  {
   "cell_type": "code",
   "execution_count": 9,
   "id": "b2f88c4f",
   "metadata": {},
   "outputs": [
    {
     "data": {
      "text/html": [
       "<div>\n",
       "<style scoped>\n",
       "    .dataframe tbody tr th:only-of-type {\n",
       "        vertical-align: middle;\n",
       "    }\n",
       "\n",
       "    .dataframe tbody tr th {\n",
       "        vertical-align: top;\n",
       "    }\n",
       "\n",
       "    .dataframe thead th {\n",
       "        text-align: right;\n",
       "    }\n",
       "</style>\n",
       "<table border=\"1\" class=\"dataframe\">\n",
       "  <thead>\n",
       "    <tr style=\"text-align: right;\">\n",
       "      <th></th>\n",
       "      <th>record_id</th>\n",
       "      <th>month</th>\n",
       "      <th>day</th>\n",
       "      <th>year</th>\n",
       "      <th>plot_id</th>\n",
       "      <th>hindfoot_length</th>\n",
       "      <th>weight</th>\n",
       "    </tr>\n",
       "    <tr>\n",
       "      <th>sex</th>\n",
       "      <th></th>\n",
       "      <th></th>\n",
       "      <th></th>\n",
       "      <th></th>\n",
       "      <th></th>\n",
       "      <th></th>\n",
       "      <th></th>\n",
       "    </tr>\n",
       "  </thead>\n",
       "  <tbody>\n",
       "    <tr>\n",
       "      <th>F</th>\n",
       "      <td>18036.412046</td>\n",
       "      <td>6.587253</td>\n",
       "      <td>15.880943</td>\n",
       "      <td>1990.644997</td>\n",
       "      <td>11.440854</td>\n",
       "      <td>28.836780</td>\n",
       "      <td>42.170555</td>\n",
       "    </tr>\n",
       "    <tr>\n",
       "      <th>M</th>\n",
       "      <td>17754.835601</td>\n",
       "      <td>6.396184</td>\n",
       "      <td>16.078799</td>\n",
       "      <td>1990.480401</td>\n",
       "      <td>11.098282</td>\n",
       "      <td>29.709578</td>\n",
       "      <td>42.995379</td>\n",
       "    </tr>\n",
       "  </tbody>\n",
       "</table>\n",
       "</div>"
      ],
      "text/plain": [
       "        record_id     month        day         year    plot_id  \\\n",
       "sex                                                              \n",
       "F    18036.412046  6.587253  15.880943  1990.644997  11.440854   \n",
       "M    17754.835601  6.396184  16.078799  1990.480401  11.098282   \n",
       "\n",
       "     hindfoot_length     weight  \n",
       "sex                              \n",
       "F          28.836780  42.170555  \n",
       "M          29.709578  42.995379  "
      ]
     },
     "execution_count": 9,
     "metadata": {},
     "output_type": "execute_result"
    }
   ],
   "source": [
    "grouped_data.mean()"
   ]
  },
  {
   "cell_type": "markdown",
   "id": "166b0c18",
   "metadata": {},
   "source": [
    "We see that the data is divided into two groups, one group where the value in the column *sex* equals \"F\" and another group where the value in the column *sex* equals \"M\". The statistics is then calculated for all samples in that specific group for each of the columns in the dataframe. Note that samples annotated with sex equals NaN and column values with NaN are left out."
   ]
  },
  {
   "cell_type": "markdown",
   "id": "71794bfb",
   "metadata": {},
   "source": [
    "## Structure of a groupby object\n",
    "We can investigate which rows are assigned to which group as follows:"
   ]
  },
  {
   "cell_type": "code",
   "execution_count": 10,
   "id": "0c5920fa",
   "metadata": {},
   "outputs": [
    {
     "name": "stdout",
     "output_type": "stream",
     "text": [
      "<class 'pandas.io.formats.printing.PrettyDict'>\n",
      "Plot ids:  dict_keys(['F', 'M'])\n",
      "Rows belonging to sex 'F':  Int64Index([    2,     6,     8,     9,    10,    14,    15,    16,    19,\n",
      "               20,\n",
      "            ...\n",
      "            35531, 35532, 35535, 35536, 35537, 35539, 35540, 35541, 35542,\n",
      "            35546],\n",
      "           dtype='int64', length=15690)\n"
     ]
    }
   ],
   "source": [
    "print(type(grouped_data.groups)) # dictionary\n",
    "print(\"Plot ids: \", grouped_data.groups.keys()) # keys are the unique values of the column we grouped by\n",
    "print(\"Rows belonging to sex 'F': \", grouped_data.groups['F']) # values are row indexes "
   ]
  },
  {
   "cell_type": "markdown",
   "id": "0cb9e651",
   "metadata": {},
   "source": [
    "## Grouping by multiple columns\n",
    "Now let's have a look at a more complex grouping example. We want an overview statistics of the weight of all females and males by plot id. So in fact we want to group by *sex* and by *plot_id* at the same time.\n",
    "\n",
    "This will give us exactly 48 groups for our survey data:\n",
    "\n",
    "* female, plot id = 1\n",
    "* female, plot id = 2\n",
    "* ...\n",
    "* female, plot id = 24\n",
    "* male, plot id = 1\n",
    "* ...\n",
    "* male, plot id = 24\n",
    "\n",
    "Why 48 groups? We have 24 unique values for *plot_id*. Per plot we have two groups of samples, female and male. Hence, the grouping returns 48 groups."
   ]
  },
  {
   "cell_type": "code",
   "execution_count": 25,
   "id": "ac4525cf",
   "metadata": {},
   "outputs": [
    {
     "data": {
      "text/html": [
       "<div>\n",
       "<style scoped>\n",
       "    .dataframe tbody tr th:only-of-type {\n",
       "        vertical-align: middle;\n",
       "    }\n",
       "\n",
       "    .dataframe tbody tr th {\n",
       "        vertical-align: top;\n",
       "    }\n",
       "\n",
       "    .dataframe thead th {\n",
       "        text-align: right;\n",
       "    }\n",
       "</style>\n",
       "<table border=\"1\" class=\"dataframe\">\n",
       "  <thead>\n",
       "    <tr style=\"text-align: right;\">\n",
       "      <th></th>\n",
       "      <th></th>\n",
       "      <th>count</th>\n",
       "      <th>mean</th>\n",
       "      <th>std</th>\n",
       "      <th>min</th>\n",
       "      <th>25%</th>\n",
       "      <th>50%</th>\n",
       "      <th>75%</th>\n",
       "      <th>max</th>\n",
       "    </tr>\n",
       "    <tr>\n",
       "      <th>plot_id</th>\n",
       "      <th>sex</th>\n",
       "      <th></th>\n",
       "      <th></th>\n",
       "      <th></th>\n",
       "      <th></th>\n",
       "      <th></th>\n",
       "      <th></th>\n",
       "      <th></th>\n",
       "      <th></th>\n",
       "    </tr>\n",
       "  </thead>\n",
       "  <tbody>\n",
       "    <tr>\n",
       "      <th rowspan=\"2\" valign=\"top\">1</th>\n",
       "      <th>F</th>\n",
       "      <td>826.0</td>\n",
       "      <td>46.311138</td>\n",
       "      <td>33.240958</td>\n",
       "      <td>5.0</td>\n",
       "      <td>26.00</td>\n",
       "      <td>40.0</td>\n",
       "      <td>50.00</td>\n",
       "      <td>196.0</td>\n",
       "    </tr>\n",
       "    <tr>\n",
       "      <th>M</th>\n",
       "      <td>1072.0</td>\n",
       "      <td>55.950560</td>\n",
       "      <td>41.035686</td>\n",
       "      <td>4.0</td>\n",
       "      <td>37.00</td>\n",
       "      <td>46.0</td>\n",
       "      <td>54.00</td>\n",
       "      <td>231.0</td>\n",
       "    </tr>\n",
       "    <tr>\n",
       "      <th rowspan=\"2\" valign=\"top\">2</th>\n",
       "      <th>F</th>\n",
       "      <td>954.0</td>\n",
       "      <td>52.561845</td>\n",
       "      <td>45.547697</td>\n",
       "      <td>5.0</td>\n",
       "      <td>25.00</td>\n",
       "      <td>40.0</td>\n",
       "      <td>51.00</td>\n",
       "      <td>274.0</td>\n",
       "    </tr>\n",
       "    <tr>\n",
       "      <th>M</th>\n",
       "      <td>1114.0</td>\n",
       "      <td>51.391382</td>\n",
       "      <td>46.690887</td>\n",
       "      <td>5.0</td>\n",
       "      <td>24.00</td>\n",
       "      <td>42.0</td>\n",
       "      <td>50.00</td>\n",
       "      <td>278.0</td>\n",
       "    </tr>\n",
       "    <tr>\n",
       "      <th rowspan=\"2\" valign=\"top\">3</th>\n",
       "      <th>F</th>\n",
       "      <td>873.0</td>\n",
       "      <td>31.215349</td>\n",
       "      <td>30.687451</td>\n",
       "      <td>4.0</td>\n",
       "      <td>15.00</td>\n",
       "      <td>23.0</td>\n",
       "      <td>34.00</td>\n",
       "      <td>199.0</td>\n",
       "    </tr>\n",
       "    <tr>\n",
       "      <th>M</th>\n",
       "      <td>827.0</td>\n",
       "      <td>34.163241</td>\n",
       "      <td>40.260426</td>\n",
       "      <td>5.0</td>\n",
       "      <td>13.00</td>\n",
       "      <td>23.0</td>\n",
       "      <td>39.00</td>\n",
       "      <td>250.0</td>\n",
       "    </tr>\n",
       "    <tr>\n",
       "      <th rowspan=\"2\" valign=\"top\">4</th>\n",
       "      <th>F</th>\n",
       "      <td>850.0</td>\n",
       "      <td>46.818824</td>\n",
       "      <td>33.560664</td>\n",
       "      <td>5.0</td>\n",
       "      <td>28.00</td>\n",
       "      <td>40.0</td>\n",
       "      <td>47.00</td>\n",
       "      <td>200.0</td>\n",
       "    </tr>\n",
       "    <tr>\n",
       "      <th>M</th>\n",
       "      <td>1010.0</td>\n",
       "      <td>48.888119</td>\n",
       "      <td>32.254168</td>\n",
       "      <td>4.0</td>\n",
       "      <td>32.00</td>\n",
       "      <td>44.5</td>\n",
       "      <td>50.00</td>\n",
       "      <td>187.0</td>\n",
       "    </tr>\n",
       "    <tr>\n",
       "      <th rowspan=\"2\" valign=\"top\">5</th>\n",
       "      <th>F</th>\n",
       "      <td>516.0</td>\n",
       "      <td>40.974806</td>\n",
       "      <td>36.396966</td>\n",
       "      <td>5.0</td>\n",
       "      <td>21.00</td>\n",
       "      <td>35.0</td>\n",
       "      <td>45.00</td>\n",
       "      <td>248.0</td>\n",
       "    </tr>\n",
       "    <tr>\n",
       "      <th>M</th>\n",
       "      <td>573.0</td>\n",
       "      <td>40.708551</td>\n",
       "      <td>31.250967</td>\n",
       "      <td>6.0</td>\n",
       "      <td>21.00</td>\n",
       "      <td>40.0</td>\n",
       "      <td>49.00</td>\n",
       "      <td>240.0</td>\n",
       "    </tr>\n",
       "    <tr>\n",
       "      <th rowspan=\"2\" valign=\"top\">6</th>\n",
       "      <th>F</th>\n",
       "      <td>721.0</td>\n",
       "      <td>36.352288</td>\n",
       "      <td>29.513333</td>\n",
       "      <td>5.0</td>\n",
       "      <td>19.00</td>\n",
       "      <td>29.0</td>\n",
       "      <td>41.00</td>\n",
       "      <td>188.0</td>\n",
       "    </tr>\n",
       "    <tr>\n",
       "      <th>M</th>\n",
       "      <td>739.0</td>\n",
       "      <td>36.867388</td>\n",
       "      <td>30.867779</td>\n",
       "      <td>6.0</td>\n",
       "      <td>18.00</td>\n",
       "      <td>31.0</td>\n",
       "      <td>46.00</td>\n",
       "      <td>241.0</td>\n",
       "    </tr>\n",
       "    <tr>\n",
       "      <th rowspan=\"2\" valign=\"top\">7</th>\n",
       "      <th>F</th>\n",
       "      <td>326.0</td>\n",
       "      <td>20.006135</td>\n",
       "      <td>17.895937</td>\n",
       "      <td>6.0</td>\n",
       "      <td>12.00</td>\n",
       "      <td>17.0</td>\n",
       "      <td>23.00</td>\n",
       "      <td>170.0</td>\n",
       "    </tr>\n",
       "    <tr>\n",
       "      <th>M</th>\n",
       "      <td>303.0</td>\n",
       "      <td>21.194719</td>\n",
       "      <td>23.971252</td>\n",
       "      <td>4.0</td>\n",
       "      <td>11.00</td>\n",
       "      <td>17.0</td>\n",
       "      <td>23.00</td>\n",
       "      <td>235.0</td>\n",
       "    </tr>\n",
       "    <tr>\n",
       "      <th rowspan=\"2\" valign=\"top\">8</th>\n",
       "      <th>F</th>\n",
       "      <td>817.0</td>\n",
       "      <td>45.623011</td>\n",
       "      <td>31.045426</td>\n",
       "      <td>5.0</td>\n",
       "      <td>25.00</td>\n",
       "      <td>42.0</td>\n",
       "      <td>50.00</td>\n",
       "      <td>178.0</td>\n",
       "    </tr>\n",
       "    <tr>\n",
       "      <th>M</th>\n",
       "      <td>962.0</td>\n",
       "      <td>49.641372</td>\n",
       "      <td>34.820355</td>\n",
       "      <td>5.0</td>\n",
       "      <td>29.00</td>\n",
       "      <td>45.0</td>\n",
       "      <td>52.00</td>\n",
       "      <td>173.0</td>\n",
       "    </tr>\n",
       "    <tr>\n",
       "      <th rowspan=\"2\" valign=\"top\">9</th>\n",
       "      <th>F</th>\n",
       "      <td>823.0</td>\n",
       "      <td>53.618469</td>\n",
       "      <td>35.572793</td>\n",
       "      <td>6.0</td>\n",
       "      <td>35.00</td>\n",
       "      <td>43.0</td>\n",
       "      <td>54.00</td>\n",
       "      <td>177.0</td>\n",
       "    </tr>\n",
       "    <tr>\n",
       "      <th>M</th>\n",
       "      <td>984.0</td>\n",
       "      <td>49.519309</td>\n",
       "      <td>31.888023</td>\n",
       "      <td>6.0</td>\n",
       "      <td>37.00</td>\n",
       "      <td>46.0</td>\n",
       "      <td>50.00</td>\n",
       "      <td>275.0</td>\n",
       "    </tr>\n",
       "    <tr>\n",
       "      <th rowspan=\"2\" valign=\"top\">10</th>\n",
       "      <th>F</th>\n",
       "      <td>138.0</td>\n",
       "      <td>17.094203</td>\n",
       "      <td>14.074820</td>\n",
       "      <td>7.0</td>\n",
       "      <td>10.00</td>\n",
       "      <td>13.0</td>\n",
       "      <td>20.00</td>\n",
       "      <td>130.0</td>\n",
       "    </tr>\n",
       "    <tr>\n",
       "      <th>M</th>\n",
       "      <td>139.0</td>\n",
       "      <td>19.971223</td>\n",
       "      <td>25.061068</td>\n",
       "      <td>4.0</td>\n",
       "      <td>10.00</td>\n",
       "      <td>12.0</td>\n",
       "      <td>22.00</td>\n",
       "      <td>237.0</td>\n",
       "    </tr>\n",
       "    <tr>\n",
       "      <th rowspan=\"2\" valign=\"top\">11</th>\n",
       "      <th>F</th>\n",
       "      <td>796.0</td>\n",
       "      <td>43.515075</td>\n",
       "      <td>29.627049</td>\n",
       "      <td>5.0</td>\n",
       "      <td>27.00</td>\n",
       "      <td>40.0</td>\n",
       "      <td>46.00</td>\n",
       "      <td>208.0</td>\n",
       "    </tr>\n",
       "    <tr>\n",
       "      <th>M</th>\n",
       "      <td>994.0</td>\n",
       "      <td>43.366197</td>\n",
       "      <td>28.425105</td>\n",
       "      <td>6.0</td>\n",
       "      <td>25.00</td>\n",
       "      <td>43.0</td>\n",
       "      <td>49.00</td>\n",
       "      <td>212.0</td>\n",
       "    </tr>\n",
       "    <tr>\n",
       "      <th rowspan=\"2\" valign=\"top\">12</th>\n",
       "      <th>F</th>\n",
       "      <td>1040.0</td>\n",
       "      <td>49.831731</td>\n",
       "      <td>43.790247</td>\n",
       "      <td>6.0</td>\n",
       "      <td>26.00</td>\n",
       "      <td>41.0</td>\n",
       "      <td>48.25</td>\n",
       "      <td>264.0</td>\n",
       "    </tr>\n",
       "    <tr>\n",
       "      <th>M</th>\n",
       "      <td>1174.0</td>\n",
       "      <td>48.909710</td>\n",
       "      <td>39.301038</td>\n",
       "      <td>7.0</td>\n",
       "      <td>25.25</td>\n",
       "      <td>43.0</td>\n",
       "      <td>50.00</td>\n",
       "      <td>280.0</td>\n",
       "    </tr>\n",
       "    <tr>\n",
       "      <th rowspan=\"2\" valign=\"top\">13</th>\n",
       "      <th>F</th>\n",
       "      <td>610.0</td>\n",
       "      <td>40.524590</td>\n",
       "      <td>36.109806</td>\n",
       "      <td>5.0</td>\n",
       "      <td>21.00</td>\n",
       "      <td>31.0</td>\n",
       "      <td>42.00</td>\n",
       "      <td>192.0</td>\n",
       "    </tr>\n",
       "    <tr>\n",
       "      <th>M</th>\n",
       "      <td>757.0</td>\n",
       "      <td>40.097754</td>\n",
       "      <td>31.753448</td>\n",
       "      <td>6.0</td>\n",
       "      <td>20.00</td>\n",
       "      <td>34.0</td>\n",
       "      <td>47.00</td>\n",
       "      <td>241.0</td>\n",
       "    </tr>\n",
       "    <tr>\n",
       "      <th rowspan=\"2\" valign=\"top\">14</th>\n",
       "      <th>F</th>\n",
       "      <td>692.0</td>\n",
       "      <td>47.355491</td>\n",
       "      <td>29.563455</td>\n",
       "      <td>5.0</td>\n",
       "      <td>37.00</td>\n",
       "      <td>43.0</td>\n",
       "      <td>48.00</td>\n",
       "      <td>211.0</td>\n",
       "    </tr>\n",
       "    <tr>\n",
       "      <th>M</th>\n",
       "      <td>1029.0</td>\n",
       "      <td>45.159378</td>\n",
       "      <td>25.272173</td>\n",
       "      <td>5.0</td>\n",
       "      <td>35.00</td>\n",
       "      <td>44.0</td>\n",
       "      <td>50.00</td>\n",
       "      <td>222.0</td>\n",
       "    </tr>\n",
       "    <tr>\n",
       "      <th rowspan=\"2\" valign=\"top\">15</th>\n",
       "      <th>F</th>\n",
       "      <td>467.0</td>\n",
       "      <td>26.670236</td>\n",
       "      <td>31.983137</td>\n",
       "      <td>4.0</td>\n",
       "      <td>12.50</td>\n",
       "      <td>18.0</td>\n",
       "      <td>26.00</td>\n",
       "      <td>198.0</td>\n",
       "    </tr>\n",
       "    <tr>\n",
       "      <th>M</th>\n",
       "      <td>401.0</td>\n",
       "      <td>27.523691</td>\n",
       "      <td>38.631271</td>\n",
       "      <td>4.0</td>\n",
       "      <td>10.00</td>\n",
       "      <td>18.0</td>\n",
       "      <td>25.00</td>\n",
       "      <td>259.0</td>\n",
       "    </tr>\n",
       "    <tr>\n",
       "      <th rowspan=\"2\" valign=\"top\">16</th>\n",
       "      <th>F</th>\n",
       "      <td>211.0</td>\n",
       "      <td>25.810427</td>\n",
       "      <td>20.902314</td>\n",
       "      <td>4.0</td>\n",
       "      <td>13.00</td>\n",
       "      <td>21.0</td>\n",
       "      <td>31.00</td>\n",
       "      <td>158.0</td>\n",
       "    </tr>\n",
       "    <tr>\n",
       "      <th>M</th>\n",
       "      <td>265.0</td>\n",
       "      <td>23.811321</td>\n",
       "      <td>14.663726</td>\n",
       "      <td>5.0</td>\n",
       "      <td>11.00</td>\n",
       "      <td>20.0</td>\n",
       "      <td>35.00</td>\n",
       "      <td>61.0</td>\n",
       "    </tr>\n",
       "    <tr>\n",
       "      <th rowspan=\"2\" valign=\"top\">17</th>\n",
       "      <th>F</th>\n",
       "      <td>874.0</td>\n",
       "      <td>48.176201</td>\n",
       "      <td>37.485528</td>\n",
       "      <td>6.0</td>\n",
       "      <td>27.00</td>\n",
       "      <td>41.0</td>\n",
       "      <td>49.00</td>\n",
       "      <td>192.0</td>\n",
       "    </tr>\n",
       "    <tr>\n",
       "      <th>M</th>\n",
       "      <td>1011.0</td>\n",
       "      <td>47.558853</td>\n",
       "      <td>34.082010</td>\n",
       "      <td>4.0</td>\n",
       "      <td>27.00</td>\n",
       "      <td>45.0</td>\n",
       "      <td>51.00</td>\n",
       "      <td>216.0</td>\n",
       "    </tr>\n",
       "    <tr>\n",
       "      <th rowspan=\"2\" valign=\"top\">18</th>\n",
       "      <th>F</th>\n",
       "      <td>740.0</td>\n",
       "      <td>36.963514</td>\n",
       "      <td>35.184417</td>\n",
       "      <td>5.0</td>\n",
       "      <td>17.00</td>\n",
       "      <td>28.5</td>\n",
       "      <td>40.00</td>\n",
       "      <td>212.0</td>\n",
       "    </tr>\n",
       "    <tr>\n",
       "      <th>M</th>\n",
       "      <td>607.0</td>\n",
       "      <td>43.546952</td>\n",
       "      <td>41.864279</td>\n",
       "      <td>7.0</td>\n",
       "      <td>18.00</td>\n",
       "      <td>33.0</td>\n",
       "      <td>48.00</td>\n",
       "      <td>256.0</td>\n",
       "    </tr>\n",
       "    <tr>\n",
       "      <th rowspan=\"2\" valign=\"top\">19</th>\n",
       "      <th>F</th>\n",
       "      <td>514.0</td>\n",
       "      <td>21.978599</td>\n",
       "      <td>14.008822</td>\n",
       "      <td>6.0</td>\n",
       "      <td>12.00</td>\n",
       "      <td>20.0</td>\n",
       "      <td>29.00</td>\n",
       "      <td>139.0</td>\n",
       "    </tr>\n",
       "    <tr>\n",
       "      <th>M</th>\n",
       "      <td>567.0</td>\n",
       "      <td>20.306878</td>\n",
       "      <td>12.553954</td>\n",
       "      <td>4.0</td>\n",
       "      <td>10.00</td>\n",
       "      <td>19.0</td>\n",
       "      <td>25.00</td>\n",
       "      <td>100.0</td>\n",
       "    </tr>\n",
       "    <tr>\n",
       "      <th rowspan=\"2\" valign=\"top\">20</th>\n",
       "      <th>F</th>\n",
       "      <td>631.0</td>\n",
       "      <td>52.624406</td>\n",
       "      <td>55.257665</td>\n",
       "      <td>5.0</td>\n",
       "      <td>17.00</td>\n",
       "      <td>30.0</td>\n",
       "      <td>48.00</td>\n",
       "      <td>220.0</td>\n",
       "    </tr>\n",
       "    <tr>\n",
       "      <th>M</th>\n",
       "      <td>588.0</td>\n",
       "      <td>44.197279</td>\n",
       "      <td>43.361503</td>\n",
       "      <td>5.0</td>\n",
       "      <td>17.00</td>\n",
       "      <td>34.0</td>\n",
       "      <td>47.00</td>\n",
       "      <td>223.0</td>\n",
       "    </tr>\n",
       "    <tr>\n",
       "      <th rowspan=\"2\" valign=\"top\">21</th>\n",
       "      <th>F</th>\n",
       "      <td>596.0</td>\n",
       "      <td>25.974832</td>\n",
       "      <td>22.619863</td>\n",
       "      <td>4.0</td>\n",
       "      <td>11.00</td>\n",
       "      <td>24.0</td>\n",
       "      <td>31.00</td>\n",
       "      <td>188.0</td>\n",
       "    </tr>\n",
       "    <tr>\n",
       "      <th>M</th>\n",
       "      <td>431.0</td>\n",
       "      <td>22.772622</td>\n",
       "      <td>18.984554</td>\n",
       "      <td>4.0</td>\n",
       "      <td>9.00</td>\n",
       "      <td>19.0</td>\n",
       "      <td>32.00</td>\n",
       "      <td>190.0</td>\n",
       "    </tr>\n",
       "    <tr>\n",
       "      <th rowspan=\"2\" valign=\"top\">22</th>\n",
       "      <th>F</th>\n",
       "      <td>646.0</td>\n",
       "      <td>53.647059</td>\n",
       "      <td>38.588538</td>\n",
       "      <td>5.0</td>\n",
       "      <td>29.00</td>\n",
       "      <td>39.0</td>\n",
       "      <td>54.00</td>\n",
       "      <td>161.0</td>\n",
       "    </tr>\n",
       "    <tr>\n",
       "      <th>M</th>\n",
       "      <td>648.0</td>\n",
       "      <td>54.572531</td>\n",
       "      <td>38.841066</td>\n",
       "      <td>6.0</td>\n",
       "      <td>31.00</td>\n",
       "      <td>44.0</td>\n",
       "      <td>53.00</td>\n",
       "      <td>212.0</td>\n",
       "    </tr>\n",
       "    <tr>\n",
       "      <th rowspan=\"2\" valign=\"top\">23</th>\n",
       "      <th>F</th>\n",
       "      <td>163.0</td>\n",
       "      <td>20.564417</td>\n",
       "      <td>18.933945</td>\n",
       "      <td>8.0</td>\n",
       "      <td>12.00</td>\n",
       "      <td>16.0</td>\n",
       "      <td>23.00</td>\n",
       "      <td>199.0</td>\n",
       "    </tr>\n",
       "    <tr>\n",
       "      <th>M</th>\n",
       "      <td>205.0</td>\n",
       "      <td>18.941463</td>\n",
       "      <td>17.979740</td>\n",
       "      <td>4.0</td>\n",
       "      <td>10.00</td>\n",
       "      <td>12.0</td>\n",
       "      <td>22.00</td>\n",
       "      <td>131.0</td>\n",
       "    </tr>\n",
       "    <tr>\n",
       "      <th rowspan=\"2\" valign=\"top\">24</th>\n",
       "      <th>F</th>\n",
       "      <td>479.0</td>\n",
       "      <td>47.914405</td>\n",
       "      <td>49.112574</td>\n",
       "      <td>6.0</td>\n",
       "      <td>21.00</td>\n",
       "      <td>33.0</td>\n",
       "      <td>44.00</td>\n",
       "      <td>251.0</td>\n",
       "    </tr>\n",
       "    <tr>\n",
       "      <th>M</th>\n",
       "      <td>479.0</td>\n",
       "      <td>39.321503</td>\n",
       "      <td>42.003947</td>\n",
       "      <td>4.0</td>\n",
       "      <td>17.00</td>\n",
       "      <td>24.0</td>\n",
       "      <td>45.00</td>\n",
       "      <td>230.0</td>\n",
       "    </tr>\n",
       "  </tbody>\n",
       "</table>\n",
       "</div>"
      ],
      "text/plain": [
       "              count       mean        std  min    25%   50%    75%    max\n",
       "plot_id sex                                                              \n",
       "1       F     826.0  46.311138  33.240958  5.0  26.00  40.0  50.00  196.0\n",
       "        M    1072.0  55.950560  41.035686  4.0  37.00  46.0  54.00  231.0\n",
       "2       F     954.0  52.561845  45.547697  5.0  25.00  40.0  51.00  274.0\n",
       "        M    1114.0  51.391382  46.690887  5.0  24.00  42.0  50.00  278.0\n",
       "3       F     873.0  31.215349  30.687451  4.0  15.00  23.0  34.00  199.0\n",
       "        M     827.0  34.163241  40.260426  5.0  13.00  23.0  39.00  250.0\n",
       "4       F     850.0  46.818824  33.560664  5.0  28.00  40.0  47.00  200.0\n",
       "        M    1010.0  48.888119  32.254168  4.0  32.00  44.5  50.00  187.0\n",
       "5       F     516.0  40.974806  36.396966  5.0  21.00  35.0  45.00  248.0\n",
       "        M     573.0  40.708551  31.250967  6.0  21.00  40.0  49.00  240.0\n",
       "6       F     721.0  36.352288  29.513333  5.0  19.00  29.0  41.00  188.0\n",
       "        M     739.0  36.867388  30.867779  6.0  18.00  31.0  46.00  241.0\n",
       "7       F     326.0  20.006135  17.895937  6.0  12.00  17.0  23.00  170.0\n",
       "        M     303.0  21.194719  23.971252  4.0  11.00  17.0  23.00  235.0\n",
       "8       F     817.0  45.623011  31.045426  5.0  25.00  42.0  50.00  178.0\n",
       "        M     962.0  49.641372  34.820355  5.0  29.00  45.0  52.00  173.0\n",
       "9       F     823.0  53.618469  35.572793  6.0  35.00  43.0  54.00  177.0\n",
       "        M     984.0  49.519309  31.888023  6.0  37.00  46.0  50.00  275.0\n",
       "10      F     138.0  17.094203  14.074820  7.0  10.00  13.0  20.00  130.0\n",
       "        M     139.0  19.971223  25.061068  4.0  10.00  12.0  22.00  237.0\n",
       "11      F     796.0  43.515075  29.627049  5.0  27.00  40.0  46.00  208.0\n",
       "        M     994.0  43.366197  28.425105  6.0  25.00  43.0  49.00  212.0\n",
       "12      F    1040.0  49.831731  43.790247  6.0  26.00  41.0  48.25  264.0\n",
       "        M    1174.0  48.909710  39.301038  7.0  25.25  43.0  50.00  280.0\n",
       "13      F     610.0  40.524590  36.109806  5.0  21.00  31.0  42.00  192.0\n",
       "        M     757.0  40.097754  31.753448  6.0  20.00  34.0  47.00  241.0\n",
       "14      F     692.0  47.355491  29.563455  5.0  37.00  43.0  48.00  211.0\n",
       "        M    1029.0  45.159378  25.272173  5.0  35.00  44.0  50.00  222.0\n",
       "15      F     467.0  26.670236  31.983137  4.0  12.50  18.0  26.00  198.0\n",
       "        M     401.0  27.523691  38.631271  4.0  10.00  18.0  25.00  259.0\n",
       "16      F     211.0  25.810427  20.902314  4.0  13.00  21.0  31.00  158.0\n",
       "        M     265.0  23.811321  14.663726  5.0  11.00  20.0  35.00   61.0\n",
       "17      F     874.0  48.176201  37.485528  6.0  27.00  41.0  49.00  192.0\n",
       "        M    1011.0  47.558853  34.082010  4.0  27.00  45.0  51.00  216.0\n",
       "18      F     740.0  36.963514  35.184417  5.0  17.00  28.5  40.00  212.0\n",
       "        M     607.0  43.546952  41.864279  7.0  18.00  33.0  48.00  256.0\n",
       "19      F     514.0  21.978599  14.008822  6.0  12.00  20.0  29.00  139.0\n",
       "        M     567.0  20.306878  12.553954  4.0  10.00  19.0  25.00  100.0\n",
       "20      F     631.0  52.624406  55.257665  5.0  17.00  30.0  48.00  220.0\n",
       "        M     588.0  44.197279  43.361503  5.0  17.00  34.0  47.00  223.0\n",
       "21      F     596.0  25.974832  22.619863  4.0  11.00  24.0  31.00  188.0\n",
       "        M     431.0  22.772622  18.984554  4.0   9.00  19.0  32.00  190.0\n",
       "22      F     646.0  53.647059  38.588538  5.0  29.00  39.0  54.00  161.0\n",
       "        M     648.0  54.572531  38.841066  6.0  31.00  44.0  53.00  212.0\n",
       "23      F     163.0  20.564417  18.933945  8.0  12.00  16.0  23.00  199.0\n",
       "        M     205.0  18.941463  17.979740  4.0  10.00  12.0  22.00  131.0\n",
       "24      F     479.0  47.914405  49.112574  6.0  21.00  33.0  44.00  251.0\n",
       "        M     479.0  39.321503  42.003947  4.0  17.00  24.0  45.00  230.0"
      ]
     },
     "execution_count": 25,
     "metadata": {},
     "output_type": "execute_result"
    }
   ],
   "source": [
    "grouped_data = surveys_df.groupby(['plot_id', 'sex'])\n",
    "grouped_data[\"weight\"].describe()"
   ]
  },
  {
   "cell_type": "markdown",
   "id": "7eaf41fb",
   "metadata": {},
   "source": [
    "With the same grouped data we can count how many males and females we have per plot and visualise that as stacked bar plot:"
   ]
  },
  {
   "cell_type": "code",
   "execution_count": 29,
   "id": "9fb6cde6",
   "metadata": {},
   "outputs": [
    {
     "data": {
      "text/plain": [
       "<AxesSubplot:xlabel='plot_id,sex'>"
      ]
     },
     "execution_count": 29,
     "metadata": {},
     "output_type": "execute_result"
    },
    {
     "data": {
      "image/png": "[encoded data removed]",
      "text/plain": [
       "<Figure size 640x480 with 1 Axes>"
      ]
     },
     "metadata": {},
     "output_type": "display_data"
    }
   ],
   "source": [
    "grouped_data = surveys_df.groupby(['plot_id', 'sex'])\n",
    "grouped_data.size().plot(kind='bar')"
   ]
  },
  {
   "cell_type": "markdown",
   "id": "139c29cf",
   "metadata": {},
   "source": [
    "You see that you get for each key a bar. We can get a more insightful plot when we `unstack` the values for each key and only het the plot numbers as x-axis:"
   ]
  },
  {
   "cell_type": "code",
   "execution_count": null,
   "id": "a2330a0e",
   "metadata": {},
   "outputs": [],
   "source": [
    "grouped_data.size().unstack().plot(kind='bar')"
   ]
  },
  {
   "cell_type": "markdown",
   "id": "70c925fa",
   "metadata": {},
   "source": [
    "## Summary grouping\n",
    "Grouping is one of the most common operation in data analysis. Data often consists of different measurements on the same samples. In many cases we are not only interested in one particular measurement but in the cross product of measurements. In the picture below we labeled samples with green lines, blue dots and red lines. We are now interested how these three different groups relate to each other given the all other measurements in the dataframe. Pandas' groupby function gives us the means to compare these three groups with several built-in statistical methods."
   ]
  },
  {
   "cell_type": "markdown",
   "id": "dcaad2c1-a90f-43b1-9950-948209792458",
   "metadata": {
    "tags": []
   },
   "source": [
    "![Grouping sketch](images/grouping.jpeg)"
   ]
  },
  {
   "cell_type": "markdown",
   "id": "b0f1ab75",
   "metadata": {},
   "source": [
    "<div class=\"alert alert-block alert-success\">\n",
    "<b>Exercise 8 to 10</b>\n",
    "    \n",
    "Now go to the Jupyter Dashboard in your internet browser and continue with the afternoon exercises 8 to 10."
   ]
  },
  {
   "cell_type": "markdown",
   "id": "309b47cf",
   "metadata": {},
   "source": [
    "After you finished the exercises please come back to this document and continue with the [following chapter](data-science-with-pandas-3.ipynb)."
   ]
  }
 ],
 "metadata": {
  "kernelspec": {
   "display_name": "Python 3 (ipykernel)",
   "language": "python",
   "name": "python3"
  },
  "language_info": {
   "codemirror_mode": {
    "name": "ipython",
    "version": 3
   },
   "file_extension": ".py",
   "mimetype": "text/x-python",
   "name": "python",
   "nbconvert_exporter": "python",
   "pygments_lexer": "ipython3",
   "version": "3.10.8"
  }
 },
 "nbformat": 4,
 "nbformat_minor": 5
}
