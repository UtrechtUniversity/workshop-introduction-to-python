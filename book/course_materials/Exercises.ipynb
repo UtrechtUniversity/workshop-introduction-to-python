{
 "cells": [
  {
   "cell_type": "raw",
   "id": "9131db72-c829-4fa8-9782-b276427a6b8e",
   "metadata": {},
   "source": [
    "---\n",
    "title: \"Exercises\"\n",
    "execute: \n",
    "  enabled: false\n",
    "---"
   ]
  },
  {
   "cell_type": "markdown",
   "id": "d115b478-8559-4ae3-bcf8-e28bd4843748",
   "metadata": {},
   "source": [
    "## Exercises\n",
    "### Exercise 0\n",
    "Try to run this code. Why is there no output?"
   ]
  },
  {
   "cell_type": "code",
   "execution_count": null,
   "id": "5b2453e4-d68b-49ad-85b1-1d28e94e54a7",
   "metadata": {},
   "outputs": [],
   "source": [
    "x = 6\n",
    "apple = \"apple\""
   ]
  },
  {
   "cell_type": "markdown",
   "id": "85ae09a4-fc20-4dd4-b92d-d0691840a1e7",
   "metadata": {},
   "source": [
    "### Exercise 1\n",
    "1. Calculate: One plus five divided by nine.\n",
    "2. Assign the result of the calculation to a variable.\n",
    "3. Test  if the result is larger than one.\n",
    "4. Round off the result to one decimal. Use the function `round`."
   ]
  },
  {
   "cell_type": "code",
   "execution_count": null,
   "id": "213bb42c-0632-4584-9c37-5407892bfa59",
   "metadata": {},
   "outputs": [],
   "source": [
    "s = \n",
    "round(FILL_IN)"
   ]
  },
  {
   "cell_type": "markdown",
   "id": "8f57f0f8-400f-4922-b2ab-602b463d4a64",
   "metadata": {},
   "source": [
    "### Exercise 2\n",
    "Predict the results:"
   ]
  },
  {
   "cell_type": "code",
   "execution_count": null,
   "id": "c3e04e72-a4e7-4599-a8d4-759e4031d7a1",
   "metadata": {},
   "outputs": [],
   "source": [
    "5 == 5\n",
    "not 3 > 2\n",
    "True == 'True'\n",
    "False < True"
   ]
  },
  {
   "cell_type": "markdown",
   "id": "7c7cfb9e-63c1-42e0-a2fc-97d5b399d103",
   "metadata": {},
   "source": [
    "### Exercise 3: variables and operators\n",
    "Evaluate the statements below. What do you think will be the output of python? Do you agree with python?"
   ]
  },
  {
   "cell_type": "code",
   "execution_count": null,
   "id": "20427367-d74a-4e22-9a64-975d46a966cc",
   "metadata": {},
   "outputs": [],
   "source": [
    "1 + 1\n",
    "1 + True\n",
    "1 + \"one\""
   ]
  },
  {
   "cell_type": "markdown",
   "id": "9a563334-42f1-4f7c-b4bc-abe5d2bdb17d",
   "metadata": {},
   "source": [
    "### Exercise 4\n",
    "Meet Ann, Bob, Chloe, and Dan. \n",
    "1. Create a list with their names. Save the list as \"name\".\n",
    "\n",
    "2.  How old are Ann, Bob, Chloe, and Dan? You decide! Design a numeric list with their respective ages. Save it as \"age\".\n",
    "\n",
    "3.  What is their average age? (Use the function `sum` to sum up their cumulative ages, you can use `len(age)` to get the number of elements in a list)"
   ]
  },
  {
   "cell_type": "code",
   "execution_count": null,
   "id": "6d12ffce-0492-4b91-88b6-d657bbeffe2f",
   "metadata": {},
   "outputs": [],
   "source": []
  },
  {
   "cell_type": "markdown",
   "id": "a50a2811-dbd5-492b-9ece-c6b843cd63c9",
   "metadata": {},
   "source": [
    "### Exercise 5\n",
    "1.  Return only the first number in the list age.\n",
    "2.  Return the 2nd and 4th name in your list name.\n",
    "3.  Return only ages under 30 from your list age.\n",
    "4.  Return the name \"Chloe\" from the list name."
   ]
  },
  {
   "cell_type": "code",
   "execution_count": null,
   "id": "16493f46-bf2e-4325-b47d-8aa2d72c8280",
   "metadata": {},
   "outputs": [],
   "source": []
  },
  {
   "cell_type": "markdown",
   "id": "eeb9678b",
   "metadata": {},
   "source": [
    "### Exercise 6\n",
    "- Create a new dictionary\n",
    "- Print the values of the dictionary to the screen\n",
    "- Reassign the value of one key to 2\n",
    "- Print the values of the dictionary to the screen again to see if the value has changed."
   ]
  },
  {
   "cell_type": "markdown",
   "id": "c33325c9-3469-44c9-a8d3-290c63554f73",
   "metadata": {},
   "source": [
    "### Exercise 7\n",
    "Make an if statement that tests if a number is even, and saves the classification in a variable called `number_class`."
   ]
  },
  {
   "cell_type": "code",
   "execution_count": null,
   "id": "dc3bc782-bc32-4314-b1d9-87836eefc2ae",
   "metadata": {},
   "outputs": [],
   "source": [
    "number = 5\n"
   ]
  },
  {
   "cell_type": "markdown",
   "id": "1a8d4170-436d-439c-a7a9-d7e4129451a4",
   "metadata": {},
   "source": [
    "### Exercise 8\n",
    "Turn the if statement from the last exercise into a function. Let the user provide the value for `number`, and return the `number_class`."
   ]
  },
  {
   "cell_type": "code",
   "execution_count": null,
   "id": "204e89ac-af75-4c99-8caf-cf591b7d037f",
   "metadata": {},
   "outputs": [],
   "source": []
  },
  {
   "cell_type": "code",
   "execution_count": null,
   "id": "577e90fd-5fe7-4104-a879-1c138e7bd041",
   "metadata": {},
   "outputs": [],
   "source": [
    "# Run this code to test your function aboce\n",
    "number = 5\n",
    "print(number, \"is\", even_or_odd(number))"
   ]
  },
  {
   "cell_type": "markdown",
   "id": "1c8b2079-30ff-46de-bcc4-90068e025573",
   "metadata": {},
   "source": [
    "### Exercise 9 \n",
    "Use the function above to determine whether the numbers between 1 and 10 are even or odd."
   ]
  },
  {
   "cell_type": "code",
   "execution_count": null,
   "id": "47cd7a85-97c6-4389-8cc3-995e5dc7c33a",
   "metadata": {},
   "outputs": [],
   "source": []
  }
 ],
 "metadata": {
  "kernelspec": {
   "display_name": "Python 3 (ipykernel)",
   "language": "python",
   "name": "python3"
  },
  "language_info": {
   "codemirror_mode": {
    "name": "ipython",
    "version": 3
   },
   "file_extension": ".py",
   "mimetype": "text/x-python",
   "name": "python",
   "nbconvert_exporter": "python",
   "pygments_lexer": "ipython3",
   "version": "3.10.8"
  }
 },
 "nbformat": 4,
 "nbformat_minor": 5
}
