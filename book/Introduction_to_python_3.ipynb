{
 "cells": [
  {
   "cell_type": "raw",
   "id": "ad9cbe6c",
   "metadata": {},
   "source": [
    "---\n",
    "title: \"Data types, if-statements and for-loops \"\n",
    "execute:   \n",
    "  enabled: true\n",
    "  error: true\n",
    "  freeze: auto\n",
    "---\n"
   ]
  },
  {
   "cell_type": "markdown",
   "id": "3e6d1053",
   "metadata": {},
   "source": [
    "## The if-statement\n",
    "\n",
    "If statements can be used to perform tasks only when a certain condition is met."
   ]
  },
  {
   "cell_type": "code",
   "execution_count": null,
   "id": "a1aa1488",
   "metadata": {},
   "outputs": [],
   "source": [
    "num = 101\n",
    "\n",
    "if num > 100:\n",
    "    print('number is greater than 100')"
   ]
  },
  {
   "cell_type": "markdown",
   "id": "6ee18a17-f066-4c90-8fa2-45f1bcf92636",
   "metadata": {},
   "source": [
    "As you can see, the line `print(...)` starts with 4 spaces indentation.\n",
    "In Python indentation is very important. Python uses indentation to determine which lines of code belong to what part of the code. This is mostly important when defining e.g. if-statements, for loops or functions. After the if condition, all lines with indentation are only performed when the if-condition is met."
   ]
  },
  {
   "cell_type": "code",
   "execution_count": null,
   "id": "049e9f99-4352-4bb6-86e5-e5535974cf18",
   "metadata": {},
   "outputs": [],
   "source": [
    "num = 99\n",
    "if num > 100:\n",
    "    print('This line is only executed when num > 100')\n",
    "    print('This line is only executed when num > 100')\n",
    "    \n",
    "    print('This line is only executed when num > 100')\n",
    "    \n",
    "print('This line is always executed')"
   ]
  },
  {
   "cell_type": "markdown",
   "id": "c68ae1f9-746e-4fd8-82c6-e3f11a195842",
   "metadata": {},
   "source": [
    "It is also possible to specify a task that is performed when the condition is not met using `else` (note the use of indentation):"
   ]
  },
  {
   "cell_type": "code",
   "execution_count": null,
   "id": "6df68b58-a1eb-4077-8b21-e60c82d5581f",
   "metadata": {},
   "outputs": [],
   "source": [
    "num = 37\n",
    "\n",
    "if num > 100:\n",
    "    print('number is greater than 100')\n",
    "else:\n",
    "    print('number is not greater than 100')\n",
    "\n",
    "print('done')"
   ]
  },
  {
   "cell_type": "markdown",
   "id": "68fde7fc-004d-4da6-ae47-ad8e49a9ca29",
   "metadata": {},
   "source": [
    "An `if ... else` statement can be extended with (one or more) `elif` to specify more tasks that need to be performed on other conditions. These extended `if ... else` statements always start with `if` followed by (one or more) `elif`. When an `else` statement is included it is always the last statement. \n",
    "\n",
    "**Order matters**:\n",
    "The statements (or conditions) are checked in order from top to bottom and only the task belonging to the first condition that is met is being performed. "
   ]
  },
  {
   "cell_type": "code",
   "execution_count": null,
   "id": "9d290217",
   "metadata": {},
   "outputs": [],
   "source": [
    "num = -3\n",
    "\n",
    "if num > 0:\n",
    "    print(num, 'is positive')\n",
    "elif num == 0:\n",
    "    print(num, 'is zero')\n",
    "else:\n",
    "    print(num, 'is negative')"
   ]
  },
  {
   "cell_type": "markdown",
   "id": "4d724d00",
   "metadata": {},
   "source": [
    "Along with the `>` and `==` comparison operators that we have already used for comparing values in our logical expressions above, there are a few more options to know about:\n",
    "\n",
    "- \\>: greater than\n",
    "- \\<: less than\n",
    "- ==: equal to\n",
    "- !=: does not equal\n",
    "- \\>=: greater than or equal to\n",
    "- \\<=: less than or equal to\n",
    "\n",
    "We can combine logical statements using `and` and `or` in more complex conditions in if statements."
   ]
  },
  {
   "cell_type": "code",
   "execution_count": null,
   "id": "c67b6d9c",
   "metadata": {},
   "outputs": [],
   "source": [
    "if (1 < 0) or (1 >= 0):\n",
    "    print('at least one the above logical statements is true')"
   ]
  },
  {
   "cell_type": "markdown",
   "id": "a84f2112",
   "metadata": {},
   "source": [
    "While `and` is only true if both parts are true"
   ]
  },
  {
   "cell_type": "code",
   "execution_count": null,
   "id": "660a283a",
   "metadata": {},
   "outputs": [],
   "source": [
    "if (1 < 0) and (1 >= 0):\n",
    "    print('both tests are true')\n",
    "else:\n",
    "    print('at least one of the tests is not true')"
   ]
  },
  {
   "cell_type": "markdown",
   "id": "fb4caf19",
   "metadata": {},
   "source": [
    "## Lists\n",
    "\n",
    "Until now we have worked with values and variables that hold one value or string. Now we will go into other data types that can combine multiple values or strings.\n",
    "\n",
    "Lists are common data structures to hold a sequence of elements. We can create a list by putting values inside square brackets and separating the values with commas."
   ]
  },
  {
   "cell_type": "code",
   "execution_count": null,
   "id": "cea874f3-0b53-4da0-be46-0b9aa193411a",
   "metadata": {},
   "outputs": [],
   "source": [
    "numbers = [1, 2, 3]\n",
    "print(numbers)"
   ]
  },
  {
   "cell_type": "markdown",
   "id": "b1982918-70d7-4e46-a08e-98fae5e451dc",
   "metadata": {},
   "source": [
    "Each element can be accessed by an index. The index of the first element in a list in Python is 0 (in some other programming languages that would be 1)."
   ]
  },
  {
   "cell_type": "code",
   "execution_count": null,
   "id": "e7939762-fa0c-457f-b421-2be164e4099e",
   "metadata": {},
   "outputs": [],
   "source": [
    "print(\"The first element in the list numbers is: \", numbers[0])"
   ]
  },
  {
   "cell_type": "code",
   "execution_count": null,
   "id": "116d2f00-5408-4c1b-9256-23a539e5d70f",
   "metadata": {},
   "outputs": [],
   "source": [
    "type(numbers)"
   ]
  },
  {
   "cell_type": "markdown",
   "id": "9e63054c-8c74-4e8c-ae6c-77258c0d481a",
   "metadata": {},
   "source": [
    "A total number of items in a list is called the 'length' and can be calculated using the `len()` function."
   ]
  },
  {
   "cell_type": "code",
   "execution_count": null,
   "id": "b992f7e9-303d-4519-9db4-7f4639c3c469",
   "metadata": {},
   "outputs": [],
   "source": [
    "len(numbers)"
   ]
  },
  {
   "cell_type": "markdown",
   "id": "b39d39e9-8ea2-49d4-aa03-8c17dbf6e32e",
   "metadata": {},
   "source": [
    "You can do various things with lists. E.g. it is possible to sum the items in a list (when the items are all numbers)"
   ]
  },
  {
   "cell_type": "code",
   "execution_count": null,
   "id": "c46939bd-ec7c-4181-be01-152fae839979",
   "metadata": {},
   "outputs": [],
   "source": [
    "print(\"The sum of the items in the list is:\", sum(numbers))\n",
    "print(\"The mean of the items in the list is:\", sum(numbers)/len(numbers))"
   ]
  },
  {
   "cell_type": "markdown",
   "id": "444c9a0f",
   "metadata": {},
   "source": [
    "What happens here:"
   ]
  },
  {
   "cell_type": "code",
   "execution_count": null,
   "id": "129ffb4e",
   "metadata": {},
   "outputs": [],
   "source": [
    "numbers[3]"
   ]
  },
  {
   "cell_type": "markdown",
   "id": "eb50ca9d-bb63-4f29-a9fe-bbfc87509112",
   "metadata": {},
   "source": [
    "This error is expected. The list consists of three items, and the indices of those items are 0, 1 and 2."
   ]
  },
  {
   "cell_type": "code",
   "execution_count": null,
   "id": "91ab00dd-82d6-4bb4-ab70-d05a58321aed",
   "metadata": {},
   "outputs": [],
   "source": [
    "numbers[-1]"
   ]
  },
  {
   "cell_type": "markdown",
   "id": "b2af74e5",
   "metadata": {},
   "source": [
    "Yes, we can use negative numbers as indices in Python. When we do so, the index -1 gives us the last element in the list, -2 the second to last, and so on. Because of this, numbers[2] and numbers[-1] point to the same element."
   ]
  },
  {
   "cell_type": "code",
   "execution_count": null,
   "id": "487fffa5-baea-4d2a-8f17-599c49b99bd4",
   "metadata": {},
   "outputs": [],
   "source": [
    "numbers[2] == numbers[-1]"
   ]
  },
  {
   "cell_type": "markdown",
   "id": "3f597334-78e8-4d14-bbde-2561fde8249a",
   "metadata": {},
   "source": [
    "It is also possible to combine strings in a list:"
   ]
  },
  {
   "cell_type": "code",
   "execution_count": null,
   "id": "5921ff34-9b29-41f8-8b79-f7c83825a1bc",
   "metadata": {},
   "outputs": [],
   "source": [
    "words = [\"cat\", \"dog\", \"horse\"]\n",
    "words[1]"
   ]
  },
  {
   "cell_type": "code",
   "execution_count": null,
   "id": "54931563-062d-4c08-bc74-8531e7e77fa4",
   "metadata": {},
   "outputs": [],
   "source": [
    "type(words)"
   ]
  },
  {
   "cell_type": "code",
   "execution_count": null,
   "id": "8af1ff46-79b8-4267-9fd6-b18675a32176",
   "metadata": {},
   "outputs": [],
   "source": [
    "if type(words) == type(numbers):\n",
    "    print(\"these variables have the same type!\")"
   ]
  },
  {
   "cell_type": "markdown",
   "id": "978330c7-3052-4f3f-a61a-631882c61086",
   "metadata": {},
   "source": [
    "It is also possible to combine values of different type (e.g. strings and integers) in a list"
   ]
  },
  {
   "cell_type": "code",
   "execution_count": null,
   "id": "278297c8-9f31-4d6a-9240-d48f2ef58c46",
   "metadata": {},
   "outputs": [],
   "source": [
    "newlist = [\"cat\", 1, \"horse\"]"
   ]
  },
  {
   "cell_type": "markdown",
   "id": "75e80e4d-4909-4b05-b0bf-867eb2037e44",
   "metadata": {},
   "source": [
    "The type of the variable newlist is `list`. The elements of the list have their own data type:"
   ]
  },
  {
   "cell_type": "code",
   "execution_count": null,
   "id": "60a83e89-d957-4c64-992d-bb3addb0f379",
   "metadata": {},
   "outputs": [],
   "source": [
    "type(newlist[0])"
   ]
  },
  {
   "cell_type": "code",
   "execution_count": null,
   "id": "119ef66d-9ede-403f-9cec-53519279309f",
   "metadata": {},
   "outputs": [],
   "source": [
    "type(newlist[1])"
   ]
  },
  {
   "cell_type": "markdown",
   "id": "9bfc181d-fd73-4b82-8535-82e138198857",
   "metadata": {},
   "source": [
    "It is possible to add numbers to an existing list using `list.append()`"
   ]
  },
  {
   "cell_type": "code",
   "execution_count": null,
   "id": "4b606624-c1d8-4fd2-a5e4-99d07ce16fb6",
   "metadata": {},
   "outputs": [],
   "source": [
    "numbers.append(4)\n",
    "print(numbers)"
   ]
  },
  {
   "cell_type": "markdown",
   "id": "5590d608-d790-4848-9fcb-bdf2c072099f",
   "metadata": {},
   "source": [
    "Using the index of an item, you can replace the item in a list:"
   ]
  },
  {
   "cell_type": "code",
   "execution_count": null,
   "id": "0cfd9b28-3e7e-4dfb-9c62-20ddfabc84c0",
   "metadata": {},
   "outputs": [],
   "source": [
    "numbers[2] = 333\n",
    "print(numbers)"
   ]
  },
  {
   "cell_type": "markdown",
   "id": "ffc6909c",
   "metadata": {},
   "source": [
    "Now what do you do if you do not know the index but you know the value of an item that you want to find in a list. How to find out at which position the value is listed?"
   ]
  },
  {
   "cell_type": "code",
   "execution_count": null,
   "id": "7aa66e4f",
   "metadata": {},
   "outputs": [],
   "source": [
    "index = newlist.index(\"cat\")\n",
    "print(\"'cat' can be found at index\", index)\n",
    "print(newlist[index])"
   ]
  },
  {
   "cell_type": "markdown",
   "id": "12906bc8",
   "metadata": {},
   "source": [
    "## Tuples\n",
    "A tuple is similar to a list in that it’s a sequence of elements. However, tuples can not be changed once created (they are “immutable”). Tuples are created by placing comma-separated values inside parentheses `()` (instead of square brackets `[]`)."
   ]
  },
  {
   "cell_type": "code",
   "execution_count": null,
   "id": "9d5eb778-c201-492c-85c4-2c2b4fdcc553",
   "metadata": {},
   "outputs": [],
   "source": [
    "# Tuples use parentheses\n",
    "a_tuple = (1, 2, 3)\n",
    "another_tuple = ('blue', 'green', 'red')\n",
    "\n",
    "# Note: lists use square brackets\n",
    "a_list = [1, 2, 3]\n"
   ]
  },
  {
   "cell_type": "code",
   "execution_count": null,
   "id": "9cbb5fc6-dccb-4642-8bff-a6bc6ddbf589",
   "metadata": {},
   "outputs": [],
   "source": [
    "a_list[1] = 5\n",
    "print(a_list)"
   ]
  },
  {
   "cell_type": "code",
   "execution_count": null,
   "id": "a947a9b1-3c29-4f26-8b8f-e73ed24b2719",
   "metadata": {},
   "outputs": [],
   "source": [
    "a_tuple[1] = 5\n",
    "print(a_tuple)"
   ]
  },
  {
   "cell_type": "markdown",
   "id": "d0730def",
   "metadata": {},
   "source": [
    "Here we see that once the tuple is created, we cannot replace any of the values inside of the tuple."
   ]
  },
  {
   "cell_type": "code",
   "execution_count": null,
   "id": "a69d8a6b-c210-4a5b-b992-e8e0ff100f5e",
   "metadata": {},
   "outputs": [],
   "source": [
    "type(a_tuple)"
   ]
  },
  {
   "cell_type": "markdown",
   "id": "fa0bcd43",
   "metadata": {},
   "source": [
    "## Dictionaries\n",
    "\n",
    "A dictionary is another way to store multiple items into one object. In dictionaries, however, this is done with keys and values. This can be useful for several reasons, one example is to store model settings, parameters or variable values for multiple scenarios."
   ]
  },
  {
   "cell_type": "code",
   "execution_count": null,
   "id": "af7de939-cb7e-4b61-84ff-099fcb3aa1c3",
   "metadata": {},
   "outputs": [],
   "source": [
    "my_dict = {'one': 'first', 'two': 'second'}\n",
    "my_dict"
   ]
  },
  {
   "cell_type": "markdown",
   "id": "1ce18694",
   "metadata": {},
   "source": [
    "We can access dictionary items by their key:"
   ]
  },
  {
   "cell_type": "code",
   "execution_count": null,
   "id": "0dc3089d-8e62-4f7b-a1b4-1213256e1736",
   "metadata": {},
   "outputs": [],
   "source": [
    "my_dict['one']"
   ]
  },
  {
   "cell_type": "markdown",
   "id": "9d34f2aa",
   "metadata": {},
   "source": [
    "And we can add new key-value pairs like that:"
   ]
  },
  {
   "cell_type": "code",
   "execution_count": null,
   "id": "f79a1c16-8bc9-4447-b9c5-11b7a75c6de4",
   "metadata": {},
   "outputs": [],
   "source": [
    "my_dict['third'] = 'three'\n",
    "my_dict"
   ]
  },
  {
   "cell_type": "markdown",
   "id": "1043ec01",
   "metadata": {},
   "source": [
    "Dictionary items are key-value pairs. The keys are changeable and unique. The values are changable, but not necessarily unique."
   ]
  },
  {
   "cell_type": "code",
   "execution_count": null,
   "id": "bf9cdfe6",
   "metadata": {},
   "outputs": [],
   "source": [
    "my_dict['two'] = 'three'\n",
    "my_dict"
   ]
  },
  {
   "cell_type": "code",
   "execution_count": null,
   "id": "85e1252b",
   "metadata": {},
   "outputs": [],
   "source": [
    "print(\"Dictionary keys: \", my_dict.keys())\n",
    "print(\"Dictionary values: \", my_dict.values())\n",
    "print(\"Dictionary items (key, value): \", my_dict.items())"
   ]
  },
  {
   "cell_type": "markdown",
   "id": "07f1b819-f558-4566-ad6d-6c154d3e59c6",
   "metadata": {},
   "source": [
    "## For loops\n",
    "Let's have a look at our list again. One way to print each number is to use three print statements:"
   ]
  },
  {
   "cell_type": "code",
   "execution_count": null,
   "id": "0db2ec1b-18cf-4f98-a7e2-f0ae1edb048a",
   "metadata": {},
   "outputs": [],
   "source": [
    "numbers = [5, 6, 7]\n",
    "print(numbers[0])\n",
    "print(numbers[1])\n",
    "print(numbers[2])"
   ]
  },
  {
   "cell_type": "markdown",
   "id": "aba74de1",
   "metadata": {},
   "source": [
    "A more efficient (less typing) and reliable way to print each element of a list is to loop over the list using a for loop:"
   ]
  },
  {
   "cell_type": "code",
   "execution_count": null,
   "id": "3ad3e726-f819-4fba-a753-9b70875239fe",
   "metadata": {},
   "outputs": [],
   "source": [
    "for item in numbers:\n",
    "    print(item)"
   ]
  },
  {
   "cell_type": "markdown",
   "id": "b6f37810",
   "metadata": {},
   "source": [
    "The improved version uses a for loop to repeat an operation — in this case, printing — once for each item in a sequence. Note that (similar to if statements) Python needs indentation (4 whitespaces) to determine which lines of code are part of the for loop.\n",
    "\n",
    "If we want to also get the index, we can use the built-in function enumerate:"
   ]
  },
  {
   "cell_type": "code",
   "execution_count": null,
   "id": "ae62df9f-8f62-415a-8642-69497b118828",
   "metadata": {},
   "outputs": [],
   "source": [
    "words = [\"cat\", \"dog\", \"horse\"]\n",
    "\n",
    "for index, item in enumerate(words):\n",
    "    print(index)\n",
    "    print(item)"
   ]
  },
  {
   "cell_type": "markdown",
   "id": "fc246d94",
   "metadata": {},
   "source": [
    "For loops can also be used with dictionaries. Let's take our dictionary from the previous section and inspect the dictionary items"
   ]
  },
  {
   "cell_type": "code",
   "execution_count": null,
   "id": "9c13f5e0-008e-4f84-9414-9a0d7d5c0daa",
   "metadata": {},
   "outputs": [],
   "source": [
    "for item in my_dict.items():\n",
    "    print(item, \"is of type\", type(item))"
   ]
  },
  {
   "cell_type": "markdown",
   "id": "655e7369",
   "metadata": {},
   "source": [
    "We can extract the keys and values from the items directly in the `for` statement:"
   ]
  },
  {
   "cell_type": "code",
   "execution_count": null,
   "id": "9c238dad",
   "metadata": {},
   "outputs": [],
   "source": [
    "for key, value in my_dict.items():\n",
    "    print(key, \"->\", value)"
   ]
  },
  {
   "cell_type": "markdown",
   "id": "1cd24a8f",
   "metadata": {},
   "source": [
    "<div class=\"alert alert-block alert-success\">\n",
    "<b>Exercises</b>\n",
    "    \n",
    "Now go back to your browser to morning_exercises.ipynb and continue with exercises 4-7.\n",
    "\n",
    "When you finished the exercises, continue to chapter [Write your own Python function](Introduction_to_python_4.ipynb)\n",
    "</div>"
   ]
  }
 ],
 "metadata": {
  "kernelspec": {
   "display_name": "Python 3 (ipykernel)",
   "language": "python",
   "name": "python3"
  },
  "language_info": {
   "codemirror_mode": {
    "name": "ipython",
    "version": 3
   },
   "file_extension": ".py",
   "mimetype": "text/x-python",
   "name": "python",
   "nbconvert_exporter": "python",
   "pygments_lexer": "ipython3",
   "version": "3.11.0"
  }
 },
 "nbformat": 4,
 "nbformat_minor": 5
}
