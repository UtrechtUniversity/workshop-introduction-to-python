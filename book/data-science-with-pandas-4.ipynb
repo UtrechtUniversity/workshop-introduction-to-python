{
 "cells": [
  {
   "cell_type": "raw",
   "id": "641d7895",
   "metadata": {},
   "source": [
    "---\n",
    "title: \"Data Science with Pandas (part 4: Data Visualization)\"\n",
    "format: html\n",
    "execute: \n",
    "  enabled: true\n",
    "  error: true\n",
    "  freeze: auto\n",
    "---"
   ]
  },
  {
   "cell_type": "markdown",
   "id": "ad508f54",
   "metadata": {},
   "source": [
    "## Data Visualization\n"
   ]
  },
  {
   "cell_type": "markdown",
   "id": "2b3adea8",
   "metadata": {},
   "source": [
    "The most popular python library for creatic static, animated, and interactive visualization in Python is <a url=\"https://matplotlib.org/\">Matplotlib</a>. As its name suggests, Matplotlib was initially developed to emulate MATLAB (a non-open source programming language) graphics commands, but it is fully independent of MATLAB and, as you can see, it is designed to fully interface with python objects."
   ]
  },
  {
   "cell_type": "markdown",
   "id": "869a4d47",
   "metadata": {},
   "source": [
    "The first thing to do is importing the module <code>pyplot</code> from the <code>matplotlib</code> library. As with many of our previous imports, we import the module under an alternate, shorter, name for convenience. Finally, we specify the command <code>%matplotlib inline</code> so that, when plotting, Jupyter Notebook will not display the plots into new windows, but in the notebook itself."
   ]
  },
  {
   "cell_type": "code",
   "execution_count": null,
   "id": "abd10e1f",
   "metadata": {},
   "outputs": [],
   "source": [
    "import matplotlib.pyplot as plt\n",
    "%matplotlib inline"
   ]
  },
  {
   "cell_type": "markdown",
   "id": "0affba0d",
   "metadata": {},
   "source": [
    "### Plotting pandas DataFrames"
   ]
  },
  {
   "cell_type": "markdown",
   "id": "691b69d1",
   "metadata": {},
   "source": [
    "Let's start reading some data and plotting it. Pandas DataFrames integrate many matplotlib functionalities in their methods, one of these methods is ```plot```. Specifying as a first and second argument our x and y axis respectively, and specifying the kind of plot we want, we can quickly visualise how our data looks like."
   ]
  },
  {
   "cell_type": "code",
   "execution_count": null,
   "id": "8fc66bab",
   "metadata": {},
   "outputs": [],
   "source": [
    "surveys = pd.read_csv(\"../data/surveys.csv\")\n",
    "my_plot = surveys.plot(\"hindfoot_length\", \"weight\", kind=\"scatter\")"
   ]
  },
  {
   "cell_type": "markdown",
   "id": "76dca310",
   "metadata": {},
   "source": [
    "<div class=\"alert alert-block alert-success\">\n",
    "<b>TRY IT YOURSELF</b>: Time to play with plots! Look at the pandas.DataFrame.plot() documentation (<a url=\"https://pandas.pydata.org/docs/reference/api/pandas.DataFrame.plot.html\">here</a>) and change your data visualization selecting different DataFrame columns, x and y axes, and kind of plot (try at least three different kind of plots).\n",
    "</div>"
   ]
  },
  {
   "cell_type": "code",
   "execution_count": null,
   "id": "a3841ecd",
   "metadata": {},
   "outputs": [],
   "source": []
  },
  {
   "cell_type": "markdown",
   "id": "295fd8d9",
   "metadata": {},
   "source": [
    "### Plotting general data"
   ]
  },
  {
   "cell_type": "markdown",
   "id": "8e50a9d2",
   "metadata": {},
   "source": [
    "In the next example we will generate our own data getting 1000 normally distributed data points. "
   ]
  },
  {
   "cell_type": "code",
   "execution_count": null,
   "id": "64501d1f",
   "metadata": {},
   "outputs": [],
   "source": [
    "import numpy as np\n",
    "sample_data = np.random.normal(0, 0.1, 1000)"
   ]
  },
  {
   "cell_type": "markdown",
   "id": "f2e417d7",
   "metadata": {},
   "source": [
    "This time we will use the ```pyplot``` method hist to compute and visualise a histogram of our data."
   ]
  },
  {
   "cell_type": "code",
   "execution_count": null,
   "id": "54f6c501",
   "metadata": {},
   "outputs": [],
   "source": [
    "plt.hist(sample_data)"
   ]
  },
  {
   "cell_type": "markdown",
   "id": "8573a8b3",
   "metadata": {},
   "source": [
    "### Matplotlib plot hierarchy"
   ]
  },
  {
   "cell_type": "markdown",
   "id": "8affa730",
   "metadata": {},
   "source": [
    "In the previous examples we generage very simple plots to have a quick look at the data. However, with Matplotlib you can control every aspect of your plot: its dimension, x and y ticks and label, making multi-plots in the same area, and many other graphical features."
   ]
  },
  {
   "cell_type": "markdown",
   "id": "77702516",
   "metadata": {},
   "source": [
    "To get full control of the plots generated with Matplotlib.pyplot, it is important be aware of the hierarchy between pyplot main objects:\n",
    "<ul>\n",
    "    <li>At the higher level we have a **Figure**. Figure is simply the total white space where you will organise your plots;</li>\n",
    "    <li>One of the most confusion Matplotlib convention is that single plots are called **Axes**. You can have a single Axes (still, with final \"s\") per Figure, so one plot per Figure (see Plot1 on the left) or multiple Axes per Figure, like in Plot2 (on the right) where the same Figure contains three plots distributed in two rows;</li>\n",
    "    <li>Finally, each Axes (aka plot) contains two **Axis**, i.e. x and y axis.</li>\n",
    "</ul>"
   ]
  },
  {
   "cell_type": "markdown",
   "id": "e491c583",
   "metadata": {},
   "source": [
    "<div>\n",
    "<img src=\"pictures/plot_hierarchy.jpeg\" width=\"800\"/>\n",
    "</div>"
   ]
  },
  {
   "cell_type": "markdown",
   "id": "60fdcc9f",
   "metadata": {},
   "source": [
    "To initiate at the same time a Figure and a Axes, we can use the method ```plt.subplots()```. Using only the default arguments (like in this first case), the methods will return a Figure and a single Axes object, i.e. a white window and a single plot at the center of it. We will assign to these two python objects the names *fig* and *ax*.<br>\n",
    "To plot data on our Axes (*as*) we will use the same plotting methods used in the previous examples. In this case, we will use ```hist()``` sampling the data in 30 bins."
   ]
  },
  {
   "cell_type": "code",
   "execution_count": null,
   "id": "654a5965",
   "metadata": {},
   "outputs": [],
   "source": [
    "fig, ax = plt.subplots()  # initiate an empty figure and axis matplotlib object\n",
    "ax.hist(sample_data, 30)"
   ]
  },
  {
   "cell_type": "markdown",
   "id": "5728d8fd",
   "metadata": {},
   "source": [
    "Once we defined a Figure and an Axes, we can add other Axes to our Figure to plot additional data in the same space. This can be done using ```fig.add_axes([left,bottom,right,top])``` where ```add_axes``` is a method that, indeed, ad an additional Axes to our Figure and its argument are the coordinates of our people. Default coordinate units are such that 0 corresponds to the beginning of an axis and 1 to its end. For examples, the list of coordinates [0.5,0.5,1,1] will locate the bottom left corner of our additional Axis at the very center of the Figure and its right top corner at the very top right corner of our Figure."
   ]
  },
  {
   "cell_type": "code",
   "execution_count": null,
   "id": "bc39ded3",
   "metadata": {},
   "outputs": [],
   "source": [
    "# prepare a matplotlib figure\n",
    "fig, ax1 = plt.subplots()\n",
    "ax1.hist(sample_data, 30)\n",
    "# add labels\n",
    "ax1.set_ylabel('density')\n",
    "ax1.set_xlabel('value')\n",
    "\n",
    "# define and sample beta distribution\n",
    "a = 5\n",
    "b = 10\n",
    "beta_draws = np.random.beta(a, b)\n",
    "\n",
    "# plot beta distribution\n",
    "# by adding additional axes to the figure\n",
    "ax2 = fig.add_axes([0.125, 0.575, 0.3, 0.3])\n",
    "#ax2 = fig.add_axes([left, bottom, right, top])\n",
    "ax2.hist(beta_draws)"
   ]
  },
  {
   "cell_type": "markdown",
   "id": "594ec053",
   "metadata": {},
   "source": [
    "Axes do not neet to be always added on the go, we can plan the structure of our Figure according to the number of plots we want to display in it. In the following example, we give some more arguments to ```plt.subplots()```. The first two arguments indicate the number of vertical and horizontal plots we want to fit in our Figure. In this case, we want one plot vertically (one row) and one row horizontally (two columns). As we want to be sure that there will be enough space for our two plots, we specify the size of the Figure, 12 inches long and 6 inches high (inches is the default size unit, but you can specify different ones).<br>\n",
    "Compared to our previous example, this time ```plt.subplots()``` returns a figure and a tuple of Axes. The number of these Axes depends on our orguments. In this case we want plots distributed in one row and two columns, so a total of 2 plots, therefore the returned Axes objects will be 2."
   ]
  },
  {
   "cell_type": "code",
   "execution_count": null,
   "id": "5cf9c01e",
   "metadata": {},
   "outputs": [],
   "source": [
    "# prepare a matplotlib figure\n",
    "fig, (ax1,ax2) = plt.subplots(1,2,figsize=(12,6))\n",
    "ax1.hist(sample_data, 30)\n",
    "# add labels\n",
    "ax1.set_ylabel('density')\n",
    "ax1.set_xlabel('value')\n",
    "\n",
    "# define and sample beta distribution\n",
    "a = 5\n",
    "b = 10\n",
    "beta_draws = np.random.beta(a, b)\n",
    "\n",
    "# plot beta distribution\n",
    "ax2.hist(beta_draws)"
   ]
  },
  {
   "cell_type": "markdown",
   "id": "67fe4c09",
   "metadata": {},
   "source": [
    "### Integrating pandas plot with matplotlib"
   ]
  },
  {
   "cell_type": "markdown",
   "id": "a7a51752",
   "metadata": {},
   "source": [
    "Let's now go back to our pandas DataFrames. We saw that we can quickly plot data from a pandas DataFrame, but what about I *already* have a Figure with Axes and I want to plot my Dataframe data in it? This examples will show you how."
   ]
  },
  {
   "cell_type": "code",
   "execution_count": null,
   "id": "54423a2b",
   "metadata": {},
   "outputs": [],
   "source": [
    "fig, ax1 = plt.subplots() # prepare a matplotlib figure\n",
    "\n",
    "surveys.plot(\"hindfoot_length\", \"weight\", kind=\"scatter\", ax=ax1)\n",
    "\n",
    "# Provide further adaptations with matplotlib:\n",
    "ax1.set_xlabel(\"Hindfoot length\")\n",
    "ax1.tick_params(labelsize=16, pad=8)\n",
    "fig.suptitle('Scatter plot of weight versus hindfoot length', fontsize=15)"
   ]
  },
  {
   "cell_type": "markdown",
   "id": "c998054b",
   "metadata": {},
   "source": [
    "As you could see, you just need to specify the argument ```ax=<my_figure_ax>``` to plot the DataFrame data in your Axes."
   ]
  },
  {
   "cell_type": "markdown",
   "id": "b4e03f30",
   "metadata": {},
   "source": [
    "<div class=\"alert alert-block alert-success\">\n",
    "<b>TRY IT YOURSELF</b>: Plot DataFrame data in a single Figure:\n",
    "        <ol>\n",
    "            <li>Initialize a Figure with 4 Axes distributed in two rows and two columns;</li>\n",
    "            <li>In each Axis plot DataFrame data of different columns (try also to use different kind of plots);</li>\n",
    "            <li>Make your Axes (plots) \"pretty\": label all your axes, use clear character font, choose a nice title for your plot. You may want to consult the <code>Axes.plot()</code> documentation for that (<a url=\"https://matplotlib.org/stable/api/_as_gen/matplotlib.axes.Axes.plot.html\"></a>).\n",
    "        </ol>\n",
    "</div>"
   ]
  }
 ],
 "metadata": {
  "kernelspec": {
   "display_name": "Python 3 (ipykernel)",
   "language": "python",
   "name": "python3"
  },
  "language_info": {
   "codemirror_mode": {
    "name": "ipython",
    "version": 3
   },
   "file_extension": ".py",
   "mimetype": "text/x-python",
   "name": "python",
   "nbconvert_exporter": "python",
   "pygments_lexer": "ipython3",
   "version": "3.8.12"
  },
  "toc": {
   "base_numbering": 1,
   "nav_menu": {},
   "number_sections": true,
   "sideBar": true,
   "skip_h1_title": false,
   "title_cell": "Table of Contents",
   "title_sidebar": "Contents",
   "toc_cell": false,
   "toc_position": {},
   "toc_section_display": true,
   "toc_window_display": true
  }
 },
 "nbformat": 4,
 "nbformat_minor": 5
}
