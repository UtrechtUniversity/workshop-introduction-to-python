{
 "cells": [
  {
   "cell_type": "raw",
   "id": "641d7895",
   "metadata": {},
   "source": [
    "---\n",
    "title: \"Data Science with Pandas (part 4: Data Visualization)\"\n",
    "format: html\n",
    "execute: \n",
    "  enabled: true\n",
    "---"
   ]
  },
  {
   "cell_type": "markdown",
   "id": "ad508f54",
   "metadata": {},
   "source": [
    "## Data Visualization\n"
   ]
  },
  {
   "cell_type": "markdown",
   "id": "4cc4f4e5-1e92-48da-bde7-9949409ec6b2",
   "metadata": {},
   "source": [
    "Visualizing data means representing information in a graphical or visual form. This form does not provide additional information to what we already have in the data, but it usually allows a more intuitive understanding and interpretation of the data. Whether you are a researcher ot not, being able to properly visualize data is an essential tool for data analysis, exploration, and communication. Data visualization is also fundamental to identify patterns, trends, and relationships that might not be immediately obvious from raw data."
   ]
  },
  {
   "cell_type": "markdown",
   "id": "2b3adea8",
   "metadata": {},
   "source": [
    "<a href=\"https://matplotlib.org/\">Matplotlib</a> is one of the most popular and widely-used data visualization libraries for Python programming language. It provides a comprehensive set of tools for creating a wide range of static, animated, and interactive visualizations, such as line plots, scatter plots, bar plots, histograms, heatmaps, and many more. As its name suggests, Matplotlib was initially developed to emulate MATLAB (a non-open source programming language) graphics commands, but it is fully independent of MATLAB and, as you will learn, it is designed to fully interface with python objects. "
   ]
  },
  {
   "cell_type": "markdown",
   "id": "a14d68f1-977e-433a-81d4-cf4ff4e7870b",
   "metadata": {},
   "source": [
    "Matplotlib is highly customizable and flexible, allowing users to fine-tune every aspect of the visualization, from the colors, fonts, and labels to the axes, legends, and annotations. Matplotlib can be used with other data analysis and manipulation libraries in Python, such as NumPy, Pandas, and SciPy, making it a powerful and versatile tool for data visualization and analysis."
   ]
  },
  {
   "cell_type": "markdown",
   "id": "fa9353a3-c09e-4240-8122-1eb58599b83d",
   "metadata": {},
   "source": [
    "## Preliminaries"
   ]
  },
  {
   "cell_type": "markdown",
   "id": "7f5c34ea-d1a9-4e28-9e77-356ddf349a5a",
   "metadata": {},
   "source": [
    "We begin importing the Pandas package as we did in the previous sessions:"
   ]
  },
  {
   "cell_type": "code",
   "execution_count": 3,
   "id": "47f56e57-aee5-42de-803e-629d72a6ebe7",
   "metadata": {},
   "outputs": [],
   "source": [
    "import pandas as pd"
   ]
  },
  {
   "cell_type": "markdown",
   "id": "869a4d47",
   "metadata": {},
   "source": [
    "The first thing to do to start visualizing data with python is importing the module <code>pyplot</code> from the <code>matplotlib</code> library. As with many of our previous imports, we import the module under an alternate shorter name for convenience. Finally, we specify the command <code>%matplotlib inline</code> so that, when plotting, Jupyter Notebook will not display the plots into new windows, but in the notebook itself."
   ]
  },
  {
   "cell_type": "code",
   "execution_count": 4,
   "id": "abd10e1f",
   "metadata": {},
   "outputs": [],
   "source": [
    "import matplotlib.pyplot as plt\n",
    "%matplotlib inline"
   ]
  },
  {
   "cell_type": "markdown",
   "id": "0affba0d",
   "metadata": {},
   "source": [
    "### Plotting pandas DataFrames"
   ]
  },
  {
   "cell_type": "markdown",
   "id": "691b69d1",
   "metadata": {},
   "source": [
    "Let's start reading some data and plotting it. Keep in mind that in python everything is an object and that each object has attributes and methods. Attribues are simple values associated with an object, attributes can be simple values, strings, arrays, or any other python data strucutre and are accessed with a dot and the name of the attribute: `object.attribute_name`. A method, on the other hand, is a function that is associated with an object. Methods are used to perform some action on the object or to return a value based on the object characteristics. Methods are ran with a dot, the name of the method, and all the necessary methods parameters inside parenthesis: `object.method_name()`. Pandas DataFrames integrate many matplotlib functionalities in their methods, one of these methods is ```plot()```. The method documentation can be found <a href=\"https://pandas.pydata.org/docs/reference/api/pandas.DataFrame.plot.html\">here</a>, on the page you will find all the available parameters to customize your plot. Specifying as a first and second argument which DataFrame columns to put in our x and y axis respectively, and indicating the kind of plot we want, we can quickly visualise how our data looks like."
   ]
  },
  {
   "cell_type": "code",
   "execution_count": 6,
   "id": "8fc66bab",
   "metadata": {},
   "outputs": [],
   "source": [
    "surveys = pd.read_csv(\"../data/surveys.csv\")"
   ]
  },
  {
   "cell_type": "code",
   "execution_count": 10,
   "id": "eabc29e9-4a97-4451-b818-3d6e16bcb330",
   "metadata": {},
   "outputs": [
    {
     "data": {
      "image/png": "[encoded data removed]",
      "text/plain": [
       "<Figure size 432x288 with 1 Axes>"
      ]
     },
     "metadata": {
      "needs_background": "light"
     },
     "output_type": "display_data"
    }
   ],
   "source": [
    "my_plot = surveys.plot(\"hindfoot_length\", \"weight\", kind=\"scatter\")"
   ]
  },
  {
   "cell_type": "markdown",
   "id": "76dca310",
   "metadata": {},
   "source": [
    "<div class=\"alert alert-block alert-success\">\n",
    "<b>TRY IT YOURSELF</b>: Time to play with plots! Look at the pandas.DataFrame.plot() documentation (<a href=\"https://pandas.pydata.org/docs/reference/api/pandas.DataFrame.plot.html\">here</a>) and change your data visualization selecting different DataFrame columns, x and y axes, and kind of plot (try at least three different plots).\n",
    "</div>"
   ]
  },
  {
   "cell_type": "markdown",
   "id": "295fd8d9",
   "metadata": {},
   "source": [
    "### Plotting general data"
   ]
  },
  {
   "cell_type": "markdown",
   "id": "8e50a9d2",
   "metadata": {},
   "source": [
    "In the next example we will generate our own data getting 1000 normally distributed data points. In order to obtaing that, we will first import the package `numpy`, a package used for scientific computing and data analysis. `numpy` has so many tools that these are organised into sub-packages. In particular, `numpy.random` contains very handy tools to work with random numbers and the function `np.random.normal()` generates normally distributed random numbers (numbers that follow a Gaussian distribution)."
   ]
  },
  {
   "cell_type": "code",
   "execution_count": 8,
   "id": "64501d1f",
   "metadata": {},
   "outputs": [],
   "source": [
    "import numpy as np\n",
    "sample_data = np.random.normal(0, 0.1, 10000)"
   ]
  },
  {
   "cell_type": "markdown",
   "id": "f2e417d7",
   "metadata": {},
   "source": [
    "In this case we are drawing 10000 points with 0 average and a standard deviation of 0.1. This time we will use the ```pyplot``` function `hist()` to compute and visualize a histogram of our data. When defining DataFrame plotting methods, pandas developers wanted to make our life easier using the same names and conventions used in `matplotlib`, so do not be surprised if the plotting functions of the package `matplotlib.pyplot` have the same name of pandas DataFrame methods (and viceversa). "
   ]
  },
  {
   "cell_type": "code",
   "execution_count": 12,
   "id": "54f6c501",
   "metadata": {},
   "outputs": [
    {
     "data": {
      "text/plain": [
       "(array([  15.,   90.,  447., 1364., 2416., 2740., 1858.,  834.,  198.,\n",
       "          38.]),\n",
       " array([-0.36903034, -0.29806438, -0.22709843, -0.15613248, -0.08516653,\n",
       "        -0.01420057,  0.05676538,  0.12773133,  0.19869728,  0.26966323,\n",
       "         0.34062919]),\n",
       " <BarContainer object of 10 artists>)"
      ]
     },
     "execution_count": 12,
     "metadata": {},
     "output_type": "execute_result"
    },
    {
     "data": {
      "image/png": "[encoded data removed]",
      "text/plain": [
       "<Figure size 432x288 with 1 Axes>"
      ]
     },
     "metadata": {
      "needs_background": "light"
     },
     "output_type": "display_data"
    }
   ],
   "source": [
    "plt.hist(sample_data)"
   ]
  },
  {
   "cell_type": "markdown",
   "id": "38c70742-0907-48f3-9da2-67502cfb6b2d",
   "metadata": {},
   "source": [
    "As we expected, the histogram is centered around 0 and we can already see the bell/Gaussian shape arising among the blocks. The default values of histogram bins (blocks) is 10, so we have 1000 points per bin, but we can change that specifying the parameter *bins*:"
   ]
  },
  {
   "cell_type": "code",
   "execution_count": 13,
   "id": "5a733aea-bc04-4347-a467-683a5c7abc42",
   "metadata": {},
   "outputs": [
    {
     "data": {
      "text/plain": [
       "(array([  1.,   0.,   0.,   0.,   0.,   1.,   4.,   2.,   2.,   5.,   2.,\n",
       "          4.,   7.,   6.,   7.,  10.,  10.,  13.,  14.,  17.,  20.,  33.,\n",
       "         29.,  38.,  44.,  54.,  43.,  50.,  65.,  71.,  80.,  99., 127.,\n",
       "        128., 126., 132., 167., 171., 166., 168., 205., 209., 234., 241.,\n",
       "        257., 237., 248., 255., 281., 249., 293., 305., 284., 277., 282.,\n",
       "        279., 257., 245., 290., 228., 249., 226., 243., 180., 200., 182.,\n",
       "        156., 140., 157., 125., 137., 109., 105.,  88.,  96.,  69.,  82.,\n",
       "         37.,  53.,  58.,  38.,  32.,  29.,  22.,  17.,  16.,  19.,   9.,\n",
       "          6.,  10.,   7.,  12.,   5.,   3.,   2.,   3.,   0.,   2.,   3.,\n",
       "          1.]),\n",
       " array([-3.69030337e-01, -3.61933741e-01, -3.54837146e-01, -3.47740551e-01,\n",
       "        -3.40643956e-01, -3.33547360e-01, -3.26450765e-01, -3.19354170e-01,\n",
       "        -3.12257575e-01, -3.05160979e-01, -2.98064384e-01, -2.90967789e-01,\n",
       "        -2.83871194e-01, -2.76774598e-01, -2.69678003e-01, -2.62581408e-01,\n",
       "        -2.55484813e-01, -2.48388218e-01, -2.41291622e-01, -2.34195027e-01,\n",
       "        -2.27098432e-01, -2.20001837e-01, -2.12905241e-01, -2.05808646e-01,\n",
       "        -1.98712051e-01, -1.91615456e-01, -1.84518860e-01, -1.77422265e-01,\n",
       "        -1.70325670e-01, -1.63229075e-01, -1.56132479e-01, -1.49035884e-01,\n",
       "        -1.41939289e-01, -1.34842694e-01, -1.27746099e-01, -1.20649503e-01,\n",
       "        -1.13552908e-01, -1.06456313e-01, -9.93597176e-02, -9.22631223e-02,\n",
       "        -8.51665271e-02, -7.80699319e-02, -7.09733366e-02, -6.38767414e-02,\n",
       "        -5.67801462e-02, -4.96835509e-02, -4.25869557e-02, -3.54903605e-02,\n",
       "        -2.83937652e-02, -2.12971700e-02, -1.42005748e-02, -7.10397951e-03,\n",
       "        -7.38427916e-06,  7.08921096e-03,  1.41858062e-02,  2.12824014e-02,\n",
       "         2.83789967e-02,  3.54755919e-02,  4.25721871e-02,  4.96687824e-02,\n",
       "         5.67653776e-02,  6.38619728e-02,  7.09585681e-02,  7.80551633e-02,\n",
       "         8.51517585e-02,  9.22483538e-02,  9.93449490e-02,  1.06441544e-01,\n",
       "         1.13538139e-01,  1.20634735e-01,  1.27731330e-01,  1.34827925e-01,\n",
       "         1.41924520e-01,  1.49021116e-01,  1.56117711e-01,  1.63214306e-01,\n",
       "         1.70310901e-01,  1.77407497e-01,  1.84504092e-01,  1.91600687e-01,\n",
       "         1.98697282e-01,  2.05793878e-01,  2.12890473e-01,  2.19987068e-01,\n",
       "         2.27083663e-01,  2.34180258e-01,  2.41276854e-01,  2.48373449e-01,\n",
       "         2.55470044e-01,  2.62566639e-01,  2.69663235e-01,  2.76759830e-01,\n",
       "         2.83856425e-01,  2.90953020e-01,  2.98049616e-01,  3.05146211e-01,\n",
       "         3.12242806e-01,  3.19339401e-01,  3.26435997e-01,  3.33532592e-01,\n",
       "         3.40629187e-01]),\n",
       " <BarContainer object of 100 artists>)"
      ]
     },
     "execution_count": 13,
     "metadata": {},
     "output_type": "execute_result"
    },
    {
     "data": {
      "image/png": "[encoded data removed]",
      "text/plain": [
       "<Figure size 432x288 with 1 Axes>"
      ]
     },
     "metadata": {
      "needs_background": "light"
     },
     "output_type": "display_data"
    }
   ],
   "source": [
    "plt.hist(sample_data, bins=100)"
   ]
  },
  {
   "cell_type": "markdown",
   "id": "de0cfe76-c54e-48a5-8d27-97a681706d26",
   "metadata": {},
   "source": [
    "You may have noticed that increasing the number of bins, the bell/Gaussian shape of the histogram is even more evident."
   ]
  },
  {
   "cell_type": "markdown",
   "id": "8573a8b3",
   "metadata": {},
   "source": [
    "### Matplotlib plot hierarchy"
   ]
  },
  {
   "cell_type": "markdown",
   "id": "8affa730",
   "metadata": {},
   "source": [
    "In the previous examples we generated very simple plots to have a quick look at the data, either from an existing pandas DataFrame or working with \"fake\" data. However, with Matplotlib you can control many more aspects of your plot: its dimension, x and y ticks and label, making multi-plots in the same area, and many other graphical features."
   ]
  },
  {
   "cell_type": "markdown",
   "id": "77702516",
   "metadata": {
    "tags": []
   },
   "source": [
    "To get full control of the plots generated with `Matplotlib.pyplot`, it is important to be aware of the hierarchy between `pyplot` main objects. In this context, hierarchy simply means that every time you plot something using `pyplot` you create a tree-like structure of objects, one containing the other:\n",
    "<ul>\n",
    "    <li>At the higher level we have <strong>Figures</strong>. A Figure is simply the total white space where you will organise your plots. You may think of it as the white page were you are going to draw your plots or also as a box containing all your plots. You can both have a single plot per Figure or multiple plots sharing the same Figure;</li>\n",
    "    <li>At a lower level we have <strong>Axes</strong>. Axes are contained into Figures. One of the most confusing Matplotlib convention is that single plots or graphs are called Axes. You can have a single Axes (still, with final \"s\") per Figure, so one plot per Figure (see Plot1 on the left of the figure below) or multiple Axes per Figure, like in Plot2 (on the right) where the same Figure contains three plots distributed in two rows: two on top and one on the bottom;</li>\n",
    "    <li>Finally, each Axes (aka each plot) contains two <strong>Axis</strong>, i.e. x and y axis.</li>\n",
    "</ul>\n",
    "To summarize, <code>matplotlib</code> organizes plots into Figures, Axes, and Axis. A Figure is a canvas that can contain one or more Axes. An Axes is where data is plotted and it is made of two Axis, x and y. Specifying parameters at these three different levels you can customize your plots to the finest details."
   ]
  },
  {
   "cell_type": "markdown",
   "id": "cc123472-8053-472c-9259-2a3845df97e8",
   "metadata": {},
   "source": [
    "![Plot Hierarchy](pictures/plot_hierarchy.jpeg)"
   ]
  },
  {
   "cell_type": "markdown",
   "id": "b6696fee-bf31-4ae9-ae8a-698e0c3f7d58",
   "metadata": {},
   "source": [
    "Certain attributes like the Figure size and the number of plots inside the Figure belong to the Figure level. Ticks, labels, plot title, legend, etc belong to the Axes level. Data is plotted on Axes according to the specified x and y Axis. The main features of a \"typical\" plot generated with `matplotlib` are well summarized by the picture below from matplotlib documentation:"
   ]
  },
  {
   "cell_type": "markdown",
   "id": "c6b85e40-6c49-4411-a264-eeef275dddff",
   "metadata": {},
   "source": [
    "![Plot Main Features](pictures/anatomy.jpeg)"
   ]
  },
  {
   "cell_type": "markdown",
   "id": "d9e56b70-3f75-4362-81e7-3b7e4c6b485c",
   "metadata": {},
   "source": [
    "## Creating multi-plots"
   ]
  },
  {
   "cell_type": "markdown",
   "id": "60fdcc9f",
   "metadata": {
    "tags": []
   },
   "source": [
    "To initiate at the same time a Figure (our container) and an Axes (the plot to put inside it), we can use the method ```plt.subplots()```. Using only the default arguments, so without explicitly specifying any argument at all (like in this first case), the method will return a Figure and a single Axes object in a tuple. We will assign these two python objects to the variables *fig* and *ax*. ```plt.subplots()``` parameters allow you to specify all sort of plot features: the size of the Figure in inches or cm, the number of plots to display in the Figure arranged in rows and columns, if the subplots will share the x/y Axis, etc (look <a href=\"https://matplotlib.org/stable/api/_as_gen/matplotlib.pyplot.subplots.html\">here</a> for more information).<br>\n",
    "To plot data on our Axes we will use the same plotting methods used in the previous examples. In this case, we will use ```hist()``` sampling the data in 30 bins."
   ]
  },
  {
   "cell_type": "code",
   "execution_count": 9,
   "id": "654a5965",
   "metadata": {},
   "outputs": [
    {
     "data": {
      "text/plain": [
       "(array([2.000e+00, 3.000e+00, 3.000e+00, 9.000e+00, 2.000e+01, 3.600e+01,\n",
       "        9.600e+01, 1.700e+02, 2.610e+02, 3.810e+02, 5.170e+02, 7.140e+02,\n",
       "        9.420e+02, 9.520e+02, 1.098e+03, 1.057e+03, 9.400e+02, 7.870e+02,\n",
       "        6.680e+02, 4.890e+02, 3.580e+02, 2.070e+02, 1.440e+02, 7.000e+01,\n",
       "        2.700e+01, 3.000e+01, 1.000e+01, 5.000e+00, 3.000e+00, 1.000e+00]),\n",
       " array([-0.3991296 , -0.37234126, -0.34555292, -0.31876458, -0.29197625,\n",
       "        -0.26518791, -0.23839957, -0.21161123, -0.1848229 , -0.15803456,\n",
       "        -0.13124622, -0.10445788, -0.07766955, -0.05088121, -0.02409287,\n",
       "         0.00269547,  0.0294838 ,  0.05627214,  0.08306048,  0.10984882,\n",
       "         0.13663715,  0.16342549,  0.19021383,  0.21700217,  0.2437905 ,\n",
       "         0.27057884,  0.29736718,  0.32415551,  0.35094385,  0.37773219,\n",
       "         0.40452053]),\n",
       " <BarContainer object of 30 artists>)"
      ]
     },
     "execution_count": 9,
     "metadata": {},
     "output_type": "execute_result"
    },
    {
     "data": {
      "image/png": "[encoded data removed]",
      "text/plain": [
       "<Figure size 432x288 with 1 Axes>"
      ]
     },
     "metadata": {
      "needs_background": "light"
     },
     "output_type": "display_data"
    }
   ],
   "source": [
    "fig, ax = plt.subplots()  # initiate an empty figure and axis matplotlib object\n",
    "ax.hist(sample_data, bins= 30)"
   ]
  },
  {
   "cell_type": "markdown",
   "id": "5728d8fd",
   "metadata": {},
   "source": [
    "Once we defined a Figure and an Axes, we can add other Axes to our Figure to plot additional data in the same space. This can be done using ```fig.add_axes([left,bottom,length,height])``` where ```add_axes()``` is a method that, indeed, adds an additional Axes to our Figure and its argument is a list containing the coordinates of our new Axes in the following format: [left edge or lowest x, bottom or lowest y, length, and height]. Default coordinate units are referred to the Figure, so that 0.5 corresponds at half length/height of the Figure. For example, the list of coordinates [0.5,0.5,0.33,0.33] will locate the bottom-left corner of our additional Axis at the very center of the Figure. The new plot will be as wide as ~1/3 of the length of the Figure and as high as ~1/3 of the total height of the Figure."
   ]
  },
  {
   "cell_type": "code",
   "execution_count": 13,
   "id": "bc39ded3",
   "metadata": {
    "tags": []
   },
   "outputs": [
    {
     "data": {
      "text/plain": [
       "(array([0., 0., 0., 0., 0., 1., 0., 0., 0., 0.]),\n",
       " array([-0.27605538, -0.17605538, -0.07605538,  0.02394462,  0.12394462,\n",
       "         0.22394462,  0.32394462,  0.42394462,  0.52394462,  0.62394462,\n",
       "         0.72394462]),\n",
       " <BarContainer object of 10 artists>)"
      ]
     },
     "execution_count": 13,
     "metadata": {},
     "output_type": "execute_result"
    },
    {
     "data": {
      "image/png": "[encoded data removed]",
      "text/plain": [
       "<Figure size 432x288 with 2 Axes>"
      ]
     },
     "metadata": {
      "needs_background": "light"
     },
     "output_type": "display_data"
    }
   ],
   "source": [
    "# prepare a matplotlib figure\n",
    "fig, ax1 = plt.subplots()\n",
    "ax1.hist(sample_data, 30)\n",
    "# add labels\n",
    "ax1.set_ylabel('density')\n",
    "ax1.set_xlabel('value')\n",
    "\n",
    "# define and sample beta distribution\n",
    "a = 5\n",
    "b = 10\n",
    "beta_draws = np.random.beta(a, b)\n",
    "\n",
    "# plot beta distribution\n",
    "# by adding additional axes to the figure\n",
    "ax2 = fig.add_axes([0.5, 0.5, 0.33, 0.33])\n",
    "#ax2 = fig.add_axes([left, bottom, right, top])\n",
    "ax2.hist(beta_draws)"
   ]
  },
  {
   "cell_type": "markdown",
   "id": "594ec053",
   "metadata": {
    "tags": []
   },
   "source": [
    "Axes do not neet to be always added on the go, we can plan the structure of our Figure according to the number of plots we want to display in it. In the following example, we give some more arguments to ```plt.subplots()```. The first two arguments indicate the number of vertical and horizontal plots we want to fit in our Figure. In this case, we want to arrange two plots side to side, so our grid will have one row and two columns. As we want to be sure that there will be enough space for our two plots, we specify the size of the Figure to be 12 inches long and 6 inches high (inches is the default size unit, but you can specify different ones).<br>\n",
    "Compared to our previous example, this time ```plt.subplots()``` returns a figure and a tuple of Axes. The number of these Axes depends on our orguments and corresponds to the total number of plots in our grid, indexed from top-left to bottom-right. In this case our settings produced plots distributed in one row and two columns, so a total of 2 plots, therefore ```plt.subplots()``` will return 2 Axes objects in a tuple."
   ]
  },
  {
   "cell_type": "code",
   "execution_count": 14,
   "id": "5cf9c01e",
   "metadata": {
    "tags": []
   },
   "outputs": [
    {
     "data": {
      "text/plain": [
       "(array([0., 0., 0., 0., 0., 1., 0., 0., 0., 0.]),\n",
       " array([-0.12877659, -0.02877659,  0.07122341,  0.17122341,  0.27122341,\n",
       "         0.37122341,  0.47122341,  0.57122341,  0.67122341,  0.77122341,\n",
       "         0.87122341]),\n",
       " <BarContainer object of 10 artists>)"
      ]
     },
     "execution_count": 14,
     "metadata": {},
     "output_type": "execute_result"
    },
    {
     "data": {
      "image/png": "[encoded data removed]",
      "text/plain": [
       "<Figure size 864x432 with 2 Axes>"
      ]
     },
     "metadata": {
      "needs_background": "light"
     },
     "output_type": "display_data"
    }
   ],
   "source": [
    "# prepare a matplotlib figure\n",
    "fig, (ax1,ax2) = plt.subplots(1,2,figsize=(12,6))\n",
    "ax1.hist(sample_data, 30)\n",
    "# add labels\n",
    "ax1.set_ylabel('density')\n",
    "ax1.set_xlabel('value')\n",
    "\n",
    "# define and sample beta distribution\n",
    "a = 5\n",
    "b = 10\n",
    "beta_draws = np.random.beta(a, b)\n",
    "\n",
    "# plot beta distribution\n",
    "ax2.hist(beta_draws)"
   ]
  },
  {
   "cell_type": "markdown",
   "id": "67fe4c09",
   "metadata": {},
   "source": [
    "### Integrating pandas plot with matplotlib"
   ]
  },
  {
   "cell_type": "markdown",
   "id": "a7a51752",
   "metadata": {},
   "source": [
    "Let's now go back to our pandas DataFrames. We saw that we can quickly plot data from a pandas DataFrame, but what about if I *already* have a Figure with Axes and I want to plot my Dataframe data in it? This examples will show you how."
   ]
  },
  {
   "cell_type": "code",
   "execution_count": 15,
   "id": "54423a2b",
   "metadata": {
    "tags": []
   },
   "outputs": [
    {
     "data": {
      "text/plain": [
       "Text(0.5, 0.98, 'Scatter plot of weight versus hindfoot length')"
      ]
     },
     "execution_count": 15,
     "metadata": {},
     "output_type": "execute_result"
    },
    {
     "data": {
      "image/png": "[encoded data removed]",
      "text/plain": [
       "<Figure size 432x288 with 1 Axes>"
      ]
     },
     "metadata": {
      "needs_background": "light"
     },
     "output_type": "display_data"
    }
   ],
   "source": [
    "fig, ax1 = plt.subplots() # prepare a matplotlib figure\n",
    "\n",
    "surveys.plot(\"hindfoot_length\", \"weight\", kind=\"scatter\", ax=ax1)\n",
    "\n",
    "# Provide further adaptations with matplotlib:\n",
    "ax1.set_xlabel(\"Hindfoot length\")\n",
    "ax1.tick_params(labelsize=16, pad=8)\n",
    "fig.suptitle('Scatter plot of weight versus hindfoot length', fontsize=15)"
   ]
  },
  {
   "cell_type": "markdown",
   "id": "c998054b",
   "metadata": {},
   "source": [
    "As you could see, you first plot your DataFrame data using the ```plot()``` method, then you just need to specify the argument ```ax=<my_figure_ax>```, where ```<my_figure_ax>``` is the Axes object you created at the very beginning of the plot. In this way you tell matplotlib to plot the DataFrame in an already existing Axes object instead of creating a new independent one. From now on, you can customize your plot working on your original Figure and Axes."
   ]
  },
  {
   "cell_type": "markdown",
   "id": "b4e03f30",
   "metadata": {},
   "source": [
    "<div class=\"alert alert-block alert-success\">\n",
    "<b>TRY IT YOURSELF</b>: Plot DataFrame data in a single Figure:\n",
    "        <ol>\n",
    "            <li>Initialize a Figure with 4 Axes distributed in two rows and two columns;</li>\n",
    "            <li>In each Axis plot DataFrame data of different columns (try also to use different kind of plots);</li>\n",
    "            <li>Make your Axes (plots) \"pretty\": label all your axes, use clear character font, choose a nice title for your plot. You may want to consult the <code>Axes.plot()</code> documentation for that (<a url=\"https://matplotlib.org/stable/api/_as_gen/matplotlib.axes.Axes.plot.html\"></a>).\n",
    "        </ol>\n",
    "</div>"
   ]
  }
 ],
 "metadata": {
  "kernelspec": {
   "display_name": "Python 3",
   "language": "python",
   "name": "python3"
  },
  "language_info": {
   "codemirror_mode": {
    "name": "ipython",
    "version": 3
   },
   "file_extension": ".py",
   "mimetype": "text/x-python",
   "name": "python",
   "nbconvert_exporter": "python",
   "pygments_lexer": "ipython3",
   "version": "3.8.8"
  },
  "toc": {
   "base_numbering": 1,
   "nav_menu": {},
   "number_sections": true,
   "sideBar": true,
   "skip_h1_title": false,
   "title_cell": "Table of Contents",
   "title_sidebar": "Contents",
   "toc_cell": false,
   "toc_position": {},
   "toc_section_display": true,
   "toc_window_display": true
  }
 },
 "nbformat": 4,
 "nbformat_minor": 5
}
