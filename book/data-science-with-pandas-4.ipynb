{
 "cells": [
  {
   "cell_type": "raw",
   "id": "641d7895",
   "metadata": {},
   "source": [
    "---\n",
    "title: \"Data Science with Pandas (part 4: Data Visualization)\"\n",
    "format: html\n",
    "execute: \n",
    "  enabled: true\n",
    "  error: true\n",
    "  freeze: auto\n",
    "---"
   ]
  },
  {
   "cell_type": "markdown",
   "id": "ad508f54",
   "metadata": {},
   "source": [
    "## Data Visualization with python\n"
   ]
  },
  {
   "cell_type": "markdown",
   "id": "2b3adea8",
   "metadata": {},
   "source": [
    "<a href=\"https://matplotlib.org/\">Matplotlib</a> is one of the most popular and widely-used data visualization libraries for Python. Matplotlib was inspired by the plotting functionalities of MATLAB (a non-open source programming language). It provides a comprehensive set of tools for creating a variety of plot types, such as line plots, scatter plots, bar plots, histograms, heatmaps, and many more. "
   ]
  },
  {
   "cell_type": "markdown",
   "id": "0e0e74bb-319c-4f8c-b1de-f4d578dac75a",
   "metadata": {},
   "source": [
    "In this session we will generate and plot some artificial data and data contained in our pandas DataFrames using pyplot. We will go through the main matplotlib concepts and we will generate several kinds of plots to illustrate matplotlib and pyplot potential."
   ]
  },
  {
   "cell_type": "markdown",
   "id": "fa9353a3-c09e-4240-8122-1eb58599b83d",
   "metadata": {},
   "source": [
    "## Preliminaries"
   ]
  },
  {
   "cell_type": "markdown",
   "id": "7f5c34ea-d1a9-4e28-9e77-356ddf349a5a",
   "metadata": {},
   "source": [
    "We begin importing the pandas package in the same way we did in previous sessions:"
   ]
  },
  {
   "cell_type": "code",
   "execution_count": 2,
   "id": "47f56e57-aee5-42de-803e-629d72a6ebe7",
   "metadata": {},
   "outputs": [],
   "source": [
    "import pandas as pd"
   ]
  },
  {
   "cell_type": "markdown",
   "id": "869a4d47",
   "metadata": {},
   "source": [
    "The first thing to do to start visualizing data with python is importing the module `pyplot` from the `matplotlib` library. As with many of our previous imports, we import the module under an 'alias' (alternate shorter name) for convenience. Finally, we specify the command `%matplotlib inline` so that, when plotting, Jupyter Notebook will not display the plots into new windows, but in the notebook itself."
   ]
  },
  {
   "cell_type": "code",
   "execution_count": null,
   "id": "abd10e1f",
   "metadata": {},
   "outputs": [],
   "source": [
    "import matplotlib.pyplot as plt\n",
    "%matplotlib inline"
   ]
  },
  {
   "cell_type": "markdown",
   "id": "295fd8d9",
   "metadata": {},
   "source": [
    "## Histograms"
   ]
  },
  {
   "cell_type": "markdown",
   "id": "8e50a9d2",
   "metadata": {},
   "source": [
    "In the first example we will generate some artificial data by generating 10000 normally distributed values. In order to obtain that, we will first import the package `numpy`, a package used for scientific computing and data analysis. In particular, the sub-package `numpy.random` contains very handy tools to work with random numbers and its function `.normal()` generates normally distributed random numbers."
   ]
  },
  {
   "cell_type": "code",
   "execution_count": null,
   "id": "64501d1f",
   "metadata": {},
   "outputs": [],
   "source": [
    "import numpy as np\n",
    "sample_data = np.random.normal(0, 0.1, 10000)"
   ]
  },
  {
   "cell_type": "markdown",
   "id": "f2e417d7",
   "metadata": {},
   "source": [
    "In this case we are drawing 10000 points with 0 average and a standard deviation of 0.1. First we will use the ```pyplot``` function `hist()` to visualize a histogram of our data:"
   ]
  },
  {
   "cell_type": "code",
   "execution_count": null,
   "id": "54f6c501",
   "metadata": {},
   "outputs": [],
   "source": [
    "plt.hist(sample_data)"
   ]
  },
  {
   "cell_type": "markdown",
   "id": "38c70742-0907-48f3-9da2-67502cfb6b2d",
   "metadata": {},
   "source": [
    "As we expected, the histogram is centered around 0 and we can already see the bell shape arising among the blocks. The default values of histogram bins (blocks) is 10, so in our case 10000 points are subdivided into 10 bins, but we can change that by specifying the parameter `bins`:"
   ]
  },
  {
   "cell_type": "code",
   "execution_count": null,
   "id": "5a733aea-bc04-4347-a467-683a5c7abc42",
   "metadata": {},
   "outputs": [],
   "source": [
    "plt.hist(sample_data, bins=30)"
   ]
  },
  {
   "cell_type": "markdown",
   "id": "de0cfe76-c54e-48a5-8d27-97a681706d26",
   "metadata": {},
   "source": [
    "You may have noticed that increasing the number of bins, the bell shape of the histogram is even more evident."
   ]
  },
  {
   "cell_type": "markdown",
   "id": "8573a8b3",
   "metadata": {},
   "source": [
    "## Customizing plots"
   ]
  },
  {
   "cell_type": "markdown",
   "id": "8affa730",
   "metadata": {},
   "source": [
    "In the previous examples we generated very simple plots to have a quick look at the data, either from an existing pandas DataFrame or working with artificial data. However, with Matplotlib you can customize many more aspects of your plot: axes, x and y ticks and labels, titles, legends, and much more."
   ]
  },
  {
   "cell_type": "markdown",
   "id": "77702516",
   "metadata": {
    "tags": []
   },
   "source": [
    "To get full control of the plots generated with `Matplotlib.pyplot`, it is important to be aware of jargon used to describe different parts of the figures that you create. \n",
    "\n",
    "- At the higher level we have **Figures**. A Figure is simply the total white space where you will organise your plots. You may think of it as the white page were you are going to draw your plots or also as a box containing all your plots. You can both have a single plot per Figure or multiple plots sharing the same Figure\n",
    "- At a lower level we have **Axes**. Axes are contained into Figures. Axes is the name for a single plot or graphs (which may be a bit confusing since it can be mistaken for the x axis and y axis of a plot). You can have a single Axes per Figure, so one plot per Figure (see Plot1 on the left of the figure below) or multiple Axes per Figure, like in Plot2 (on the right) where the same Figure contains three plots distributed in two rows: two on top and one on the bottom\n",
    "- Finally, each Axes (aka each plot) contains two **Axis**, i.e. x and y axis.\n",
    "\n",
    "To summarize, `matplotlib` organizes plots into Figures, Axes, and Axis. A Figure is a canvas that can contain one or more Axes. An Axes is where data is plotted and it is made of two Axis, x and y. Specifying parameters at these three different levels, you can customize your plots to the finest details."
   ]
  },
  {
   "cell_type": "markdown",
   "id": "cc123472-8053-472c-9259-2a3845df97e8",
   "metadata": {},
   "source": [
    "![Plot Hierarchy](images/plot_hierarchy.jpeg)"
   ]
  },
  {
   "cell_type": "markdown",
   "id": "b6696fee-bf31-4ae9-ae8a-698e0c3f7d58",
   "metadata": {},
   "source": [
    "Certain attributes like the Figure size and the number of plots inside the Figure belong to the Figure level. Ticks, labels, plot title, legend, etc belong to the Axes level. Data is plotted on Axes according to the specified x and y Axis. The main features of a \"typical\" plot generated with `matplotlib` are well summarized by the picture below from matplotlib documentation:"
   ]
  },
  {
   "cell_type": "markdown",
   "id": "c6b85e40-6c49-4411-a264-eeef275dddff",
   "metadata": {},
   "source": [
    "<div style=\"text-align:center\">\n",
    "    <img src=\"images/anatomy.jpeg\" alt=\"Plot Main Features\" width=\"70%\" />\n",
    "</div>"
   ]
  },
  {
   "cell_type": "markdown",
   "id": "8fa9fcb6-8347-4f32-8afd-88575da3bf5d",
   "metadata": {},
   "source": [
    "## Customizing titles and labels"
   ]
  },
  {
   "cell_type": "markdown",
   "id": "02919834-6764-473f-b497-114ec861ef5f",
   "metadata": {},
   "source": [
    "To add labels to the axis of a plot, we first create a figure containing 1 Axes (or one plot named `ax`). Then we use `ax.set_xlabel('<label>')` and `ax.set_ylabel('<label>')` to specify the axis labels. We can add a title to the figure using `fig.suptitle('<title>')`"
   ]
  },
  {
   "cell_type": "code",
   "execution_count": null,
   "id": "5f864e38-5a51-4597-8c68-948276aad6ab",
   "metadata": {},
   "outputs": [],
   "source": [
    "fig, ax = plt.subplots() # prepare a matplotlib figure\n",
    "ax.hist(sample_data, bins=30)\n",
    "\n",
    "# add labels\n",
    "\n",
    "ax.set_ylabel('density')\n",
    "ax.set_xlabel('value')\n",
    "fig.suptitle('Histogram', fontsize=15)"
   ]
  },
  {
   "cell_type": "markdown",
   "id": "47a0912e-cbbb-45fd-be0d-1b2fbba25d80",
   "metadata": {
    "tags": []
   },
   "source": [
    "Note: To plot data on our Axes we used the same plotting methods used in the previous examples. We used ```hist()``` sampling the data in 30 bins, but this time we had to call the function from the Axes object, so ```ax.hist()```."
   ]
  },
  {
   "cell_type": "markdown",
   "id": "d9e56b70-3f75-4362-81e7-3b7e4c6b485c",
   "metadata": {},
   "source": [
    "## Creating subplots"
   ]
  },
  {
   "cell_type": "markdown",
   "id": "68e63571-4ced-4270-b8b9-e2cdc5f4bc3b",
   "metadata": {
    "tags": []
   },
   "source": [
    "If we want to create a figure that consists of multiple subplots we can use the ```plt.subplots()``` functions. The first two arguments indicate the number of vertical and horizontal plots we want to fit in our Figure. In this case, we will create two plots side to side, so our grid will have one row and two columns. As we want to be sure that there will be enough space for our two plots, we specify the size of the Figure to be 12 inches long and 6 inches high (inches is the default size unit, but you can specify different ones).\n",
    "\n",
    "In this case our settings produced plots distributed in one row and two columns, so a total of 2 plots, therefore ```plt.subplots()``` will return 2 Axes objects in a tuple. We will store these two Axes into the variables ax1 and ax2."
   ]
  },
  {
   "cell_type": "code",
   "execution_count": null,
   "id": "5cf9c01e",
   "metadata": {
    "tags": []
   },
   "outputs": [],
   "source": [
    "# prepare a matplotlib figure\n",
    "fig, (ax1,ax2) = plt.subplots(1,2,figsize=(12,6))\n",
    "ax1.hist(sample_data, bins=30)\n",
    "# add labels\n",
    "ax1.set_ylabel('density')\n",
    "ax1.set_xlabel('value')\n",
    "\n",
    "# define and sample beta distribution\n",
    "a = 5\n",
    "b = 10\n",
    "beta_draws = np.random.beta(a, b, 1000)\n",
    "\n",
    "# plot beta distribution\n",
    "ax2.hist(beta_draws, bins=30)\n",
    "ax2.set_ylabel('density')\n",
    "ax2.set_xlabel('value')"
   ]
  },
  {
   "cell_type": "markdown",
   "id": "0552d272-cc88-475a-949f-386980a1fdfa",
   "metadata": {
    "tags": []
   },
   "source": [
    "Instead of plotting side by side, it is also possible to add a plot inside (or actually overlaying another plot).\n",
    "\n",
    "In order to do this we can initiate at a Figure and an Axes (the plot to put inside it), using ```plt.subplots()```, without specifying any argument (so without specifying the number or rows and columns), the method will return a Figure and a single Axes object. We will assign these two python objects to the variables *fig* and *ax*."
   ]
  },
  {
   "cell_type": "code",
   "execution_count": null,
   "id": "6a7b3cac-3972-4b38-8a50-37b7e6fae361",
   "metadata": {},
   "outputs": [],
   "source": [
    "fig, ax = plt.subplots()  # initiate an empty figure and axis matplotlib object\n",
    "ax.hist(sample_data, bins= 30)"
   ]
  },
  {
   "cell_type": "markdown",
   "id": "5728d8fd",
   "metadata": {},
   "source": [
    "Once we defined a Figure and an Axes, we can add other Axes to our Figure using ```fig.add_axes([left,bottom,length,height])``` where the argument is a list containing the coordinates of our new Axes in the following format: [left edge, bottom edge, length, and height]. The left edge and bottom edgeare scaled from 0 to 1, so that 0.5 corresponds to the center of the Figure. For example, the list of coordinates [0.5,0.5,0.33,0.33] will locate the bottom-left corner of our additional Axis at the very center of the Figure. The new plot will be as wide as ~1/3 of the length of the Figure and as high as ~1/3 of the height of the Figure."
   ]
  },
  {
   "cell_type": "code",
   "execution_count": null,
   "id": "bc39ded3",
   "metadata": {
    "tags": []
   },
   "outputs": [],
   "source": [
    "# prepare a matplotlib figure\n",
    "fig, ax1 = plt.subplots()\n",
    "ax1.hist(sample_data, 30)\n",
    "# add labels\n",
    "ax1.set_ylabel('density')\n",
    "ax1.set_xlabel('value')\n",
    "\n",
    "# define and sample beta distribution\n",
    "a = 5\n",
    "b = 10\n",
    "beta_draws = np.random.beta(a, b, 1000)\n",
    "\n",
    "# plot beta distribution\n",
    "# by adding additional axes to the figure\n",
    "ax2 = fig.add_axes([0.65, 0.65, 0.2, 0.2])\n",
    "#ax2 = fig.add_axes([left, bottom, right, top])\n",
    "ax2.hist(beta_draws, bins=30)"
   ]
  },
  {
   "cell_type": "markdown",
   "id": "d1c6da2d-fd58-468d-b33e-6fb64fbe31a5",
   "metadata": {},
   "source": [
    " ```plt.subplots()``` parameters allow you to specify all sort of plot features: the size of the Figure in inches or cm, the number of plots to display in the Figure arranged in rows and columns, whether the subplots need to share the same axis, etc. The [Matplotlib documentation](https://matplotlib.org/stable/api/_as_gen/matplotlib.pyplot.subplots.html) provides all the information and examples."
   ]
  },
  {
   "cell_type": "markdown",
   "id": "67fe4c09",
   "metadata": {},
   "source": [
    "## Plotting grouped data"
   ]
  },
  {
   "cell_type": "markdown",
   "id": "a3571a69-4df2-4263-bb34-a9988a69b745",
   "metadata": {},
   "source": [
    "Now we will go back to the surveys dataset from the previous chapters:"
   ]
  },
  {
   "cell_type": "code",
   "execution_count": 3,
   "id": "8fc66bab",
   "metadata": {},
   "outputs": [],
   "source": [
    "surveys = pd.read_csv(('../course_materials/data/surveys.csv'))"
   ]
  },
  {
   "cell_type": "code",
   "execution_count": null,
   "id": "2e4da453-ae1e-44e2-9fbf-4ce513dfffab",
   "metadata": {},
   "outputs": [],
   "source": [
    "surveys"
   ]
  },
  {
   "cell_type": "markdown",
   "id": "a7da5bab-06a0-43bf-a5f9-921a236b9aa8",
   "metadata": {},
   "source": [
    "Now first, let's create a scatterplot where we plot the `weight` as a function of `hindfoot_length`:"
   ]
  },
  {
   "cell_type": "code",
   "execution_count": null,
   "id": "54423a2b",
   "metadata": {
    "tags": []
   },
   "outputs": [],
   "source": [
    "fig, ax1 = plt.subplots() # prepare a matplotlib figure\n",
    "\n",
    "surveys.plot(\"hindfoot_length\", \"weight\", kind=\"scatter\", ax=ax1)\n",
    "\n",
    "# Provide further adaptations with matplotlib:\n",
    "ax1.set_xlabel(\"Hindfoot length\")\n",
    "ax1.tick_params(labelsize=16, pad=8)\n",
    "fig.suptitle('Scatter plot of weight versus hindfoot length', fontsize=15)"
   ]
  },
  {
   "cell_type": "markdown",
   "id": "39e8e750-3709-4e1a-b10e-25c675c4d56e",
   "metadata": {},
   "source": [
    "<div class=\"alert alert-block alert-success\">\n",
    "<b>TRY IT YOURSELF</b>: Time to play with plots! Look at the pandas.DataFrame.plot() documentation (<a href=\"https://pandas.pydata.org/docs/reference/api/pandas.DataFrame.plot.html\">here</a>) and change your data visualization selecting different DataFrame columns, x and y axes, and kind of plot (try at least three different plots).\n",
    "</div>"
   ]
  },
  {
   "cell_type": "markdown",
   "id": "b42ee1de-479e-439b-91c3-113550acd474",
   "metadata": {},
   "source": [
    "If we want to see if this distribution is different between males and females we can use a for loop and the groupby method to overlay two plots on top of each other in the same Axes object."
   ]
  },
  {
   "cell_type": "code",
   "execution_count": null,
   "id": "b919dc69-ed75-4775-847b-6bef2544e387",
   "metadata": {},
   "outputs": [],
   "source": [
    "fig, ax = plt.subplots()\n",
    "labels = []\n",
    "\n",
    "for i, group in list(surveys.groupby('sex')):\n",
    "    ax.scatter(group['hindfoot_length'], group['weight'], alpha=0.5)\n",
    "    labels.append(group['sex'].iloc[0])\n",
    "    \n",
    "ax.legend(labels)\n",
    "ax.set_xlabel(\"Hindfoot length\")\n",
    "ax.set_ylabel(\"Weight\")\n"
   ]
  },
  {
   "cell_type": "markdown",
   "id": "8e9d7dda-b3e6-4a1b-b0fb-5485ef92ecab",
   "metadata": {},
   "source": [
    "By using `ax.scatter` 2 times inside the for loop, the two sets of points end up in the same **Axes**. Automatically the groups get different colors. With `alpha=0.5` we can make the dots semi transparent so we can see them a bit better (however due to the large number of dots many blue dots are probably still hidden). We need to add the legend afterwards (after the for loop), but we do need the provide the labels in a list. We generated the list of labels in the for loop to make sure we don't mix them up by accident.\n",
    "\n",
    "Perhaps we get a better view if we plot them in separate subplots, which is the next exercise:"
   ]
  },
  {
   "cell_type": "code",
   "execution_count": null,
   "id": "8962efc1-49ba-40b3-8c5f-15638ce485f6",
   "metadata": {},
   "outputs": [],
   "source": [
    "<div class=\"alert alert-block alert-success\">\n",
    "<b>TRY IT YOURSELF</b>: Plot DataFrame data in a single Figure:\n",
    "- Initialize a Figure with 2 Axes distributed in one rows and two columns;\n",
    "- In the first Axis plot the data for all Females, and in the second Axis, plot all Males.\n",
    "- Make your Axes (plots) \"pretty\": label all your axes, use clear character font, choose a nice title for your plot. You may want to consult the [`Axes.plot()` documentation](https://matplotlib.org/stable/api/_as_gen/matplotlib.axes.Axes.plot.html).\n",
    "</div>"
   ]
  },
  {
   "cell_type": "markdown",
   "id": "29f28375-49f1-4768-9406-f4f62d1b753c",
   "metadata": {},
   "source": [
    "### Saving your plot"
   ]
  },
  {
   "cell_type": "markdown",
   "id": "701bf9df-d6ef-42fd-8e2b-7b11e6e3effb",
   "metadata": {},
   "source": [
    "Once you produced your plot you will probably need to share it in different media (website, papers, slide show, etc). To do that, we need to save our plot in a specific format. Once you have defined a Figure, you can do that with a single line of code:"
   ]
  },
  {
   "cell_type": "code",
   "execution_count": null,
   "id": "22467fee-4c50-41b2-ac96-7a1a22a53fcb",
   "metadata": {},
   "outputs": [],
   "source": [
    "fig.savefig('MyFigure.png', dpi=200)"
   ]
  },
  {
   "cell_type": "markdown",
   "id": "a939eccc-d74d-49d2-ad39-63322a748562",
   "metadata": {},
   "source": [
    "The Figure method ```savefig()``` will save your figure into a file. The first argument of the function is the name of the output file. Matplotlib will automatically recognize the format of the output file from its name. If you will specify only a name without extention, you can indicate the format explicitly with the parameter *format*. We also need to specify the dpi (dots per inch), i.e. the quality of the picture. The quality of the picture depends on the media we want to use. 200 dpi is good enough for visualization on a screen."
   ]
  },
  {
   "cell_type": "markdown",
   "id": "0dd7a4a4-bc48-4ceb-b41b-1e9edca3bc4e",
   "metadata": {},
   "source": [
    "### What's next?"
   ]
  },
  {
   "cell_type": "markdown",
   "id": "3da202f4-b986-4a07-9d37-662105012378",
   "metadata": {},
   "source": [
    "As we mentioned in the introduction, matplotlib library is huge and you can customize every single little feature of your plot. With matplotlib you can also create animations and 3D plots. Now that you know the basics of plotting data, have a look at the <a href=\"https://matplotlib.org/2.0.2/gallery.html\">matplotlib gallery</a> to check the huge variety of plots you can generate with matplotlib.\n",
    "\n",
    "This was the last chapter of this course!\n",
    "Go to [What is next after this course](what-next.qmd), for tips on how to get started with Python in your own project!"
   ]
  }
 ],
 "metadata": {
  "kernelspec": {
   "display_name": "Python 3 (ipykernel)",
   "language": "python",
   "name": "python3"
  },
  "language_info": {
   "codemirror_mode": {
    "name": "ipython",
    "version": 3
   },
   "file_extension": ".py",
   "mimetype": "text/x-python",
   "name": "python",
   "nbconvert_exporter": "python",
   "pygments_lexer": "ipython3",
   "version": "3.8.12"
  },
  "toc": {
   "base_numbering": 1,
   "nav_menu": {},
   "number_sections": true,
   "sideBar": true,
   "skip_h1_title": false,
   "title_cell": "Table of Contents",
   "title_sidebar": "Contents",
   "toc_cell": false,
   "toc_position": {},
   "toc_section_display": true,
   "toc_window_display": true
  }
 },
 "nbformat": 4,
 "nbformat_minor": 5
}
