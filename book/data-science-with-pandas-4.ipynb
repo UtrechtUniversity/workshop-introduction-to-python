{
 "cells": [
  {
   "cell_type": "raw",
   "id": "641d7895",
   "metadata": {},
   "source": [
    "---\n",
    "title: \"Data Visualization\"\n",
    "format: html\n",
    "execute: \n",
    "  enabled: true\n",
    "  error: true\n",
    "  freeze: auto\n",
    "---"
   ]
  },
  {
   "cell_type": "markdown",
   "id": "ad508f54",
   "metadata": {},
   "source": [
    "## Data Visualization with python"
   ]
  },
  {
   "cell_type": "markdown",
   "id": "2b3adea8",
   "metadata": {},
   "source": [
    "<a href=\"https://matplotlib.org/\">Matplotlib</a> is one of the most popular and widely-used data visualization libraries for Python. Matplotlib was inspired by the plotting functionalities of MATLAB (a non-open source programming language). It provides a comprehensive set of tools for creating a broad variety of plot types, such as line plots, scatter plots, bar plots, histograms, heatmaps, and many more. "
   ]
  },
  {
   "cell_type": "markdown",
   "id": "0e0e74bb-319c-4f8c-b1de-f4d578dac75a",
   "metadata": {},
   "source": [
    "In this session we will go through the main `matplotlib` concepts and we will generate several plots to illustrate the potential of `matplotlib`."
   ]
  },
  {
   "cell_type": "markdown",
   "id": "fa9353a3-c09e-4240-8122-1eb58599b83d",
   "metadata": {},
   "source": [
    "## Preliminaries"
   ]
  },
  {
   "cell_type": "markdown",
   "id": "7f5c34ea-d1a9-4e28-9e77-356ddf349a5a",
   "metadata": {},
   "source": [
    "We begin importing the pandas package in the same way we did in previous sessions:"
   ]
  },
  {
   "cell_type": "code",
   "execution_count": null,
   "id": "47f56e57-aee5-42de-803e-629d72a6ebe7",
   "metadata": {
    "tags": []
   },
   "outputs": [],
   "source": [
    "import pandas as pd"
   ]
  },
  {
   "cell_type": "markdown",
   "id": "869a4d47",
   "metadata": {},
   "source": [
    "Usually the first thing to do to start visualizing data with python is importing your visualization library, in our case the module `pyplot` from the `matplotlib` library. As with many of our previous imports, we import the module under an 'alias' (alternate shorter name) for convenience."
   ]
  },
  {
   "cell_type": "code",
   "execution_count": null,
   "id": "abd10e1f",
   "metadata": {
    "tags": []
   },
   "outputs": [],
   "source": [
    "import matplotlib.pyplot as plt"
   ]
  },
  {
   "cell_type": "markdown",
   "id": "99c6415e-0e9b-438c-a96d-50a9b34cacd0",
   "metadata": {},
   "source": [
    "A slightly different, but equivalent way to import pyplot is the following:"
   ]
  },
  {
   "cell_type": "code",
   "execution_count": null,
   "id": "82b5ee7a-7c29-4df5-b256-20cf64ef6603",
   "metadata": {
    "tags": []
   },
   "outputs": [],
   "source": [
    "from matplotlib import pyplot as plt"
   ]
  },
  {
   "cell_type": "markdown",
   "id": "3c6759f1-5ce2-47fc-858b-6d87994ef933",
   "metadata": {},
   "source": [
    "We also specify the command `%matplotlib inline` so that, when plotting, Jupyter Notebook will not display the plots into new windows, but in the notebook itself (you are free to NOT run `%matplotlib inline`, make a plot, and see what happens!)."
   ]
  },
  {
   "cell_type": "code",
   "execution_count": null,
   "id": "efe7d406-b9db-4763-bd65-1b08ac80572f",
   "metadata": {
    "tags": []
   },
   "outputs": [],
   "source": [
    "%matplotlib inline"
   ]
  },
  {
   "cell_type": "markdown",
   "id": "634b0ed8-f33c-465a-8881-f0e3a9fd3a17",
   "metadata": {},
   "source": [
    "Finally, as in previous sessions, we load the survey data into a pandas DataFrame and print the column names, just to see what data we can display in our plots:"
   ]
  },
  {
   "cell_type": "code",
   "execution_count": null,
   "id": "22544b8f-eac6-4143-9af8-c51117166015",
   "metadata": {
    "tags": []
   },
   "outputs": [],
   "source": [
    "surveys = pd.read_csv(('../course_materials/data/surveys.csv'))\n",
    "#in your case the path should probably be  'data/surveys.csv'",
    "surveys.columns"
   ]
  },
  {
   "cell_type": "markdown",
   "id": "295fd8d9",
   "metadata": {},
   "source": [
    "## Simple data visualization"
   ]
  },
  {
   "cell_type": "markdown",
   "id": "c07d856c-6497-4a66-83f6-98d664d56842",
   "metadata": {},
   "source": [
    "As you already found in session 6.5, data stored in pandas DataFrames can be visualized using a method called (surprisingly!) `plot`. This method contains all the functionalities of pyplot plotting functions and can be used on pandas DataFrames directly, without explicitly calling (and importing) pyplot. Let's have a look at a simple example, let's plot the weight of our penguins as a function of hindfoot length:"
   ]
  },
  {
   "cell_type": "code",
   "execution_count": null,
   "id": "ebdb367f-c781-4221-9ab1-11a13d1b96de",
   "metadata": {
    "tags": []
   },
   "outputs": [],
   "source": [
    "surveys.plot(x='hindfoot_length',y='weight',kind='scatter',grid=True)"
   ]
  },
  {
   "cell_type": "markdown",
   "id": "f62b81da-cd14-4860-933e-97234267b113",
   "metadata": {},
   "source": [
    "In the previous example we plotted weight VS hindfoot length using a scatter plot. The type of plot is specified via the argument _kind_, you can check out all the available plot categories [here](https://pandas.pydata.org/docs/reference/api/pandas.DataFrame.plot.html). One of the advantages of the DataFrame `plot` method is that we can specify the columns to plot simply referring to their names, these will also be automatically used as labels for the x and y axes (or only the x axis depending on the kind of plot). In a single line we can explore possible correlations between the columns of our DataFrame. <br>\n",
    "We will now try to create the same plot using pyplot functions explicitly: "
   ]
  },
  {
   "cell_type": "code",
   "execution_count": null,
   "id": "c1898f3a-61f4-4084-8ac4-c95aa0642e7d",
   "metadata": {
    "tags": []
   },
   "outputs": [],
   "source": [
    "plt.scatter(x = surveys['hindfoot_length'],y = surveys['weight'], s=16)\n",
    "plt.grid()\n",
    "plt.ylabel('weight')\n",
    "plt.xlabel('hindfoot_length')"
   ]
  },
  {
   "cell_type": "markdown",
   "id": "8e50a9d2",
   "metadata": {},
   "source": [
    "As you may notice, using explicitly pyplot, we need some few more lines and arguments to specify the data to plot, the size (_s_) of the data points, and the axis labels, but the result is exactly the same. <br>\n",
    "When shall we use the DataFrame method and when the pyplot functions explicitly? If we need a quick visualization of data for a very first exploration of your data set, we can obtain that directly using the pandas DataFrame `plot` method without importing pyplot. When we need to prepare plots for a paper or a presentation, then we would need to customize our plot characteristics and so to access all pyplot functionalities. In any case, as the DataFrame `plot` method is nothing more than a wrapper for pyplot functions, it is important to be aware of how pyplot works. Something we will find out in the next paragraph. "
   ]
  },
  {
   "cell_type": "markdown",
   "id": "8573a8b3",
   "metadata": {},
   "source": [
    "## Matplotlib plot structure"
   ]
  },
  {
   "cell_type": "markdown",
   "id": "8affa730",
   "metadata": {},
   "source": [
    "In the previous examples we generated very simple plots to have a quick look at the data stored in our pandas DataFrame. However, with Matplotlib you can customize many more aspects of your plot: axes, x and y ticks and labels, titles, legends, and much more."
   ]
  },
  {
   "cell_type": "markdown",
   "id": "77702516",
   "metadata": {
    "tags": []
   },
   "source": [
    "To get full control of the plots generated with `Matplotlib.pyplot`, it is important to be aware of the jargon used to describe the different layers of the figures that you create. Knowing the technical matplotlib language will be also of aid when asking AI tools to generate a plotting recipe for us (and to understand it!). \n",
    "\n",
    "- At the higher level we have **Figures**. A Figure is simply the total white space where you will organise your plots. You may think of it as the white page were you are going to draw your plots or also as a box containing all your plots. You can both have a single plot per Figure or multiple plots sharing the same Figure;\n",
    "- At a lower level we have **Axes**. Axes are contained into Figures. _Axes_ is the name of a single plot or graph. This is probably the most confusing convention of matplotlib, as the word _Axes_, in common language, may indicate the x axis and y axis of a plot, but in matplot lib refers, as a matter of fact, to a single entire plot. Be aware of this difference! You can have a single Axes per Figure, so one plot per Figure (see Plot1 on the left of the figure below) or multiple Axes per Figure, like in Plot2 (on the right) where the same Figure contains three plots distributed in two rows: two on top and one on the bottom;\n",
    "- Finally, each Axes (aka each plot) contains two **Axis**, i.e. x and y axis, the guidelines to populate your plots with data."
   ]
  },
  {
   "cell_type": "markdown",
   "id": "cc123472-8053-472c-9259-2a3845df97e8",
   "metadata": {},
   "source": [
    "![Plot Hierarchy](images/plot_hierarchy.jpeg)"
   ]
  },
  {
   "cell_type": "markdown",
   "id": "b6696fee-bf31-4ae9-ae8a-698e0c3f7d58",
   "metadata": {},
   "source": [
    "To summarize, `matplotlib` organizes plots into Figures, Axes, and Axis. A Figure is a canvas that can contain one or more Axes. An Axes is where data is plotted along two Axis, x and y. Specifying parameters at these three different levels, you can customize your plots to the finest details.\n",
    "\n",
    "Certain attributes like the Figure size and the number of plots inside the Figure belong to the Figure level. Ticks, labels, plot title (also the entire figure can have a title), legend, etc belong to the Axes level. Data is plotted on Axes according to the specified x and y Axis. The main features of a \"typical\" plot generated with `matplotlib` are well summarized by the picture below from matplotlib documentation:"
   ]
  },
  {
   "cell_type": "markdown",
   "id": "c6b85e40-6c49-4411-a264-eeef275dddff",
   "metadata": {},
   "source": [
    "<div style=\"text-align:center\">\n",
    "    <img src=\"images/anatomy.jpeg\" alt=\"Plot Main Features\" width=\"70%\" />\n",
    "</div>"
   ]
  },
  {
   "cell_type": "markdown",
   "id": "8fa9fcb6-8347-4f32-8afd-88575da3bf5d",
   "metadata": {},
   "source": [
    "## A customized plot"
   ]
  },
  {
   "cell_type": "markdown",
   "id": "ad5f1325-2ac5-4158-b456-d5cc61475172",
   "metadata": {},
   "source": [
    "If what described above seems confusing, do not worry! While plot structure is something to be aware for more complex customization, pandas DataFrame `plot` method has a series of attributes regulating the main characteristics of our plot (check the `plot` documentation [here](https://pandas.pydata.org/docs/reference/api/pandas.DataFrame.plot.html)). Looking at our previous visualization, it seems that x and y label are too small, data points often overlap each other, and a title for the plot is missing. Furthermore, for publication purposes, we want our plot to occupy a space of 6x6 inches. Let's apply these specifications to our simple visualization: "
   ]
  },
  {
   "cell_type": "code",
   "execution_count": null,
   "id": "d19dc0c7-860e-4f58-b37e-aba2aecfc0a4",
   "metadata": {
    "tags": []
   },
   "outputs": [],
   "source": [
    "ax = surveys.plot(x='hindfoot_length',y='weight',kind='scatter',grid=True, s=12, figsize=(6,6), title = 'Scatter plot')\n",
    "ax.set_xlabel(xlabel = 'Hindfoot Length [cm]', fontsize=14)\n",
    "ax.set_ylabel(ylabel = 'Weight [Kg]', fontsize=14)\n",
    "\n",
    "print(type(ax))"
   ]
  },
  {
   "cell_type": "markdown",
   "id": "02919834-6764-473f-b497-114ec861ef5f",
   "metadata": {},
   "source": [
    "This time we added some new parameters to our call: _s_ regulates the size of the data points, _figsize_ the (x,y) dimention in inches, and _title_ is a string containing the title of our plot, now displayed on top of it. <br>\n",
    "To modify the character size of the x and y label we need to write some extra line outside the `plot` call, we need to work at the _Axes_ level. Every time a plot is created using matplotlib, a _Figure_ and an _Axes_ are also created. Luckily for us (and thanks to pandas developers), the pandas DataFrame method `plot`, when called, returns the _Axes_ object that has been just created to visualize the data. That is why the result of `plot` is now stored in the variable _ax_ that, indeed, is a matplotlib _Axes_ object. An _Axes_ object has all kinds of methods to modify our plot look (check [here](https://matplotlib.org/stable/api/axes_api.html)). `set_xlabel` (or `set_ylabel`) is one of these methods, calling it on an _Axes_ we can specify the label content (_xlabel_) and character size (_fontsize_). <br>\n",
    "Working at the _Axes_ level, we now got better and more visible labels."
   ]
  },
  {
   "cell_type": "markdown",
   "id": "753676da-bb61-4f8a-ad00-9e9644fb1a2a",
   "metadata": {},
   "source": [
    "So far we obtained our plot from a data object (a pandas DataFrame) using one of its methods, a way that we could call \"bottom-up\". However, it is possible to obtain an identical result using a \"top-bottom\" approach, i.e. first creating _Figure_ and _Axes_, and then plotting data on it. Let's see how:"
   ]
  },
  {
   "cell_type": "code",
   "execution_count": null,
   "id": "5f864e38-5a51-4597-8c68-948276aad6ab",
   "metadata": {
    "tags": []
   },
   "outputs": [],
   "source": [
    "fig, my_ax = plt.subplots(figsize=(6,6))\n",
    "\n",
    "surveys.plot(x='hindfoot_length',y='weight',kind='scatter',ax=my_ax)\n",
    "\n",
    "my_ax.set_xlabel(xlabel = 'Hindfoot Length [cm]', fontsize=14)\n",
    "my_ax.set_ylabel(ylabel = 'Weight [Kg]', fontsize=14)\n",
    "my_ax.grid()\n",
    "fig.suptitle('Scatter plot', fontsize=16)\n",
    "\n",
    "print(type(fig))\n",
    "print(type(my_ax))"
   ]
  },
  {
   "cell_type": "markdown",
   "id": "47a0912e-cbbb-45fd-be0d-1b2fbba25d80",
   "metadata": {
    "tags": []
   },
   "source": [
    "Note the following:\n",
    "- Our plot (_Axes_) and the canvas containing it (_Figure_) are created at the same time using the pyplot function `subplots`. In `subplots` we used the parameter _figsize_ to specify the size of the _Figure_ in inches. _Figure_ and _Axes_ are stored in the variables _fig_ and _my_ax_, respectively;\n",
    "- To plot data, we called the method `plot` on our pandas DataFrame as we did in our simple visualization, however this time we _already_ have a space where to plot our data, we do not need another one. To make use of our existing space, we use the parameter _ax_ of the `plot` method, indicating that there already exist a matplotlib _Axes_ where to plot the data and that this _Axes_ is called _my_ax_;\n",
    "- We want to give our figure a title (pay attention, a title for the ENTIRE figure, not just a single plot in it). Therefore we need to work at the figure level in order to display it. This is done calling the method _suptitle_ on our figure object."
   ]
  },
  {
   "cell_type": "markdown",
   "id": "d9e56b70-3f75-4362-81e7-3b7e4c6b485c",
   "metadata": {},
   "source": [
    "## Creating subplots"
   ]
  },
  {
   "cell_type": "markdown",
   "id": "68e63571-4ced-4270-b8b9-e2cdc5f4bc3b",
   "metadata": {
    "tags": []
   },
   "source": [
    "If we want to create a figure that consists of multiple plots, we can still use the ```plt.subplots()``` function. The first two arguments of the function (_nrows_ and _ncols_) indicate the number of vertical and horizontal plots we want to fit in our figure (when not specified, the default value of these attributes is 1, one column and one row, i.e. a single plot). In this case, we will create two plots side to side, so our grid will have one row and two columns. As we want to be sure that there will be enough space for our two plots, we also specify the size of the Figure to be 12 inches long and 6 inches high (inches is the default size unit, but you can specify different ones).\n",
    "\n",
    "Our settings will produce plots distributed in one row and two columns, so a total of 2 plots. Therefore, in this case, ```plt.subplots()``` will return one _Figure_ object (the canvas containing all our plots) and 2 _Axes_ objects in a tuple. We will store these two _Axes_ into the variables _ax1_ and _ax2_."
   ]
  },
  {
   "cell_type": "code",
   "execution_count": null,
   "id": "5cf9c01e",
   "metadata": {
    "tags": []
   },
   "outputs": [],
   "source": [
    "fig, (ax1,ax2) = plt.subplots(nrows=1,ncols=2,figsize=(12,6))\n",
    "surveys.plot(x='hindfoot_length',y='weight',kind='scatter',grid=True, s=12, ax=ax1)\n",
    "surveys.plot(x='hindfoot_length',y='weight',kind='scatter',grid=True, s=12, ax=ax2, color='orange')"
   ]
  },
  {
   "cell_type": "markdown",
   "id": "cb3d6193-75c7-4266-808f-8cbaefc2fce0",
   "metadata": {},
   "source": [
    "In this case, we plotted two identical plots side by side using two different colours (default blue and orange). If you want to change any visual characteristic, for example, of the left plot, you would call method on _ax1_. Note that plots can be arranged also vertically just changing the values of ncols and nrows."
   ]
  },
  {
   "cell_type": "markdown",
   "id": "f2a55b89-5ae8-437d-829d-16398ff2c620",
   "metadata": {},
   "source": [
    "When the number of plots becomes larger, it is convenient to store them into a single variable and access them by row anc olumn index. Here an example:"
   ]
  },
  {
   "cell_type": "code",
   "execution_count": null,
   "id": "9e266180-92ab-4492-a9bd-e40f774aa810",
   "metadata": {
    "tags": []
   },
   "outputs": [],
   "source": [
    "fig, axes = plt.subplots(nrows=3,ncols=3,figsize=(12,12))\n",
    "surveys.plot(x='hindfoot_length',y='weight',kind='scatter',grid=True, s=12, ax=axes[1][1])\n",
    "surveys.plot(x='hindfoot_length',y='weight',kind='scatter',grid=True, s=12, ax=axes[2][0], color='orange')"
   ]
  },
  {
   "cell_type": "markdown",
   "id": "0552d272-cc88-475a-949f-386980a1fdfa",
   "metadata": {
    "tags": []
   },
   "source": [
    "In this case we set up a 3x3 grid of plots and we used only the very central spot (index [1][1]) and the first column of the third row (index [2][0]). When working with lists or tuples of objects, always remember that in python indexing starts from 0. Note that the unused spaces will contain no data and remember that you can always adjust x and y label (sometimes suppressing them) using _Axes_ methods."
   ]
  },
  {
   "cell_type": "markdown",
   "id": "5728d8fd",
   "metadata": {},
   "source": [
    "Let's see now another way to have multiple plots in the same figure. Once we defined a _Figure_ and an _Axes_, we can add other Axes to our Figure using ```fig.add_axes([left,bottom,length,height])```, where, as you may notice, the argument is a list containing the coordinates of our new Axes in the following format: [left edge, bottom edge, length, and height]. The left edge and bottom edge are scaled from 0 to 1, so that 0.5 corresponds to the center of the Figure. For example, the list of coordinates [0.5,0.5,0.33,0.33] will locate the bottom-left corner of our additional Axis at the very center of the figure. The new plot will be as wide as ~1/3 of the length of the figure and as high as ~1/3 of the height of the figure."
   ]
  },
  {
   "cell_type": "code",
   "execution_count": null,
   "id": "bc39ded3",
   "metadata": {
    "tags": []
   },
   "outputs": [],
   "source": [
    "# prepare a matplotlib figure\n",
    "fig, ax1 = plt.subplots(figsize=(6,6))\n",
    "surveys.plot(x='hindfoot_length',y='weight',kind='scatter',grid=True, s=12, ax=ax1)\n",
    "\n",
    "ax2 = fig.add_axes([0.5, 0.5, 0.33, 0.33])\n",
    "ax2.scatter(surveys['hindfoot_length'],surveys['weight'], color='orange')\n",
    "ax2.grid()"
   ]
  },
  {
   "cell_type": "markdown",
   "id": "d1c6da2d-fd58-468d-b33e-6fb64fbe31a5",
   "metadata": {},
   "source": [
    "We have seen that ```plt.subplots()``` parameters allow you to specify all sort of plot features: the size of the figure in inches or cm, the number of plots to display in the figure, how to arrange them in rows and columns, whether the subplots need to share the same axis, etc. To know more about subplots and take full control or your visualization, check out the [Matplotlib documentation](https://matplotlib.org/stable/api/_as_gen/matplotlib.pyplot.subplots.html)."
   ]
  },
  {
   "cell_type": "markdown",
   "id": "85f4a38c-1233-4693-b836-d0b7f2e0c15a",
   "metadata": {},
   "source": [
    "<div class=\"alert alert-block alert-success\">\n",
    "<b>Exercise 13</b>\n",
    "    \n",
    "Now go to the Jupyter Dashboard in your internet browser and continue with exercise 13.\n",
    "</div>"
   ]
  },
  {
   "cell_type": "markdown",
   "id": "67fe4c09",
   "metadata": {},
   "source": [
    "## Plotting grouped data"
   ]
  },
  {
   "cell_type": "markdown",
   "id": "b42ee1de-479e-439b-91c3-113550acd474",
   "metadata": {},
   "source": [
    "You have already seen how to group data stored in pandas DataFrames and how to visualize data by group. In this session we will plot groupd data and customize our plot. If we want to quickly check if the pattern we observed in previously plotted data is the same in males and females, we can use a for loop and the groupby method to overlay two plots on top of each other in the same Axes object."
   ]
  },
  {
   "cell_type": "code",
   "execution_count": null,
   "id": "b919dc69-ed75-4775-847b-6bef2544e387",
   "metadata": {},
   "outputs": [],
   "source": [
    "fig, ax = plt.subplots()\n",
    "\n",
    "for i, group in list(surveys.groupby('sex')):\n",
    "    ax.scatter(group['hindfoot_length'], group['weight'], alpha=0.5, label = group['sex'].iloc[0])\n",
    "    \n",
    "ax.legend(title='sex')\n",
    "ax.grid()\n",
    "ax.set_xlabel(\"Hindfoot length\", fontsize=14)\n",
    "ax.set_ylabel(\"Weight\", fontsize=14)\n"
   ]
  },
  {
   "cell_type": "markdown",
   "id": "8e9d7dda-b3e6-4a1b-b0fb-5485ef92ecab",
   "metadata": {},
   "source": [
    "By using `ax.scatter` 2 times inside the for loop, the two sets of points end up in the same **Axes**, one on top of the other following the order in which they are plotted. Colors are assigned automatically, but you can also create a list of colors and use one of them at each iteration of the loop. Specifying `alpha=0.5`, we can make the plotted dots semi-transparent, this attribute is particularly useful when overplotting data (like in this case). When plotting multiple grouped dataset on the same _Axes_ it is fundamental to label them and show a legend explaining color conventions. This is automatically done specifying a label when data is plotted and by calling the `legend()` method on the _Axes_ object after the data is plotted."
   ]
  },
  {
   "cell_type": "markdown",
   "id": "b467b365-59f1-4f8f-bff9-7aef22ccb79a",
   "metadata": {},
   "source": [
    "<div class=\"alert alert-block alert-success\">\n",
    "<b>Exercise 14</b>\n",
    "    \n",
    "Now go to the Jupyter Dashboard in your internet browser and continue with exercise 14.\n",
    "</div>"
   ]
  },
  {
   "cell_type": "markdown",
   "id": "29f28375-49f1-4768-9406-f4f62d1b753c",
   "metadata": {},
   "source": [
    "### Saving your plot"
   ]
  },
  {
   "cell_type": "markdown",
   "id": "701bf9df-d6ef-42fd-8e2b-7b11e6e3effb",
   "metadata": {},
   "source": [
    "Once you produced your plot you will probably need to share it in different media (website, papers, slide show, etc). To do that, we need to save our plot in a specific format. Once you have defined a Figure, you can do that with a single line of code:"
   ]
  },
  {
   "cell_type": "code",
   "execution_count": null,
   "id": "22467fee-4c50-41b2-ac96-7a1a22a53fcb",
   "metadata": {},
   "outputs": [],
   "source": [
    "fig.savefig('MyFigure.png', dpi=200)"
   ]
  },
  {
   "cell_type": "markdown",
   "id": "a939eccc-d74d-49d2-ad39-63322a748562",
   "metadata": {},
   "source": [
    "The Figure method ```savefig()``` will save your figure into a file. The first argument of the function is the name of the output file. Matplotlib will automatically recognize the format of the output file from its name. If you will specify only a name without extention, you can indicate the format explicitly with the parameter *format*. We also need to specify the dpi (dots per inch), i.e. the quality of the picture. The quality of the picture depends on the media we want to use. 200 dpi is good enough for visualization on a screen."
   ]
  },
  {
   "cell_type": "markdown",
   "id": "0dd7a4a4-bc48-4ceb-b41b-1e9edca3bc4e",
   "metadata": {},
   "source": [
    "### What's next?"
   ]
  },
  {
   "cell_type": "markdown",
   "id": "3da202f4-b986-4a07-9d37-662105012378",
   "metadata": {},
   "source": [
    "As we mentioned in the introduction, matplotlib library is huge and you can customize every single little feature of your plot. With matplotlib you can also create animations and 3D plots. Now that you know the basics of plotting data, have a look at the <a href=\"https://matplotlib.org/2.0.2/gallery.html\">matplotlib gallery</a> to check out the huge variety of plots you can generate with matplotlib and try to reproduce those plots yourself."
   ]
  },
  {
   "cell_type": "markdown",
   "id": "228fbf31-4e21-4fa9-baf3-4583e346a29e",
   "metadata": {},
   "source": [
    "Ok, Matplotlib is great, but is there anything else out there for data visualization? Yes, there is, [seaborn](https://seaborn.pydata.org/)! Seaborn is a Python data visualization library based on matplotlib. It provides a high-level interface for drawing attractive and informative statistical graphics. Seaborn syntax is almost identical to Matplotlib, checkout seaborn gallery [here](https://seaborn.pydata.org/examples/index.html)."
   ]
  },
  {
   "cell_type": "code",
   "execution_count": null,
   "id": "c7c5a562-b232-4cad-b0af-d8b10818bd04",
   "metadata": {
    "tags": []
   },
   "outputs": [],
   "source": [
    "import seaborn as sns\n",
    "sns.scatterplot(x=surveys['hindfoot_length'],y=surveys['weight'])"
   ]
  },
  {
   "cell_type": "markdown",
   "id": "4af9913f-59f3-41aa-af4b-fe9d2d911e3f",
   "metadata": {},
   "source": [
    "Well, if you are reading this it means you managed to get to the end of this Introduction to Python course, congratulations! Go to [What is next after this course](what-next.qmd) for tips on how to get started with Python in your own project! Success!"
   ]
  }
 ],
 "metadata": {
  "kernelspec": {
   "display_name": "Python 3 (ipykernel)",
   "language": "python",
   "name": "python3"
  },
  "language_info": {
   "codemirror_mode": {
    "name": "ipython",
    "version": 3
   },
   "file_extension": ".py",
   "mimetype": "text/x-python",
   "name": "python",
   "nbconvert_exporter": "python",
   "pygments_lexer": "ipython3",
   "version": "3.11.3"
  },
  "toc": {
   "base_numbering": 1,
   "nav_menu": {},
   "number_sections": true,
   "sideBar": true,
   "skip_h1_title": false,
   "title_cell": "Table of Contents",
   "title_sidebar": "Contents",
   "toc_cell": false,
   "toc_position": {},
   "toc_section_display": true,
   "toc_window_display": true
  }
 },
 "nbformat": 4,
 "nbformat_minor": 5
}
