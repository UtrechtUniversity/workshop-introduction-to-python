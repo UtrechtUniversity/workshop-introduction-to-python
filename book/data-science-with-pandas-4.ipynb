{
 "cells": [
  {
   "cell_type": "raw",
   "id": "641d7895",
   "metadata": {},
   "source": [
    "---\n",
    "title: \"Data Science with Pandas (part 4: Data Visualization)\"\n",
    "format: html\n",
    "execute: \n",
    "  enabled: true\n",
    "---"
   ]
  },
  {
   "cell_type": "markdown",
   "id": "ad508f54",
   "metadata": {},
   "source": [
    "## Data Visualization with python\n"
   ]
  },
  {
   "cell_type": "markdown",
   "id": "4cc4f4e5-1e92-48da-bde7-9949409ec6b2",
   "metadata": {},
   "source": [
    "Visualizing data means representing information in a graphical or visual form. This form does not provide additional information to what we already have in the data, but it usually allows a more intuitive understanding and interpretation of the data. Whether you are doing research ot not, being able to properly visualize data is an essential tool for data analysis, exploration, and communication. Data visualization is also fundamental to identify patterns, trends, and relationships that might not be immediately obvious from raw data."
   ]
  },
  {
   "cell_type": "markdown",
   "id": "2b3adea8",
   "metadata": {},
   "source": [
    "<a href=\"https://matplotlib.org/\">Matplotlib</a> is one of the most popular and widely-used data visualization libraries for Python programming language. It provides a comprehensive set of tools for creating a wide range of static, animated, and interactive visualizations, such as line plots, scatter plots, bar plots, histograms, heatmaps, and many more. As its name suggests, Matplotlib was initially developed to emulate MATLAB (a non-open source programming language) graphics commands, but it is totally independent of MATLAB and, as you will learn, it is designed to fully interface with python objects. "
   ]
  },
  {
   "cell_type": "markdown",
   "id": "a14d68f1-977e-433a-81d4-cf4ff4e7870b",
   "metadata": {},
   "source": [
    "Matplotlib is highly customizable and flexible, allowing users to fine-tune every aspect of data visualization, from colors, fonts, and labels to axes, legends, and annotations. Thanks to its flexibility, Matplotlib can also be used with other data analysis and manipulation libraries in Python, such as NumPy, Pandas, and SciPy, making it a powerful and versatile tool for data visualization and analysis."
   ]
  },
  {
   "cell_type": "markdown",
   "id": "0e0e74bb-319c-4f8c-b1de-f4d578dac75a",
   "metadata": {},
   "source": [
    "The Matplotlib library is huge (more than 70000 lines of code) and its documentation, while extensive, is not always up to date. This can make navigating through its features quite confusing, especially for absolute beginners. However, the matplotlib module `pyplot` provides a simpler interface for creating plots and graphs, still allowing to generate a wide range of visualizations with just a few lines of code. In this session we will plot \"fake\" data and data contained in our pandas DataFrames using pyplot. We will go through the main matplotlib concepts and we will generate several kinds of plots to illustrate matplotlib and pyplot potential."
   ]
  },
  {
   "cell_type": "markdown",
   "id": "fa9353a3-c09e-4240-8122-1eb58599b83d",
   "metadata": {},
   "source": [
    "## Preliminaries"
   ]
  },
  {
   "cell_type": "markdown",
   "id": "7f5c34ea-d1a9-4e28-9e77-356ddf349a5a",
   "metadata": {},
   "source": [
    "We begin importing the pandas package in the same way we did in previous sessions:"
   ]
  },
  {
   "cell_type": "code",
   "execution_count": null,
   "id": "47f56e57-aee5-42de-803e-629d72a6ebe7",
   "metadata": {},
   "outputs": [],
   "source": [
    "import pandas as pd"
   ]
  },
  {
   "cell_type": "markdown",
   "id": "869a4d47",
   "metadata": {},
   "source": [
    "The first thing to do to start visualizing data with python is importing the module <code>pyplot</code> from the <code>matplotlib</code> library. As with many of our previous imports, we import the module under an alternate shorter name for convenience. Finally, we specify the command <code>%matplotlib inline</code> so that, when plotting, Jupyter Notebook will not display the plots into new windows, but in the notebook itself."
   ]
  },
  {
   "cell_type": "code",
   "execution_count": null,
   "id": "abd10e1f",
   "metadata": {},
   "outputs": [],
   "source": [
    "import matplotlib.pyplot as plt\n",
    "%matplotlib inline"
   ]
  },
  {
   "cell_type": "markdown",
   "id": "0affba0d",
   "metadata": {},
   "source": [
    "### Plotting pandas DataFrames"
   ]
  },
  {
   "cell_type": "markdown",
   "id": "691b69d1",
   "metadata": {},
   "source": [
    "Let's start reading some data and plotting it. Keep in mind that in python everything is an object and that each object has attributes and methods. Attributes can be simple values, strings, arrays, or any other python data strucutre. They are accessed with a dot and the name of the attribute: `object.attribute_name`. Methods, on the other hand, are functions associated with an object. Methods are used to perform some action on the object or to return a value based on the object characteristics. Methods are ran with a dot, the name of the method, and all the necessary methods parameters inside parenthesis: `object.method_name()`. Why do attributes and methods matter for plotting our data? Because pandas DataFrames integrate many matplotlib functionalities in their methods like, for example, ```plot()```. The method documentation can be found <a href=\"https://pandas.pydata.org/docs/reference/api/pandas.DataFrame.plot.html\">here</a>, on the page you will find all the available parameters to customize your plot. Specifying as a first and second argument which DataFrame columns to put in our x and y axis respectively, and indicating the kind of plot we want, we can quickly visualise how our data looks like."
   ]
  },
  {
   "cell_type": "code",
   "execution_count": null,
   "id": "8fc66bab",
   "metadata": {},
   "outputs": [],
   "source": [
    "surveys = pd.read_csv(\"../data/surveys.csv\")"
   ]
  },
  {
   "cell_type": "code",
   "execution_count": null,
   "id": "eabc29e9-4a97-4451-b818-3d6e16bcb330",
   "metadata": {},
   "outputs": [],
   "source": [
    "my_plot = surveys.plot(\"hindfoot_length\", \"weight\", kind=\"scatter\")"
   ]
  },
  {
   "cell_type": "markdown",
   "id": "76dca310",
   "metadata": {},
   "source": [
    "<div class=\"alert alert-block alert-success\">\n",
    "<b>TRY IT YOURSELF</b>: Time to play with plots! Look at the pandas.DataFrame.plot() documentation (<a href=\"https://pandas.pydata.org/docs/reference/api/pandas.DataFrame.plot.html\">here</a>) and change your data visualization selecting different DataFrame columns, x and y axes, and kind of plot (try at least three different plots).\n",
    "</div>"
   ]
  },
  {
   "cell_type": "markdown",
   "id": "295fd8d9",
   "metadata": {},
   "source": [
    "### Plotting general data"
   ]
  },
  {
   "cell_type": "markdown",
   "id": "8e50a9d2",
   "metadata": {},
   "source": [
    "In the next example we will generate our own data getting 1000 normally distributed data points. In order to obtain that, we will first import the package `numpy`, a package used for scientific computing and data analysis. In particular, the sub-package `numpy.random` contains very handy tools to work with random numbers and its function `.normal()` generates normally distributed random numbers (numbers that follow a Gaussian distribution)."
   ]
  },
  {
   "cell_type": "code",
   "execution_count": null,
   "id": "64501d1f",
   "metadata": {},
   "outputs": [],
   "source": [
    "import numpy as np\n",
    "sample_data = np.random.normal(0, 0.1, 10000)"
   ]
  },
  {
   "cell_type": "markdown",
   "id": "f2e417d7",
   "metadata": {},
   "source": [
    "In this case we are drawing 10000 points with 0 average and a standard deviation of 0.1. This time we will use the ```pyplot``` function `hist()` to compute and visualize a histogram of our data. When defining DataFrame plotting methods, pandas developers wanted to make our life easier using the same names and conventions used in `matplotlib`, so do not be surprised if the plotting functions of the package `matplotlib.pyplot` have the same name of pandas DataFrame methods (and vice versa). "
   ]
  },
  {
   "cell_type": "code",
   "execution_count": null,
   "id": "54f6c501",
   "metadata": {},
   "outputs": [],
   "source": [
    "plt.hist(sample_data)"
   ]
  },
  {
   "cell_type": "markdown",
   "id": "38c70742-0907-48f3-9da2-67502cfb6b2d",
   "metadata": {},
   "source": [
    "As we expected, the histogram is centered around 0 and we can already see the bell/Gaussian shape arising among the blocks. The default values of histogram bins (blocks) is 10, so in our case 1000 points have bin collected into 10 bins, but we can change that specifying the parameter *bins*:"
   ]
  },
  {
   "cell_type": "code",
   "execution_count": null,
   "id": "5a733aea-bc04-4347-a467-683a5c7abc42",
   "metadata": {},
   "outputs": [],
   "source": [
    "plt.hist(sample_data, bins=100)"
   ]
  },
  {
   "cell_type": "markdown",
   "id": "de0cfe76-c54e-48a5-8d27-97a681706d26",
   "metadata": {},
   "source": [
    "You may have noticed that increasing the number of bins, the bell/Gaussian shape of the histogram is even more evident."
   ]
  },
  {
   "cell_type": "markdown",
   "id": "8573a8b3",
   "metadata": {},
   "source": [
    "### Matplotlib plot hierarchy"
   ]
  },
  {
   "cell_type": "markdown",
   "id": "8affa730",
   "metadata": {},
   "source": [
    "In the previous examples we generated very simple plots to have a quick look at the data, either from an existing pandas DataFrame or working with \"fake\" data. However, with Matplotlib you can control many more aspects of your plot: its dimension, x and y ticks and label, making multi-plots in the same area, and many other graphical features."
   ]
  },
  {
   "cell_type": "markdown",
   "id": "77702516",
   "metadata": {
    "tags": []
   },
   "source": [
    "To get full control of the plots generated with `Matplotlib.pyplot`, it is important to be aware of the hierarchy between `pyplot` main objects. In this context, hierarchy simply means that every time you plot something using `pyplot` you create a tree-like structure of objects, one containing the other:\n",
    "<ul>\n",
    "    <li>At the higher level we have <strong>Figures</strong>. A Figure is simply the total white space where you will organise your plots. You may think of it as the white page were you are going to draw your plots or also as a box containing all your plots. You can both have a single plot per Figure or multiple plots sharing the same Figure;</li>\n",
    "    <li>At a lower level we have <strong>Axes</strong>. Axes are contained into Figures. One of the most confusing Matplotlib convention is that single plots or graphs are called Axes. You can have a single Axes (still, with final \"s\") per Figure, so one plot per Figure (see Plot1 on the left of the figure below) or multiple Axes per Figure, like in Plot2 (on the right) where the same Figure contains three plots distributed in two rows: two on top and one on the bottom;</li>\n",
    "    <li>Finally, each Axes (aka each plot) contains two <strong>Axis</strong>, i.e. x and y axis.</li>\n",
    "</ul>\n",
    "To summarize, <code>matplotlib</code> organizes plots into Figures, Axes, and Axis. A Figure is a canvas that can contain one or more Axes. An Axes is where data is plotted and it is made of two Axis, x and y. Specifying parameters at these three different levels, you can customize your plots to the finest details."
   ]
  },
  {
   "cell_type": "markdown",
   "id": "cc123472-8053-472c-9259-2a3845df97e8",
   "metadata": {},
   "source": [
    "![Plot Hierarchy](pictures/plot_hierarchy.jpeg)"
   ]
  },
  {
   "cell_type": "markdown",
   "id": "b6696fee-bf31-4ae9-ae8a-698e0c3f7d58",
   "metadata": {},
   "source": [
    "Certain attributes like the Figure size and the number of plots inside the Figure belong to the Figure level. Ticks, labels, plot title, legend, etc belong to the Axes level. Data is plotted on Axes according to the specified x and y Axis. The main features of a \"typical\" plot generated with `matplotlib` are well summarized by the picture below from matplotlib documentation:"
   ]
  },
  {
   "cell_type": "markdown",
   "id": "c6b85e40-6c49-4411-a264-eeef275dddff",
   "metadata": {},
   "source": [
    "<div style=\"text-align:center\">\n",
    "    <img src=\"pictures/anatomy.jpeg\" alt=\"Plot Main Features\" width=\"70%\" />\n",
    "</div>"
   ]
  },
  {
   "cell_type": "markdown",
   "id": "d9e56b70-3f75-4362-81e7-3b7e4c6b485c",
   "metadata": {},
   "source": [
    "## Creating multi-plots"
   ]
  },
  {
   "cell_type": "markdown",
   "id": "60fdcc9f",
   "metadata": {
    "tags": []
   },
   "source": [
    "To initiate at the same time a Figure (our container) and an Axes (the plot to put inside it), we can use the method ```plt.subplots()```. Using only default arguments, so without explicitly specifying any argument at all (like in this first case), the method will return a Figure and a single Axes object in a tuple. We will assign these two python objects to the variables *fig* and *ax*. ```plt.subplots()``` parameters allow you to specify all sort of plot features: the size of the Figure in inches or cm, the number of plots to display in the Figure arranged in rows and columns, if the subplots will share the x/y Axis, etc (look <a href=\"https://matplotlib.org/stable/api/_as_gen/matplotlib.pyplot.subplots.html\">here</a> for more information).<br>\n",
    "To plot data on our Axes we will use the same plotting methods used in the previous examples. We will use ```hist()``` sampling the data in 30 bins, but this time we will call the function as an Axes method, so ```ax.hist()```."
   ]
  },
  {
   "cell_type": "code",
   "execution_count": null,
   "id": "654a5965",
   "metadata": {},
   "outputs": [],
   "source": [
    "fig, ax = plt.subplots()  # initiate an empty figure and axis matplotlib object\n",
    "ax.hist(sample_data, bins= 30)"
   ]
  },
  {
   "cell_type": "markdown",
   "id": "5728d8fd",
   "metadata": {},
   "source": [
    "Once we defined a Figure and an Axes, we can add other Axes to our Figure to plot additional data in the same Figure space. This can be done using ```fig.add_axes([left,bottom,length,height])``` where ```add_axes()``` is a method that, indeed, adds an additional Axes to our Figure and its argument is a list containing the coordinates of our new Axes in the following format: [left edge or lowest x, bottom edge or lowest y, length, and height]. Default coordinate units are referred to the Figure, so that 0.5 corresponds to half length/height of the Figure. For example, the list of coordinates [0.5,0.5,0.33,0.33] will locate the bottom-left corner of our additional Axis at the very center of the Figure (1/2 Figure length from the left edge and 1/2 Figure height from the bottom edge). The new plot will be as wide as ~1/3 of the length of the Figure and as high as ~1/3 of the height of the Figure."
   ]
  },
  {
   "cell_type": "code",
   "execution_count": null,
   "id": "bc39ded3",
   "metadata": {
    "tags": []
   },
   "outputs": [],
   "source": [
    "# prepare a matplotlib figure\n",
    "fig, ax1 = plt.subplots()\n",
    "ax1.hist(sample_data, 30)\n",
    "# add labels\n",
    "ax1.set_ylabel('density')\n",
    "ax1.set_xlabel('value')\n",
    "\n",
    "# define and sample beta distribution\n",
    "a = 5\n",
    "b = 10\n",
    "beta_draws = np.random.beta(a, b)\n",
    "\n",
    "# plot beta distribution\n",
    "# by adding additional axes to the figure\n",
    "ax2 = fig.add_axes([0.5, 0.5, 0.33, 0.33])\n",
    "#ax2 = fig.add_axes([left, bottom, right, top])\n",
    "ax2.hist(beta_draws)"
   ]
  },
  {
   "cell_type": "markdown",
   "id": "594ec053",
   "metadata": {
    "tags": []
   },
   "source": [
    "Axes do not neet to be always added on the go, we can plan the structure of our Figure according to the number of plots we want to display in it. In the following example, we give some more arguments to ```plt.subplots()```. The first two arguments indicate the number of vertical and horizontal plots we want to fit in our Figure. In this case, we want to arrange two plots side to side, so our grid will have one row and two columns. As we want to be sure that there will be enough space for our two plots, we specify the size of the Figure to be 12 inches long and 6 inches high (inches is the default size unit, but you can specify different ones).<br>\n",
    "Compared to our previous example, this time ```plt.subplots()``` returns a figure and a tuple of Axes. The number of these Axes depends on our orguments and corresponds to the total number of plots in our grid, indexed from top-left to bottom-right. In this case our settings produced plots distributed in one row and two columns, so a total of 2 plots, therefore ```plt.subplots()``` will return 2 Axes objects in a tuple. We will store these two Axes into the variables ax1 and ax2."
   ]
  },
  {
   "cell_type": "code",
   "execution_count": null,
   "id": "5cf9c01e",
   "metadata": {
    "tags": []
   },
   "outputs": [],
   "source": [
    "# prepare a matplotlib figure\n",
    "fig, (ax1,ax2) = plt.subplots(1,2,figsize=(12,6))\n",
    "ax1.hist(sample_data, 30)\n",
    "# add labels\n",
    "ax1.set_ylabel('density')\n",
    "ax1.set_xlabel('value')\n",
    "\n",
    "# define and sample beta distribution\n",
    "a = 5\n",
    "b = 10\n",
    "beta_draws = np.random.beta(a, b)\n",
    "\n",
    "# plot beta distribution\n",
    "ax2.hist(beta_draws)"
   ]
  },
  {
   "cell_type": "markdown",
   "id": "67fe4c09",
   "metadata": {},
   "source": [
    "### Integrating pandas plot with matplotlib"
   ]
  },
  {
   "cell_type": "markdown",
   "id": "a7a51752",
   "metadata": {},
   "source": [
    "Let's now go back to our pandas DataFrames. We saw that we can quickly plot data from a pandas DataFrame, but what about if we *already* have a Figure with Axes and we want to plot our Dataframe data in it? This examples will show you how."
   ]
  },
  {
   "cell_type": "code",
   "execution_count": null,
   "id": "54423a2b",
   "metadata": {
    "tags": []
   },
   "outputs": [],
   "source": [
    "fig, ax1 = plt.subplots() # prepare a matplotlib figure\n",
    "\n",
    "surveys.plot(\"hindfoot_length\", \"weight\", kind=\"scatter\", ax=ax1)\n",
    "\n",
    "# Provide further adaptations with matplotlib:\n",
    "ax1.set_xlabel(\"Hindfoot length\")\n",
    "ax1.tick_params(labelsize=16, pad=8)\n",
    "fig.suptitle('Scatter plot of weight versus hindfoot length', fontsize=15)"
   ]
  },
  {
   "cell_type": "markdown",
   "id": "c998054b",
   "metadata": {},
   "source": [
    "As you could see, you first plot your DataFrame data using the ```plot()``` method, then you just need to specify the argument ```ax=<my_figure_ax>```, where ```<my_figure_ax>``` is the Axes object you created at the very beginning of the plot. In this way you tell matplotlib to plot the DataFrame in an already existing Axes object instead of creating a new independent one. From now on, you can customize your plot working on your original Figure and Axes."
   ]
  },
  {
   "cell_type": "markdown",
   "id": "b4e03f30",
   "metadata": {},
   "source": [
    "<div class=\"alert alert-block alert-success\">\n",
    "<b>TRY IT YOURSELF</b>: Plot DataFrame data in a single Figure:\n",
    "        <ol>\n",
    "            <li>Initialize a Figure with 4 Axes distributed in two rows and two columns;</li>\n",
    "            <li>In each Axis plot DataFrame data of different columns (try also to use different kind of plots);</li>\n",
    "            <li>Make your Axes (plots) \"pretty\": label all your axes, use clear character font, choose a nice title for your plot. You may want to consult the <code>Axes.plot()</code> documentation for that (<a url=\"https://matplotlib.org/stable/api/_as_gen/matplotlib.axes.Axes.plot.html\"></a>).\n",
    "        </ol>\n",
    "</div>"
   ]
  },
  {
   "cell_type": "markdown",
   "id": "29f28375-49f1-4768-9406-f4f62d1b753c",
   "metadata": {},
   "source": [
    "### Saving your plot"
   ]
  },
  {
   "cell_type": "markdown",
   "id": "701bf9df-d6ef-42fd-8e2b-7b11e6e3effb",
   "metadata": {},
   "source": [
    "Once you produced your plot you will probably need to share it in different media (website, papers, slide show, etc). To do that, we need to save our plot in a specific format. Once you have defined a Figure, you can do that with a single line of code:"
   ]
  },
  {
   "cell_type": "code",
   "execution_count": null,
   "id": "22467fee-4c50-41b2-ac96-7a1a22a53fcb",
   "metadata": {},
   "outputs": [],
   "source": [
    "fig.savefig('MyFigure.png', dpi=200)"
   ]
  },
  {
   "cell_type": "markdown",
   "id": "a939eccc-d74d-49d2-ad39-63322a748562",
   "metadata": {},
   "source": [
    "The Figure method ```savefig()``` will save your figure into a file. The first argument of the function is the name of the output file. Matplotlib will automatically recognize the format of the output file from its name. If you will specify only a name without extention, you can indicate the format explicitly with the parameter *format*. We also need to specify the dpi (dots per inch), i.e. the quality of the picture. The quality of the picture depends on the media we want to use. 200 dpi is good enough for visualization on a screen."
   ]
  },
  {
   "cell_type": "markdown",
   "id": "0dd7a4a4-bc48-4ceb-b41b-1e9edca3bc4e",
   "metadata": {},
   "source": [
    "### What's next?"
   ]
  },
  {
   "cell_type": "markdown",
   "id": "3da202f4-b986-4a07-9d37-662105012378",
   "metadata": {},
   "source": [
    "As we mentioned in the introduction, matplotlib library is huge and you can customize every single little feature of your plot. With matplotlib you can also create animations and 3D plots. Now that you know the basics of plotting data, have a look at the <a href=\"https://matplotlib.org/2.0.2/gallery.html\">matplotlib gallery</a> to check the huge variety of plots you can generate with matplotlib."
   ]
  }
 ],
 "metadata": {
  "kernelspec": {
   "display_name": "Python 3",
   "language": "python",
   "name": "python3"
  },
  "language_info": {
   "codemirror_mode": {
    "name": "ipython",
    "version": 3
   },
   "file_extension": ".py",
   "mimetype": "text/x-python",
   "name": "python",
   "nbconvert_exporter": "python",
   "pygments_lexer": "ipython3",
   "version": "3.8.8"
  },
  "toc": {
   "base_numbering": 1,
   "nav_menu": {},
   "number_sections": true,
   "sideBar": true,
   "skip_h1_title": false,
   "title_cell": "Table of Contents",
   "title_sidebar": "Contents",
   "toc_cell": false,
   "toc_position": {},
   "toc_section_display": true,
   "toc_window_display": true
  }
 },
 "nbformat": 4,
 "nbformat_minor": 5
}
