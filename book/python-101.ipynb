{
 "cells": [
  {
   "cell_type": "raw",
   "id": "2b3ce4da-bf2f-4d7a-922c-7b2121f8236f",
   "metadata": {
    "tags": []
   },
   "source": [
    "---\n",
    "title: \"Introduction to python\"\n",
    "execute: \n",
    "  enabled: true\n",
    "  error: true\n",
    "  freeze: auto\n",
    "---"
   ]
  },
  {
   "cell_type": "markdown",
   "id": "3eba3350",
   "metadata": {},
   "source": [
    "# Introduction to python"
   ]
  },
  {
   "cell_type": "markdown",
   "id": "5d74aa37",
   "metadata": {},
   "source": [
    "## Some simple statements"
   ]
  },
  {
   "cell_type": "code",
   "execution_count": 1,
   "id": "5185d835",
   "metadata": {},
   "outputs": [
    {
     "data": {
      "text/plain": [
       "4"
      ]
     },
     "execution_count": 1,
     "metadata": {},
     "output_type": "execute_result"
    }
   ],
   "source": [
    "2+2"
   ]
  },
  {
   "cell_type": "code",
   "execution_count": 2,
   "id": "2001488b",
   "metadata": {},
   "outputs": [
    {
     "name": "stdout",
     "output_type": "stream",
     "text": [
      "Hello World\n"
     ]
    }
   ],
   "source": [
    "print(\"Hello World\")"
   ]
  },
  {
   "cell_type": "markdown",
   "id": "57cf0c1b",
   "metadata": {},
   "source": [
    "## Variables, values and their types"
   ]
  },
  {
   "cell_type": "code",
   "execution_count": 3,
   "id": "8037c6e5",
   "metadata": {},
   "outputs": [],
   "source": [
    "text = \"Data Carpentry\"\n",
    "number = 42\n",
    "pi_value = 3.141592653589793238462643383279502884197"
   ]
  },
  {
   "cell_type": "code",
   "execution_count": 4,
   "id": "05e46e0e",
   "metadata": {},
   "outputs": [
    {
     "data": {
      "text/plain": [
       "'Data Carpentry'"
      ]
     },
     "execution_count": 4,
     "metadata": {},
     "output_type": "execute_result"
    }
   ],
   "source": [
    "text"
   ]
  },
  {
   "cell_type": "code",
   "execution_count": 5,
   "id": "4f3d26bd",
   "metadata": {},
   "outputs": [
    {
     "data": {
      "text/plain": [
       "str"
      ]
     },
     "execution_count": 5,
     "metadata": {},
     "output_type": "execute_result"
    }
   ],
   "source": [
    "type(text)"
   ]
  },
  {
   "cell_type": "code",
   "execution_count": 6,
   "id": "bd36a502",
   "metadata": {},
   "outputs": [
    {
     "data": {
      "text/plain": [
       "42"
      ]
     },
     "execution_count": 6,
     "metadata": {},
     "output_type": "execute_result"
    }
   ],
   "source": [
    "number"
   ]
  },
  {
   "cell_type": "code",
   "execution_count": 7,
   "id": "281b6dad",
   "metadata": {},
   "outputs": [
    {
     "data": {
      "text/plain": [
       "int"
      ]
     },
     "execution_count": 7,
     "metadata": {},
     "output_type": "execute_result"
    }
   ],
   "source": [
    "type(number)"
   ]
  },
  {
   "cell_type": "code",
   "execution_count": 8,
   "id": "64843703",
   "metadata": {},
   "outputs": [
    {
     "data": {
      "text/plain": [
       "3.141592653589793"
      ]
     },
     "execution_count": 8,
     "metadata": {},
     "output_type": "execute_result"
    }
   ],
   "source": [
    "pi_value"
   ]
  },
  {
   "cell_type": "code",
   "execution_count": 9,
   "id": "46ef015a",
   "metadata": {},
   "outputs": [
    {
     "data": {
      "text/plain": [
       "float"
      ]
     },
     "execution_count": 9,
     "metadata": {},
     "output_type": "execute_result"
    }
   ],
   "source": [
    "type(pi_value)"
   ]
  },
  {
   "cell_type": "markdown",
   "id": "d22b6cb1",
   "metadata": {},
   "source": [
    "## Output versus printing\n",
    "In this example we first print the number and then call the variable again:"
   ]
  },
  {
   "cell_type": "code",
   "execution_count": 10,
   "id": "b1af2ccb",
   "metadata": {},
   "outputs": [
    {
     "name": "stdout",
     "output_type": "stream",
     "text": [
      "42\n"
     ]
    },
    {
     "data": {
      "text/plain": [
       "42"
      ]
     },
     "execution_count": 10,
     "metadata": {},
     "output_type": "execute_result"
    }
   ],
   "source": [
    "print(number)\n",
    "number"
   ]
  },
  {
   "cell_type": "markdown",
   "id": "d796e69f",
   "metadata": {},
   "source": [
    "Now we do it the other way around:"
   ]
  },
  {
   "cell_type": "code",
   "execution_count": 11,
   "id": "412233e2",
   "metadata": {},
   "outputs": [
    {
     "name": "stdout",
     "output_type": "stream",
     "text": [
      "42\n"
     ]
    }
   ],
   "source": [
    "number\n",
    "print(number)"
   ]
  },
  {
   "cell_type": "markdown",
   "id": "5f893d56",
   "metadata": {},
   "source": [
    "The interpreter does not output the value of the variable unless it is the very last line in an input field. In general `print` is the only way to print output to the screen when you are not working in an interactive environment as Jupyter, but when you are working with scripts.\n",
    "Rule of thumb: use output for quick checking while developing your Jupyter notebook, use print for all output that needs to be there while running a Jupyter notebook."
   ]
  },
  {
   "cell_type": "code",
   "execution_count": 12,
   "id": "d9db4244",
   "metadata": {},
   "outputs": [
    {
     "name": "stdout",
     "output_type": "stream",
     "text": [
      "Sum:  4\n",
      "Multiply:  42\n",
      "Power:  65536\n",
      "Modulo:  3\n"
     ]
    }
   ],
   "source": [
    "summing = 2 + 2\n",
    "multiply = 6 * 7\n",
    "power = 2 ** 16\n",
    "modulo = 13 % 5\n",
    "\n",
    "print(\"Sum: \", summing)\n",
    "print(\"Multiply: \", multiply)\n",
    "print(\"Power: \", power)\n",
    "print(\"Modulo: \", modulo)"
   ]
  },
  {
   "cell_type": "markdown",
   "id": "250eeea8",
   "metadata": {},
   "source": [
    "## Logical values, operators and variables\n",
    "There are two logical values, *true* and *false*. Inpython they are decoded as the values `True` and `False`. Note: here these two are really distinct values and no strings!"
   ]
  },
  {
   "cell_type": "code",
   "execution_count": 13,
   "id": "878b1de4",
   "metadata": {},
   "outputs": [
    {
     "data": {
      "text/plain": [
       "True"
      ]
     },
     "execution_count": 13,
     "metadata": {},
     "output_type": "execute_result"
    }
   ],
   "source": [
    "True"
   ]
  },
  {
   "cell_type": "code",
   "execution_count": 14,
   "id": "d6143053",
   "metadata": {},
   "outputs": [
    {
     "data": {
      "text/plain": [
       "False"
      ]
     },
     "execution_count": 14,
     "metadata": {},
     "output_type": "execute_result"
    }
   ],
   "source": [
    "False"
   ]
  },
  {
   "cell_type": "markdown",
   "id": "8d76802a",
   "metadata": {},
   "source": [
    "With the logical operators `>`, `<`, `==`, `and`, `or` and  `not` we can now compare variables and create logical statements."
   ]
  },
  {
   "cell_type": "code",
   "execution_count": 15,
   "id": "57accc50-7e82-4541-ae47-02a198fa0606",
   "metadata": {},
   "outputs": [
    {
     "name": "stdout",
     "output_type": "stream",
     "text": [
      "3 > 4 :  False\n"
     ]
    }
   ],
   "source": [
    "compare = 3 > 4\n",
    "print(\"3 > 4 : \", compare)"
   ]
  },
  {
   "cell_type": "code",
   "execution_count": 16,
   "id": "2f36bacd-a602-49d6-9546-5b06d4b5629d",
   "metadata": {},
   "outputs": [
    {
     "name": "stdout",
     "output_type": "stream",
     "text": [
      "not(3 > 4):  True\n"
     ]
    }
   ],
   "source": [
    "not_compare = not compare\n",
    "print(\"not(3 > 4): \", not_compare)"
   ]
  },
  {
   "cell_type": "code",
   "execution_count": 17,
   "id": "a1adbdd1-faf3-4387-98a0-c23f00e9885f",
   "metadata": {},
   "outputs": [
    {
     "data": {
      "text/plain": [
       "True"
      ]
     },
     "execution_count": 17,
     "metadata": {},
     "output_type": "execute_result"
    }
   ],
   "source": [
    "compare or not_compare"
   ]
  },
  {
   "cell_type": "code",
   "execution_count": 18,
   "id": "c610a59a-4d65-4583-ab3b-5e9804a3bd53",
   "metadata": {},
   "outputs": [
    {
     "data": {
      "text/plain": [
       "False"
      ]
     },
     "execution_count": 18,
     "metadata": {},
     "output_type": "execute_result"
    }
   ],
   "source": [
    "compare and not_compare"
   ]
  },
  {
   "cell_type": "code",
   "execution_count": 19,
   "id": "248f232e",
   "metadata": {},
   "outputs": [
    {
     "data": {
      "text/plain": [
       "True"
      ]
     },
     "execution_count": 19,
     "metadata": {},
     "output_type": "execute_result"
    }
   ],
   "source": [
    "True or False"
   ]
  },
  {
   "cell_type": "code",
   "execution_count": 20,
   "id": "1e6a3cf7",
   "metadata": {},
   "outputs": [
    {
     "data": {
      "text/plain": [
       "False"
      ]
     },
     "execution_count": 20,
     "metadata": {},
     "output_type": "execute_result"
    }
   ],
   "source": [
    "True and False"
   ]
  },
  {
   "cell_type": "code",
   "execution_count": 21,
   "id": "6da91f6c",
   "metadata": {},
   "outputs": [
    {
     "data": {
      "text/plain": [
       "False"
      ]
     },
     "execution_count": 21,
     "metadata": {},
     "output_type": "execute_result"
    }
   ],
   "source": [
    "True == compare"
   ]
  },
  {
   "cell_type": "markdown",
   "id": "3e6d1053",
   "metadata": {},
   "source": [
    "## The if-statement\n",
    "We  saw how to create logical statements. In the if-clause we use these as conditional statements to carry some tasks."
   ]
  },
  {
   "cell_type": "markdown",
   "id": "fb4caf19",
   "metadata": {},
   "source": [
    "## Lists and Tuples"
   ]
  },
  {
   "cell_type": "code",
   "execution_count": 22,
   "id": "dd45c27e-01be-4098-b460-b599588116bf",
   "metadata": {},
   "outputs": [
    {
     "data": {
      "text/plain": [
       "1"
      ]
     },
     "execution_count": 22,
     "metadata": {},
     "output_type": "execute_result"
    }
   ],
   "source": [
    "numbers = [1, 2, 3]\n",
    "numbers[0]"
   ]
  },
  {
   "cell_type": "code",
   "execution_count": 23,
   "id": "116d2f00-5408-4c1b-9256-23a539e5d70f",
   "metadata": {},
   "outputs": [
    {
     "data": {
      "text/plain": [
       "list"
      ]
     },
     "execution_count": 23,
     "metadata": {},
     "output_type": "execute_result"
    }
   ],
   "source": [
    "type(numbers)"
   ]
  },
  {
   "cell_type": "code",
   "execution_count": 24,
   "id": "b992f7e9-303d-4519-9db4-7f4639c3c469",
   "metadata": {},
   "outputs": [
    {
     "data": {
      "text/plain": [
       "3"
      ]
     },
     "execution_count": 24,
     "metadata": {},
     "output_type": "execute_result"
    }
   ],
   "source": [
    "len(numbers)"
   ]
  },
  {
   "cell_type": "code",
   "execution_count": 25,
   "id": "3598a902-4050-480e-a32b-906d32e8f503",
   "metadata": {},
   "outputs": [
    {
     "ename": "IndexError",
     "evalue": "list index out of range",
     "output_type": "error",
     "traceback": [
      "\u001b[0;31m---------------------------------------------------------------------------\u001b[0m",
      "\u001b[0;31mIndexError\u001b[0m                                Traceback (most recent call last)",
      "\u001b[0;32m/tmp/ipykernel_12137/1501072686.py\u001b[0m in \u001b[0;36m<module>\u001b[0;34m\u001b[0m\n\u001b[0;32m----> 1\u001b[0;31m \u001b[0mnumbers\u001b[0m\u001b[0;34m[\u001b[0m\u001b[0;36m3\u001b[0m\u001b[0;34m]\u001b[0m\u001b[0;34m\u001b[0m\u001b[0;34m\u001b[0m\u001b[0m\n\u001b[0m",
      "\u001b[0;31mIndexError\u001b[0m: list index out of range"
     ]
    }
   ],
   "source": [
    "numbers[3]"
   ]
  },
  {
   "cell_type": "code",
   "execution_count": 26,
   "id": "91ab00dd-82d6-4bb4-ab70-d05a58321aed",
   "metadata": {},
   "outputs": [
    {
     "data": {
      "text/plain": [
       "3"
      ]
     },
     "execution_count": 26,
     "metadata": {},
     "output_type": "execute_result"
    }
   ],
   "source": [
    "numbers[-1]"
   ]
  },
  {
   "cell_type": "code",
   "execution_count": 27,
   "id": "487fffa5-baea-4d2a-8f17-599c49b99bd4",
   "metadata": {},
   "outputs": [
    {
     "data": {
      "text/plain": [
       "True"
      ]
     },
     "execution_count": 27,
     "metadata": {},
     "output_type": "execute_result"
    }
   ],
   "source": [
    "numbers[2] == numbers[-1]"
   ]
  },
  {
   "cell_type": "code",
   "execution_count": 28,
   "id": "5921ff34-9b29-41f8-8b79-f7c83825a1bc",
   "metadata": {},
   "outputs": [
    {
     "data": {
      "text/plain": [
       "'dog'"
      ]
     },
     "execution_count": 28,
     "metadata": {},
     "output_type": "execute_result"
    }
   ],
   "source": [
    "words = [\"cat\", \"dog\", \"horse\"]\n",
    "words[1]"
   ]
  },
  {
   "cell_type": "code",
   "execution_count": 29,
   "id": "54931563-062d-4c08-bc74-8531e7e77fa4",
   "metadata": {},
   "outputs": [
    {
     "data": {
      "text/plain": [
       "list"
      ]
     },
     "execution_count": 29,
     "metadata": {},
     "output_type": "execute_result"
    }
   ],
   "source": [
    "type(words)"
   ]
  },
  {
   "cell_type": "code",
   "execution_count": 30,
   "id": "8af1ff46-79b8-4267-9fd6-b18675a32176",
   "metadata": {},
   "outputs": [
    {
     "name": "stdout",
     "output_type": "stream",
     "text": [
      "these variables have the same type!\n"
     ]
    }
   ],
   "source": [
    "if type(words) == type(numbers):\n",
    "    print(\"these variables have the same type!\")"
   ]
  },
  {
   "cell_type": "code",
   "execution_count": 31,
   "id": "278297c8-9f31-4d6a-9240-d48f2ef58c46",
   "metadata": {},
   "outputs": [],
   "source": [
    "newlist = [\"cat\", 1, \"horse\"]"
   ]
  },
  {
   "cell_type": "code",
   "execution_count": 32,
   "id": "60a83e89-d957-4c64-992d-bb3addb0f379",
   "metadata": {},
   "outputs": [
    {
     "data": {
      "text/plain": [
       "str"
      ]
     },
     "execution_count": 32,
     "metadata": {},
     "output_type": "execute_result"
    }
   ],
   "source": [
    "type(newlist[0])"
   ]
  },
  {
   "cell_type": "code",
   "execution_count": 33,
   "id": "119ef66d-9ede-403f-9cec-53519279309f",
   "metadata": {},
   "outputs": [
    {
     "data": {
      "text/plain": [
       "int"
      ]
     },
     "execution_count": 33,
     "metadata": {},
     "output_type": "execute_result"
    }
   ],
   "source": [
    "type(newlist[1])"
   ]
  },
  {
   "cell_type": "code",
   "execution_count": 34,
   "id": "4b606624-c1d8-4fd2-a5e4-99d07ce16fb6",
   "metadata": {},
   "outputs": [
    {
     "name": "stdout",
     "output_type": "stream",
     "text": [
      "[1, 2, 3, 4]\n"
     ]
    }
   ],
   "source": [
    "numbers.append(4)\n",
    "print(numbers)"
   ]
  },
  {
   "cell_type": "code",
   "execution_count": 35,
   "id": "0cfd9b28-3e7e-4dfb-9c62-20ddfabc84c0",
   "metadata": {},
   "outputs": [
    {
     "name": "stdout",
     "output_type": "stream",
     "text": [
      "[1, 2, 333, 4]\n"
     ]
    }
   ],
   "source": [
    "numbers[2] = 333\n",
    "print(numbers)\n"
   ]
  },
  {
   "cell_type": "code",
   "execution_count": 36,
   "id": "9d5eb778-c201-492c-85c4-2c2b4fdcc553",
   "metadata": {},
   "outputs": [],
   "source": [
    "# Tuples use parentheses\n",
    "a_tuple = (1, 2, 3)\n",
    "another_tuple = ('blue', 'green', 'red')\n",
    "\n",
    "# Note: lists use square brackets\n",
    "a_list = [1, 2, 3]\n"
   ]
  },
  {
   "cell_type": "code",
   "execution_count": 37,
   "id": "9cbb5fc6-dccb-4642-8bff-a6bc6ddbf589",
   "metadata": {},
   "outputs": [
    {
     "name": "stdout",
     "output_type": "stream",
     "text": [
      "[1, 5, 3]\n"
     ]
    }
   ],
   "source": [
    "a_list[1] = 5\n",
    "print(a_list)"
   ]
  },
  {
   "cell_type": "code",
   "execution_count": 38,
   "id": "a947a9b1-3c29-4f26-8b8f-e73ed24b2719",
   "metadata": {},
   "outputs": [
    {
     "ename": "TypeError",
     "evalue": "'tuple' object does not support item assignment",
     "output_type": "error",
     "traceback": [
      "\u001b[0;31m---------------------------------------------------------------------------\u001b[0m",
      "\u001b[0;31mTypeError\u001b[0m                                 Traceback (most recent call last)",
      "\u001b[0;32m/tmp/ipykernel_12137/3424173030.py\u001b[0m in \u001b[0;36m<module>\u001b[0;34m\u001b[0m\n\u001b[0;32m----> 1\u001b[0;31m \u001b[0ma_tuple\u001b[0m\u001b[0;34m[\u001b[0m\u001b[0;36m2\u001b[0m\u001b[0;34m]\u001b[0m \u001b[0;34m=\u001b[0m \u001b[0;36m5\u001b[0m\u001b[0;34m\u001b[0m\u001b[0;34m\u001b[0m\u001b[0m\n\u001b[0m\u001b[1;32m      2\u001b[0m \u001b[0mprint\u001b[0m\u001b[0;34m(\u001b[0m\u001b[0ma_tuple\u001b[0m\u001b[0;34m)\u001b[0m\u001b[0;34m\u001b[0m\u001b[0;34m\u001b[0m\u001b[0m\n",
      "\u001b[0;31mTypeError\u001b[0m: 'tuple' object does not support item assignment"
     ]
    }
   ],
   "source": [
    "a_tuple[2] = 5\n",
    "print(a_tuple)"
   ]
  },
  {
   "cell_type": "code",
   "execution_count": 39,
   "id": "a69d8a6b-c210-4a5b-b992-e8e0ff100f5e",
   "metadata": {},
   "outputs": [
    {
     "data": {
      "text/plain": [
       "tuple"
      ]
     },
     "execution_count": 39,
     "metadata": {},
     "output_type": "execute_result"
    }
   ],
   "source": [
    "type(a_tuple)"
   ]
  },
  {
   "cell_type": "markdown",
   "id": "fa0bcd43",
   "metadata": {},
   "source": [
    "## Dictionaries"
   ]
  },
  {
   "cell_type": "code",
   "execution_count": 40,
   "id": "af7de939-cb7e-4b61-84ff-099fcb3aa1c3",
   "metadata": {},
   "outputs": [
    {
     "data": {
      "text/plain": [
       "{'one': 'first', 'two': 'second'}"
      ]
     },
     "execution_count": 40,
     "metadata": {},
     "output_type": "execute_result"
    }
   ],
   "source": [
    "my_dict = {'one': 'first', 'two': 'second'}\n",
    "my_dict\n"
   ]
  },
  {
   "cell_type": "code",
   "execution_count": 41,
   "id": "0dc3089d-8e62-4f7b-a1b4-1213256e1736",
   "metadata": {},
   "outputs": [
    {
     "data": {
      "text/plain": [
       "'first'"
      ]
     },
     "execution_count": 41,
     "metadata": {},
     "output_type": "execute_result"
    }
   ],
   "source": [
    "my_dict['one']"
   ]
  },
  {
   "cell_type": "code",
   "execution_count": 42,
   "id": "f79a1c16-8bc9-4447-b9c5-11b7a75c6de4",
   "metadata": {},
   "outputs": [
    {
     "data": {
      "text/plain": [
       "{'one': 'first', 'two': 'second', 'third': 'three'}"
      ]
     },
     "execution_count": 42,
     "metadata": {},
     "output_type": "execute_result"
    }
   ],
   "source": [
    "my_dict['third'] = 'three'\n",
    "my_dict\n"
   ]
  },
  {
   "cell_type": "markdown",
   "id": "07f1b819-f558-4566-ad6d-6c154d3e59c6",
   "metadata": {},
   "source": [
    "## For loops"
   ]
  },
  {
   "cell_type": "code",
   "execution_count": 43,
   "id": "0db2ec1b-18cf-4f98-a7e2-f0ae1edb048a",
   "metadata": {},
   "outputs": [],
   "source": [
    "numbers = [5, 6, 7]"
   ]
  },
  {
   "cell_type": "code",
   "execution_count": 44,
   "id": "3ad3e726-f819-4fba-a753-9b70875239fe",
   "metadata": {},
   "outputs": [
    {
     "name": "stdout",
     "output_type": "stream",
     "text": [
      "5\n",
      "6\n",
      "7\n"
     ]
    }
   ],
   "source": [
    "for item in numbers:\n",
    "    print(item)"
   ]
  },
  {
   "cell_type": "code",
   "execution_count": 45,
   "id": "ae62df9f-8f62-415a-8642-69497b118828",
   "metadata": {},
   "outputs": [
    {
     "name": "stdout",
     "output_type": "stream",
     "text": [
      "0\n",
      "cat\n",
      "1\n",
      "dog\n",
      "2\n",
      "horse\n"
     ]
    }
   ],
   "source": [
    "words = [\"cat\", \"dog\", \"horse\"]\n",
    "for index, item in enumerate(words):\n",
    "    print(index)\n",
    "    print(item)\n"
   ]
  },
  {
   "cell_type": "code",
   "execution_count": 46,
   "id": "9c13f5e0-008e-4f84-9414-9a0d7d5c0daa",
   "metadata": {},
   "outputs": [
    {
     "name": "stdout",
     "output_type": "stream",
     "text": [
      "one -> first\n",
      "two -> second\n",
      "third -> three\n"
     ]
    }
   ],
   "source": [
    "for key, value in my_dict.items():\n",
    "    print(key, '->', value)\n"
   ]
  },
  {
   "cell_type": "markdown",
   "id": "ea2de90a",
   "metadata": {},
   "source": [
    "## Exercises\n",
    "### Exercise 0\n",
    "Try to run this code. Why is there no output?"
   ]
  },
  {
   "cell_type": "code",
   "execution_count": 47,
   "id": "389852b6",
   "metadata": {},
   "outputs": [],
   "source": [
    "x = 6\n",
    "apple = \"apple\""
   ]
  },
  {
   "cell_type": "markdown",
   "id": "78e09296",
   "metadata": {},
   "source": [
    "### Exercise 1\n",
    "1. Calculate: One plus five divided by nine.\n",
    "2. Assign the result of the calculation to a variable.\n",
    "3. Test  if the result is larger than one.\n",
    "4. Round off the result to one decimal. Use the function `round`."
   ]
  },
  {
   "cell_type": "code",
   "execution_count": 48,
   "id": "f7e49006",
   "metadata": {},
   "outputs": [
    {
     "data": {
      "text/plain": [
       "0.7"
      ]
     },
     "execution_count": 48,
     "metadata": {},
     "output_type": "execute_result"
    }
   ],
   "source": [
    "s = (1+5)/9\n",
    "round(s, 1)"
   ]
  },
  {
   "cell_type": "markdown",
   "id": "3ff30e1b",
   "metadata": {},
   "source": [
    "### Exercise 2\n",
    "Predict the results:"
   ]
  },
  {
   "cell_type": "code",
   "execution_count": 49,
   "id": "1e69193b",
   "metadata": {},
   "outputs": [
    {
     "data": {
      "text/plain": [
       "True"
      ]
     },
     "execution_count": 49,
     "metadata": {},
     "output_type": "execute_result"
    }
   ],
   "source": [
    "5 == 5\n",
    "not 3 > 2\n",
    "True == 'True'\n",
    "False < True"
   ]
  },
  {
   "cell_type": "markdown",
   "id": "b0e24cca",
   "metadata": {},
   "source": [
    "### Exercise 3\n",
    "Meet Ann, Bob, Chloe, and Dan. \n",
    "1. Create a list with their names. Save the list as \"name\".\n",
    "\n",
    "2.  How old are Ann, Bob, Chloe, and Dan? You decide! Design a numeric list with their respective ages. Save it as \"age\".\n",
    "\n",
    "3.  What is their average age? (Use the function `sum` to sum up their cumulative ages, you can use `len(age)` to get the number of elements in a list)"
   ]
  },
  {
   "cell_type": "code",
   "execution_count": 50,
   "id": "b5d89097",
   "metadata": {},
   "outputs": [
    {
     "data": {
      "text/plain": [
       "19.0"
      ]
     },
     "execution_count": 50,
     "metadata": {},
     "output_type": "execute_result"
    }
   ],
   "source": [
    "name = [\"Ann\", \"Bob\", \"Chloe\", \"Dan\"]\n",
    "age = [3, 30, 41, 2]\n",
    "sum(age)/len(age)"
   ]
  },
  {
   "cell_type": "markdown",
   "id": "ce4de436",
   "metadata": {},
   "source": [
    "### Exercise 4\n",
    "1.  Return only the first number in the list age.\n",
    "2.  Return the 2nd and 4th name in your list name.\n",
    "3.  Return only ages under 30 from your list age.\n",
    "4.  Return the name \"Chloe\" from the list name."
   ]
  },
  {
   "cell_type": "code",
   "execution_count": 51,
   "id": "98afdc25",
   "metadata": {},
   "outputs": [
    {
     "ename": "SyntaxError",
     "evalue": "invalid syntax (4124803616.py, line 4)",
     "output_type": "error",
     "traceback": [
      "\u001b[0;36m  File \u001b[0;32m\"/tmp/ipykernel_12137/4124803616.py\"\u001b[0;36m, line \u001b[0;32m4\u001b[0m\n\u001b[0;31m    for a in age:if a < 30:new_age.append(a)[n for n in name if n == \"Chloe\"] #or\u001b[0m\n\u001b[0m                 ^\u001b[0m\n\u001b[0;31mSyntaxError\u001b[0m\u001b[0;31m:\u001b[0m invalid syntax\n"
     ]
    }
   ],
   "source": [
    "age[0]\n",
    "[age[1], age[3]]\n",
    "new_age=[]\n",
    "for a in age:if a < 30:new_age.append(a)[n for n in name if n == \"Chloe\"] #or\n",
    "name[name.index(\"Chloe\")]"
   ]
  },
  {
   "cell_type": "markdown",
   "id": "beed22df",
   "metadata": {},
   "source": [
    "### Exercise 5\n",
    "Make an if statement that tests if a number is even, and saves the classification in a variable called number_class."
   ]
  },
  {
   "cell_type": "code",
   "execution_count": 52,
   "id": "2f89fb58",
   "metadata": {},
   "outputs": [
    {
     "name": "stdout",
     "output_type": "stream",
     "text": [
      "5 is odd\n"
     ]
    }
   ],
   "source": [
    "number = 5\n",
    "if number%2 == 0:\n",
    "    number_class = \"even\"\n",
    "else:\n",
    "    number_class = \"odd\"\n",
    "print(number, \"is\", number_class)"
   ]
  },
  {
   "cell_type": "markdown",
   "id": "83af91ef",
   "metadata": {},
   "source": [
    "### Exercise 6\n",
    "Turn the if statement from the last exercise into a function. Let the user provide the value for number, and return the number_class."
   ]
  },
  {
   "cell_type": "code",
   "execution_count": 53,
   "id": "e6957d6d",
   "metadata": {},
   "outputs": [],
   "source": [
    "def even_or_odd(number):\n",
    "    if number%2 == 0:\n",
    "        number_class = \"even\"\n",
    "    else:\n",
    "        number_class = \"odd\"\n",
    "    return number_class"
   ]
  },
  {
   "cell_type": "code",
   "execution_count": 54,
   "id": "7faddd30",
   "metadata": {},
   "outputs": [
    {
     "name": "stdout",
     "output_type": "stream",
     "text": [
      "5 is odd\n"
     ]
    }
   ],
   "source": [
    "number = 5\n",
    "print(number, \"is\", even_or_odd(number))"
   ]
  },
  {
   "cell_type": "markdown",
   "id": "e99e10dd",
   "metadata": {},
   "source": [
    "### Exercise 7 \n",
    "Use the function above to determine whether the numbers between 1 and 10 are even or odd."
   ]
  },
  {
   "cell_type": "code",
   "execution_count": 55,
   "id": "98092a5c",
   "metadata": {},
   "outputs": [
    {
     "name": "stdout",
     "output_type": "stream",
     "text": [
      "1 is odd\n",
      "2 is even\n",
      "3 is odd\n",
      "4 is even\n",
      "5 is odd\n",
      "6 is even\n",
      "7 is odd\n",
      "8 is even\n",
      "9 is odd\n",
      "10 is even\n"
     ]
    }
   ],
   "source": [
    "for i in range(1, 11):\n",
    "    res = even_or_odd(i)\n",
    "    print(i, 'is', res)"
   ]
  },
  {
   "cell_type": "code",
   "execution_count": 56,
   "id": "a21e737c",
   "metadata": {},
   "outputs": [],
   "source": []
  }
 ],
 "metadata": {
  "kernelspec": {
   "display_name": "Python 3",
   "language": "python",
   "name": "python3"
  },
  "language_info": {
   "codemirror_mode": {
    "name": "ipython",
    "version": 3
   },
   "file_extension": ".py",
   "mimetype": "text/x-python",
   "name": "python",
   "nbconvert_exporter": "python",
   "pygments_lexer": "ipython3",
   "version": "3.8.8"
  },
  "toc": {
   "base_numbering": 1,
   "nav_menu": {},
   "number_sections": true,
   "sideBar": true,
   "skip_h1_title": false,
   "title_cell": "Table of Contents",
   "title_sidebar": "Contents",
   "toc_cell": false,
   "toc_position": {},
   "toc_section_display": true,
   "toc_window_display": false
  }
 },
 "nbformat": 4,
 "nbformat_minor": 5
}
