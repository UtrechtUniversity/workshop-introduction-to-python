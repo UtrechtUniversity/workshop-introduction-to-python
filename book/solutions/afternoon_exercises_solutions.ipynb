{
 "cells": [
  {
   "cell_type": "raw",
   "id": "14f401b8-2d1d-4a01-a3c8-ed2c59e66d29",
   "metadata": {},
   "source": [
    "---\n",
    "format: html\n",
    "execute:   \n",
    "  enabled: true\n",
    "  error: true\n",
    "---"
   ]
  },
  {
   "cell_type": "markdown",
   "id": "67d94b6e",
   "metadata": {},
   "source": [
    "# Afternoon Exercises: Working with data {.unnumbered}"
   ]
  },
  {
   "cell_type": "code",
   "execution_count": null,
   "id": "2c6372a4",
   "metadata": {},
   "outputs": [],
   "source": [
    "import pandas as pd\n",
    "surveys_df = pd.read_csv('../../course_materials/data/surveys.csv') # in your notebook the path should be 'data/surveys.csv'"
   ]
  },
  {
   "cell_type": "markdown",
   "id": "507d1c2c-98b8-4a67-b2e5-b3a3031a5b5f",
   "metadata": {},
   "source": [
    "### Exercise 0\n",
    "\n",
    "Type the following commands and check the outputs. Can you tell what each command does? What is the difference between commands with and without parenthesis?\n",
    "\n",
    "```python\n",
    "surveys_df.shape # Answer: the dimensions of the dataframe\n",
    "surveys_df.columns # Answer: the column names of the dataframe\n",
    "surveys_df.index # Answer: the index (row labels) of the dataframe\n",
    "surveys_df.dtypes # Answer: the data types of each column\n",
    "surveys_df.head(<try_various_integers_here>) # Answer: the first n rows of the dataframe\n",
    "surveys_df.tail(<try_various_integers_here>) # Answer: the last n rows of the dataframe\n",
    "```"
   ]
  },
  {
   "cell_type": "markdown",
   "id": "0514bad4-1266-4553-9752-29dcf3166d21",
   "metadata": {},
   "source": [
    "### Exercise 1\n",
    "Perform some basic statistics on the weight column. For practical reasons, it can be useful to first create a variable `weight` that contains the just the weight column. It will make the code look a bit cleaner. Can you tell what each method listed below does? Look at our explorative plot, do the statistics make sense?\n",
    "\n",
    "```python\n",
    "weight =s urveys_df['weight'] # Answer: creates a new variable that contains the weight column\n",
    "weight.min() # Answer: the minimum value of the weight column\n",
    "weight.max() # Answer: the maximum value of the weight column\n",
    "weight.mean() # Answer: the mean value of the weight column\n",
    "weight.std() # Answer: the standard deviation of the weight column\n",
    "weight.count() # Answer: the number of non-NaN values in the weight column\n",
    "```"
   ]
  },
  {
   "cell_type": "markdown",
   "id": "2bcb581f",
   "metadata": {},
   "source": [
    "### Exercise 2\n",
    "- Swap the order of column names in `surveys_df[['plot_id', 'species_id']]`\n",
    "- Repeat one of the column names like `surveys_df[['plot_id', 'plot_id', 'species_id']]`.\n",
    "What do the results look like and why?  \n",
    "\n",
    "> Answer: the column names are repeated and the data is displayed twice. Column names do not have to be unique.\n",
    "\n",
    "- Which error occurs in `surveys_df['plot_id', 'species_id']` and why?  \n",
    "\n",
    "> Answer: KeyError: ('plot_id', 'species_id'). The column names are not in a list. We need double square brackets to select multiple columns.\n",
    "\n",
    "- Which error occurs in `surveys_df['speciess']`?  \n",
    "\n",
    "> Answer: KeyError: 'speciess'. The column name does not exist. Typo."
   ]
  },
  {
   "cell_type": "code",
   "execution_count": null,
   "id": "3731f5fd",
   "metadata": {},
   "outputs": [],
   "source": [
    "print(surveys_df[['species_id', 'plot_id']])"
   ]
  },
  {
   "cell_type": "code",
   "execution_count": null,
   "id": "b71788b1",
   "metadata": {},
   "outputs": [],
   "source": [
    "surveys_df[['plot_id', 'plot_id', 'species_id']]"
   ]
  },
  {
   "cell_type": "code",
   "execution_count": null,
   "id": "bb68a995",
   "metadata": {},
   "outputs": [],
   "source": [
    "surveys_df['plot_id', 'species_id'] "
   ]
  },
  {
   "cell_type": "code",
   "execution_count": null,
   "id": "b74edc72",
   "metadata": {},
   "outputs": [],
   "source": [
    "surveys_df['speciess']"
   ]
  },
  {
   "cell_type": "markdown",
   "id": "119b576b",
   "metadata": {},
   "source": [
    "### Exercise 3\n",
    "What happens when you call:\n",
    "\n",
    "- `surveys_df[0:1]` Answer: shows the first row of the dataframe\n",
    "- `surveys_df[:4]` Answer: shows the first 4 rows of the dataframe from index 0 to index 3\n",
    "- `surveys_df[:-1]` Answer: shows all rows of the dataframe except the last row"
   ]
  },
  {
   "cell_type": "code",
   "execution_count": null,
   "id": "bd3b4c74",
   "metadata": {},
   "outputs": [],
   "source": [
    "surveys_df[0:1]\n",
    "surveys_df[:4] \n",
    "surveys_df[:-1] "
   ]
  },
  {
   "cell_type": "markdown",
   "id": "7b12cdaf",
   "metadata": {},
   "source": [
    "### Exercise 4\n",
    "- Create a new DataFrame that only contains observations from the original with sex values that are not female or male. Print the number of rows in this new DataFrame. Verify the result by comparing the number of rows in the new DataFrame with the number of rows in the surveys DataFrame where sex is NaN (hint: there is a function `isnull`)."
   ]
  },
  {
   "cell_type": "code",
   "execution_count": null,
   "id": "53f7777a",
   "metadata": {},
   "outputs": [],
   "source": [
    "df = surveys_df[(surveys_df['sex'] != 'M') & (surveys_df['sex'] != 'F')]\n",
    "print(\"Number of rows not female or male:\", len(df))\n",
    "print(\"Number of rows NaN:\", len(surveys_df['sex'].isnull()))\n",
    "print(\"Unique values in column 'sex':\", df['sex'].unique())"
   ]
  },
  {
   "cell_type": "markdown",
   "id": "b34b321b",
   "metadata": {},
   "source": [
    "### Exercise 5: Putting it all together \n",
    "1. Clean the column *sex* (leave out samples of which we do not know whether they are male or female) and save the result as a new dataframe `clean_df`.\n",
    "2. Fill undefined *weight* values with the mean of all valid weights in `surveys_df`.\n",
    "3. Calculate the average weight of that new DataFrame `clean_df`"
   ]
  },
  {
   "cell_type": "code",
   "execution_count": null,
   "id": "570cbd6c",
   "metadata": {},
   "outputs": [],
   "source": [
    "# Step 1\n",
    "# sex is 'F' or 'M'. The `|` means or.\n",
    "clean_df = surveys_df[(surveys_df['sex']=='F') | (surveys_df['sex']=='M')]\n",
    "# Alternative solution: select columns where 'not' sex is null. The `~` means not.\n",
    "clean_df = surveys_df[~(surveys_df['sex'].isnull())]\n",
    "\n",
    "# Step 2\n",
    "clean_df.weight.fillna(surveys_df['weight'].mean())\n",
    "\n",
    "# Step 3\n",
    "print(\"Average weight of surveys_df:\", surveys_df['weight'].mean())\n",
    "print(\"Average weight of clean_df:\", clean_df['weight'].mean())"
   ]
  },
  {
   "cell_type": "markdown",
   "id": "ccb33c2e",
   "metadata": {},
   "source": [
    "### Exercise 6\n",
    "Let's see in which plots animals get more food. Calculate the average weight per plot! Complete the code below."
   ]
  },
  {
   "cell_type": "code",
   "execution_count": null,
   "id": "733aba46",
   "metadata": {},
   "outputs": [],
   "source": [
    "grouped_data = surveys_df.groupby(\"plot_id\")\n",
    "grouped_data['weight'].mean()"
   ]
  },
  {
   "cell_type": "markdown",
   "id": "2bccb9da",
   "metadata": {},
   "source": [
    "### Exercise 7\n",
    "See below a more complex grouping example. Investigate the group keys and row indexes for this more complex grouping example. \n",
    "Why are there more than 48 groups? Answer: nan values are not ignored when grouping.\n",
    "Calculate the average weight per group.\n",
    "What happened to the third group and why does it not turn up in our statistics? Answer: the third group contains only nan values and is therefore not included in the statistics."
   ]
  },
  {
   "cell_type": "code",
   "execution_count": null,
   "id": "ee674ae9",
   "metadata": {},
   "outputs": [],
   "source": [
    "grouped_data = surveys_df.groupby(['sex', 'plot_id'])\n",
    "print(len(grouped_data.groups))\n",
    "grouped_data.groups.keys()"
   ]
  },
  {
   "cell_type": "code",
   "execution_count": null,
   "id": "3d9b5ba0",
   "metadata": {},
   "outputs": [],
   "source": [
    "grouped_data['weight'].mean()"
   ]
  },
  {
   "cell_type": "markdown",
   "id": "b0f1ab75",
   "metadata": {},
   "source": [
    "### Exercise 8\n",
    "Would it make sense to group our data frame by the column *weight*? Why or why not?"
   ]
  },
  {
   "cell_type": "code",
   "execution_count": null,
   "id": "bbff11b3",
   "metadata": {},
   "outputs": [],
   "source": [
    "# In real life nearly every sample has a unique value. So nearly every sample would \n",
    "# be placed in an own group.\n",
    "# In our training data you can see that there are quite some values for weight. So\n",
    "# usually it is not a good idea to categorise (group) data on such values.\n",
    "print(\"Number of rows:\", len(surveys_df))\n",
    "print(len(surveys_df['weight'].unique())) #includes nan\n",
    "print(len(surveys_df.groupby(['weight']).groups)) #does not include nan"
   ]
  },
  {
   "cell_type": "markdown",
   "id": "79ae54cf",
   "metadata": {},
   "source": [
    "### Exercise 9\n",
    "In the given example of vertical concatenation, you concatenated two DataFrames with the same columns. What would happen if the two DataFrames to concatenate have different column number and names?\n",
    "\n",
    "  1. Create a new DataFrame using the last 10 rows of the species DataFrame (`species_df`);\n",
    "  2. Concatenate vertically `surveys_df_sub_first10` and your just created DataFrame;\n",
    "  3. Print the concatenated DataFrame info on the screen. How may rows does it have? What happened to the columns? Explain why you get this result."
   ]
  },
  {
   "cell_type": "code",
   "execution_count": null,
   "id": "18b13126",
   "metadata": {},
   "outputs": [],
   "source": [
    "species_df = pd.read_csv(\"../../course_materials/data/species.csv\")\n",
    "species_df_sub_last10 = species_df.tail(10)\n",
    "\n",
    "surveys_df_sub_first10 = surveys_df.head(10)\n",
    "vert_concat = pd.concat([surveys_df_sub_first10, species_df_sub_last10], axis=0)\n",
    "\n",
    "vert_concat"
   ]
  },
  {
   "cell_type": "markdown",
   "id": "aa6d4ee8",
   "metadata": {},
   "source": [
    "We get a total of 20 rows and 12 columns. The original dataframes together had a total of 13 columns. As they both have a column `species_id`, this one is collapsed. All other columns are padded with `NaN` values.\n",
    "We expect 20 rows, as we are putting two DataFrames of 10 rows one after the other. The padding of the columns happens because these two DataFrames do not have the same column names. To keep all the information that was in the original DataFrames, the padding of columns that occur in only one of the two is necessary."
   ]
  },
  {
   "cell_type": "markdown",
   "id": "316c4a69",
   "metadata": {},
   "source": [
    "### Exercise 10\n",
    "  1. Looking at the `inner_join` example, can you explain how much of each of the two DataFrames is missing from the result?\n",
    "\n",
    "Now consider the other types of joins, for each one, can you predict the number of rows and the contents of the resulting DataFrame, based on the diagrams in the picture?\n",
    "\n",
    "  2. For the outer join;\n",
    "  3. For the left join;\n",
    "  4. For the right join."
   ]
  },
  {
   "cell_type": "markdown",
   "id": "fedcfdb8",
   "metadata": {},
   "source": [
    "1. From the left DataFrame, three rows are not included in the `inner_join` DataFrame. This is because they have a value in their `species_id` column that is not present in the right DataFrame. From the right DataFrame, the information of 18 rows is missing from the result. This is because their `species_id` column has a value that does not occur in the left DataFrame. Note that the information from the two rows that are represented in the result is duplicated a number of times, as their `species_id` value occurs multiple times in the left DataFrame.\n",
    "2. The result has a total of 28 rows. You may notice that the first seven of those rows are the same as the result of the inner join, followed by the three rows from the left DataFrame that are not represented in the inner join, and finally, the 18 rows from the right DataFrame that are not represented in the inner join. This makes for a total of 7 + 3 + 18 = 28 rows. The outer join preserves *all* the information from both the left and right DataFrames."
   ]
  },
  {
   "cell_type": "code",
   "execution_count": null,
   "id": "3d130e12",
   "metadata": {},
   "outputs": [],
   "source": [
    "# 2.\n",
    "left_df = surveys_df.head(10)\n",
    "right_df = species_df.head(20)\n",
    "outer_join = pd.merge(left_df, right_df, left_on='species_id', right_on='species_id', \n",
    "                      how='outer')\n",
    "outer_join"
   ]
  },
  {
   "cell_type": "markdown",
   "id": "2c1b8e14",
   "metadata": {},
   "source": [
    "3. Ten rows. The resulting DataFrame closely resembles the original left DataFrame, but with information from the right DataFrame added to it, where applicable."
   ]
  },
  {
   "cell_type": "code",
   "execution_count": null,
   "id": "0bbffa2b",
   "metadata": {},
   "outputs": [],
   "source": [
    "# 3.\n",
    "left_join = pd.merge(left_df, right_df, left_on='species_id', right_on='species_id', \n",
    "                     how='left')\n",
    "left_join"
   ]
  },
  {
   "cell_type": "markdown",
   "id": "ae221e20",
   "metadata": {},
   "source": [
    "4. 25 rows. The resulting DataFrame closely resembles the original right DataFrame, but with information from the left DataFrame added to it, where applicable. Note that rows from the right DataFrame that have multiple matching rows in the left DataFrame are duplicated."
   ]
  },
  {
   "cell_type": "code",
   "execution_count": null,
   "id": "763eb222",
   "metadata": {},
   "outputs": [],
   "source": [
    "# 4.\n",
    "right_join = pd.merge(left_df, right_df, left_on='species_id', right_on='species_id', \n",
    "                      how='right')\n",
    "right_join"
   ]
  },
  {
   "cell_type": "markdown",
   "id": "d6382b5f-9c13-4ceb-88f6-f7ba13f797f7",
   "metadata": {
    "tags": []
   },
   "source": [
    "### Exercise 11\n",
    "\n",
    "Time to play with plots! Create a multiplot following these instructions:\n",
    "- Using the matplotlib.pyplot function `subplots()`, create a single figure (10x10 inches) with four subplots organized in two rows and two columns; \n",
    "- In the top row plot hindfoot_length VS weight for female and male in two different plots with two different colors;\n",
    "- In the bottom row, plot the same data of the top row, but using data collected before (left plot) and after (right plot) 1990;\n",
    "- Give to each plot an appropriate descriptive title and customize the plot labels.\n",
    "<br>\n",
    "\n",
    "Feel free to use the DataFrame `plot` method or `plt.scatter` function to plot data points, but be awave that, in any case, the first thing to do is creating _Figure_ and _Axes_.<br>\n",
    "EXTRA: The four plots have same x and y axes spanning the same range. Can you remove the space between the four plots? Try it!"
   ]
  },
  {
   "cell_type": "code",
   "execution_count": null,
   "id": "1896c89b-f2c2-41ae-9a18-9b9fb8a87648",
   "metadata": {},
   "outputs": [],
   "source": [
    "from matplotlib import pyplot as plt\n",
    "\n",
    "fig, axes = plt.subplots(2,2,figsize=(10,10)) # prepare a matplotlib figure\n",
    "\n",
    "# Top left plot, male data\n",
    "surveys_df[surveys_df['sex']=='M'].plot(\"hindfoot_length\", \"weight\", kind=\"scatter\", ax=axes[0][0], color='blue')\n",
    "axes[0][0].set_title('Male data')\n",
    "axes[0][0].grid()\n",
    "\n",
    "# Top right plot, female data\n",
    "surveys_df[surveys_df['sex']=='F'].plot(\"hindfoot_length\", \"weight\", kind=\"scatter\", ax=axes[0][1], color='red')\n",
    "axes[0][1].set_title('Female data')\n",
    "axes[0][1].grid()\n",
    "\n",
    "year = 2000\n",
    "\n",
    "# Bottom left plot, male data\n",
    "surveys_df[(surveys_df['sex']=='M') & (surveys_df['year'] < year)].plot(\"hindfoot_length\", \"weight\", kind=\"scatter\", ax=axes[1][0], color='blue')\n",
    "axes[1][0].set_title(f'Male data (< {year})')\n",
    "axes[1][0].grid()\n",
    "\n",
    "# Bottom right plot, male data\n",
    "surveys_df[(surveys_df['sex']=='F') & (surveys_df['year'] >= year)].plot(\"hindfoot_length\", \"weight\", kind=\"scatter\", ax=axes[1][1], color='red')\n",
    "axes[1][1].set_title(f'Female data (>= {year})')\n",
    "axes[1][1].grid()\n",
    "\n",
    "# Removing individual plot labels\n",
    "for i in range(2):\n",
    "    for j in range(2):\n",
    "        axes[i][j].set_xlabel('')\n",
    "        axes[i][j].set_ylabel('')\n",
    "\n",
    "# Initializing figure labels\n",
    "fig.supxlabel(\"Hindfoot Length [cm]\",fontsize=14)\n",
    "fig.supylabel(\"Weight [Kg]\",fontsize=14)\n",
    "fig.suptitle('Scatter plot of weight versus hindfoot length', fontsize=15)"
   ]
  },
  {
   "cell_type": "code",
   "execution_count": null,
   "id": "6b0c5478",
   "metadata": {},
   "outputs": [],
   "source": []
  }
 ],
 "metadata": {
  "kernelspec": {
   "display_name": "Python 3 (ipykernel)",
   "language": "python",
   "name": "python3"
  },
  "language_info": {
   "codemirror_mode": {
    "name": "ipython",
    "version": 3
   },
   "file_extension": ".py",
   "mimetype": "text/x-python",
   "name": "python",
   "nbconvert_exporter": "python",
   "pygments_lexer": "ipython3",
   "version": "3.10.13"
  }
 },
 "nbformat": 4,
 "nbformat_minor": 5
}
