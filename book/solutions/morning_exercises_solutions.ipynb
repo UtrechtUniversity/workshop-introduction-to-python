{
 "cells": [
  {
   "cell_type": "markdown",
   "id": "cac5b58d",
   "metadata": {},
   "source": [
    "---\n",
    "execute: \n",
    "  enabled: true\n",
    "  error: true\n",
    "---"
   ]
  },
  {
   "cell_type": "markdown",
   "id": "f2eba16f",
   "metadata": {},
   "source": [
    "# Morning Exercises: Python fundamentals {.unnumbered}"
   ]
  },
  {
   "cell_type": "markdown",
   "id": "74ecb0e3-061f-4318-b0c1-eb7eea7b76a8",
   "metadata": {},
   "source": [
    "### Exercise 0\n",
    "\n",
    "1. Try to run the code below. Why is there no output?"
   ]
  },
  {
   "cell_type": "code",
   "execution_count": 1,
   "id": "5b2453e4-d68b-49ad-85b1-1d28e94e54a7",
   "metadata": {},
   "outputs": [],
   "source": [
    "x = 6\n",
    "apple = \"apple\""
   ]
  },
  {
   "cell_type": "markdown",
   "id": "c3adb84c-cdc0-4d09-8ce9-8b7ced4e77a4",
   "metadata": {},
   "source": [
    "Answer: Only the output of the last command is printed and the last command is a variable assignment which does not produce any printed output."
   ]
  },
  {
   "cell_type": "markdown",
   "id": "bfefe105-7030-49a8-8222-43b0fbe11440",
   "metadata": {},
   "source": [
    "2. Change the code cell in such a way that the variable names and values are printed as output. You can type the variable names in the print statements, but do not type the value."
   ]
  },
  {
   "cell_type": "code",
   "execution_count": 2,
   "id": "7463ed46-b7c5-4b51-b34a-7c5f3c478283",
   "metadata": {},
   "outputs": [
    {
     "name": "stdout",
     "output_type": "stream",
     "text": [
      "the value of x is 6\n",
      "the value of apple is apple\n"
     ]
    }
   ],
   "source": [
    "x = 6\n",
    "apple = \"apple\"\n",
    "print(\"the value of x is\", x)\n",
    "print(\"the value of apple is\", apple)"
   ]
  },
  {
   "cell_type": "markdown",
   "id": "85ae09a4-fc20-4dd4-b92d-d0691840a1e7",
   "metadata": {},
   "source": [
    "### Exercise 1\n",
    "1. Calculate: One plus five and divide the sum by nine amd assign the result of the calculation to a variable.\n",
    "2. Test  if the result is larger than one. (tip: output of the cell should be True or False)\n",
    "3. Round off the result to one decimal. Use the function `round`. (tip: use `? round` or you internet search engine for information about how to use the function)"
   ]
  },
  {
   "cell_type": "code",
   "execution_count": 3,
   "id": "f6be831f-656e-4eba-96ec-6f8703840617",
   "metadata": {},
   "outputs": [],
   "source": [
    "s = 1+5/9"
   ]
  },
  {
   "cell_type": "code",
   "execution_count": 4,
   "id": "27da351a-5246-458f-8391-3ef325ee2f20",
   "metadata": {},
   "outputs": [
    {
     "data": {
      "text/plain": [
       "True"
      ]
     },
     "execution_count": 13,
     "metadata": {},
     "output_type": "execute_result"
    }
   ],
   "source": [
    "s > 1"
   ]
  },
  {
   "cell_type": "code",
   "execution_count": 5,
   "id": "76ff08d7-e30e-4b2e-b80f-f3e90598b840",
   "metadata": {},
   "outputs": [
    {
     "data": {
      "text/plain": [
       "1.6"
      ]
     },
     "execution_count": 14,
     "metadata": {},
     "output_type": "execute_result"
    }
   ],
   "source": [
    "round(s, 1)"
   ]
  },
  {
   "cell_type": "markdown",
   "id": "8f57f0f8-400f-4922-b2ab-602b463d4a64",
   "metadata": {},
   "source": [
    "### Exercise 2\n",
    "Predict the results of each of the following comparisons first, then run the cell below:\n",
    "(double click this cell to edit)\n",
    "\n",
    "`5 == 5` answer: True, 5 is equal to 5  \n",
    "`not 3 > 2` answer: False, not inverts True to False  \n",
    "`True == 'True'` answer: False, The first True is of type `bool` and does not equal the second 'True' of type string)  \n",
    "`False < True` answer: True, The Boolean value `False` is also treated as 0, where `True` is 1"
   ]
  },
  {
   "cell_type": "code",
   "execution_count": 6,
   "id": "c3e04e72-a4e7-4599-a8d4-759e4031d7a1",
   "metadata": {},
   "outputs": [
    {
     "name": "stdout",
     "output_type": "stream",
     "text": [
      "True\n",
      "False\n",
      "False\n",
      "True\n"
     ]
    }
   ],
   "source": [
    "print(5 == 5)\n",
    "print(not 3 > 2)\n",
    "print(True == 'True')\n",
    "print(False < True)"
   ]
  },
  {
   "cell_type": "markdown",
   "id": "7c7cfb9e-63c1-42e0-a2fc-97d5b399d103",
   "metadata": {},
   "source": [
    "### Exercise 3: variables and operators\n",
    "Evaluate the statements below. What do you think will be the output of python? Do you agree with python?\n",
    "\n",
    "- `1 + 1` answer: 2, 1 and 1 are added and the result is printed as output.\n",
    "- `1 + True` answer: 2, in Python `True`` is equal to `1`\n",
    "- `1 + \"one\"` answer: error, an integer cannot be added to a string\n"
   ]
  },
  {
   "cell_type": "code",
   "execution_count": 7,
   "id": "20427367-d74a-4e22-9a64-975d46a966cc",
   "metadata": {},
   "outputs": [
    {
     "name": "stdout",
     "output_type": "stream",
     "text": [
      "2\n"
     ]
    }
   ],
   "source": [
    "print(1 + 1)"
   ]
  },
  {
   "cell_type": "code",
   "execution_count": 8,
   "id": "35bfe887",
   "metadata": {},
   "outputs": [
    {
     "name": "stdout",
     "output_type": "stream",
     "text": [
      "2\n"
     ]
    }
   ],
   "source": [
    "print(1 + True)"
   ]
  },
  {
   "cell_type": "code",
   "execution_count": 9,
   "id": "cd1f883f",
   "metadata": {},
   "outputs": [
    {
     "name": "stdout",
     "output_type": "stream",
     "text": [
      "Unexpected exception formatting exception. Falling back to standard exception\n"
     ]
    },
    {
     "name": "stderr",
     "output_type": "stream",
     "text": [
      "Traceback (most recent call last):\n",
      "  File \"/home/jelle/.local/lib/python3.8/site-packages/IPython/core/interactiveshell.py\", line 3460, in run_code\n",
      "    exec(code_obj, self.user_global_ns, self.user_ns)\n",
      "  File \"/tmp/ipykernel_18646/2622355716.py\", line 1, in <module>\n",
      "    print(1 + \"one\")\n",
      "TypeError: unsupported operand type(s) for +: 'int' and 'str'\n",
      "\n",
      "During handling of the above exception, another exception occurred:\n",
      "\n",
      "Traceback (most recent call last):\n",
      "  File \"/home/jelle/.local/lib/python3.8/site-packages/IPython/core/interactiveshell.py\", line 2057, in showtraceback\n",
      "    stb = self.InteractiveTB.structured_traceback(\n",
      "  File \"/home/jelle/.local/lib/python3.8/site-packages/IPython/core/ultratb.py\", line 1288, in structured_traceback\n",
      "    return FormattedTB.structured_traceback(\n",
      "  File \"/home/jelle/.local/lib/python3.8/site-packages/IPython/core/ultratb.py\", line 1177, in structured_traceback\n",
      "    return VerboseTB.structured_traceback(\n",
      "  File \"/home/jelle/.local/lib/python3.8/site-packages/IPython/core/ultratb.py\", line 1030, in structured_traceback\n",
      "    formatted_exception = self.format_exception_as_a_whole(etype, evalue, etb, number_of_lines_of_context,\n",
      "  File \"/home/jelle/.local/lib/python3.8/site-packages/IPython/core/ultratb.py\", line 935, in format_exception_as_a_whole\n",
      "    self.get_records(etb, number_of_lines_of_context, tb_offset) if etb else []\n",
      "  File \"/home/jelle/.local/lib/python3.8/site-packages/IPython/core/ultratb.py\", line 987, in get_records\n",
      "    style = stack_data.style_with_executing_node(style, self._tb_highlight)\n",
      "  File \"/home/jelle/.local/lib/python3.8/site-packages/stack_data/core.py\", line 455, in style_with_executing_node\n",
      "    class NewStyle(style):\n",
      "  File \"/usr/lib/python3/dist-packages/pygments/style.py\", line 91, in __new__\n",
      "    ndef[4] = colorformat(styledef[3:])\n",
      "  File \"/usr/lib/python3/dist-packages/pygments/style.py\", line 58, in colorformat\n",
      "    assert False, \"wrong color format %r\" % text\n",
      "AssertionError: wrong color format 'ansiyellow'\n"
     ]
    }
   ],
   "source": [
    "print(1 + \"one\")"
   ]
  },
  {
   "cell_type": "markdown",
   "id": "c04be0a7",
   "metadata": {},
   "source": [
    "**Note**, that the boolean variables `True` and `False` are turned into numbers when used in calculations. `True` becomes `1` and `False` becomes `0`."
   ]
  },
  {
   "cell_type": "markdown",
   "id": "9a563334-42f1-4f7c-b4bc-abe5d2bdb17d",
   "metadata": {},
   "source": [
    "### Exercise 4\n",
    "Meet Ann, Bob, Chloe, and Dan. \n",
    "1. Create a list with their names. Save the list as \"name\".\n",
    "\n",
    "2.  How old are Ann, Bob, Chloe, and Dan? You decide! Design a numeric list with their respective ages. Save it as \"age\".\n",
    "\n",
    "3.  What is their average age? (Use the function `sum` to sum up their cumulative ages, you can use `len(age)` to get the number of elements in a list)"
   ]
  },
  {
   "cell_type": "code",
   "execution_count": 10,
   "id": "6d12ffce-0492-4b91-88b6-d657bbeffe2f",
   "metadata": {},
   "outputs": [
    {
     "name": "stdout",
     "output_type": "stream",
     "text": [
      "average age is 29.75\n"
     ]
    }
   ],
   "source": [
    "name = ['Ann', 'Bob', 'Chloe', 'Dan']\n",
    "age = [25, 28, 36, 30]\n",
    "print('average age is', sum(age)/len(age))"
   ]
  },
  {
   "cell_type": "markdown",
   "id": "a50a2811-dbd5-492b-9ece-c6b843cd63c9",
   "metadata": {},
   "source": [
    "### Exercise 5\n",
    "\n",
    "1.  Return only the first number in the list age.\n",
    "2.  Return the 2nd and 4th name in your list name.\n",
    "3.  Return only ages under 30 from your list age.\n",
    "4.  Return the age of \"Chloe\" from the list age."
   ]
  },
  {
   "cell_type": "code",
   "execution_count": 11,
   "id": "2b5a51a0-3c0d-477c-996c-4baf28712025",
   "metadata": {},
   "outputs": [
    {
     "data": {
      "text/plain": [
       "25"
      ]
     },
     "execution_count": 20,
     "metadata": {},
     "output_type": "execute_result"
    }
   ],
   "source": [
    "age[0]"
   ]
  },
  {
   "cell_type": "code",
   "execution_count": 12,
   "id": "f70eb682-14dd-422e-8073-7f18b81c5c3f",
   "metadata": {},
   "outputs": [
    {
     "data": {
      "text/plain": [
       "['Bob', 'Dan']"
      ]
     },
     "execution_count": 21,
     "metadata": {},
     "output_type": "execute_result"
    }
   ],
   "source": [
    "[name[1], name[3]]"
   ]
  },
  {
   "cell_type": "code",
   "execution_count": 13,
   "id": "a09e1dce-23be-4de5-9e70-6b7d616efed4",
   "metadata": {},
   "outputs": [
    {
     "data": {
      "text/plain": [
       "[25, 28]"
      ]
     },
     "execution_count": 22,
     "metadata": {},
     "output_type": "execute_result"
    }
   ],
   "source": [
    "new_age=[]\n",
    "for a in age:\n",
    "    if a < 30:\n",
    "        new_age.append(a)\n",
    "\n",
    "new_age\n",
    "\n",
    "# without the bonus:\n",
    "# for a in age: \n",
    "#     if a < 30: \n",
    "#         print(a)"
   ]
  },
  {
   "cell_type": "code",
   "execution_count": 14,
   "id": "0851e7fc-ce66-449a-a9a6-25f4df4363f6",
   "metadata": {},
   "outputs": [
    {
     "data": {
      "text/plain": [
       "36"
      ]
     },
     "execution_count": 23,
     "metadata": {},
     "output_type": "execute_result"
    }
   ],
   "source": [
    "age[name.index(\"Chloe\")]"
   ]
  },
  {
   "cell_type": "markdown",
   "id": "33ddff9a",
   "metadata": {},
   "source": [
    "**Note**, we can only fetch Claire's age from `age` since the two lists are sorted accordingly. Dictionaries, see next Section, will give us a better way of mapping from one value to another."
   ]
  },
  {
   "cell_type": "markdown",
   "id": "eeb9678b",
   "metadata": {},
   "source": [
    "### Exercise 6\n",
    "- Create a new dictionary that contains the keys: 'name', 'age' and 'country' and their respective values (you can make up the values yourself)..\n",
    "- Print the values of the dictionary to the screen\n",
    "- Reassign the value of key 'age' to 24\n",
    "- Print the values of the dictionary to the screen again to see if the value has changed."
   ]
  },
  {
   "cell_type": "code",
   "execution_count": 15,
   "id": "c52f771b-6638-4eee-b55e-e1a643ca9508",
   "metadata": {},
   "outputs": [],
   "source": [
    "my_dict = {'name': 'Jill', 'age': 39, 'country': 'Netherlands'}"
   ]
  },
  {
   "cell_type": "code",
   "execution_count": 16,
   "id": "c95ea81a-8281-4951-b13e-562a1b713ae5",
   "metadata": {},
   "outputs": [
    {
     "data": {
      "text/plain": [
       "dict_values(['Jill', 39, 'Netherlands'])"
      ]
     },
     "execution_count": 25,
     "metadata": {},
     "output_type": "execute_result"
    }
   ],
   "source": [
    "my_dict.values()"
   ]
  },
  {
   "cell_type": "code",
   "execution_count": 17,
   "id": "a87bf15a-08c2-4469-ad4d-593bee5593cb",
   "metadata": {},
   "outputs": [],
   "source": [
    "my_dict['age'] = 24"
   ]
  },
  {
   "cell_type": "code",
   "execution_count": 18,
   "id": "a8ba22bd-9874-421d-903d-2ea1a56ab37c",
   "metadata": {},
   "outputs": [
    {
     "data": {
      "text/plain": [
       "dict_values(['Jill', 24, 'Netherlands'])"
      ]
     },
     "execution_count": 27,
     "metadata": {},
     "output_type": "execute_result"
    }
   ],
   "source": [
    "my_dict.values()"
   ]
  },
  {
   "cell_type": "markdown",
   "id": "c33325c9-3469-44c9-a8d3-290c63554f73",
   "metadata": {},
   "source": [
    "### Exercise 7\n",
    "Create an if statement that tests whether a number is even or odd, and saves the classification in a variable called `number_class`.  \n",
    "Hint, you can use the % operator (aka modulo operator). If necessary, you can try the operator to see what it does in the cell below or search the web."
   ]
  },
  {
   "cell_type": "code",
   "execution_count": 19,
   "id": "dc3bc782-bc32-4314-b1d9-87836eefc2ae",
   "metadata": {},
   "outputs": [
    {
     "name": "stdout",
     "output_type": "stream",
     "text": [
      "odd\n"
     ]
    }
   ],
   "source": [
    "number = 5\n",
    "\n",
    "if number % 2 == 0:\n",
    "    number_class = \"even\"\n",
    "else:\n",
    "    number_class = \"odd\"\n",
    "    \n",
    "print(number_class)"
   ]
  },
  {
   "cell_type": "markdown",
   "id": "1a8d4170-436d-439c-a7a9-d7e4129451a4",
   "metadata": {},
   "source": [
    "### Exercise 8\n",
    "Turn the if statement from the last exercise into a function. Let the user provide the value for `number`, and return the `number_class`."
   ]
  },
  {
   "cell_type": "code",
   "execution_count": 20,
   "id": "204e89ac-af75-4c99-8caf-cf591b7d037f",
   "metadata": {},
   "outputs": [],
   "source": [
    "def even_or_odd(number):\n",
    "    if number % 2 == 0:\n",
    "        number_class = \"even\"\n",
    "    else:\n",
    "        number_class = \"odd\"\n",
    "    return number_class"
   ]
  },
  {
   "cell_type": "code",
   "execution_count": 21,
   "id": "577e90fd-5fe7-4104-a879-1c138e7bd041",
   "metadata": {},
   "outputs": [
    {
     "name": "stdout",
     "output_type": "stream",
     "text": [
      "5 is odd\n"
     ]
    }
   ],
   "source": [
    "# Run this code to test your function above\n",
    "number = 5\n",
    "print(number, \"is\", even_or_odd(number))"
   ]
  },
  {
   "cell_type": "markdown",
   "id": "1c8b2079-30ff-46de-bcc4-90068e025573",
   "metadata": {},
   "source": [
    "### Exercise 9 \n",
    "Use the function above to determine whether the numbers between 1 and 10 are even or odd.  \n",
    "Hint: the [`range` function](https://docs.python.org/3.8/library/stdtypes.html#range) might be helpful."
   ]
  },
  {
   "cell_type": "code",
   "execution_count": 22,
   "id": "47cd7a85-97c6-4389-8cc3-995e5dc7c33a",
   "metadata": {},
   "outputs": [
    {
     "name": "stdout",
     "output_type": "stream",
     "text": [
      "1 is odd\n",
      "2 is even\n",
      "3 is odd\n",
      "4 is even\n",
      "5 is odd\n",
      "6 is even\n",
      "7 is odd\n",
      "8 is even\n",
      "9 is odd\n"
     ]
    }
   ],
   "source": [
    "for number in range(1,10,1):\n",
    "    print(number, \"is\", even_or_odd(number))"
   ]
  }
 ],
 "metadata": {
  "kernelspec": {
   "display_name": "Python 3 (ipykernel)",
   "language": "python",
   "name": "python3"
  },
  "language_info": {
   "codemirror_mode": {
    "name": "ipython",
    "version": 3
   },
   "file_extension": ".py",
   "mimetype": "text/x-python",
   "name": "python",
   "nbconvert_exporter": "python",
   "pygments_lexer": "ipython3",
   "version": "3.10.11"
  }
 },
 "nbformat": 4,
 "nbformat_minor": 5
}
