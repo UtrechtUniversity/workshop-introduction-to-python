{
 "cells": [
  {
   "cell_type": "raw",
   "id": "1678ee39-cec4-4af0-ac01-3f6b02e2ae71",
   "metadata": {},
   "source": [
    "---\n",
    "title: \"Variables and printing output\"\n",
    "execute:   \n",
    "  enabled: true\n",
    "  error: true\n",
    "  freeze: auto\n",
    "---"
   ]
  },
  {
   "cell_type": "markdown",
   "id": "5d74aa37",
   "metadata": {
    "tags": []
   },
   "source": [
    "## Variables, values and their types\n",
    "\n",
    "The cell below contains Python code that can be executed by the Python interpreter. One of the most basic things that we can do with Python is to use it as a calculator:"
   ]
  },
  {
   "cell_type": "code",
   "execution_count": null,
   "id": "7f3a65ff",
   "metadata": {},
   "outputs": [],
   "source": [
    "2+2"
   ]
  },
  {
   "cell_type": "markdown",
   "id": "57cf0c1b",
   "metadata": {
    "tags": []
   },
   "source": [
    "Great, but there are many calculators. It gets more interesting when we use **variables** to store information. This is done with the `=` operator.\n",
    "In Python, variable names:\n",
    "\n",
    "- can include letters, digits, and underscores\n",
    "- cannot start with a digit\n",
    "- are case sensitive."
   ]
  },
  {
   "cell_type": "code",
   "execution_count": null,
   "id": "42b64edc-24ee-45f1-a4ec-e5ab2ce63298",
   "metadata": {},
   "outputs": [],
   "source": [
    "x = 3.0"
   ]
  },
  {
   "cell_type": "markdown",
   "id": "7ecdd74c-1d51-4ddb-92cb-b6ffb7aedcc7",
   "metadata": {},
   "source": [
    "Once assigned, variables can be used in new operations:"
   ]
  },
  {
   "cell_type": "code",
   "execution_count": null,
   "id": "7bc5b98d-8d18-4152-8873-5a6c776153c6",
   "metadata": {},
   "outputs": [],
   "source": [
    "y = 2.0\n",
    "x + y"
   ]
  },
  {
   "cell_type": "markdown",
   "id": "1570ecf7-5852-4a28-9237-6598e498b697",
   "metadata": {},
   "source": [
    "Python knows various types of data. Three common ones are:\n",
    "\n",
    "- integer numbers\n",
    "- floating point numbers\n",
    "- strings"
   ]
  },
  {
   "cell_type": "code",
   "execution_count": null,
   "id": "8037c6e5",
   "metadata": {},
   "outputs": [],
   "source": [
    "text = \"Data Carpentry\"\n",
    "number = 42\n",
    "pi_value = 3.14159265358"
   ]
  },
  {
   "cell_type": "markdown",
   "id": "b7fce770-138e-4b54-ad86-feb3cd22b0ae",
   "metadata": {},
   "source": [
    "In the example above, three variables are assigned. Variable `number` is an integer number with a value of 42 while `pi_value` is a floating point number and `text` is of type string.\n",
    "\n",
    "Using the `type` command, it is possible to check the data type of a variable. "
   ]
  },
  {
   "cell_type": "code",
   "execution_count": null,
   "id": "05e46e0e",
   "metadata": {},
   "outputs": [],
   "source": [
    "text"
   ]
  },
  {
   "cell_type": "code",
   "execution_count": null,
   "id": "4f3d26bd",
   "metadata": {},
   "outputs": [],
   "source": [
    "type(text)"
   ]
  },
  {
   "cell_type": "code",
   "execution_count": null,
   "id": "bd36a502",
   "metadata": {},
   "outputs": [],
   "source": [
    "number"
   ]
  },
  {
   "cell_type": "code",
   "execution_count": null,
   "id": "281b6dad",
   "metadata": {},
   "outputs": [],
   "source": [
    "type(number)"
   ]
  },
  {
   "cell_type": "code",
   "execution_count": null,
   "id": "64843703",
   "metadata": {},
   "outputs": [],
   "source": [
    "pi_value"
   ]
  },
  {
   "cell_type": "code",
   "execution_count": null,
   "id": "46ef015a",
   "metadata": {},
   "outputs": [],
   "source": [
    "type(pi_value)"
   ]
  },
  {
   "cell_type": "markdown",
   "id": "d22b6cb1",
   "metadata": {},
   "source": [
    "## Output versus printing\n",
    "\n",
    "In the above examples, most of the times output is printed directly below the cell, but not always the output is printed and not all operations are printed. The `print` command can be used to control what is printed when. \n",
    "\n",
    "*Note*, that text (strings) always has to be surrounded by `\"` or `'`."
   ]
  },
  {
   "cell_type": "code",
   "execution_count": null,
   "id": "00f2b458",
   "metadata": {},
   "outputs": [],
   "source": [
    "print(\"Hello World\")"
   ]
  },
  {
   "cell_type": "markdown",
   "id": "79db2663",
   "metadata": {},
   "source": [
    "In the example below we first print the value of the variable `number` using the `print` command, and then call the variable:"
   ]
  },
  {
   "cell_type": "code",
   "execution_count": null,
   "id": "b1af2ccb",
   "metadata": {},
   "outputs": [],
   "source": [
    "print(number)\n",
    "number"
   ]
  },
  {
   "cell_type": "markdown",
   "id": "d796e69f",
   "metadata": {},
   "source": [
    "Now we do it the other way around:"
   ]
  },
  {
   "cell_type": "code",
   "execution_count": null,
   "id": "412233e2",
   "metadata": {},
   "outputs": [],
   "source": [
    "number\n",
    "print(number)"
   ]
  },
  {
   "cell_type": "markdown",
   "id": "5f893d56",
   "metadata": {},
   "source": [
    "When not using the `print` command, only the output of the last operation in the input cell is printed. If the last operation is the assignment of a variable, nothing will be printed. \n",
    "\n",
    "In general `print` is the only way to print output to the screen when you are not working in an interactive environment like Jupyter (as we are doing now).\n",
    "\n",
    "Rule of thumb: use the normal output for quick checking the output of an operation while developing in your Jupyter notebook, use `print` for printing output that still needs to be there in the future while your scripts get more complicated."
   ]
  },
  {
   "cell_type": "markdown",
   "id": "ec11a5e9",
   "metadata": {},
   "source": [
    "<div class=\"alert alert-block alert-success\">\n",
    "Continue with the following chapter [Operators and Built-in Functions](Introduction_to_python_2.ipynb)\n",
    "</div>"
   ]
  }
 ],
 "metadata": {
  "kernelspec": {
   "display_name": "Python 3 (ipykernel)",
   "language": "python",
   "name": "python3"
  },
  "language_info": {
   "codemirror_mode": {
    "name": "ipython",
    "version": 3
   },
   "file_extension": ".py",
   "mimetype": "text/x-python",
   "name": "python",
   "nbconvert_exporter": "python",
   "pygments_lexer": "ipython3",
   "version": "3.11.0"
  }
 },
 "nbformat": 4,
 "nbformat_minor": 5
}
