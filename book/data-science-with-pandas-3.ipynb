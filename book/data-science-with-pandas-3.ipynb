{
 "cells": [
  {
   "cell_type": "raw",
   "id": "da951bb9-079b-4147-9889-cd9d079ff79a",
   "metadata": {},
   "source": [
    "---\n",
    "title: \"Combining DataFrames\"\n",
    "format: html\n",
    "execute: \n",
    "  enabled: true\n",
    "  error: true\n",
    "  freeze: auto\n",
    "---"
   ]
  },
  {
   "cell_type": "markdown",
   "id": "5af46abc-0396-4059-9073-c5afa6c2715c",
   "metadata": {},
   "source": [
    "Previously, we have seen how to analyze and manipulate data in a single DataFrame. However, you will often find data saved into different files and, therefore, you may need to deal with several different pandas DataFrames.<br>\n",
    "In this session we will explore different ways of combining DataFrames into a single DataFrame."
   ]
  },
  {
   "cell_type": "markdown",
   "id": "b57bfdfe-44b9-4578-ac76-e825c30fd682",
   "metadata": {},
   "source": [
    "Let's start loading the `pandas` library, reading two data sets into DataFrames, and having a quick look at the tabular data: ```surveys.csv``` and ```species.csv```"
   ]
  },
  {
   "cell_type": "code",
   "execution_count": null,
   "id": "9a714845-b2b8-482b-a6b0-555676422275",
   "metadata": {},
   "outputs": [],
   "source": [
    "import pandas as pd"
   ]
  },
  {
   "cell_type": "code",
   "execution_count": null,
   "id": "4efb965d-f8f5-43da-9b0b-f161c68e581e",
   "metadata": {},
   "outputs": [],
   "source": [
    "surveys_df = pd.read_csv(\"../course_materials/data/surveys.csv\")\n",
    "species_df = pd.read_csv(\"../course_materials/data/species.csv\")"
   ]
  },
  {
   "cell_type": "code",
   "execution_count": null,
   "id": "debd9acd-3a03-48fe-bd3f-0943bccf15f0",
   "metadata": {},
   "outputs": [],
   "source": [
    "print(surveys_df.info())\n",
    "surveys_df.head()"
   ]
  },
  {
   "cell_type": "code",
   "execution_count": null,
   "id": "9a21c5ed-7e13-4692-a863-b25b7223245a",
   "metadata": {},
   "outputs": [],
   "source": [
    "print(species_df.info())\n",
    "species_df.head()"
   ]
  },
  {
   "cell_type": "markdown",
   "id": "8bbf1316",
   "metadata": {},
   "source": [
    "We now have two DataFrames. The first, `surveys_df`, contains information on individuals of a species recorded in a survey, while the second, `species_df`, contains more detailed information on each species."
   ]
  },
  {
   "cell_type": "markdown",
   "id": "a745a1d4-1f5a-4d0e-affe-7d2428e2a97a",
   "metadata": {},
   "source": [
    "## Concatenating DataFrames"
   ]
  },
  {
   "cell_type": "markdown",
   "id": "0e7b909b-05ad-4cc6-a752-c803cf197750",
   "metadata": {},
   "source": [
    "The first way we will combine DataFrames is **concatenation**, i.e. simply putting DataFrames one after the other either **vertically** or **horizontally**.\n",
    "\n",
    "Concatenation can be used if the DataFrames are similar, meaning that they either have the same rows or columns. We will see examples of this later.\n",
    "\n",
    "To concatenate two DataFrames you will use the function ```pd.concat()```, specifying as arguments the DataFrames to concatenate and ```axis=0``` or ```axis=1``` for vertical or horizontal concatenation, respectively.\n",
    "\n",
    "We will only be looking at vertical concatenation, but it is good to be aware that there is more to be discovered beyond what we describe here."
   ]
  },
  {
   "cell_type": "markdown",
   "id": "c75b3d8a-0405-42d4-88d8-2b0e4fe80cea",
   "metadata": {},
   "source": [
    "Let us first obtain two small DataFrames from the larger `surveys_df` dataset."
   ]
  },
  {
   "cell_type": "code",
   "execution_count": null,
   "id": "56b527d5-b7fa-4643-be88-812890032a38",
   "metadata": {},
   "outputs": [],
   "source": [
    "# Subsetting DataFrames\n",
    "surveys_df_sub_first10 = surveys_df.head(10)\n",
    "surveys_df_sub_last10  = surveys_df.tail(10)"
   ]
  },
  {
   "cell_type": "markdown",
   "id": "f74d7bbd",
   "metadata": {},
   "source": [
    "We now have two DataFrames, one with the first ten rows of the original dataset, and another with the last ten rows."
   ]
  },
  {
   "cell_type": "markdown",
   "id": "c7356bfc-eed9-4179-982c-1ee13a7bd06f",
   "metadata": {},
   "source": [
    "Now, let us do some **vertical concatenation** or **stacking**. In this case the two DataFrames are simply stacked 'on top of' each other (remember to specify ```axis=0```).\n",
    "<div>\n",
    "<img src=\"images/vertical_stacking.jpeg\" width=\"300\"/>\n",
    "</div>\n",
    "Vertical stacking can be understood as combining two DataFrames that have different sets of the same type of data. In our example, it may be that one field researcher has registered the first ten entries, and another did the last ten, both using the same laboratory sheets. They both wrote down the same information (weight, species, and so on) of all different individuals. If we combine them, we have one list of twenty records, rather than two lists of ten. "
   ]
  },
  {
   "cell_type": "code",
   "execution_count": null,
   "id": "6a51bab2-995b-4d75-ba0b-5b899b921eb5",
   "metadata": {},
   "outputs": [],
   "source": [
    "# Stack the DataFrames on top of each other\n",
    "vertical_stack = pd.concat([surveys_df_sub_first10, surveys_df_sub_last10], axis=0)"
   ]
  },
  {
   "cell_type": "code",
   "execution_count": null,
   "id": "c4a13076-d680-4b97-96e7-17594284c71c",
   "metadata": {},
   "outputs": [],
   "source": [
    "print(vertical_stack.info())\n",
    "vertical_stack"
   ]
  },
  {
   "cell_type": "markdown",
   "id": "2faeb8b1-6799-459c-8122-9977db1fd7e2",
   "metadata": {},
   "source": [
    "The resulting DataFrame (```vertical_stack```) consists, as expected, of 20 rows. These are the result of the first and last 10 rows of our original DataFrame ```surveys_df```.\n",
    "\n",
    "You may have noticed that the last ten rows have very high index, not consecutive with the first ten rows. This is because concatenation preserves the indices of the two original DataFrames. If you want a brand new set of indices for your concateneted DataFrame, simply reset the indices using the method ```.reset_index()```. Notice that this adds a column `index` to your DataFrame, that maintains the original index. If you pass `drop=True` into the function, you will avoid the addition of this column."
   ]
  },
  {
   "cell_type": "code",
   "execution_count": null,
   "id": "5cbb112c-6f68-40fa-b300-fb9fb2e30673",
   "metadata": {},
   "outputs": [],
   "source": [
    "vertical_stack.reset_index()"
   ]
  },
  {
   "cell_type": "markdown",
   "id": "29d2e1ab-5a9d-4c6e-a6cb-8f153dd85aca",
   "metadata": {},
   "source": [
    "## Joining DataFrames"
   ]
  },
  {
   "cell_type": "markdown",
   "id": "a762fd68-5486-448c-bb84-b30e14416668",
   "metadata": {},
   "source": [
    "Concatenating DataFrames allows you to combine two entire DataFrames into a single one. In many cases, you want to combine only selected parts of two DataFrames.\n",
    "\n",
    "You might, for example, want to merge rows of two DataFrames that have matching values in specific columns. The pandas function ```merge()``` performs an operation that you may know as a *join* if you worked with databases before. The join operation joins the content of two DataFrames in a particular way. There are different types of joins, but the workflow to perform a join operation is always the same:\n",
    "\n",
    "  1. You identify a *left* and a *right* DataFrame, among the two you want to join;\n",
    "  2. You identify in both your left and right DataFrame a column (or set of columns) to join on;\n",
    "  3. You choose the type of join;\n",
    "  4. You perform the join running the function `pd.merge()` with the specified inputs and options.\n",
    "\n",
    "What it means for a DataFrame to be 'left' or 'right' depends on the type of join. The main thing to remember is that it matters which DataFrame you mention first when performing a join.\n",
    "\n",
    "We will only be looking at what is know as an *inner join*. Investigating the other types of joins is left as an exercise."
   ]
  },
  {
   "cell_type": "markdown",
   "id": "ec5cb030-5a87-4331-9caa-bb86c87eafdd",
   "metadata": {},
   "source": [
    "Let's see some join example using the first ten rows of our `surveys_df` DataFrame (`surveys_df_sub_first10`). This will be our left DataFrame, containing data on individual animals. Our right DataFrame will be the first 20 rows of `species_df`, containing some information on each species. Let us rename them for the purpose of the join:"
   ]
  },
  {
   "cell_type": "code",
   "execution_count": null,
   "id": "f331e6a5-d402-4036-878c-852c57b945dd",
   "metadata": {},
   "outputs": [],
   "source": [
    "left_df = surveys_df_sub_first10\n",
    "right_df = species_df.head(20)"
   ]
  },
  {
   "cell_type": "code",
   "execution_count": null,
   "id": "7209bb5d-7290-4078-8a13-0cd0af99a6a9",
   "metadata": {},
   "outputs": [],
   "source": [
    "left_df"
   ]
  },
  {
   "cell_type": "code",
   "execution_count": null,
   "id": "1bf4945e-7ff5-49c3-949e-9b5e045bbc06",
   "metadata": {},
   "outputs": [],
   "source": [
    "right_df"
   ]
  },
  {
   "cell_type": "markdown",
   "id": "ab5817c8-6f2d-4aa4-b1de-d6f3e35a928c",
   "metadata": {},
   "source": [
    "The column we want to perform the join on is the one containing information about the `species_id`. Conveniently, this column has the same label in both DataFrames. Note that this is not always the case."
   ]
  },
  {
   "cell_type": "code",
   "execution_count": null,
   "id": "97c6cd76-77e3-4afc-be54-63870b221c23",
   "metadata": {},
   "outputs": [],
   "source": [
    "inner_join = pd.merge(left_df, right_df, left_on='species_id', right_on='species_id', how='inner')\n",
    "inner_join"
   ]
  },
  {
   "cell_type": "markdown",
   "id": "399cd8cb-1fcf-45f2-a654-48e1a3f004fe",
   "metadata": {},
   "source": [
    "As you may notice, the resulting DataFrame has only seven rows, while our original DataFrames had 10 and 20 rows, respectively. This is because an inner join selects only those rows where the value of the joined column occurs in both DataFrames (mathematically, an intersection)."
   ]
  },
  {
   "cell_type": "markdown",
   "id": "8fe2c0d4-5db7-4de4-b092-502ad6568c99",
   "metadata": {},
   "source": [
    "Aside from the inner join, there are three more types of join that you can do using the `merge()` function:\n",
    "- An inner join selects only the rows that result from the combination of matching rows in both the original left and right DataFrames (intersection);\n",
    "- A left join selects all rows that were in the original left DataFrame, some of which may have been joined with a matching entry from the right DataFrame;\n",
    "- A right join selects all rows that were in the original right DataFrame, some of which may have been joined with a matching entry from the left DataFrame;\n",
    "- An outer join merges the two DataFrames and keeps all resulting rows."
   ]
  },
  {
   "cell_type": "markdown",
   "id": "efd045b7-b76e-4c1c-841f-69da25d01152",
   "metadata": {},
   "source": [
    "To better understand how join works, it may be useful to look at the diagrams below:\n",
    "\n",
    "<div>\n",
    "<img src=\"images/joins.jpeg\" width=\"600\"/>\n",
    "</div>\n",
    "\n",
    "  - Do you want to select only **common** information between the two DataFrames? Then you use an **inner join**;\n",
    "  - Do you want to **add information** to your **left** DataFrame? Then you use a **left join**;\n",
    "  - Do you want to **add information** to your **right** DataFrame? Then you use a **right join**;\n",
    "  - Do you want to get **all the information** from the two DataFrames? Then you use an **outer join**."
   ]
  },
  {
   "cell_type": "markdown",
   "id": "9d03dd2c-5f89-4869-b2e1-48c45985fe37",
   "metadata": {},
   "source": [
    "<div class=\"alert alert-block alert-success\">\n",
    "<b>Exercise 12</b>\n",
    "    \n",
    "Now go to the Jupyter Dashboard in your internet browser and continue with exercise 10 and 11.\n"
   ]
  },
  {
   "cell_type": "markdown",
   "id": "56911fb1",
   "metadata": {},
   "source": [
    "We will continue with [Data visualization](data-science-with-pandas-4.ipynb)."
   ]
  }
 ],
 "metadata": {
  "language_info": {
   "name": "python"
  }
 },
 "nbformat": 4,
 "nbformat_minor": 5
}
