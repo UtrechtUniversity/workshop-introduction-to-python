{
 "cells": [
  {
   "cell_type": "raw",
   "id": "da951bb9-079b-4147-9889-cd9d079ff79a",
   "metadata": {},
   "source": [
    "---\n",
    "title: \"Data Science with Pandas (part 3: Combining DataFrames)\"\n",
    "format: html\n",
    "execute: \n",
    "  enabled: true\n",
    "  error: true\n",
    "  freeze: auto\n",
    "---"
   ]
  },
  {
   "cell_type": "markdown",
   "id": "7d301fcb-ca30-4729-ab28-4b024a591c80",
   "metadata": {},
   "source": [
    "## Combining data frames"
   ]
  },
  {
   "cell_type": "markdown",
   "id": "5af46abc-0396-4059-9073-c5afa6c2715c",
   "metadata": {},
   "source": [
    "In many real life cases, you may find data saved into different files and, therefore, you may need to deal with several different pandas DataFrames. In the previous session, we saw how can we easily run statistical analysis on a single DataFrame, so, ideally, we would like to have all the relevant data for our analysis inside a single DataFrame. <br>\n",
    "In this session we will explore different ways of combining DataFrames into a single DataFrame."
   ]
  },
  {
   "cell_type": "markdown",
   "id": "b57bfdfe-44b9-4578-ac76-e825c30fd682",
   "metadata": {},
   "source": [
    "Let's start loading the pandas library, reading two data sets into pandas DataFrames, and having a quick look at the tabular data: ```surveys.csv``` and ```species.csv```"
   ]
  },
  {
   "cell_type": "code",
   "execution_count": null,
   "id": "9a714845-b2b8-482b-a6b0-555676422275",
   "metadata": {},
   "outputs": [],
   "source": [
    "import pandas as pd"
   ]
  },
  {
   "cell_type": "code",
   "execution_count": null,
   "id": "4efb965d-f8f5-43da-9b0b-f161c68e581e",
   "metadata": {},
   "outputs": [],
   "source": [
    "surveys_df = pd.read_csv(\"../data/surveys.csv\", keep_default_na=False, na_values=[\"\"])\n",
    "species_df = pd.read_csv(\"../data/species.csv\", keep_default_na=False, na_values=[\"\"])"
   ]
  },
  {
   "cell_type": "code",
   "execution_count": null,
   "id": "debd9acd-3a03-48fe-bd3f-0943bccf15f0",
   "metadata": {},
   "outputs": [],
   "source": [
    "print(surveys_df.info())\n",
    "print('='*72)\n",
    "surveys_df.head()"
   ]
  },
  {
   "cell_type": "code",
   "execution_count": null,
   "id": "9a21c5ed-7e13-4692-a863-b25b7223245a",
   "metadata": {},
   "outputs": [],
   "source": [
    "print(species_df.info())\n",
    "print('='*72)\n",
    "species_df.head()"
   ]
  },
  {
   "cell_type": "markdown",
   "id": "a745a1d4-1f5a-4d0e-affe-7d2428e2a97a",
   "metadata": {},
   "source": [
    "### Concatenating DataFrames"
   ]
  },
  {
   "cell_type": "markdown",
   "id": "0e7b909b-05ad-4cc6-a752-c803cf197750",
   "metadata": {},
   "source": [
    "The first way we will combine DataFrames is **concatenation**, i.e. simply putting DataFrames one after the other either **verically** or **horizontally**. To concatenate two DataFrames you will use the function ```pd.concat```, specifying as arguments the DataFrames to concatenate and ```axis=0``` or ```axis=1``` for vertical or horizontal concatenation, respectively."
   ]
  },
  {
   "cell_type": "markdown",
   "id": "c75b3d8a-0405-42d4-88d8-2b0e4fe80cea",
   "metadata": {},
   "source": [
    "To play a bit with DataFrame concatenation, we will use a subset of the DataFrames we just read. In particular, we will work with two sub-DataFrames obtained selecting the first and the last 10 rows of the ```surveys.csv``` dataset."
   ]
  },
  {
   "cell_type": "code",
   "execution_count": null,
   "id": "56b527d5-b7fa-4643-be88-812890032a38",
   "metadata": {},
   "outputs": [],
   "source": [
    "# Subsetting data frames\n",
    "surveys_df_sub_first10 = surveys_df.head(10)\n",
    "surveys_df_sub_last10  = surveys_df.tail(10)"
   ]
  },
  {
   "cell_type": "markdown",
   "id": "c7356bfc-eed9-4179-982c-1ee13a7bd06f",
   "metadata": {},
   "source": [
    "Let's start with **vertical stacking**. In this case the two DataFrames are simply stacked on top of each other (remember to specify ```axis=0```).\n",
    "<div>\n",
    "<img src=\"pictures/vertical_stacking.jpeg\" width=\"300\"/>\n",
    "</div>"
   ]
  },
  {
   "cell_type": "code",
   "execution_count": null,
   "id": "6a51bab2-995b-4d75-ba0b-5b899b921eb5",
   "metadata": {},
   "outputs": [],
   "source": [
    "# Stack the DataFrames on top of each other\n",
    "vertical_stack = pd.concat([surveys_df_sub_first10, surveys_df_sub_last10], axis=0)"
   ]
  },
  {
   "cell_type": "code",
   "execution_count": null,
   "id": "c4a13076-d680-4b97-96e7-17594284c71c",
   "metadata": {},
   "outputs": [],
   "source": [
    "print(vertical_stack.info())\n",
    "print('='*72)\n",
    "vertical_stack"
   ]
  },
  {
   "cell_type": "markdown",
   "id": "2faeb8b1-6799-459c-8122-9977db1fd7e2",
   "metadata": {},
   "source": [
    "The resulting DataFrame (```vertical_stack```) consists, as expected, of 20 rows. These are the result of the first and last 10 rows of out original DataFrame ```surveys_df```. You may have noticed that the last ten rows have very high index, not consecutive with the first ten rows. This is because concatenation preserves the indices of the two original DataFrames. If you want a brand new set of indices for your concateneted DataFrame, simply resets the indices using the method ```.reset_index()```."
   ]
  },
  {
   "cell_type": "code",
   "execution_count": null,
   "id": "5cbb112c-6f68-40fa-b300-fb9fb2e30673",
   "metadata": {},
   "outputs": [],
   "source": [
    "vertical_stack.reset_index()"
   ]
  },
  {
   "cell_type": "markdown",
   "id": "fde60cc1-0c61-4e59-b176-51f6871e3da2",
   "metadata": {},
   "source": [
    "<div class=\"alert alert-block alert-success\">\n",
    "<b>TRY IT YOURSELF</b>: In the given example of vertical concatenation, you concatenated two DataFrames with the same columns. What would happen if the two DataFrames to concatenate have different column number and names?\n",
    "    <ol>\n",
    "        <li>Create a new DataFrame using the last 10 rows of the species DataFrame;</li>\n",
    "        <li>Concatenate vertically ```surveys_df_sub_first_10``` and your just created DataFrame;</li>\n",
    "        <li>Print the concatenated DataFrame info on the screen. How may rows does it have? What happened to the columns? Can you tell, finally, what happens when you vertically concatenate two DataFrames with different columns?\n",
    "    </ol>\n",
    "</div>"
   ]
  },
  {
   "cell_type": "markdown",
   "id": "73f9de9e-f237-49bd-8834-eb1e8c2e089a",
   "metadata": {},
   "source": [
    "It's now time to try **horizontal concatenation**. In this case the two DataFrames are simply stacked one after  one other (remember to specify ```axis=1```).\n",
    "<div>\n",
    "<img src=\"pictures/horizontal_stacking.jpeg\" width=\"300\"/>\n",
    "</div>\n",
    "In this case, as a result, we expect a DataFrame with the same number of rows of the original one (10 row) and twice the number of columns (18 columns)."
   ]
  },
  {
   "cell_type": "code",
   "execution_count": null,
   "id": "8014b0c4-e639-4da2-b343-9fe8f0e48c7c",
   "metadata": {},
   "outputs": [],
   "source": [
    "# Place the DataFrames side by side\n",
    "horizontal_stack = pd.concat([surveys_df_sub_first10, surveys_df_sub_last10], axis=1)"
   ]
  },
  {
   "cell_type": "code",
   "execution_count": null,
   "id": "e667112b-577c-4f3e-92cc-84e7315311ab",
   "metadata": {},
   "outputs": [],
   "source": [
    "print(horizontal_stack.info())\n",
    "print('='*72)\n",
    "horizontal_stack"
   ]
  },
  {
   "cell_type": "markdown",
   "id": "be73380e-334f-4c75-b3e5-67bef66d071d",
   "metadata": {},
   "source": [
    "Looking at the result of our horizontal concatenation, we may realise that something went wrong. The total number of row on the resulting DataFrame is 20, that is not what we would expect from a horizontal stacking (we where expecting 10 rows, as the initial DataFrames). This happens because horizontal stacking is based on index and our two DataFrames have different indices (1-9 and 35539-35548 respectively). In order to properly stack the DataFrame we need first to reset the indeces of the second DataFrame so that they will match the ones of the first DataFrame. "
   ]
  },
  {
   "cell_type": "code",
   "execution_count": null,
   "id": "5f2e244b-22d4-4a3f-9bec-7d517916c20c",
   "metadata": {},
   "outputs": [],
   "source": [
    "surveys_df_sub_last10 = surveys_df_sub_last10.reset_index(drop=True)"
   ]
  },
  {
   "cell_type": "code",
   "execution_count": null,
   "id": "2f04ee12-4f49-4712-82bb-b7cad48dfa7a",
   "metadata": {},
   "outputs": [],
   "source": [
    "surveys_df_sub_last10"
   ]
  },
  {
   "cell_type": "markdown",
   "id": "49387832-b435-4899-80f8-226408280f3a",
   "metadata": {},
   "source": [
    "Now that the index has been reset, we can concatenate this DataFrame with the first 10 lines DataFrame."
   ]
  },
  {
   "cell_type": "code",
   "execution_count": null,
   "id": "fac34bb5-d7de-4d5a-894e-14308678946f",
   "metadata": {},
   "outputs": [],
   "source": [
    "horizontal_stack = pd.concat([surveys_df_sub_first10, surveys_df_sub_last10], axis=1)"
   ]
  },
  {
   "cell_type": "code",
   "execution_count": null,
   "id": "2759da9f-f5d0-4e14-bec7-b09d378ac5ed",
   "metadata": {},
   "outputs": [],
   "source": [
    "print(horizontal_stack.info())\n",
    "print('='*72)\n",
    "horizontal_stack"
   ]
  },
  {
   "cell_type": "markdown",
   "id": "ef7e9d3a-702f-4958-829e-c51d940cc092",
   "metadata": {},
   "source": [
    "<div class=\"alert alert-block alert-success\">\n",
    "<b>TRY IT YOURSELF</b>: In the given example of horizontal concatenation, you first concatenated two DataFrame with different indices, then reset the indices of the second one. Base on the outcome of these two cases, try to answer the following questions:\n",
    "    <ol>\n",
    "        <li>What happens when you concatenate horizontally two DataFrames with different indexing?</li>\n",
    "        <li>What happens when you concatenate horizontally two DataFrames with the same columns?</li>\n",
    "        <li>What happens when you try to select a column of the just horizontally concatenated DataFrame?></li>\n",
    "        <li>How can you select a specific columns among duplicates?</li>\n",
    "    </ol>\n",
    "</div>"
   ]
  },
  {
   "cell_type": "markdown",
   "id": "29d2e1ab-5a9d-4c6e-a6cb-8f153dd85aca",
   "metadata": {},
   "source": [
    "### Joining DataFrames"
   ]
  },
  {
   "cell_type": "markdown",
   "id": "a762fd68-5486-448c-bb84-b30e14416668",
   "metadata": {},
   "source": [
    "Concatenating DataFrames seems a quite \"brutal\" operation, you simply merge them one after another either verically or horizontally. What about if you want to merge DataFrames according to the value contained in specific columns? The pandas function ```merge()``` performs an operation that in database language is called *join*, the join operation adds the content of one DataFrame to another. There are different types of joins, but the workflow to perform a join operation is always the same:\n",
    "<ol>\n",
    "    <li> You identify a *left* and a *right* DataFrames, the ones you want to join;</li>\n",
    "    <li> You identify in both your left and righ DataFrame a column to join on;</li>\n",
    "    <li> You choose the type of join;</li>\n",
    "    <li> You perform the join running the function <code>pd.merge()</code> with the specified inputs and options.</li>\n",
    "</ol>"
   ]
  },
  {
   "cell_type": "markdown",
   "id": "ec5cb030-5a87-4331-9caa-bb86c87eafdd",
   "metadata": {},
   "source": [
    "Let's see some join example considering two tiny (few rows) DataFrames, our left DataFrame contains general data of European capitals, while our right DataFrame contains weather measuraments for some Dutch towns."
   ]
  },
  {
   "cell_type": "code",
   "execution_count": null,
   "id": "f331e6a5-d402-4036-878c-852c57b945dd",
   "metadata": {},
   "outputs": [],
   "source": [
    "left_df = pd.read_csv(\"../data/EU_capitals_tiny.csv\", sep=\",\", header=0)\n",
    "right_df = pd.read_csv(\"../data/Netherlands_town_weather_tiny.csv\", sep=\",\", header=0)"
   ]
  },
  {
   "cell_type": "code",
   "execution_count": null,
   "id": "7209bb5d-7290-4078-8a13-0cd0af99a6a9",
   "metadata": {},
   "outputs": [],
   "source": [
    "left_df"
   ]
  },
  {
   "cell_type": "code",
   "execution_count": null,
   "id": "1bf4945e-7ff5-49c3-949e-9b5e045bbc06",
   "metadata": {},
   "outputs": [],
   "source": [
    "right_df"
   ]
  },
  {
   "cell_type": "markdown",
   "id": "ab5817c8-6f2d-4aa4-b1de-d6f3e35a928c",
   "metadata": {},
   "source": [
    "The column we want to perform the join on is the one containing information about the town. In the left DataFrame this has name *Capital* while in the right one *Town*."
   ]
  },
  {
   "cell_type": "code",
   "execution_count": null,
   "id": "97c6cd76-77e3-4afc-be54-63870b221c23",
   "metadata": {},
   "outputs": [],
   "source": [
    "inner_join = pd.merge(left_df,right_df,left_on='Capital',right_on='Town',how='inner')\n",
    "inner_join"
   ]
  },
  {
   "cell_type": "markdown",
   "id": "399cd8cb-1fcf-45f2-a654-48e1a3f004fe",
   "metadata": {},
   "source": [
    "As you may notice, the resulting DataFrame has only one line, the only row that the columns *Capital* and *Town* have in common (*Amsterdam*). This is because an inner join selects only those row values that are **the same** in the two columns (mathematically, an intersection).<br>\n",
    "The columns of the two DataFrames are merged, even if they have the same name. In our case, both left and right DataFrames have a column with the same name (*Elevation*). After merging, the two columns are preserved, but with a suffix to distinguish them. If you are not happy with the default suffix, you may specify yours in the list of arguments of the ```pd.merge``` functions.<br>"
   ]
  },
  {
   "cell_type": "markdown",
   "id": "8abc7b44-4857-474f-91ad-cd9704fda396",
   "metadata": {},
   "source": [
    "Let's now look at the other joins:"
   ]
  },
  {
   "cell_type": "code",
   "execution_count": null,
   "id": "56a56e33-3a0a-41ad-baf2-7c5d3fa8d01a",
   "metadata": {},
   "outputs": [],
   "source": [
    "left_join = pd.merge(left_df,right_df,left_on='Capital',right_on='Town',how='left')\n",
    "left_join"
   ]
  },
  {
   "cell_type": "code",
   "execution_count": null,
   "id": "05684c4e-34bd-4c8f-b0f4-0f030deb3196",
   "metadata": {},
   "outputs": [],
   "source": [
    "right_join = pd.merge(left_df,right_df,left_on='Capital',right_on='Town',how='right')\n",
    "right_join"
   ]
  },
  {
   "cell_type": "code",
   "execution_count": null,
   "id": "80356c8a-3a56-4692-adbf-662908005f3a",
   "metadata": {},
   "outputs": [],
   "source": [
    "outer_join = pd.merge(left_df,right_df,left_on='Capital',right_on='Town',how='outer')\n",
    "outer_join"
   ]
  },
  {
   "cell_type": "markdown",
   "id": "8fe2c0d4-5db7-4de4-b092-502ad6568c99",
   "metadata": {},
   "source": [
    "To resume:\n",
    "- An inner join selects rows that are in common to both left and right selected columns (intersection);\n",
    "- A left join selects rows that are in common to both left and right selected columns **AND** all the rows of the left DataFrame;\n",
    "- A right join selects rows that are in common to both left and right selected columns **AND** all the rows of the right DataFrame; \n",
    "- An outer join merges the two DataFrames."
   ]
  },
  {
   "cell_type": "markdown",
   "id": "efd045b7-b76e-4c1c-841f-69da25d01152",
   "metadata": {},
   "source": [
    "To better understand how join works, it may be useful to look at the diagrams below:\n",
    "<div>\n",
    "<img src=\"pictures/joins.jpeg\" width=\"600\"/>\n",
    "</div>\n",
    "<ul>\n",
    "    <li> Do you want to select only <strong>common</strong> information between the two DataFrames? Then you would probably need an inner join; </li>\n",
    "<li> Do you want to add information to your <strong>left</strong> DataFrame? Then you would probably need a left join; </li>\n",
    "<li> Do you want to add information to your <strong>right</strong> DataFrame? Then you would probably need a right join; </li>\n",
    "<li> Do you want to get <strong>all</strong> the information from the two DataFrames? Then you would probably need an outer join. </li>\n",
    "</ul>"
   ]
  }
 ],
 "metadata": {
  "kernelspec": {
   "display_name": "Python 3 (ipykernel)",
   "language": "python",
   "name": "python3"
  },
  "language_info": {
   "codemirror_mode": {
    "name": "ipython",
    "version": 3
   },
   "file_extension": ".py",
   "mimetype": "text/x-python",
   "name": "python",
   "nbconvert_exporter": "python",
   "pygments_lexer": "ipython3",
   "version": "3.8.12"
  }
 },
 "nbformat": 4,
 "nbformat_minor": 5
}
