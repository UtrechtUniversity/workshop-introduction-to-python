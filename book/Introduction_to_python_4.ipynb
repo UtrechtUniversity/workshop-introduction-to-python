{
 "cells": [
  {
   "cell_type": "raw",
   "id": "709f0b13",
   "metadata": {},
   "source": [
    "---\n",
    "title: \"Write your own Python function\"\n",
    "execute:   \n",
    "  enabled: true\n",
    "  error: true\n",
    "  freeze: auto\n",
    "---"
   ]
  },
  {
   "cell_type": "markdown",
   "id": "f3bfd9b9",
   "metadata": {},
   "source": [
    "## Functions\n",
    "\n",
    "We have already seen some built-in functions: e.g. `print`, `type`, `len`. And we have seen special functions that belong to a variable (python object) like `my_dict.items()` and `my_list.append()`. There are more built-in functions e.g. for mathematical operations:"
   ]
  },
  {
   "cell_type": "code",
   "execution_count": null,
   "id": "a83f4408",
   "metadata": {},
   "outputs": [],
   "source": [
    "numbers = [5, 6, 7]\n",
    "sum(numbers)"
   ]
  },
  {
   "cell_type": "markdown",
   "id": "3e7852a6",
   "metadata": {},
   "source": [
    "Please refer to https://docs.python.org/3/library/functions.html for more built-in functions.\n",
    "\n",
    "### Writing own functions\n",
    "We will now turn to writing own functions. When should you write your own function?  \n",
    "\n",
    "1. If the functionality is not covered by an out-of-the-box function like the built-in functions or another python  package  \n",
    "2. When code is getting pretty long, you can split it up into logical and reusable units  \n",
    "3. When code is often reused, e.g. you are reading in tens of spreadsheets and you need to clean them all in the same way. Instead of typing the line of code over and over again, it is more elegant and looks cleaner to create a function.  \n",
    "4. When code may be reused outside your current project. Scripts and the functions in a script can be imported in other scripts to be able to reuse them.  \n",
    "\n",
    "A big advantage of not having duplicate code inside your script or in multiple scripts is that when you want to make a slight modification to a function, you only have to do this modification in one place, instead of multiple lines that are doing more or less similar things.\n",
    "\n",
    "Python provides for this by letting us define things called ‘functions’. Let’s start by defining a function fahr_to_celsius that converts temperatures from Fahrenheit to Celsius:"
   ]
  },
  {
   "cell_type": "code",
   "execution_count": null,
   "id": "26b11914",
   "metadata": {},
   "outputs": [],
   "source": [
    "def fahr_to_celsius(temp_fahrenheit):\n",
    "    temp_celsius = (temp_fahrenheit - 32) * (5/9)\n",
    "    return temp_celsius"
   ]
  },
  {
   "cell_type": "markdown",
   "id": "6c281d8e",
   "metadata": {},
   "source": [
    "The function definition opens with the keyword `def` followed by the name of the function `fahr_to_celsius` and a parenthesized list of variables (in this case only one `temp_fahrenheit`). The body of the function — the statements that are executed when it runs — is indented below the definition line. The body concludes with a `return` keyword followed by the return value.\n",
    "\n",
    "When we call the function, the values we pass to it as arguments are assigned to the variables in the function definition so that we can use them inside the function. Inside the function, we use a return statement to send a result back to whoever asked for it.\n",
    "\n",
    "Let’s try running our function."
   ]
  },
  {
   "cell_type": "code",
   "execution_count": null,
   "id": "26748a14",
   "metadata": {},
   "outputs": [],
   "source": [
    "fahr_to_celsius(98)"
   ]
  },
  {
   "cell_type": "code",
   "execution_count": null,
   "id": "57103b9e",
   "metadata": {},
   "outputs": [],
   "source": [
    "print('freezing point of water:', fahr_to_celsius(32), 'C')\n",
    "print('boiling point of water:', fahr_to_celsius(212), 'C')"
   ]
  },
  {
   "cell_type": "markdown",
   "id": "7e5bef39",
   "metadata": {},
   "source": [
    "Here we directly passed a value to the function. We can also call the function with a variable:"
   ]
  },
  {
   "cell_type": "code",
   "execution_count": null,
   "id": "5978ffee",
   "metadata": {},
   "outputs": [],
   "source": [
    "a = 0\n",
    "print(fahr_to_celsius(a))"
   ]
  },
  {
   "cell_type": "markdown",
   "id": "9e6d3a7b",
   "metadata": {},
   "source": [
    "What happens if you pass a variable name that is not defined yet?"
   ]
  },
  {
   "cell_type": "code",
   "execution_count": null,
   "id": "d637281d",
   "metadata": {},
   "outputs": [],
   "source": [
    "print(fahr_to_celsius(b))"
   ]
  },
  {
   "cell_type": "markdown",
   "id": "784a6b3a",
   "metadata": {},
   "source": [
    "<div class=\"alert alert-block alert-success\">\n",
    "<b>Exercises</b>\n",
    "    \n",
    "Now go back to your browser to morning_exercises.ipynb and continue with exercises 8 and 9.\n",
    "\n",
    "When you finished the exercises, continue to the [afternoon session](data-science-with-pandas-1.ipynb)\n",
    "</div>"
   ]
  }
 ],
 "metadata": {
  "kernelspec": {
   "display_name": "Python 3 (ipykernel)",
   "language": "python",
   "name": "python3"
  },
  "language_info": {
   "codemirror_mode": {
    "name": "ipython",
    "version": 3
   },
   "file_extension": ".py",
   "mimetype": "text/x-python",
   "name": "python",
   "nbconvert_exporter": "python",
   "pygments_lexer": "ipython3",
   "version": "3.8.10"
  }
 },
 "nbformat": 4,
 "nbformat_minor": 5
}
