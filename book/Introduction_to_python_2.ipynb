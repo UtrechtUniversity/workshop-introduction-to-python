{
 "cells": [
  {
   "cell_type": "raw",
   "id": "6fbb1da6",
   "metadata": {},
   "source": [
    "---\n",
    "title: \"Operators, built-in functions, if-statements\"\n",
    "execute:   \n",
    "  enabled: true\n",
    "  error: true\n",
    "  freeze: auto\n",
    "---"
   ]
  },
  {
   "cell_type": "markdown",
   "id": "48749b65",
   "metadata": {},
   "source": [
    "## Mathematical operations\n",
    "\n",
    "In Python you can do a wide variety of mathematical operations. A few examples:"
   ]
  },
  {
   "cell_type": "code",
   "execution_count": null,
   "id": "d9db4244",
   "metadata": {},
   "outputs": [],
   "source": [
    "summing = 2 + 2\n",
    "multiply = 2 * 7\n",
    "power = 2 ** 16\n",
    "modulo = 13 % 5\n",
    "\n",
    "print(\"Sum: \", summing)\n",
    "print(\"Multiply: \", multiply)\n",
    "print(\"Power: \", power)\n",
    "print(\"Modulo: \", modulo)"
   ]
  },
  {
   "cell_type": "markdown",
   "id": "b61b61fd",
   "metadata": {},
   "source": [
    "Once we have data stored in variables, we can use the variables to do calculations."
   ]
  },
  {
   "cell_type": "code",
   "execution_count": null,
   "id": "1bc3f2fc",
   "metadata": {},
   "outputs": [],
   "source": [
    "number = 42\n",
    "pi_value = 3.14159265358\n",
    "\n",
    "output = number * pi_value\n",
    "print(output)"
   ]
  },
  {
   "cell_type": "markdown",
   "id": "0712811b-dbc0-4159-94d8-433b2b1d3973",
   "metadata": {},
   "source": [
    "## Built-in Python functions\n",
    "To carry out common tasks with data and variables in Python, the language provides us with several built-in functions. Examples of built-in functions that we already used above are `print` and `type`. \n",
    "\n",
    "**Calling a function** \n",
    "When we want to make use of a function (referred to as calling the function), we type the name of the function followed by parentheses. Between the parentheses we can pass arguments.\n",
    "\n",
    "**Arguments**\n",
    "Arguments are used by a function to perform the body of the function with the value of this argument. In the example below `type` is the function name and `pi_value` is the argument."
   ]
  },
  {
   "cell_type": "code",
   "execution_count": null,
   "id": "066a5478",
   "metadata": {},
   "outputs": [],
   "source": [
    "type(pi_value)"
   ]
  },
  {
   "cell_type": "markdown",
   "id": "41fbf522-ccca-4f00-bdc5-c64828faaa5b",
   "metadata": {},
   "source": [
    "Other useful built-in functions are `abs()`, `max()`, `min()`, `range()`. Find more built-in functions [here](https://docs.python.org/3/library/functions.html)."
   ]
  },
  {
   "cell_type": "code",
   "execution_count": null,
   "id": "2830322f-db3e-4754-88c5-537f0ca59f54",
   "metadata": {},
   "outputs": [],
   "source": [
    "max([1,2,3,2,1])"
   ]
  },
  {
   "cell_type": "markdown",
   "id": "250eeea8",
   "metadata": {
    "tags": []
   },
   "source": [
    "## If-statements and comparisons\n",
    "\n",
    "In programming it is possible to perform certain tasks only when a certain condition is met: Assume we have a table where each row is a person and the table contains a column `age`. We want to create a new variable `age_group` which can have the values `child` and `adult` based on the value in the column age. We can use an `if`-statement to decide whether a person is younger than 18 and asign the right value to `age_group`."
   ]
  },
  {
   "cell_type": "code",
   "execution_count": null,
   "id": "8bfd4af2",
   "metadata": {},
   "outputs": [],
   "source": [
    "age = 17\n",
    "\n",
    "if age < 18:\n",
    "    print('this person is a child')\n"
   ]
  },
  {
   "cell_type": "markdown",
   "id": "b489a257",
   "metadata": {},
   "source": [
    "As you can see, the line `print(...)` starts with 4 spaces indentation.\n",
    "In Python indentation is very important. Python uses indentation to determine which lines of code belong together. Lines with the same identation are called a code block. We use code blocks to define what should be done in an if-statement, for-loop or in a functions. E.g. after the if condition, all lines with indentation are only performed when the if-condition is met."
   ]
  },
  {
   "cell_type": "code",
   "execution_count": null,
   "id": "ea2cb2ed",
   "metadata": {},
   "outputs": [],
   "source": [
    "num = 99\n",
    "if num > 100:\n",
    "    print('This line is only executed when num > 100')\n",
    "    print('This line is only executed when num > 100')\n",
    "    \n",
    "    print('This line is only executed when num > 100')\n",
    "    \n",
    "print('This line is always executed')"
   ]
  },
  {
   "cell_type": "markdown",
   "id": "d94ac770",
   "metadata": {},
   "source": [
    "It is also possible to specify a task that is performed when the condition is not met using `else` (note the use of indentation):"
   ]
  },
  {
   "cell_type": "code",
   "execution_count": null,
   "id": "fe4cf9a4",
   "metadata": {},
   "outputs": [],
   "source": [
    "age = 17\n",
    "\n",
    "if age < 18:\n",
    "    print('this person is a child')\n",
    "else:\n",
    "    print('this person is an adult')\n",
    "\n",
    "print('done')"
   ]
  },
  {
   "cell_type": "markdown",
   "id": "33d428ab",
   "metadata": {},
   "source": [
    "An `if ... else` statement can be extended with (one or more) `elif` to specify more tasks that need to be performed on other conditions. These extended `if ... else` statements always start with `if` followed by (one or more) `elif`. When an `else` statement is included it is always the last statement. \n",
    "\n",
    "**Order matters**:\n",
    "The statements (or conditions) are checked in order from top to bottom and only the task belonging to the first condition that is met is being performed. "
   ]
  },
  {
   "cell_type": "code",
   "execution_count": null,
   "id": "29c03372",
   "metadata": {},
   "outputs": [],
   "source": [
    "num = -3\n",
    "\n",
    "if num > 0:\n",
    "    print(num, 'is positive')\n",
    "elif num == 0:\n",
    "    print(num, 'is zero')\n",
    "else:\n",
    "    print(num, 'is negative')"
   ]
  },
  {
   "cell_type": "markdown",
   "id": "e3ffe576",
   "metadata": {},
   "source": [
    "If statements often use comparisons to check if a certain condition is met. Comparisons are done with comparison operators such as `>`, `==`.\n",
    "\n",
    "Along with the `>` and `==` comparison operators that we have already used for comparing values above, there are a few more options to know about:\n",
    "\n",
    "- \\>: greater than\n",
    "- \\<: less than\n",
    "- ==: equal to\n",
    "- !=: does not equal\n",
    "- \\>=: greater than or equal to\n",
    "- \\<=: less than or equal to\n",
    "\n",
    "Let's now play around with comparisons to see how they work in more detail."
   ]
  },
  {
   "cell_type": "code",
   "execution_count": null,
   "id": "57accc50-7e82-4541-ae47-02a198fa0606",
   "metadata": {},
   "outputs": [],
   "source": [
    "4 > 3"
   ]
  },
  {
   "cell_type": "code",
   "execution_count": null,
   "id": "9a2bd3af",
   "metadata": {},
   "outputs": [],
   "source": [
    "4 < 3"
   ]
  },
  {
   "cell_type": "code",
   "execution_count": null,
   "id": "1f8f7d8d",
   "metadata": {},
   "outputs": [],
   "source": [
    "a = 4 > 3\n",
    "type(a)"
   ]
  },
  {
   "cell_type": "markdown",
   "id": "dc8a339d",
   "metadata": {},
   "source": [
    "As you can see, comparisons return `True` or `False`. The data type of these values are `bool` which is short for boolean values.\n",
    "\n",
    "If-statements work with boolean values. If the value is `True`, the task is performed, if the value is `False`, the task is not performed.\n",
    "\n",
    "Boolean values can also explicitly type and assigned to variables:"
   ]
  },
  {
   "cell_type": "code",
   "execution_count": null,
   "id": "96d2c495",
   "metadata": {},
   "outputs": [],
   "source": [
    "a = True\n",
    "b = True\n",
    "c = False\n",
    "type(a)"
   ]
  },
  {
   "cell_type": "markdown",
   "id": "1f0d3b4b-140c-4ad1-b264-d3af4e1abe2f",
   "metadata": {},
   "source": [
    "`and`, `or` and `not` are 'logical operators', and are used to join two comparisons (or revert a logical expression in the case of `not`) to create more complex conditions. \n",
    "\n",
    "`and` will return `True` if both expression on either side are `True`."
   ]
  },
  {
   "cell_type": "code",
   "execution_count": null,
   "id": "fc3bdb67-1b1c-43de-9939-faaa507c82c5",
   "metadata": {},
   "outputs": [],
   "source": [
    "a and b"
   ]
  },
  {
   "cell_type": "code",
   "execution_count": null,
   "id": "de1eb6b7-1cc7-45a4-8d54-db521c56d281",
   "metadata": {},
   "outputs": [],
   "source": [
    "a and c"
   ]
  },
  {
   "cell_type": "code",
   "execution_count": null,
   "id": "a1adbdd1-faf3-4387-98a0-c23f00e9885f",
   "metadata": {},
   "outputs": [],
   "source": [
    "4 > 3 and 9 > 3"
   ]
  },
  {
   "cell_type": "markdown",
   "id": "6fb04614-6463-4518-b75c-e5e12a0f1e35",
   "metadata": {},
   "source": [
    "`or` is used to check if at least one of two logical expressions are `True`. If this is the case it will return `True`."
   ]
  },
  {
   "cell_type": "code",
   "execution_count": null,
   "id": "c610a59a-4d65-4583-ab3b-5e9804a3bd53",
   "metadata": {},
   "outputs": [],
   "source": [
    "3 > 4 or 9 > 3"
   ]
  },
  {
   "cell_type": "code",
   "execution_count": null,
   "id": "2e90ec2f-5a62-4651-bab0-d2968d9402b5",
   "metadata": {},
   "outputs": [],
   "source": [
    "4 > 3 or 9 > 3"
   ]
  },
  {
   "cell_type": "markdown",
   "id": "91047596-be5a-4f50-a92b-b0a32425c6fc",
   "metadata": {},
   "source": [
    "In the last three examples you can see that multiple expressions can be combined in a single line of Python code. Python evaluates the expressions one by one. `4 > 3` would return `True`, `9 > 3` would return `True`, so `4 > 3 or 9 > 3` would translate to `True or True`. Because at least one of the expressions on either side of the `or` operator is `True`, the whole expression results to `True`."
   ]
  },
  {
   "cell_type": "markdown",
   "id": "eea07cab-59c2-43df-832d-f3333aec3ce0",
   "metadata": {},
   "source": [
    "The `not` operator can be used to reverse the Boolean value. If you apply `not` to an expression that evaluates to `True`, then you get `False` as a result. If you apply `not` to an expression that evaluates to `False`, then you get `True` as a result:"
   ]
  },
  {
   "cell_type": "code",
   "execution_count": null,
   "id": "de38bb19-b631-49ba-919b-2c2a5a0b26fa",
   "metadata": {},
   "outputs": [],
   "source": [
    "not 4 > 3"
   ]
  },
  {
   "cell_type": "markdown",
   "id": "2d8ef994",
   "metadata": {},
   "source": [
    "Logical operators bind variables with different strengths. The `and` is stronger than the `or` and gets evaluated first in a boolean expression. So \n",
    "`a or b and c` will be evaluated like `a or (b and c)`, while in `(a or b) and c` first the value of the `or` is evaluated and then combined with `and c`. This leads to a different result."
   ]
  },
  {
   "cell_type": "code",
   "execution_count": null,
   "id": "bc9d4118",
   "metadata": {},
   "outputs": [],
   "source": [
    "a = True\n",
    "b = True\n",
    "c = False\n",
    "print(\"This expression 'a or b and c' evalutes to \", a or b and c)\n",
    "print(\"And this is the same as 'a or (b and c)')\", a or (b and c))\n",
    "print(\"But this expression evaluates '(a or b) and c' first the 'or' and generates:\", (a or b) and c)"
   ]
  },
  {
   "cell_type": "markdown",
   "id": "fb75275a",
   "metadata": {},
   "source": [
    "Now we know how to use comparisons and logical operators to create complex conditions. These complex conditions can be used in if-statements to perform tasks based on these conditions."
   ]
  },
  {
   "cell_type": "code",
   "execution_count": null,
   "id": "ddd44a2d",
   "metadata": {},
   "outputs": [],
   "source": [
    "if (1 < 0) or (1 >= 0):\n",
    "    print('at least one the above logical statements is true')"
   ]
  },
  {
   "cell_type": "markdown",
   "id": "5dd0f17e",
   "metadata": {},
   "source": [
    "While `and` is only true if both parts are true"
   ]
  },
  {
   "cell_type": "code",
   "execution_count": null,
   "id": "45666f42",
   "metadata": {},
   "outputs": [],
   "source": [
    "if (1 < 0) and (1 >= 0):\n",
    "    print('both tests are true')\n",
    "else:\n",
    "    print('at least one of the tests is not true')"
   ]
  },
  {
   "cell_type": "markdown",
   "id": "a7e9935c",
   "metadata": {},
   "source": [
    "<div class=\"alert alert-block alert-success\">\n",
    "<b>Exercises</b>\n",
    "    \n",
    "Now open the `morning_exercises.ipynb` notebook from the place where you have stored it ([see Installation and setup instruction](installation-and-setup.qmd)) and do exercises 0-3.\n",
    "\n",
    "When you finished the exercises, continue to chapter [Data types, if-statements and for loops](Introduction_to_python_3.ipynb)\n",
    "</div>"
   ]
  }
 ],
 "metadata": {
  "kernelspec": {
   "display_name": "Python 3 (ipykernel)",
   "language": "python",
   "name": "python3"
  },
  "language_info": {
   "codemirror_mode": {
    "name": "ipython",
    "version": 3
   },
   "file_extension": ".py",
   "mimetype": "text/x-python",
   "name": "python",
   "nbconvert_exporter": "python",
   "pygments_lexer": "ipython3",
   "version": "3.8.10"
  }
 },
 "nbformat": 4,
 "nbformat_minor": 5
}
