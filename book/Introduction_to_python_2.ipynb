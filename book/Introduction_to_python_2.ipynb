{
 "cells": [
  {
   "cell_type": "raw",
   "id": "6fbb1da6",
   "metadata": {},
   "source": [
    "---\n",
    "title: \"Operators and built-in functions\"\n",
    "execute:   \n",
    "  enabled: true\n",
    "  error: true\n",
    "  freeze: auto\n",
    "---"
   ]
  },
  {
   "cell_type": "markdown",
   "id": "48749b65",
   "metadata": {},
   "source": [
    "## Mathematical operations\n",
    "\n",
    "In Python you can do a wide variety of mathematical operations. A few examples:"
   ]
  },
  {
   "cell_type": "code",
   "execution_count": null,
   "id": "d9db4244",
   "metadata": {},
   "outputs": [],
   "source": [
    "summing = 2 + 2\n",
    "multiply = 2 * 7\n",
    "power = 2 ** 16\n",
    "modulo = 13 % 5\n",
    "\n",
    "print(\"Sum: \", summing)\n",
    "print(\"Multiply: \", multiply)\n",
    "print(\"Power: \", power)\n",
    "print(\"Modulo: \", modulo)"
   ]
  },
  {
   "cell_type": "markdown",
   "id": "b61b61fd",
   "metadata": {},
   "source": [
    "Once we have data stored in variables, we can use the variables to do calculations."
   ]
  },
  {
   "cell_type": "code",
   "execution_count": null,
   "id": "1bc3f2fc",
   "metadata": {},
   "outputs": [],
   "source": [
    "number = 42\n",
    "pi_value = 3.14159265358\n",
    "\n",
    "output = number * pi_value\n",
    "print(output)"
   ]
  },
  {
   "cell_type": "markdown",
   "id": "0712811b-dbc0-4159-94d8-433b2b1d3973",
   "metadata": {},
   "source": [
    "## Built-in Python functions\n",
    "To carry out common tasks with data and variables in Python, the language provides us with several built-in functions. Examples of built-in functions that we already used above are `print` and `type`. \n",
    "\n",
    "**Calling a function** \n",
    "When we want to make use of a function (referred to as calling the function), we type the name of the function followed by parentheses. Between the parentheses we can pass arguments.\n",
    "\n",
    "**Arguments**\n",
    "We typically provide a function with 'arguments' to tell python which values or variables are used to perform the body of the function. In the example below `type` is the function name and `pi_value` is the argument."
   ]
  },
  {
   "cell_type": "code",
   "execution_count": null,
   "id": "066a5478",
   "metadata": {},
   "outputs": [],
   "source": [
    "type(pi_value)"
   ]
  },
  {
   "cell_type": "markdown",
   "id": "41fbf522-ccca-4f00-bdc5-c64828faaa5b",
   "metadata": {},
   "source": [
    "Other useful built-in functions are `abs()`, `max()`, `min()`, `range()`. Find more built-in functions [here](https://docs.python.org/3/library/functions.html)."
   ]
  },
  {
   "cell_type": "code",
   "execution_count": null,
   "id": "2830322f-db3e-4754-88c5-537f0ca59f54",
   "metadata": {},
   "outputs": [],
   "source": [
    "max([1,2,3,2,1])"
   ]
  },
  {
   "cell_type": "markdown",
   "id": "250eeea8",
   "metadata": {
    "tags": []
   },
   "source": [
    "## Boolean values, Logical expressions and operators\n",
    "\n",
    "In programming you often need to know if something is `True` or `False`. `True` and `False` are called Boolean values and have their own data type (`bool` so they are not of type `str`!!). `True` and `False` are the only two Boolean values. "
   ]
  },
  {
   "cell_type": "code",
   "execution_count": null,
   "id": "878b1de4",
   "metadata": {},
   "outputs": [],
   "source": [
    "a = True\n",
    "a"
   ]
  },
  {
   "cell_type": "code",
   "execution_count": null,
   "id": "d6143053",
   "metadata": {},
   "outputs": [],
   "source": [
    "b = False\n",
    "b"
   ]
  },
  {
   "cell_type": "code",
   "execution_count": null,
   "id": "18d579dc-1275-4b9f-8579-459aa9c194c4",
   "metadata": {},
   "outputs": [],
   "source": [
    "type(a)"
   ]
  },
  {
   "cell_type": "markdown",
   "id": "8d76802a",
   "metadata": {},
   "source": [
    "Comparison operators (e.g. `>`, `<`, `==`) are used in an expression to compare two values. The result of this expression is either `True` or `False`. Why this is useful we will show later (see if-statements)."
   ]
  },
  {
   "cell_type": "code",
   "execution_count": null,
   "id": "57accc50-7e82-4541-ae47-02a198fa0606",
   "metadata": {},
   "outputs": [],
   "source": [
    "3 > 4"
   ]
  },
  {
   "cell_type": "markdown",
   "id": "79b0322a-47bc-46f4-bddf-d1c4c517414a",
   "metadata": {},
   "source": [
    "`3 > 4` is an example of a 'logical expression' (also known as condition), where `>` is the comparison operator. "
   ]
  },
  {
   "cell_type": "code",
   "execution_count": null,
   "id": "9ee5e542-0b9f-489f-b542-9edc3cdf289e",
   "metadata": {},
   "outputs": [],
   "source": [
    "4 > 3"
   ]
  },
  {
   "cell_type": "markdown",
   "id": "7cc35555-b3ef-4c55-b8a9-033cef9939e3",
   "metadata": {},
   "source": [
    "`==` is another comparison operator to check if two values or variables are the same. If this is the case it will return `True`"
   ]
  },
  {
   "cell_type": "code",
   "execution_count": null,
   "id": "2f36bacd-a602-49d6-9546-5b06d4b5629d",
   "metadata": {},
   "outputs": [],
   "source": [
    "four = 4          # first we assign the integer 4 to a variable\n",
    "four == 4         # then we check if it is equal to 4"
   ]
  },
  {
   "cell_type": "markdown",
   "id": "27b5b291-f5f9-4bd5-8cda-da29f940ee3f",
   "metadata": {},
   "source": [
    "`!=` is used to check if two values or variable are **not** the same. If this is the case it will return `True`"
   ]
  },
  {
   "cell_type": "code",
   "execution_count": null,
   "id": "84f8e1a5-f96d-450d-84e7-63aedf217400",
   "metadata": {},
   "outputs": [],
   "source": [
    "print(\"Four is not equal to 5: \", four != 5)\n",
    "print(\"Four is not equal to 4: \", four != 4)"
   ]
  },
  {
   "cell_type": "markdown",
   "id": "1f0d3b4b-140c-4ad1-b264-d3af4e1abe2f",
   "metadata": {},
   "source": [
    "`and`, `or` and `not` are 'logical operators', and are used to join two logical expressions (or revert a logical expression in the case of `not`) to create more complex conditions. \n",
    "\n",
    "`and` will return `True` if both expression on either side are `True`."
   ]
  },
  {
   "cell_type": "code",
   "execution_count": null,
   "id": "fc3bdb67-1b1c-43de-9939-faaa507c82c5",
   "metadata": {},
   "outputs": [],
   "source": [
    "a = True\n",
    "b = True\n",
    "a and b"
   ]
  },
  {
   "cell_type": "code",
   "execution_count": null,
   "id": "de1eb6b7-1cc7-45a4-8d54-db521c56d281",
   "metadata": {},
   "outputs": [],
   "source": [
    "a = True\n",
    "b = False\n",
    "a and b"
   ]
  },
  {
   "cell_type": "code",
   "execution_count": null,
   "id": "a1adbdd1-faf3-4387-98a0-c23f00e9885f",
   "metadata": {},
   "outputs": [],
   "source": [
    "4 > 3 and 9 > 3"
   ]
  },
  {
   "cell_type": "markdown",
   "id": "6fb04614-6463-4518-b75c-e5e12a0f1e35",
   "metadata": {},
   "source": [
    "`or` is used to check if at least one of two logical expressions are `True`. If this is the case it will return `True`."
   ]
  },
  {
   "cell_type": "code",
   "execution_count": null,
   "id": "c610a59a-4d65-4583-ab3b-5e9804a3bd53",
   "metadata": {},
   "outputs": [],
   "source": [
    "3 > 4 or 9 > 3"
   ]
  },
  {
   "cell_type": "code",
   "execution_count": null,
   "id": "2e90ec2f-5a62-4651-bab0-d2968d9402b5",
   "metadata": {},
   "outputs": [],
   "source": [
    "4 > 3 or 9 > 3"
   ]
  },
  {
   "cell_type": "markdown",
   "id": "91047596-be5a-4f50-a92b-b0a32425c6fc",
   "metadata": {},
   "source": [
    "In the last three examples you can see that multiple expressions can be combined in a single line of Python code. Python evaluates the expressions one by one. `4 > 3` would return `True`, `9 > 3` would return `True`, so `4 > 3 or 9 > 3` would translate to `True or True`."
   ]
  },
  {
   "cell_type": "markdown",
   "id": "2d5e3517-667c-4827-affd-c288ebc462b6",
   "metadata": {},
   "source": [
    "It is also possible to assign the output of an expression to a variable:"
   ]
  },
  {
   "cell_type": "code",
   "execution_count": null,
   "id": "71f75fc1",
   "metadata": {},
   "outputs": [],
   "source": [
    "greater = 3 > 4\n",
    "print(\"3 > 4 : \", greater)"
   ]
  },
  {
   "cell_type": "markdown",
   "id": "eea07cab-59c2-43df-832d-f3333aec3ce0",
   "metadata": {},
   "source": [
    "The `not` operator can be used to reverse the Boolean value. If you apply `not` to an expression that evaluates to `True`, then you get `False` as a result. If you apply `not` to an expression that evaluates to `False`, then you get `True` as a result:"
   ]
  },
  {
   "cell_type": "code",
   "execution_count": null,
   "id": "de38bb19-b631-49ba-919b-2c2a5a0b26fa",
   "metadata": {},
   "outputs": [],
   "source": [
    "not 4 > 3"
   ]
  },
  {
   "cell_type": "markdown",
   "id": "a7e9935c",
   "metadata": {},
   "source": [
    "## Exercises\n",
    "\n",
    "Now go back to your browser to morning_exercises.ipynb and continue with exercises 1-3.\n",
    "\n",
    "When you finished the exercises, continue to chapter [Data types, if-statements and for loops](Introduction_to_python_3.ipynb)"
   ]
  }
 ],
 "metadata": {
  "kernelspec": {
   "display_name": "Python 3 (ipykernel)",
   "language": "python",
   "name": "python3"
  },
  "language_info": {
   "codemirror_mode": {
    "name": "ipython",
    "version": 3
   },
   "file_extension": ".py",
   "mimetype": "text/x-python",
   "name": "python",
   "nbconvert_exporter": "python",
   "pygments_lexer": "ipython3",
   "version": "3.10.8"
  }
 },
 "nbformat": 4,
 "nbformat_minor": 5
}
